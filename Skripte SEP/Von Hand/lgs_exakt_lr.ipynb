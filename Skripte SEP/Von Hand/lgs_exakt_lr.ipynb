{
 "cells": [
  {
   "cell_type": "code",
   "execution_count": 1,
   "metadata": {
    "collapsed": false
   },
   "outputs": [
    {
     "data": {
      "text/latex": [
       "$\\displaystyle A = \\left[\\begin{matrix}1 & 1 & 1\\\\2 & x + 2 & 5\\\\4 & 6 & 8\\end{matrix}\\right], \\quad b = \\left[\\begin{matrix}1\\\\0\\\\0\\end{matrix}\\right]$"
      ],
      "text/plain": [
       "<IPython.core.display.Math object>"
      ]
     },
     "metadata": {},
     "output_type": "display_data"
    },
    {
     "data": {
      "text/markdown": [
       "## LR-Zerlegung"
      ],
      "text/plain": [
       "<IPython.core.display.Markdown object>"
      ]
     },
     "metadata": {},
     "output_type": "display_data"
    },
    {
     "data": {
      "text/latex": [
       "$\\displaystyle z_{2} \\equiv z_{2} - (2) \\cdot z_{1} \\Rightarrow R_1 = \\left[\\begin{matrix}1 & 1 & 1\\\\0 & x & 3\\\\4 & 6 & 8\\end{matrix}\\right]$"
      ],
      "text/plain": [
       "<IPython.core.display.Math object>"
      ]
     },
     "metadata": {},
     "output_type": "display_data"
    },
    {
     "data": {
      "text/latex": [
       "$\\displaystyle z_{3} \\equiv z_{3} - (4) \\cdot z_{1} \\Rightarrow R_2 = \\left[\\begin{matrix}1 & 1 & 1\\\\0 & x & 3\\\\0 & 2 & 4\\end{matrix}\\right]$"
      ],
      "text/plain": [
       "<IPython.core.display.Math object>"
      ]
     },
     "metadata": {},
     "output_type": "display_data"
    },
    {
     "data": {
      "text/latex": [
       "$\\displaystyle z_{3} \\equiv z_{3} - (\\frac{2}{x}) \\cdot z_{2} \\Rightarrow R_3 = \\left[\\begin{matrix}1 & 1 & 1\\\\0 & x & 3\\\\0 & 0 & 4 - \\frac{6}{x}\\end{matrix}\\right]$"
      ],
      "text/plain": [
       "<IPython.core.display.Math object>"
      ]
     },
     "metadata": {},
     "output_type": "display_data"
    },
    {
     "data": {
      "text/latex": [
       "$\\displaystyle L = \\left[\\begin{matrix}1 & 0 & 0\\\\2 & 1 & 0\\\\4 & \\frac{2}{x} & 1\\end{matrix}\\right], \\quad R = \\left[\\begin{matrix}1 & 1 & 1\\\\0 & x & 3\\\\0 & 0 & 4 - \\frac{6}{x}\\end{matrix}\\right], \\quad P = \\left[\\begin{matrix}1 & 0 & 0\\\\0 & 1 & 0\\\\0 & 0 & 1\\end{matrix}\\right]$"
      ],
      "text/plain": [
       "<IPython.core.display.Math object>"
      ]
     },
     "metadata": {},
     "output_type": "display_data"
    },
    {
     "data": {
      "text/markdown": [
       "## Vorwärtseinsetzen"
      ],
      "text/plain": [
       "<IPython.core.display.Markdown object>"
      ]
     },
     "metadata": {},
     "output_type": "display_data"
    },
    {
     "data": {
      "text/latex": [
       "$\\displaystyle Ly = b: \\left[\\begin{matrix}1 & 0 & 0\\\\2 & 1 & 0\\\\4 & \\frac{2}{x} & 1\\end{matrix}\\right] y = \\left[\\begin{matrix}1\\\\0\\\\0\\end{matrix}\\right]$"
      ],
      "text/plain": [
       "<IPython.core.display.Math object>"
      ]
     },
     "metadata": {},
     "output_type": "display_data"
    },
    {
     "data": {
      "text/latex": [
       "$\\displaystyle y_{1} = \\frac{1}{1} = 1$"
      ],
      "text/plain": [
       "<IPython.core.display.Math object>"
      ]
     },
     "metadata": {},
     "output_type": "display_data"
    },
    {
     "data": {
      "text/latex": [
       "$\\displaystyle y_{2} = \\frac{0 - (2)}{1} = \\frac{-2}{1} = -2$"
      ],
      "text/plain": [
       "<IPython.core.display.Math object>"
      ]
     },
     "metadata": {},
     "output_type": "display_data"
    },
    {
     "data": {
      "text/latex": [
       "$\\displaystyle y_{3} = \\frac{0 - (4 - \\frac{4}{x})}{1} = \\frac{-4 + \\frac{4}{x}}{1} = -4 + \\frac{4}{x}$"
      ],
      "text/plain": [
       "<IPython.core.display.Math object>"
      ]
     },
     "metadata": {},
     "output_type": "display_data"
    },
    {
     "data": {
      "text/latex": [
       "$\\displaystyle y = \\left[\\begin{matrix}1\\\\-2\\\\-4 + \\frac{4}{x}\\end{matrix}\\right]$"
      ],
      "text/plain": [
       "<IPython.core.display.Math object>"
      ]
     },
     "metadata": {},
     "output_type": "display_data"
    },
    {
     "data": {
      "text/markdown": [
       "## Rückwärtseinsetzen"
      ],
      "text/plain": [
       "<IPython.core.display.Markdown object>"
      ]
     },
     "metadata": {},
     "output_type": "display_data"
    },
    {
     "data": {
      "text/latex": [
       "$\\displaystyle Rx = y: \\left[\\begin{matrix}1 & 1 & 1\\\\0 & x & 3\\\\0 & 0 & 4 - \\frac{6}{x}\\end{matrix}\\right] x = \\left[\\begin{matrix}1\\\\-2\\\\-4 + \\frac{4}{x}\\end{matrix}\\right]$"
      ],
      "text/plain": [
       "<IPython.core.display.Math object>"
      ]
     },
     "metadata": {},
     "output_type": "display_data"
    },
    {
     "data": {
      "text/latex": [
       "$\\displaystyle x_{3} = \\frac{-4 + \\frac{4}{x}}{4 - \\frac{6}{x}} = \\frac{-4 + \\frac{4}{x}}{4 - \\frac{6}{x}}$"
      ],
      "text/plain": [
       "<IPython.core.display.Math object>"
      ]
     },
     "metadata": {},
     "output_type": "display_data"
    },
    {
     "data": {
      "text/latex": [
       "$\\displaystyle x_{2} = \\frac{-2 - (\\frac{3 \\left(-4 + \\frac{4}{x}\\right)}{4 - \\frac{6}{x}})}{x} = \\frac{- \\frac{3 \\left(-4 + \\frac{4}{x}\\right)}{4 - \\frac{6}{x}} - 2}{x} = \\frac{- \\frac{3 \\left(-4 + \\frac{4}{x}\\right)}{4 - \\frac{6}{x}} - 2}{x}$"
      ],
      "text/plain": [
       "<IPython.core.display.Math object>"
      ]
     },
     "metadata": {},
     "output_type": "display_data"
    },
    {
     "data": {
      "text/latex": [
       "$\\displaystyle x_{1} = \\frac{1 - (\\frac{-4 + \\frac{4}{x}}{4 - \\frac{6}{x}} + \\frac{- \\frac{3 \\left(-4 + \\frac{4}{x}\\right)}{4 - \\frac{6}{x}} - 2}{x})}{1} = \\frac{- \\frac{-4 + \\frac{4}{x}}{4 - \\frac{6}{x}} + 1 - \\frac{- \\frac{3 \\left(-4 + \\frac{4}{x}\\right)}{4 - \\frac{6}{x}} - 2}{x}}{1} = - \\frac{-4 + \\frac{4}{x}}{4 - \\frac{6}{x}} + 1 - \\frac{- \\frac{3 \\left(-4 + \\frac{4}{x}\\right)}{4 - \\frac{6}{x}} - 2}{x}$"
      ],
      "text/plain": [
       "<IPython.core.display.Math object>"
      ]
     },
     "metadata": {},
     "output_type": "display_data"
    },
    {
     "data": {
      "text/latex": [
       "$\\displaystyle x = \\left[\\begin{matrix}- \\frac{-4 + \\frac{4}{x}}{4 - \\frac{6}{x}} + 1 - \\frac{- \\frac{3 \\left(-4 + \\frac{4}{x}\\right)}{4 - \\frac{6}{x}} - 2}{x}\\\\\\frac{- \\frac{3 \\left(-4 + \\frac{4}{x}\\right)}{4 - \\frac{6}{x}} - 2}{x}\\\\\\frac{-4 + \\frac{4}{x}}{4 - \\frac{6}{x}}\\end{matrix}\\right]$"
      ],
      "text/plain": [
       "<IPython.core.display.Math object>"
      ]
     },
     "metadata": {},
     "output_type": "display_data"
    }
   ],
   "source": [
    "import sympy as sp\n",
    "\n",
    "from lgs_exakt_lr import lr\n",
    "\n",
    "var = sp.var('e')\n",
    "\n",
    "x = sp.symbols('x')\n",
    "\n",
    "a = sp.Matrix([\n",
    "    [1, 1, 1],\n",
    "    [2, 2+x, 5],\n",
    "    [4, 6, 8],\n",
    "])\n",
    "\n",
    "b = sp.Matrix([1, 0, 0])\n",
    "\n",
    "l, r, x = lr(a, b, pivoting=False, output=True)\n"
   ]
  }
 ],
 "metadata": {
  "kernelspec": {
   "display_name": "Python 3",
   "language": "python",
   "name": "python3"
  },
  "language_info": {
   "codemirror_mode": {
    "name": "ipython",
    "version": 3
   },
   "file_extension": ".py",
   "mimetype": "text/x-python",
   "name": "python",
   "nbconvert_exporter": "python",
   "pygments_lexer": "ipython3",
   "version": "3.11.4"
  }
 },
 "nbformat": 4,
 "nbformat_minor": 0
}

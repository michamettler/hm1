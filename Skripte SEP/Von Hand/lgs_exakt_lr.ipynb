{
 "cells": [
  {
   "cell_type": "code",
   "execution_count": 1,
   "metadata": {
    "collapsed": false
   },
   "outputs": [
    {
     "data": {
      "text/latex": [
       "$\\displaystyle A = \\left[\\begin{matrix}1 & 3 & 7\\\\15 & 0 & 1\\\\0 & 1 & 6\\end{matrix}\\right], \\quad b = \\left[\\begin{matrix}67\\\\21\\\\44\\end{matrix}\\right]$"
      ],
      "text/plain": [
       "<IPython.core.display.Math object>"
      ]
     },
     "metadata": {},
     "output_type": "display_data"
    },
    {
     "data": {
      "text/markdown": [
       "## LR-Zerlegung"
      ],
      "text/plain": [
       "<IPython.core.display.Markdown object>"
      ]
     },
     "metadata": {},
     "output_type": "display_data"
    },
    {
     "data": {
      "text/latex": [
       "$\\displaystyle z_{2} \\equiv z_{2} - (15) \\cdot z_{1} \\Rightarrow R_1 = \\left[\\begin{matrix}1 & 3 & 7\\\\0 & -45 & -104\\\\0 & 1 & 6\\end{matrix}\\right]$"
      ],
      "text/plain": [
       "<IPython.core.display.Math object>"
      ]
     },
     "metadata": {},
     "output_type": "display_data"
    },
    {
     "data": {
      "text/latex": [
       "$\\displaystyle z_{3} \\equiv z_{3} - (- \\frac{1}{45}) \\cdot z_{2} \\Rightarrow R_3 = \\left[\\begin{matrix}1 & 3 & 7\\\\0 & -45 & -104\\\\0 & 0 & \\frac{166}{45}\\end{matrix}\\right]$"
      ],
      "text/plain": [
       "<IPython.core.display.Math object>"
      ]
     },
     "metadata": {},
     "output_type": "display_data"
    },
    {
     "data": {
      "text/latex": [
       "$\\displaystyle L = \\left[\\begin{matrix}1 & 0 & 0\\\\15 & 1 & 0\\\\0 & - \\frac{1}{45} & 1\\end{matrix}\\right], \\quad R = \\left[\\begin{matrix}1 & 3 & 7\\\\0 & -45 & -104\\\\0 & 0 & \\frac{166}{45}\\end{matrix}\\right], \\quad P = \\left[\\begin{matrix}1 & 0 & 0\\\\0 & 1 & 0\\\\0 & 0 & 1\\end{matrix}\\right]$"
      ],
      "text/plain": [
       "<IPython.core.display.Math object>"
      ]
     },
     "metadata": {},
     "output_type": "display_data"
    },
    {
     "data": {
      "text/markdown": [
       "## Vorwärtseinsetzen"
      ],
      "text/plain": [
       "<IPython.core.display.Markdown object>"
      ]
     },
     "metadata": {},
     "output_type": "display_data"
    },
    {
     "data": {
      "text/latex": [
       "$\\displaystyle Ly = b: \\left[\\begin{matrix}1 & 0 & 0\\\\15 & 1 & 0\\\\0 & - \\frac{1}{45} & 1\\end{matrix}\\right] y = \\left[\\begin{matrix}67\\\\21\\\\44\\end{matrix}\\right]$"
      ],
      "text/plain": [
       "<IPython.core.display.Math object>"
      ]
     },
     "metadata": {},
     "output_type": "display_data"
    },
    {
     "data": {
      "text/latex": [
       "$\\displaystyle y_{1} = \\frac{67}{1} = 67$"
      ],
      "text/plain": [
       "<IPython.core.display.Math object>"
      ]
     },
     "metadata": {},
     "output_type": "display_data"
    },
    {
     "data": {
      "text/latex": [
       "$\\displaystyle y_{2} = \\frac{21 - (1005)}{1} = \\frac{-984}{1} = -984$"
      ],
      "text/plain": [
       "<IPython.core.display.Math object>"
      ]
     },
     "metadata": {},
     "output_type": "display_data"
    },
    {
     "data": {
      "text/latex": [
       "$\\displaystyle y_{3} = \\frac{44 - (\\frac{328}{15})}{1} = \\frac{\\frac{332}{15}}{1} = \\frac{332}{15}$"
      ],
      "text/plain": [
       "<IPython.core.display.Math object>"
      ]
     },
     "metadata": {},
     "output_type": "display_data"
    },
    {
     "data": {
      "text/latex": [
       "$\\displaystyle y = \\left[\\begin{matrix}67\\\\-984\\\\\\frac{332}{15}\\end{matrix}\\right]$"
      ],
      "text/plain": [
       "<IPython.core.display.Math object>"
      ]
     },
     "metadata": {},
     "output_type": "display_data"
    },
    {
     "data": {
      "text/markdown": [
       "## Rückwärtseinsetzen"
      ],
      "text/plain": [
       "<IPython.core.display.Markdown object>"
      ]
     },
     "metadata": {},
     "output_type": "display_data"
    },
    {
     "data": {
      "text/latex": [
       "$\\displaystyle Rx = y: \\left[\\begin{matrix}1 & 3 & 7\\\\0 & -45 & -104\\\\0 & 0 & \\frac{166}{45}\\end{matrix}\\right] x = \\left[\\begin{matrix}67\\\\-984\\\\\\frac{332}{15}\\end{matrix}\\right]$"
      ],
      "text/plain": [
       "<IPython.core.display.Math object>"
      ]
     },
     "metadata": {},
     "output_type": "display_data"
    },
    {
     "data": {
      "text/latex": [
       "$\\displaystyle x_{3} = \\frac{\\frac{332}{15}}{\\frac{166}{45}} = 6$"
      ],
      "text/plain": [
       "<IPython.core.display.Math object>"
      ]
     },
     "metadata": {},
     "output_type": "display_data"
    },
    {
     "data": {
      "text/latex": [
       "$\\displaystyle x_{2} = \\frac{-984 - (-624)}{-45} = \\frac{-360}{-45} = 8$"
      ],
      "text/plain": [
       "<IPython.core.display.Math object>"
      ]
     },
     "metadata": {},
     "output_type": "display_data"
    },
    {
     "data": {
      "text/latex": [
       "$\\displaystyle x_{1} = \\frac{67 - (66)}{1} = \\frac{1}{1} = 1$"
      ],
      "text/plain": [
       "<IPython.core.display.Math object>"
      ]
     },
     "metadata": {},
     "output_type": "display_data"
    },
    {
     "data": {
      "text/latex": [
       "$\\displaystyle x = \\left[\\begin{matrix}1\\\\8\\\\6\\end{matrix}\\right]$"
      ],
      "text/plain": [
       "<IPython.core.display.Math object>"
      ]
     },
     "metadata": {},
     "output_type": "display_data"
    }
   ],
   "source": [
    "import sympy as sp\n",
    "\n",
    "from lgs_exakt_lr import lr\n",
    "\n",
    "var = sp.var('e')\n",
    "\n",
    "x = sp.symbols('x')\n",
    "\n",
    "a = sp.Matrix([\n",
    "    [1, 3, 7],\n",
    "    [15, 0, 1],\n",
    "    [0, 1, 6],\n",
    "])\n",
    "\n",
    "b = sp.Matrix([67, 21, 44])\n",
    "\n",
    "l, r, x = lr(a, b, pivoting=False, output=True)\n"
   ]
  }
 ],
 "metadata": {
  "kernelspec": {
   "display_name": "Python 3",
   "language": "python",
   "name": "python3"
  },
  "language_info": {
   "codemirror_mode": {
    "name": "ipython",
    "version": 3
   },
   "file_extension": ".py",
   "mimetype": "text/x-python",
   "name": "python",
   "nbconvert_exporter": "python",
   "pygments_lexer": "ipython3",
   "version": "3.11.4"
  }
 },
 "nbformat": 4,
 "nbformat_minor": 0
}

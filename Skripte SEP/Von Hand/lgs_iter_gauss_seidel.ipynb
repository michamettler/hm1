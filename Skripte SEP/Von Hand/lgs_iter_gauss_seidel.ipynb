{
 "cells": [
  {
   "cell_type": "code",
   "execution_count": 3,
   "metadata": {
    "collapsed": false
   },
   "outputs": [
    {
     "data": {
      "text/latex": [
       "Iteration 1"
      ],
      "text/plain": [
       "<IPython.core.display.Latex object>"
      ]
     },
     "metadata": {},
     "output_type": "display_data"
    },
    {
     "data": {
      "text/latex": [
       "$\\displaystyle x_{ 0 } = \\frac{ 19 }{ 8 } - \\frac{ (5 \\cdot -1) + (2 \\cdot 3) }{ 8 } = 2.25$"
      ],
      "text/plain": [
       "<IPython.core.display.Math object>"
      ]
     },
     "metadata": {},
     "output_type": "display_data"
    },
    {
     "data": {
      "text/latex": [
       "$\\displaystyle x_{ 1 } = \\frac{ 5 }{ 9 } - \\frac{ (5 \\cdot 2.25) + (1 \\cdot 3) }{ 9 } = -1.02778$"
      ],
      "text/plain": [
       "<IPython.core.display.Math object>"
      ]
     },
     "metadata": {},
     "output_type": "display_data"
    },
    {
     "data": {
      "text/latex": [
       "$\\displaystyle x_{ 2 } = \\frac{ 34 }{ 7 } - \\frac{ (4 \\cdot 2.25) + (2 \\cdot -1.02778) }{ 7 } = 3.86508$"
      ],
      "text/plain": [
       "<IPython.core.display.Math object>"
      ]
     },
     "metadata": {},
     "output_type": "display_data"
    },
    {
     "data": {
      "text/latex": [
       "Iteration 2"
      ],
      "text/plain": [
       "<IPython.core.display.Latex object>"
      ]
     },
     "metadata": {},
     "output_type": "display_data"
    },
    {
     "data": {
      "text/latex": [
       "$\\displaystyle x_{ 0 } = \\frac{ 19 }{ 8 } - \\frac{ (5 \\cdot -1.02778) + (2 \\cdot 3.86508) }{ 8 } = 2.05109$"
      ],
      "text/plain": [
       "<IPython.core.display.Math object>"
      ]
     },
     "metadata": {},
     "output_type": "display_data"
    },
    {
     "data": {
      "text/latex": [
       "$\\displaystyle x_{ 1 } = \\frac{ 5 }{ 9 } - \\frac{ (5 \\cdot 2.05109) + (1 \\cdot 3.86508) }{ 9 } = -1.01339$"
      ],
      "text/plain": [
       "<IPython.core.display.Math object>"
      ]
     },
     "metadata": {},
     "output_type": "display_data"
    },
    {
     "data": {
      "text/latex": [
       "$\\displaystyle x_{ 2 } = \\frac{ 34 }{ 7 } - \\frac{ (4 \\cdot 2.05109) + (2 \\cdot -1.01339) }{ 7 } = 3.97463$"
      ],
      "text/plain": [
       "<IPython.core.display.Math object>"
      ]
     },
     "metadata": {},
     "output_type": "display_data"
    },
    {
     "data": {
      "text/latex": [
       "Iteration 3"
      ],
      "text/plain": [
       "<IPython.core.display.Latex object>"
      ]
     },
     "metadata": {},
     "output_type": "display_data"
    },
    {
     "data": {
      "text/latex": [
       "$\\displaystyle x_{ 0 } = \\frac{ 19 }{ 8 } - \\frac{ (5 \\cdot -1.01339) + (2 \\cdot 3.97463) }{ 8 } = 2.01471$"
      ],
      "text/plain": [
       "<IPython.core.display.Math object>"
      ]
     },
     "metadata": {},
     "output_type": "display_data"
    },
    {
     "data": {
      "text/latex": [
       "$\\displaystyle x_{ 1 } = \\frac{ 5 }{ 9 } - \\frac{ (5 \\cdot 2.01471) + (1 \\cdot 3.97463) }{ 9 } = -1.00535$"
      ],
      "text/plain": [
       "<IPython.core.display.Math object>"
      ]
     },
     "metadata": {},
     "output_type": "display_data"
    },
    {
     "data": {
      "text/latex": [
       "$\\displaystyle x_{ 2 } = \\frac{ 34 }{ 7 } - \\frac{ (4 \\cdot 2.01471) + (2 \\cdot -1.00535) }{ 7 } = 3.99312$"
      ],
      "text/plain": [
       "<IPython.core.display.Math object>"
      ]
     },
     "metadata": {},
     "output_type": "display_data"
    },
    {
     "data": {
      "text/latex": [
       "Iteration 4"
      ],
      "text/plain": [
       "<IPython.core.display.Latex object>"
      ]
     },
     "metadata": {},
     "output_type": "display_data"
    },
    {
     "data": {
      "text/latex": [
       "$\\displaystyle x_{ 0 } = \\frac{ 19 }{ 8 } - \\frac{ (5 \\cdot -1.00535) + (2 \\cdot 3.99312) }{ 8 } = 2.00507$"
      ],
      "text/plain": [
       "<IPython.core.display.Math object>"
      ]
     },
     "metadata": {},
     "output_type": "display_data"
    },
    {
     "data": {
      "text/latex": [
       "$\\displaystyle x_{ 1 } = \\frac{ 5 }{ 9 } - \\frac{ (5 \\cdot 2.00507) + (1 \\cdot 3.99312) }{ 9 } = -1.00205$"
      ],
      "text/plain": [
       "<IPython.core.display.Math object>"
      ]
     },
     "metadata": {},
     "output_type": "display_data"
    },
    {
     "data": {
      "text/latex": [
       "$\\displaystyle x_{ 2 } = \\frac{ 34 }{ 7 } - \\frac{ (4 \\cdot 2.00507) + (2 \\cdot -1.00205) }{ 7 } = 3.99769$"
      ],
      "text/plain": [
       "<IPython.core.display.Math object>"
      ]
     },
     "metadata": {},
     "output_type": "display_data"
    },
    {
     "data": {
      "text/latex": [
       "Iteration 5"
      ],
      "text/plain": [
       "<IPython.core.display.Latex object>"
      ]
     },
     "metadata": {},
     "output_type": "display_data"
    },
    {
     "data": {
      "text/latex": [
       "$\\displaystyle x_{ 0 } = \\frac{ 19 }{ 8 } - \\frac{ (5 \\cdot -1.00205) + (2 \\cdot 3.99769) }{ 8 } = 2.00186$"
      ],
      "text/plain": [
       "<IPython.core.display.Math object>"
      ]
     },
     "metadata": {},
     "output_type": "display_data"
    },
    {
     "data": {
      "text/latex": [
       "$\\displaystyle x_{ 1 } = \\frac{ 5 }{ 9 } - \\frac{ (5 \\cdot 2.00186) + (1 \\cdot 3.99769) }{ 9 } = -1.00078$"
      ],
      "text/plain": [
       "<IPython.core.display.Math object>"
      ]
     },
     "metadata": {},
     "output_type": "display_data"
    },
    {
     "data": {
      "text/latex": [
       "$\\displaystyle x_{ 2 } = \\frac{ 34 }{ 7 } - \\frac{ (4 \\cdot 2.00186) + (2 \\cdot -1.00078) }{ 7 } = 3.99916$"
      ],
      "text/plain": [
       "<IPython.core.display.Math object>"
      ]
     },
     "metadata": {},
     "output_type": "display_data"
    },
    {
     "name": "stdout",
     "output_type": "stream",
     "text": [
      "Matrix([[2.00185871124268], [-1.00077581405640], [3.99915933609009]])\n"
     ]
    }
   ],
   "source": [
    "import sympy as sp\n",
    "\n",
    "from lgs_iter_gauss_seidel import gauss_seidel\n",
    "\n",
    "x = sp.symbols('x')\n",
    "\n",
    "a = sp.Matrix([\n",
    "    [8, 5, 2],\n",
    "    [5, 9, 1],\n",
    "    [4, 2, 7],\n",
    "])\n",
    "\n",
    "b = sp.Matrix([19, 5, 34])\n",
    "x0 = sp.Matrix([1, -1, 3])\n",
    "\n",
    "x = gauss_seidel(a, b, x0, 5, precision=6).evalf()\n",
    "print(x)"
   ]
  }
 ],
 "metadata": {
  "kernelspec": {
   "display_name": "Python 3",
   "language": "python",
   "name": "python3"
  },
  "language_info": {
   "codemirror_mode": {
    "name": "ipython",
    "version": 3
   },
   "file_extension": ".py",
   "mimetype": "text/x-python",
   "name": "python",
   "nbconvert_exporter": "python",
   "pygments_lexer": "ipython3",
   "version": "3.11.4"
  }
 },
 "nbformat": 4,
 "nbformat_minor": 0
}

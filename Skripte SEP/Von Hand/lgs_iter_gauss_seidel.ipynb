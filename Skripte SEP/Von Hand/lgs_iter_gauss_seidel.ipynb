{
 "cells": [
  {
   "cell_type": "code",
   "execution_count": 4,
   "metadata": {
    "collapsed": false
   },
   "outputs": [
    {
     "data": {
      "text/latex": [
       "Iteration 1"
      ],
      "text/plain": [
       "<IPython.core.display.Latex object>"
      ]
     },
     "metadata": {},
     "output_type": "display_data"
    },
    {
     "data": {
      "text/latex": [
       "$\\displaystyle x_{ 0 } = \\frac{ 21 }{ 15 } - \\frac{ (0 \\cdot 0) + (1 \\cdot 0) }{ 15 } = 1.4$"
      ],
      "text/plain": [
       "<IPython.core.display.Math object>"
      ]
     },
     "metadata": {},
     "output_type": "display_data"
    },
    {
     "data": {
      "text/latex": [
       "$\\displaystyle x_{ 1 } = \\frac{ 67 }{ 3 } - \\frac{ (1 \\cdot 1.4) + (7 \\cdot 0) }{ 3 } = 21.8667$"
      ],
      "text/plain": [
       "<IPython.core.display.Math object>"
      ]
     },
     "metadata": {},
     "output_type": "display_data"
    },
    {
     "data": {
      "text/latex": [
       "$\\displaystyle x_{ 2 } = \\frac{ 44 }{ 6 } - \\frac{ (0 \\cdot 1.4) + (1 \\cdot 21.8667) }{ 6 } = 3.68889$"
      ],
      "text/plain": [
       "<IPython.core.display.Math object>"
      ]
     },
     "metadata": {},
     "output_type": "display_data"
    },
    {
     "data": {
      "text/latex": [
       "Iteration 2"
      ],
      "text/plain": [
       "<IPython.core.display.Latex object>"
      ]
     },
     "metadata": {},
     "output_type": "display_data"
    },
    {
     "data": {
      "text/latex": [
       "$\\displaystyle x_{ 0 } = \\frac{ 21 }{ 15 } - \\frac{ (0 \\cdot 21.8667) + (1 \\cdot 3.68889) }{ 15 } = 1.15407$"
      ],
      "text/plain": [
       "<IPython.core.display.Math object>"
      ]
     },
     "metadata": {},
     "output_type": "display_data"
    },
    {
     "data": {
      "text/latex": [
       "$\\displaystyle x_{ 1 } = \\frac{ 67 }{ 3 } - \\frac{ (1 \\cdot 1.15407) + (7 \\cdot 3.68889) }{ 3 } = 13.3412$"
      ],
      "text/plain": [
       "<IPython.core.display.Math object>"
      ]
     },
     "metadata": {},
     "output_type": "display_data"
    },
    {
     "data": {
      "text/latex": [
       "$\\displaystyle x_{ 2 } = \\frac{ 44 }{ 6 } - \\frac{ (0 \\cdot 1.15407) + (1 \\cdot 13.3412) }{ 6 } = 5.10979$"
      ],
      "text/plain": [
       "<IPython.core.display.Math object>"
      ]
     },
     "metadata": {},
     "output_type": "display_data"
    },
    {
     "data": {
      "text/latex": [
       "Iteration 3"
      ],
      "text/plain": [
       "<IPython.core.display.Latex object>"
      ]
     },
     "metadata": {},
     "output_type": "display_data"
    },
    {
     "data": {
      "text/latex": [
       "$\\displaystyle x_{ 0 } = \\frac{ 21 }{ 15 } - \\frac{ (0 \\cdot 13.3412) + (1 \\cdot 5.10979) }{ 15 } = 1.05935$"
      ],
      "text/plain": [
       "<IPython.core.display.Math object>"
      ]
     },
     "metadata": {},
     "output_type": "display_data"
    },
    {
     "data": {
      "text/latex": [
       "$\\displaystyle x_{ 1 } = \\frac{ 67 }{ 3 } - \\frac{ (1 \\cdot 1.05935) + (7 \\cdot 5.10979) }{ 3 } = 10.0574$"
      ],
      "text/plain": [
       "<IPython.core.display.Math object>"
      ]
     },
     "metadata": {},
     "output_type": "display_data"
    },
    {
     "data": {
      "text/latex": [
       "$\\displaystyle x_{ 2 } = \\frac{ 44 }{ 6 } - \\frac{ (0 \\cdot 1.05935) + (1 \\cdot 10.0574) }{ 6 } = 5.65711$"
      ],
      "text/plain": [
       "<IPython.core.display.Math object>"
      ]
     },
     "metadata": {},
     "output_type": "display_data"
    },
    {
     "data": {
      "text/latex": [
       "Iteration 4"
      ],
      "text/plain": [
       "<IPython.core.display.Latex object>"
      ]
     },
     "metadata": {},
     "output_type": "display_data"
    },
    {
     "data": {
      "text/latex": [
       "$\\displaystyle x_{ 0 } = \\frac{ 21 }{ 15 } - \\frac{ (0 \\cdot 10.0574) + (1 \\cdot 5.65711) }{ 15 } = 1.02286$"
      ],
      "text/plain": [
       "<IPython.core.display.Math object>"
      ]
     },
     "metadata": {},
     "output_type": "display_data"
    },
    {
     "data": {
      "text/latex": [
       "$\\displaystyle x_{ 1 } = \\frac{ 67 }{ 3 } - \\frac{ (1 \\cdot 1.02286) + (7 \\cdot 5.65711) }{ 3 } = 8.79247$"
      ],
      "text/plain": [
       "<IPython.core.display.Math object>"
      ]
     },
     "metadata": {},
     "output_type": "display_data"
    },
    {
     "data": {
      "text/latex": [
       "$\\displaystyle x_{ 2 } = \\frac{ 44 }{ 6 } - \\frac{ (0 \\cdot 1.02286) + (1 \\cdot 8.79247) }{ 6 } = 5.86792$"
      ],
      "text/plain": [
       "<IPython.core.display.Math object>"
      ]
     },
     "metadata": {},
     "output_type": "display_data"
    },
    {
     "data": {
      "text/latex": [
       "Iteration 5"
      ],
      "text/plain": [
       "<IPython.core.display.Latex object>"
      ]
     },
     "metadata": {},
     "output_type": "display_data"
    },
    {
     "data": {
      "text/latex": [
       "$\\displaystyle x_{ 0 } = \\frac{ 21 }{ 15 } - \\frac{ (0 \\cdot 8.79247) + (1 \\cdot 5.86792) }{ 15 } = 1.00881$"
      ],
      "text/plain": [
       "<IPython.core.display.Math object>"
      ]
     },
     "metadata": {},
     "output_type": "display_data"
    },
    {
     "data": {
      "text/latex": [
       "$\\displaystyle x_{ 1 } = \\frac{ 67 }{ 3 } - \\frac{ (1 \\cdot 1.00881) + (7 \\cdot 5.86792) }{ 3 } = 8.30525$"
      ],
      "text/plain": [
       "<IPython.core.display.Math object>"
      ]
     },
     "metadata": {},
     "output_type": "display_data"
    },
    {
     "data": {
      "text/latex": [
       "$\\displaystyle x_{ 2 } = \\frac{ 44 }{ 6 } - \\frac{ (0 \\cdot 1.00881) + (1 \\cdot 8.30525) }{ 6 } = 5.94913$"
      ],
      "text/plain": [
       "<IPython.core.display.Math object>"
      ]
     },
     "metadata": {},
     "output_type": "display_data"
    },
    {
     "name": "stdout",
     "output_type": "stream",
     "text": [
      "Matrix([[1.00880503654480], [8.30524635314941], [5.94912528991699]])\n"
     ]
    }
   ],
   "source": [
    "import sympy as sp\n",
    "\n",
    "from lgs_iter_gauss_seidel import gauss_seidel\n",
    "\n",
    "a = sp.Matrix([\n",
    "    [15, 0, 1],\n",
    "    [1, 3, 7],\n",
    "    [0, 1, 6],\n",
    "])\n",
    "\n",
    "b = sp.Matrix([21, 67, 44])\n",
    "x0 = sp.Matrix([0, 0, 0])\n",
    "\n",
    "x = gauss_seidel(a, b, x0, 5, precision=6).evalf()\n",
    "print(x)"
   ]
  }
 ],
 "metadata": {
  "kernelspec": {
   "display_name": "Python 3",
   "language": "python",
   "name": "python3"
  },
  "language_info": {
   "codemirror_mode": {
    "name": "ipython",
    "version": 3
   },
   "file_extension": ".py",
   "mimetype": "text/x-python",
   "name": "python",
   "nbconvert_exporter": "python",
   "pygments_lexer": "ipython3",
   "version": "3.11.4"
  }
 },
 "nbformat": 4,
 "nbformat_minor": 0
}

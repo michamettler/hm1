{
 "cells": [
  {
   "cell_type": "code",
   "execution_count": 1,
   "outputs": [
    {
     "data": {
      "text/plain": "<IPython.core.display.Latex object>",
      "text/latex": "Iteration 1"
     },
     "metadata": {},
     "output_type": "display_data"
    },
    {
     "data": {
      "text/plain": "<IPython.core.display.Math object>",
      "text/latex": "$\\displaystyle x_{ 0 } = \\frac{ 5 }{ 4 } - \\frac{ (-1 \\cdot 0) + (1 \\cdot 0) }{ 4 } = 1.25$"
     },
     "metadata": {},
     "output_type": "display_data"
    },
    {
     "data": {
      "text/plain": "<IPython.core.display.Math object>",
      "text/latex": "$\\displaystyle x_{ 1 } = \\frac{ 11 }{ 5 } - \\frac{ (-2 \\cdot 1.25) + (1 \\cdot 0) }{ 5 } = 2.7$"
     },
     "metadata": {},
     "output_type": "display_data"
    },
    {
     "data": {
      "text/plain": "<IPython.core.display.Math object>",
      "text/latex": "$\\displaystyle x_{ 2 } = \\frac{ 12 }{ 5 } - \\frac{ (1 \\cdot 1.25) + (-2 \\cdot 2.7) }{ 5 } = 3.23$"
     },
     "metadata": {},
     "output_type": "display_data"
    },
    {
     "data": {
      "text/plain": "<IPython.core.display.Latex object>",
      "text/latex": "Iteration 2"
     },
     "metadata": {},
     "output_type": "display_data"
    },
    {
     "data": {
      "text/plain": "<IPython.core.display.Math object>",
      "text/latex": "$\\displaystyle x_{ 0 } = \\frac{ 5 }{ 4 } - \\frac{ (-1 \\cdot 2.7) + (1 \\cdot 3.23) }{ 4 } = 1.1175$"
     },
     "metadata": {},
     "output_type": "display_data"
    },
    {
     "data": {
      "text/plain": "<IPython.core.display.Math object>",
      "text/latex": "$\\displaystyle x_{ 1 } = \\frac{ 11 }{ 5 } - \\frac{ (-2 \\cdot 1.1175) + (1 \\cdot 3.23) }{ 5 } = 2.001$"
     },
     "metadata": {},
     "output_type": "display_data"
    },
    {
     "data": {
      "text/plain": "<IPython.core.display.Math object>",
      "text/latex": "$\\displaystyle x_{ 2 } = \\frac{ 12 }{ 5 } - \\frac{ (1 \\cdot 1.1175) + (-2 \\cdot 2.001) }{ 5 } = 2.9769$"
     },
     "metadata": {},
     "output_type": "display_data"
    },
    {
     "data": {
      "text/plain": "<IPython.core.display.Latex object>",
      "text/latex": "Iteration 3"
     },
     "metadata": {},
     "output_type": "display_data"
    },
    {
     "data": {
      "text/plain": "<IPython.core.display.Math object>",
      "text/latex": "$\\displaystyle x_{ 0 } = \\frac{ 5 }{ 4 } - \\frac{ (-1 \\cdot 2.001) + (1 \\cdot 2.9769) }{ 4 } = 1.00602$"
     },
     "metadata": {},
     "output_type": "display_data"
    },
    {
     "data": {
      "text/plain": "<IPython.core.display.Math object>",
      "text/latex": "$\\displaystyle x_{ 1 } = \\frac{ 11 }{ 5 } - \\frac{ (-2 \\cdot 1.00602) + (1 \\cdot 2.9769) }{ 5 } = 2.00703$"
     },
     "metadata": {},
     "output_type": "display_data"
    },
    {
     "data": {
      "text/plain": "<IPython.core.display.Math object>",
      "text/latex": "$\\displaystyle x_{ 2 } = \\frac{ 12 }{ 5 } - \\frac{ (1 \\cdot 1.00602) + (-2 \\cdot 2.00703) }{ 5 } = 3.00161$"
     },
     "metadata": {},
     "output_type": "display_data"
    },
    {
     "data": {
      "text/plain": "<IPython.core.display.Latex object>",
      "text/latex": "Iteration 4"
     },
     "metadata": {},
     "output_type": "display_data"
    },
    {
     "data": {
      "text/plain": "<IPython.core.display.Math object>",
      "text/latex": "$\\displaystyle x_{ 0 } = \\frac{ 5 }{ 4 } - \\frac{ (-1 \\cdot 2.00703) + (1 \\cdot 3.00161) }{ 4 } = 1.00136$"
     },
     "metadata": {},
     "output_type": "display_data"
    },
    {
     "data": {
      "text/plain": "<IPython.core.display.Math object>",
      "text/latex": "$\\displaystyle x_{ 1 } = \\frac{ 11 }{ 5 } - \\frac{ (-2 \\cdot 1.00136) + (1 \\cdot 3.00161) }{ 5 } = 2.00022$"
     },
     "metadata": {},
     "output_type": "display_data"
    },
    {
     "data": {
      "text/plain": "<IPython.core.display.Math object>",
      "text/latex": "$\\displaystyle x_{ 2 } = \\frac{ 12 }{ 5 } - \\frac{ (1 \\cdot 1.00136) + (-2 \\cdot 2.00022) }{ 5 } = 2.99982$"
     },
     "metadata": {},
     "output_type": "display_data"
    },
    {
     "data": {
      "text/plain": "<IPython.core.display.Latex object>",
      "text/latex": "Iteration 5"
     },
     "metadata": {},
     "output_type": "display_data"
    },
    {
     "data": {
      "text/plain": "<IPython.core.display.Math object>",
      "text/latex": "$\\displaystyle x_{ 0 } = \\frac{ 5 }{ 4 } - \\frac{ (-1 \\cdot 2.00022) + (1 \\cdot 2.99982) }{ 4 } = 1.0001$"
     },
     "metadata": {},
     "output_type": "display_data"
    },
    {
     "data": {
      "text/plain": "<IPython.core.display.Math object>",
      "text/latex": "$\\displaystyle x_{ 1 } = \\frac{ 11 }{ 5 } - \\frac{ (-2 \\cdot 1.0001) + (1 \\cdot 2.99982) }{ 5 } = 2.00008$"
     },
     "metadata": {},
     "output_type": "display_data"
    },
    {
     "data": {
      "text/plain": "<IPython.core.display.Math object>",
      "text/latex": "$\\displaystyle x_{ 2 } = \\frac{ 12 }{ 5 } - \\frac{ (1 \\cdot 1.0001) + (-2 \\cdot 2.00008) }{ 5 } = 3.00001$"
     },
     "metadata": {},
     "output_type": "display_data"
    },
    {
     "name": "stdout",
     "output_type": "stream",
     "text": [
      "Matrix([[1.00010108947754], [2.00007677078247], [3.00001049041748]])\n"
     ]
    }
   ],
   "source": [
    "import sympy as sp\n",
    "\n",
    "from lgs_iter_gauss_seidel import gauss_seidel\n",
    "\n",
    "a = sp.Matrix([\n",
    "    [4, -1, 1],\n",
    "    [-2, 5, 1],\n",
    "    [1, -2, 5],\n",
    "])\n",
    "\n",
    "b = sp.Matrix([5, 11, 12])\n",
    "x0 = sp.Matrix([0, 0, 0])\n",
    "\n",
    "x = gauss_seidel(a, b, x0, 5, precision=6).evalf()\n",
    "print(x)"
   ],
   "metadata": {
    "collapsed": false
   }
  }
 ],
 "metadata": {
  "kernelspec": {
   "display_name": "Python 3",
   "language": "python",
   "name": "python3"
  },
  "language_info": {
   "codemirror_mode": {
    "name": "ipython",
    "version": 2
   },
   "file_extension": ".py",
   "mimetype": "text/x-python",
   "name": "python",
   "nbconvert_exporter": "python",
   "pygments_lexer": "ipython2",
   "version": "2.7.6"
  }
 },
 "nbformat": 4,
 "nbformat_minor": 0
}

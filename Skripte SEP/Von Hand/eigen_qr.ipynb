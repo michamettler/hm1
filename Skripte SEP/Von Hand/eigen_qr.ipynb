{
 "cells": [
  {
   "cell_type": "code",
   "execution_count": 1,
   "metadata": {
    "collapsed": false
   },
   "outputs": [
    {
     "data": {
      "text/latex": [
       "$\\displaystyle A_{ 1 } = \\left[\\begin{matrix}3.4 & -0.64142698 & -0.47809144\\\\1.4966629 & 1.3142857 & -0.51110125\\\\0 & -0.95831485 & 1.2857143\\end{matrix}\\right], \\quad P_{ 1 } = \\left[\\begin{matrix}-0.4472136 & 0.71713716 & 0.53452248\\\\-0.89442719 & -0.35856858 & -0.26726124\\\\0 & -0.5976143 & 0.80178373\\end{matrix}\\right]$"
      ],
      "text/plain": [
       "<IPython.core.display.Math object>"
      ]
     },
     "metadata": {},
     "output_type": "display_data"
    },
    {
     "data": {
      "text/latex": [
       "$\\displaystyle A_{ 2 } = \\left[\\begin{matrix}3.3768116 & -0.94271842 & 1.387738\\\\0.70405552 & 1.850307 & -0.095084417\\\\0 & 0.50684485 & 0.77288135\\end{matrix}\\right], \\quad P_{ 2 } = \\left[\\begin{matrix}0.12038586 & -0.40640898 & 0.90572567\\\\0.96308683 & -0.17346725 & -0.20584674\\\\0.2407717 & 0.89707349 & 0.37052413\\end{matrix}\\right]$"
      ],
      "text/plain": [
       "<IPython.core.display.Math object>"
      ]
     },
     "metadata": {},
     "output_type": "display_data"
    },
    {
     "data": {
      "text/latex": [
       "$\\displaystyle A_{ 3 } = \\left[\\begin{matrix}3.2655299 & -0.87161367 & -1.6017622\\\\0.42186652 & 1.9185982 & 0.66613492\\\\0 & -0.20637109 & 0.81587195\\end{matrix}\\right], \\quad P_{ 3 } = \\left[\\begin{matrix}-0.034900251 & 0.1874231 & 0.98165908\\\\-0.90740626 & 0.40568034 & -0.10971484\\\\-0.41880288 & -0.89459267 & 0.15591055\\end{matrix}\\right]$"
      ],
      "text/plain": [
       "<IPython.core.display.Math object>"
      ]
     },
     "metadata": {},
     "output_type": "display_data"
    },
    {
     "data": {
      "text/latex": [
       "$\\displaystyle A_{ 4 } = \\left[\\begin{matrix}3.1862712 & -0.87679598 & 1.6009045\\\\0.2594495 & 1.918548 & -0.97883101\\\\0 & 0.091706704 & 0.89518078\\end{matrix}\\right], \\quad P_{ 4 } = \\left[\\begin{matrix}0.010599395 & -0.089316514 & 0.99594689\\\\0.84795067 & -0.5270776 & -0.056292649\\\\0.52996916 & 0.84511051 & 0.070149297\\end{matrix}\\right]$"
      ],
      "text/plain": [
       "<IPython.core.display.Math object>"
      ]
     },
     "metadata": {},
     "output_type": "display_data"
    },
    {
     "data": {
      "text/latex": [
       "$\\displaystyle A_{ 5 } = \\left[\\begin{matrix}3.1279833 & -0.90420632 & -1.559611\\\\0.16114041 & 1.9277377 & 1.1532723\\\\0 & -0.043661211 & 0.94427903\\end{matrix}\\right], \\quad P_{ 5 } = \\left[\\begin{matrix}-0.0033156176 & 0.043785119 & 0.99903547\\\\-0.80237651 & 0.59612339 & -0.028789467\\\\-0.59680896 & -0.80169805 & 0.033155637\\end{matrix}\\right]$"
      ],
      "text/plain": [
       "<IPython.core.display.Math object>"
      ]
     },
     "metadata": {},
     "output_type": "display_data"
    },
    {
     "data": {
      "text/latex": [
       "$\\displaystyle A_{ 6 } = \\left[\\begin{matrix}3.0866282 & -0.93050306 & 1.5191848\\\\0.10146416 & 1.9422881 & -1.254083\\\\0 & 0.02150358 & 0.97108376\\end{matrix}\\right], \\quad P_{ 6 } = \\left[\\begin{matrix}0.0010585905 & -0.021769838 & 0.99976245\\\\0.77064485 & -0.63709557 & -0.014688745\\\\0.63726399 & 0.77047733 & 0.016102393\\end{matrix}\\right]$"
      ],
      "text/plain": [
       "<IPython.core.display.Math object>"
      ]
     },
     "metadata": {},
     "output_type": "display_data"
    },
    {
     "data": {
      "text/latex": [
       "$\\displaystyle A_{ 7 } = \\left[\\begin{matrix}3.05817 & -0.95101877 & -1.4876217\\\\0.064786555 & 1.95665 & 1.314066\\\\0 & -0.010743879 & 0.98517993\\end{matrix}\\right], \\quad P_{ 7 } = \\left[\\begin{matrix}-0.00034278353 & 0.010889309 & 0.99994065\\\\-0.74929741 & 0.66219153 & -0.0074680892\\\\-0.66223355 & -0.7492555 & 0.0079323455\\end{matrix}\\right]$"
      ],
      "text/plain": [
       "<IPython.core.display.Math object>"
      ]
     },
     "metadata": {},
     "output_type": "display_data"
    },
    {
     "data": {
      "text/latex": [
       "$\\displaystyle A_{ 8 } = \\left[\\begin{matrix}3.0389097 & -0.96599799 & 1.464729\\\\0.041859777 & 1.9686265 & -1.3506253\\\\0 & 0.0053952444 & 0.99246382\\end{matrix}\\right], \\quad P_{ 8 } = \\left[\\begin{matrix}0.00011207114 & -0.0054581559 & 0.9999851\\\\0.73510411 & -0.67794369 & -0.0037827534\\\\0.67795422 & 0.73509359 & 0.0039363376\\end{matrix}\\right]$"
      ],
      "text/plain": [
       "<IPython.core.display.Math object>"
      ]
     },
     "metadata": {},
     "output_type": "display_data"
    },
    {
     "data": {
      "text/latex": [
       "$\\displaystyle A_{ 9 } = \\left[\\begin{matrix}3.0259794 & -0.97662232 & -1.4486517\\\\0.02729526 & 1.9778325 & 1.3733539\\\\0 & -0.002712094 & 0.99618805\\end{matrix}\\right], \\quad P_{ 9 } = \\left[\\begin{matrix}-3.6883707 \\cdot 10^{-5} & 0.0027367402 & 0.99999625\\\\-0.72569686 & 0.68801193 & -0.0019096742\\\\-0.68801457 & -0.72569422 & 0.00196067\\end{matrix}\\right]$"
      ],
      "text/plain": [
       "<IPython.core.display.Math object>"
      ]
     },
     "metadata": {},
     "output_type": "display_data"
    },
    {
     "data": {
      "text/latex": [
       "$\\displaystyle A_{ 10 } = \\left[\\begin{matrix}3.0173316 & -0.98403726 & 1.4375499\\\\0.017918676 & 1.9845895 & -1.3877142\\\\0 & 0.0013625978 & 0.99807889\\end{matrix}\\right], \\quad P_{ 10 } = \\left[\\begin{matrix}1.2196977 \\cdot 10^{-5} & -0.0013717448 & 0.99999906\\\\0.71946151 & -0.69453165 & -0.00096148715\\\\0.6945323 & 0.71946086 & 0.00097844907\\end{matrix}\\right]$"
      ],
      "text/plain": [
       "<IPython.core.display.Math object>"
      ]
     },
     "metadata": {},
     "output_type": "display_data"
    },
    {
     "data": {
      "text/latex": [
       "$\\displaystyle A_{ 11 } = \\left[\\begin{matrix}3.011558 & -0.98915731 & -1.4299612\\\\0.01181994 & 1.9894077 & 1.3969053\\\\0 & -0.00068392442 & 0.99903425\\end{matrix}\\right], \\quad P_{ 11 } = \\left[\\begin{matrix}-4.050684 \\cdot 10^{-6} & 0.00068720802 & 0.99999976\\\\-0.71532436 & 0.6987924 & -0.00048310419\\\\-0.69879256 & -0.71532421 & 0.00048874869\\end{matrix}\\right]$"
      ],
      "text/plain": [
       "<IPython.core.display.Math object>"
      ]
     },
     "metadata": {},
     "output_type": "display_data"
    },
    {
     "data": {
      "text/latex": [
       "$\\displaystyle A_{ 12 } = \\left[\\begin{matrix}3.0077064 & -0.99266517 & 1.4248082\\\\0.007823262 & 1.9927782 & -1.4028478\\\\0 & 0.00034294971 & 0.99951536\\end{matrix}\\right], \\quad P_{ 12 } = \\left[\\begin{matrix}1.353479 \\cdot 10^{-6} & -0.00034410269 & 0.99999994\\\\0.71257621 & -0.70159468 & -0.00024237586\\\\0.7015947 & 0.71257619 & 0.00024425243\\end{matrix}\\right]$"
      ],
      "text/plain": [
       "<IPython.core.display.Math object>"
      ]
     },
     "metadata": {},
     "output_type": "display_data"
    },
    {
     "data": {
      "text/latex": [
       "$\\displaystyle A_{ 13 } = \\left[\\begin{matrix}3.0051379 & -0.99505412 & -1.4213256\\\\0.0051900412 & 1.995105 & 1.4067202\\\\0 & -0.00017183241 & 0.99975708\\end{matrix}\\right], \\quad P_{ 13 } = \\left[\\begin{matrix}-4.5844148 \\cdot 10^{-7} & 0.00017223089 & 0.99999998\\\\-0.71074891 & 0.70344579 & -0.00012147171\\\\-0.70344578 & -0.71074892 & 0.00012209305\\end{matrix}\\right]$"
      ],
      "text/plain": [
       "<IPython.core.display.Math object>"
      ]
     },
     "metadata": {},
     "output_type": "display_data"
    },
    {
     "data": {
      "text/latex": [
       "$\\displaystyle A_{ 14 } = \\left[\\begin{matrix}3.0034253 & -0.99667344 & 1.4189797\\\\0.0034486156 & 1.9966963 & -1.4092586\\\\0 & 8.6042538 \\cdot 10^{-5} & 0.99987833\\end{matrix}\\right], \\quad P_{ 14 } = \\left[\\begin{matrix}1.6098886 \\cdot 10^{-7} & -8.6178421 \\cdot 10^{-5} & 0.99999999\\\\0.70953296 & -0.70467225 & -6.0832539 \\cdot 10^{-5}\\\\0.70467223 & 0.70953298 & 6.1035608 \\cdot 10^{-5}\\end{matrix}\\right]$"
      ],
      "text/plain": [
       "<IPython.core.display.Math object>"
      ]
     },
     "metadata": {},
     "output_type": "display_data"
    },
    {
     "data": {
      "text/latex": [
       "$\\displaystyle A_{ 15 } = \\left[\\begin{matrix}3.0022836 & -0.99776704 & -1.4174036\\\\0.0022939726 & 1.9977773 & 1.41093\\\\0 & -4.3065173 \\cdot 10^{-5} & 0.9999391\\end{matrix}\\right], \\quad P_{ 15 } = \\left[\\begin{matrix}-6.2036387 \\cdot 10^{-8} & 4.3110754 \\cdot 10^{-5} & 1.0\\\\-0.70872337 & 0.70548649 & -3.0448791 \\cdot 10^{-5}\\\\-0.70548647 & -0.70872339 & 3.0512454 \\cdot 10^{-5}\\end{matrix}\\right]$"
      ],
      "text/plain": [
       "<IPython.core.display.Math object>"
      ]
     },
     "metadata": {},
     "output_type": "display_data"
    },
    {
     "data": {
      "text/latex": [
       "$\\displaystyle A_{ 16 } = \\left[\\begin{matrix}3.0015224 & -0.99850345 & 1.4163467\\\\0.0015270352 & 1.9985081 & -1.4120341\\\\0 & 2.154767 \\cdot 10^{-5} & 0.99996952\\end{matrix}\\right], \\quad P_{ 16 } = \\left[\\begin{matrix}2.9096489 \\cdot 10^{-8} & -2.1562462 \\cdot 10^{-5} & 1.0\\\\0.70818411 & -0.70602781 & -1.5235073 \\cdot 10^{-5}\\\\0.70602778 & 0.70818414 & 1.5252271 \\cdot 10^{-5}\\end{matrix}\\right]$"
      ],
      "text/plain": [
       "<IPython.core.display.Math object>"
      ]
     },
     "metadata": {},
     "output_type": "display_data"
    },
    {
     "data": {
      "text/latex": [
       "$\\displaystyle A_{ 17 } = \\left[\\begin{matrix}3.0010149 & -0.99899823 & -1.4156389\\\\0.0010170063 & 1.9990003 & 1.4127652\\\\0 & -1.0778975 \\cdot 10^{-5} & 0.99998475\\end{matrix}\\right], \\quad P_{ 17 } = \\left[\\begin{matrix}-1.8126507 \\cdot 10^{-8} & 1.0783335 \\cdot 10^{-5} & 1.0\\\\-0.70782483 & 0.70638801 & -7.6208189 \\cdot 10^{-6}\\\\-0.70638798 & -0.70782485 & 7.6225282 \\cdot 10^{-6}\\end{matrix}\\right]$"
      ],
      "text/plain": [
       "<IPython.core.display.Math object>"
      ]
     },
     "metadata": {},
     "output_type": "display_data"
    },
    {
     "data": {
      "text/latex": [
       "$\\displaystyle A_{ 18 } = \\left[\\begin{matrix}3.0006766 & -0.99933005 & 1.4151654\\\\0.00067755077 & 1.999331 & -1.4132503\\\\0 & 5.3912287 \\cdot 10^{-6} & 0.99999237\\end{matrix}\\right], \\quad P_{ 18 } = \\left[\\begin{matrix}1.447217 \\cdot 10^{-8} & -5.3920708 \\cdot 10^{-6} & 1.0\\\\0.7075854 & -0.70662784 & -3.8111975 \\cdot 10^{-6}\\\\0.70662782 & 0.70758543 & 3.8077442 \\cdot 10^{-6}\\end{matrix}\\right]$"
      ],
      "text/plain": [
       "<IPython.core.display.Math object>"
      ]
     },
     "metadata": {},
     "output_type": "display_data"
    },
    {
     "data": {
      "text/latex": [
       "$\\displaystyle A_{ 19 } = \\left[\\begin{matrix}3.000451 & -0.99955229 & -1.414849\\\\0.00045149854 & 1.9995528 & 1.4135725\\\\0 & -2.6962018 \\cdot 10^{-6} & 0.99999618\\end{matrix}\\right], \\quad P_{ 19 } = \\left[\\begin{matrix}-1.3254643 \\cdot 10^{-8} & 2.6958618 \\cdot 10^{-6} & 1.0\\\\-0.70742583 & 0.70678759 & -1.9055483 \\cdot 10^{-6}\\\\-0.70678757 & -0.70742585 & 1.9003741 \\cdot 10^{-6}\\end{matrix}\\right]$"
      ],
      "text/plain": [
       "<IPython.core.display.Math object>"
      ]
     },
     "metadata": {},
     "output_type": "display_data"
    },
    {
     "data": {
      "text/latex": [
       "$\\displaystyle A_{ 20 } = \\left[\\begin{matrix}3.0003007 & -0.99970097 & 1.4146376\\\\0.0003009091 & 1.9997012 & -1.4137867\\\\0 & 1.3482984 \\cdot 10^{-6} & 0.99999809\\end{matrix}\\right], \\quad P_{ 20 } = \\left[\\begin{matrix}1.2848978 \\cdot 10^{-8} & -1.3475628 \\cdot 10^{-6} & 1.0\\\\0.70731947 & -0.70689403 & -9.5244236 \\cdot 10^{-7}\\\\0.70689401 & 0.70731948 & 9.4669456 \\cdot 10^{-7}\\end{matrix}\\right]$"
      ],
      "text/plain": [
       "<IPython.core.display.Math object>"
      ]
     },
     "metadata": {},
     "output_type": "display_data"
    },
    {
     "data": {
      "text/latex": [
       "$\\displaystyle A_{ 21 } = \\left[\\begin{matrix}3.0002004 & -0.99980036 & -1.4144965\\\\0.00020056605 & 1.9998005 & 1.4139293\\\\0 & -6.742155 \\cdot 10^{-7} & 0.99999904\\end{matrix}\\right], \\quad P_{ 21 } = \\left[\\begin{matrix}-1.2713827 \\cdot 10^{-8} & 6.7334794 \\cdot 10^{-7} & 1.0\\\\-0.70724856 & 0.70696497 & -4.7579517 \\cdot 10^{-7}\\\\-0.70696495 & -0.70724858 & 4.6985614 \\cdot 10^{-7}\\end{matrix}\\right]$"
      ],
      "text/plain": [
       "<IPython.core.display.Math object>"
      ]
     },
     "metadata": {},
     "output_type": "display_data"
    },
    {
     "data": {
      "text/latex": [
       "$\\displaystyle A_{ 22 } = \\left[\\begin{matrix}3.0001336 & -0.99986675 & 1.4144023\\\\0.0001336929 & 1.9998668 & -1.4140242\\\\0 & 3.3712995 \\cdot 10^{-7} & 0.99999952\\end{matrix}\\right], \\quad P_{ 22 } = \\left[\\begin{matrix}1.2668813 \\cdot 10^{-8} & -3.3621867 \\cdot 10^{-7} & 1.0\\\\0.7072013 & -0.70701225 & -2.3744005 \\cdot 10^{-7}\\\\0.70701223 & 0.70720132 & 2.3143728 \\cdot 10^{-7}\\end{matrix}\\right]$"
      ],
      "text/plain": [
       "<IPython.core.display.Math object>"
      ]
     },
     "metadata": {},
     "output_type": "display_data"
    },
    {
     "data": {
      "text/latex": [
       "$\\displaystyle A_{ 23 } = \\left[\\begin{matrix}3.000089 & -0.99991109 & -1.4143394\\\\8.9120682 \\cdot 10^{-5} & 1.9999112 & 1.4140874\\\\0 & -1.685724 \\cdot 10^{-7} & 0.99999976\\end{matrix}\\right], \\quad P_{ 23 } = \\left[\\begin{matrix}-1.2653831 \\cdot 10^{-8} & 1.6764679 \\cdot 10^{-7} & 1.0\\\\-0.70716979 & 0.70704376 & -1.1825195 \\cdot 10^{-7}\\\\-0.70704374 & -0.70716981 & 1.1222794 \\cdot 10^{-7}\\end{matrix}\\right]$"
      ],
      "text/plain": [
       "<IPython.core.display.Math object>"
      ]
     },
     "metadata": {},
     "output_type": "display_data"
    },
    {
     "data": {
      "text/latex": [
       "$\\displaystyle A_{ 24 } = \\left[\\begin{matrix}3.0000593 & -0.99994068 & 1.4142975\\\\5.9410268 \\cdot 10^{-5} & 1.9999407 & -1.4141295\\\\0 & 8.4288684 \\cdot 10^{-8} & 0.99999988\\end{matrix}\\right], \\quad P_{ 24 } = \\left[\\begin{matrix}1.264885 \\cdot 10^{-8} & -8.3358472 \\cdot 10^{-8} & 1.0\\\\0.70714879 & -0.70706477 & -5.8654386 \\cdot 10^{-8}\\\\0.70706475 & 0.70714881 & 5.2623287 \\cdot 10^{-8}\\end{matrix}\\right]$"
      ],
      "text/plain": [
       "<IPython.core.display.Math object>"
      ]
     },
     "metadata": {},
     "output_type": "display_data"
    },
    {
     "data": {
      "text/latex": [
       "$\\displaystyle A_{ 25 } = \\left[\\begin{matrix}3.0000395 & -0.99996043 & -1.4142695\\\\3.960528 \\cdot 10^{-5} & 1.9999605 & 1.4141575\\\\0 & -4.2145171 \\cdot 10^{-8} & 0.99999993\\end{matrix}\\right], \\quad P_{ 25 } = \\left[\\begin{matrix}-1.26472 \\cdot 10^{-8} & 4.1213549 \\cdot 10^{-8} & 1.0\\\\-0.70713479 & 0.70707877 & -2.8854428 \\cdot 10^{-8}\\\\-0.70707875 & -0.70713481 & 2.2820968 \\cdot 10^{-8}\\end{matrix}\\right]$"
      ],
      "text/plain": [
       "<IPython.core.display.Math object>"
      ]
     },
     "metadata": {},
     "output_type": "display_data"
    },
    {
     "data": {
      "text/latex": [
       "$\\displaystyle A_{ 26 } = \\left[\\begin{matrix}3.0000263 & -0.9999736 & 1.4142509\\\\2.6402825 \\cdot 10^{-5} & 1.9999736 & -1.4141762\\\\0 & 2.1072862 \\cdot 10^{-8} & 0.99999996\\end{matrix}\\right], \\quad P_{ 26 } = \\left[\\begin{matrix}1.2646656 \\cdot 10^{-8} & -2.0140853 \\cdot 10^{-8} & 1.0\\\\0.70712545 & -0.70708811 & -1.3954058 \\cdot 10^{-8}\\\\0.70708809 & 0.70712547 & 7.9198096 \\cdot 10^{-9}\\end{matrix}\\right]$"
      ],
      "text/plain": [
       "<IPython.core.display.Math object>"
      ]
     },
     "metadata": {},
     "output_type": "display_data"
    },
    {
     "data": {
      "text/latex": [
       "$\\displaystyle A_{ 27 } = \\left[\\begin{matrix}3.0000175 & -0.99998238 & -1.4142385\\\\1.7601574 \\cdot 10^{-5} & 1.9999824 & 1.4141887\\\\0 & -1.0536523 \\cdot 10^{-8} & 0.99999998\\end{matrix}\\right], \\quad P_{ 27 } = \\left[\\begin{matrix}-1.2646478 \\cdot 10^{-8} & 9.6044407 \\cdot 10^{-9} & 1.0\\\\-0.70711923 & 0.70709433 & -6.5037416 \\cdot 10^{-9}\\\\-0.70709431 & -0.70711925 & 4.6923108 \\cdot 10^{-10}\\end{matrix}\\right]$"
      ],
      "text/plain": [
       "<IPython.core.display.Math object>"
      ]
     },
     "metadata": {},
     "output_type": "display_data"
    },
    {
     "data": {
      "text/latex": [
       "$\\displaystyle A_{ 28 } = \\left[\\begin{matrix}3.0000117 & -0.99998824 & 1.4142302\\\\1.1734246 \\cdot 10^{-5} & 1.9999883 & -1.414197\\\\0 & 5.2682924 \\cdot 10^{-9} & 0.99999999\\end{matrix}\\right], \\quad P_{ 28 } = \\left[\\begin{matrix}1.2646422 \\cdot 10^{-8} & -4.3362225 \\cdot 10^{-9} & 1.0\\\\0.70711508 & -0.70709848 & -2.7785401 \\cdot 10^{-9}\\\\0.70709846 & 0.7071151 & -3.2560581 \\cdot 10^{-9}\\end{matrix}\\right]$"
      ],
      "text/plain": [
       "<IPython.core.display.Math object>"
      ]
     },
     "metadata": {},
     "output_type": "display_data"
    },
    {
     "data": {
      "text/latex": [
       "$\\displaystyle A_{ 29 } = \\left[\\begin{matrix}3.0000078 & -0.99999215 & -1.4142246\\\\7.8227694 \\cdot 10^{-6} & 1.9999922 & 1.4142025\\\\0 & -2.6341564 \\cdot 10^{-9} & 0.99999999\\end{matrix}\\right], \\quad P_{ 29 } = \\left[\\begin{matrix}-1.2646405 \\cdot 10^{-8} & 1.7021155 \\cdot 10^{-9} & 1.0\\\\-0.70711232 & 0.70710124 & -9.1592475 \\cdot 10^{-10}\\\\-0.70710122 & -0.70711234 & -5.1187026 \\cdot 10^{-9}\\end{matrix}\\right]$"
      ],
      "text/plain": [
       "<IPython.core.display.Math object>"
      ]
     },
     "metadata": {},
     "output_type": "display_data"
    },
    {
     "data": {
      "text/latex": [
       "$\\displaystyle A_{ 30 } = \\left[\\begin{matrix}3.0000052 & -0.99999476 & 1.4142209\\\\5.2151526 \\cdot 10^{-6} & 1.9999948 & -1.4142062\\\\0 & 1.3170816 \\cdot 10^{-9} & 0.99999999\\end{matrix}\\right], \\quad P_{ 30 } = \\left[\\begin{matrix}1.2646401 \\cdot 10^{-8} & -3.8506688 \\cdot 10^{-10} & 1.0\\\\0.70711047 & -0.70710309 & 1.5387733 \\cdot 10^{-11}\\\\0.70710307 & 0.70711049 & -6.0500248 \\cdot 10^{-9}\\end{matrix}\\right]$"
      ],
      "text/plain": [
       "<IPython.core.display.Math object>"
      ]
     },
     "metadata": {},
     "output_type": "display_data"
    },
    {
     "data": {
      "text/latex": [
       "$\\displaystyle A_{ 31 } = \\left[\\begin{matrix}3.0000034 & -0.99999649 & -1.4142185\\\\3.4767564 \\cdot 10^{-6} & 1.9999965 & 1.4142086\\\\0 & -6.5854194 \\cdot 10^{-10} & 0.99999999\\end{matrix}\\right], \\quad P_{ 31 } = \\left[\\begin{matrix}-1.26464 \\cdot 10^{-8} & -2.7345308 \\cdot 10^{-10} & 1.0\\\\-0.70710924 & 0.70710432 & 4.8104559 \\cdot 10^{-10}\\\\-0.70710429 & -0.70710926 & -6.5156859 \\cdot 10^{-9}\\end{matrix}\\right]$"
      ],
      "text/plain": [
       "<IPython.core.display.Math object>"
      ]
     },
     "metadata": {},
     "output_type": "display_data"
    },
    {
     "data": {
      "text/latex": [
       "$\\displaystyle A_{ 32 } = \\left[\\begin{matrix}3.0000022 & -0.99999765 & 1.4142168\\\\2.3178323 \\cdot 10^{-6} & 1.9999977 & -1.4142103\\\\0 & 3.2927135 \\cdot 10^{-10} & 0.99999999\\end{matrix}\\right], \\quad P_{ 32 } = \\left[\\begin{matrix}1.26464 \\cdot 10^{-8} & 6.0270977 \\cdot 10^{-10} & 1.0\\\\0.70710842 & -0.70710514 & 7.1387505 \\cdot 10^{-10}\\\\0.70710511 & 0.70710844 & -6.7485165 \\cdot 10^{-9}\\end{matrix}\\right]$"
      ],
      "text/plain": [
       "<IPython.core.display.Math object>"
      ]
     },
     "metadata": {},
     "output_type": "display_data"
    },
    {
     "data": {
      "text/latex": [
       "$\\displaystyle A_{ 33 } = \\left[\\begin{matrix}3.0000015 & -0.99999842 & -1.4142157\\\\1.5452192 \\cdot 10^{-6} & 1.9999985 & 1.4142114\\\\0 & -1.646358 \\cdot 10^{-10} & 0.99999999\\end{matrix}\\right], \\quad P_{ 33 } = \\left[\\begin{matrix}-1.2646401 \\cdot 10^{-8} & -7.673358 \\cdot 10^{-10} & 1.0\\\\-0.70710787 & 0.70710568 & 8.3028996 \\cdot 10^{-10}\\\\-0.70710566 & -0.7071079 & -6.8649317 \\cdot 10^{-9}\\end{matrix}\\right]$"
      ],
      "text/plain": [
       "<IPython.core.display.Math object>"
      ]
     },
     "metadata": {},
     "output_type": "display_data"
    },
    {
     "data": {
      "text/latex": [
       "$\\displaystyle A_{ 34 } = \\left[\\begin{matrix}3.0000009 & -0.99999894 & 1.414215\\\\1.0301451 \\cdot 10^{-6} & 1.999999 & -1.4142121\\\\0 & 8.2317939 \\cdot 10^{-11} & 0.99999999\\end{matrix}\\right], \\quad P_{ 34 } = \\left[\\begin{matrix}1.2646401 \\cdot 10^{-8} & 8.4964722 \\cdot 10^{-10} & 1.0\\\\0.70710751 & -0.70710605 & 8.8849747 \\cdot 10^{-10}\\\\0.70710602 & 0.70710753 & -6.9231394 \\cdot 10^{-9}\\end{matrix}\\right]$"
      ],
      "text/plain": [
       "<IPython.core.display.Math object>"
      ]
     },
     "metadata": {},
     "output_type": "display_data"
    },
    {
     "data": {
      "text/latex": [
       "$\\displaystyle A_{ 35 } = \\left[\\begin{matrix}3.0000006 & -0.99999928 & -1.4142145\\\\6.8676298 \\cdot 10^{-7} & 1.9999993 & 1.4142126\\\\0 & -4.1158983 \\cdot 10^{-11} & 0.99999999\\end{matrix}\\right], \\quad P_{ 35 } = \\left[\\begin{matrix}-1.2646401 \\cdot 10^{-8} & -8.9080186 \\cdot 10^{-10} & 1.0\\\\-0.70710727 & 0.70710629 & 9.1760124 \\cdot 10^{-10}\\\\-0.70710627 & -0.70710729 & -6.9522432 \\cdot 10^{-9}\\end{matrix}\\right]$"
      ],
      "text/plain": [
       "<IPython.core.display.Math object>"
      ]
     },
     "metadata": {},
     "output_type": "display_data"
    },
    {
     "data": {
      "text/latex": [
       "$\\displaystyle A_{ 36 } = \\left[\\begin{matrix}3.0000004 & -0.99999951 & 1.4142142\\\\4.578418 \\cdot 10^{-7} & 1.9999996 & -1.4142129\\\\0 & 2.0579496 \\cdot 10^{-11} & 0.99999999\\end{matrix}\\right], \\quad P_{ 36 } = \\left[\\begin{matrix}1.2646402 \\cdot 10^{-8} & 9.1137846 \\cdot 10^{-10} & 1.0\\\\0.7071071 & -0.70710645 & 9.3215314 \\cdot 10^{-10}\\\\0.70710643 & 0.70710713 & -6.9667951 \\cdot 10^{-9}\\end{matrix}\\right]$"
      ],
      "text/plain": [
       "<IPython.core.display.Math object>"
      ]
     },
     "metadata": {},
     "output_type": "display_data"
    },
    {
     "data": {
      "text/latex": [
       "$\\displaystyle A_{ 37 } = \\left[\\begin{matrix}3.0000002 & -0.99999966 & -1.414214\\\\3.0522778 \\cdot 10^{-7} & 1.9999997 & 1.4142131\\\\0 & -1.0289749 \\cdot 10^{-11} & 0.99999999\\end{matrix}\\right], \\quad P_{ 37 } = \\left[\\begin{matrix}-1.2646402 \\cdot 10^{-8} & -9.2166628 \\cdot 10^{-10} & 1.0\\\\-0.707107 & 0.70710656 & 9.3942909 \\cdot 10^{-10}\\\\-0.70710654 & -0.70710702 & -6.974071 \\cdot 10^{-9}\\end{matrix}\\right]$"
      ],
      "text/plain": [
       "<IPython.core.display.Math object>"
      ]
     },
     "metadata": {},
     "output_type": "display_data"
    },
    {
     "data": {
      "text/latex": [
       "$\\displaystyle A_{ 38 } = \\left[\\begin{matrix}3.0000001 & -0.99999976 & 1.4142138\\\\2.0348515 \\cdot 10^{-7} & 1.9999998 & -1.4142133\\\\0 & 5.1448751 \\cdot 10^{-12} & 0.99999999\\end{matrix}\\right], \\quad P_{ 38 } = \\left[\\begin{matrix}1.2646402 \\cdot 10^{-8} & 9.2680987 \\cdot 10^{-10} & 1.0\\\\0.70710692 & -0.70710663 & 9.4306706 \\cdot 10^{-10}\\\\0.70710661 & 0.70710695 & -6.977709 \\cdot 10^{-9}\\end{matrix}\\right]$"
      ],
      "text/plain": [
       "<IPython.core.display.Math object>"
      ]
     },
     "metadata": {},
     "output_type": "display_data"
    },
    {
     "data": {
      "text/latex": [
       "$\\displaystyle A_{ 39 } = \\left[\\begin{matrix}3.0 & -0.99999983 & -1.4142138\\\\1.3565676 \\cdot 10^{-7} & 1.9999999 & 1.4142134\\\\0 & -2.5724377 \\cdot 10^{-12} & 0.99999999\\end{matrix}\\right], \\quad P_{ 39 } = \\left[\\begin{matrix}-1.2646402 \\cdot 10^{-8} & -9.2938145 \\cdot 10^{-10} & 1.0\\\\-0.70710687 & 0.70710668 & 9.4488605 \\cdot 10^{-10}\\\\-0.70710665 & -0.7071069 & -6.979528 \\cdot 10^{-9}\\end{matrix}\\right]$"
      ],
      "text/plain": [
       "<IPython.core.display.Math object>"
      ]
     },
     "metadata": {},
     "output_type": "display_data"
    },
    {
     "data": {
      "text/latex": [
       "$\\displaystyle A_{ 40 } = \\left[\\begin{matrix}3.0 & -0.99999988 & 1.4142137\\\\9.0437834 \\cdot 10^{-8} & 1.9999999 & -1.4142134\\\\0 & 1.2862189 \\cdot 10^{-12} & 0.99999999\\end{matrix}\\right], \\quad P_{ 40 } = \\left[\\begin{matrix}1.2646402 \\cdot 10^{-8} & 9.306671 \\cdot 10^{-10} & 1.0\\\\0.70710684 & -0.70710671 & 9.4579555 \\cdot 10^{-10}\\\\0.70710669 & 0.70710687 & -6.9804375 \\cdot 10^{-9}\\end{matrix}\\right]$"
      ],
      "text/plain": [
       "<IPython.core.display.Math object>"
      ]
     },
     "metadata": {},
     "output_type": "display_data"
    },
    {
     "data": {
      "text/latex": [
       "$\\displaystyle A_{ 41 } = \\left[\\begin{matrix}2.9999999 & -0.9999999 & -1.4142136\\\\6.0291889 \\cdot 10^{-8} & 2.0 & 1.4142135\\\\0 & -6.4310944 \\cdot 10^{-13} & 0.99999999\\end{matrix}\\right], \\quad P_{ 41 } = \\left[\\begin{matrix}-1.2646402 \\cdot 10^{-8} & -9.3130983 \\cdot 10^{-10} & 1.0\\\\-0.70710682 & 0.70710673 & 9.4625029 \\cdot 10^{-10}\\\\-0.7071067 & -0.70710685 & -6.9808923 \\cdot 10^{-9}\\end{matrix}\\right]$"
      ],
      "text/plain": [
       "<IPython.core.display.Math object>"
      ]
     },
     "metadata": {},
     "output_type": "display_data"
    },
    {
     "data": {
      "text/latex": [
       "$\\displaystyle A_{ 42 } = \\left[\\begin{matrix}2.9999999 & -0.99999992 & 1.4142136\\\\4.0194593 \\cdot 10^{-8} & 2.0 & -1.4142135\\\\0 & 3.2155472 \\cdot 10^{-13} & 0.99999999\\end{matrix}\\right], \\quad P_{ 42 } = \\left[\\begin{matrix}1.2646402 \\cdot 10^{-8} & 9.3163113 \\cdot 10^{-10} & 1.0\\\\0.7071068 & -0.70710675 & 9.4647767 \\cdot 10^{-10}\\\\0.70710672 & 0.70710683 & -6.9811196 \\cdot 10^{-9}\\end{matrix}\\right]$"
      ],
      "text/plain": [
       "<IPython.core.display.Math object>"
      ]
     },
     "metadata": {},
     "output_type": "display_data"
    },
    {
     "data": {
      "text/latex": [
       "$\\displaystyle A_{ 43 } = \\left[\\begin{matrix}2.9999999 & -0.99999993 & -1.4142136\\\\2.6796396 \\cdot 10^{-8} & 2.0 & 1.4142135\\\\0 & -1.6077736 \\cdot 10^{-13} & 0.99999999\\end{matrix}\\right], \\quad P_{ 43 } = \\left[\\begin{matrix}-1.2646402 \\cdot 10^{-8} & -9.3179174 \\cdot 10^{-10} & 1.0\\\\-0.70710679 & 0.70710676 & 9.4659135 \\cdot 10^{-10}\\\\-0.70710673 & -0.70710682 & -6.9812333 \\cdot 10^{-9}\\end{matrix}\\right]$"
      ],
      "text/plain": [
       "<IPython.core.display.Math object>"
      ]
     },
     "metadata": {},
     "output_type": "display_data"
    },
    {
     "data": {
      "text/latex": [
       "$\\displaystyle A_{ 44 } = \\left[\\begin{matrix}2.9999999 & -0.99999994 & 1.4142136\\\\1.7864265 \\cdot 10^{-8} & 2.0 & -1.4142135\\\\0 & 8.0388679 \\cdot 10^{-14} & 0.99999999\\end{matrix}\\right], \\quad P_{ 44 } = \\left[\\begin{matrix}1.2646402 \\cdot 10^{-8} & 9.3187201 \\cdot 10^{-10} & 1.0\\\\0.70710679 & -0.70710676 & 9.466482 \\cdot 10^{-10}\\\\0.70710673 & 0.70710682 & -6.9812902 \\cdot 10^{-9}\\end{matrix}\\right]$"
      ],
      "text/plain": [
       "<IPython.core.display.Math object>"
      ]
     },
     "metadata": {},
     "output_type": "display_data"
    },
    {
     "data": {
      "text/latex": [
       "$\\displaystyle A_{ 45 } = \\left[\\begin{matrix}2.9999999 & -0.99999995 & -1.4142136\\\\1.190951 \\cdot 10^{-8} & 2.0 & 1.4142135\\\\0 & -4.0194339 \\cdot 10^{-14} & 0.99999999\\end{matrix}\\right], \\quad P_{ 45 } = \\left[\\begin{matrix}-1.2646402 \\cdot 10^{-8} & -9.3191213 \\cdot 10^{-10} & 1.0\\\\-0.70710678 & 0.70710677 & 9.4667662 \\cdot 10^{-10}\\\\-0.70710674 & -0.70710681 & -6.9813186 \\cdot 10^{-9}\\end{matrix}\\right]$"
      ],
      "text/plain": [
       "<IPython.core.display.Math object>"
      ]
     },
     "metadata": {},
     "output_type": "display_data"
    },
    {
     "data": {
      "text/latex": [
       "$\\displaystyle A_{ 46 } = \\left[\\begin{matrix}2.9999999 & -0.99999995 & 1.4142136\\\\7.9396738 \\cdot 10^{-9} & 2.0 & -1.4142135\\\\0 & 2.0097169 \\cdot 10^{-14} & 0.99999999\\end{matrix}\\right], \\quad P_{ 46 } = \\left[\\begin{matrix}1.2646402 \\cdot 10^{-8} & 9.3193218 \\cdot 10^{-10} & 1.0\\\\0.70710678 & -0.70710677 & 9.4669083 \\cdot 10^{-10}\\\\0.70710674 & 0.70710681 & -6.9813328 \\cdot 10^{-9}\\end{matrix}\\right]$"
      ],
      "text/plain": [
       "<IPython.core.display.Math object>"
      ]
     },
     "metadata": {},
     "output_type": "display_data"
    },
    {
     "data": {
      "text/latex": [
       "$\\displaystyle A_{ 47 } = \\left[\\begin{matrix}2.9999999 & -0.99999995 & -1.4142136\\\\5.2931162 \\cdot 10^{-9} & 2.0 & 1.4142135\\\\0 & -1.0048585 \\cdot 10^{-14} & 0.99999999\\end{matrix}\\right], \\quad P_{ 47 } = \\left[\\begin{matrix}-1.2646402 \\cdot 10^{-8} & -9.3194219 \\cdot 10^{-10} & 1.0\\\\-0.70710678 & 0.70710677 & 9.4669794 \\cdot 10^{-10}\\\\-0.70710674 & -0.70710681 & -6.9813399 \\cdot 10^{-9}\\end{matrix}\\right]$"
      ],
      "text/plain": [
       "<IPython.core.display.Math object>"
      ]
     },
     "metadata": {},
     "output_type": "display_data"
    },
    {
     "data": {
      "text/latex": [
       "$\\displaystyle A_{ 48 } = \\left[\\begin{matrix}2.9999998 & -0.99999995 & 1.4142135\\\\3.5287443 \\cdot 10^{-9} & 2.0 & -1.4142136\\\\0 & 5.0242922 \\cdot 10^{-15} & 0.99999999\\end{matrix}\\right], \\quad P_{ 48 } = \\left[\\begin{matrix}1.2646402 \\cdot 10^{-8} & 9.3194719 \\cdot 10^{-10} & 1.0\\\\0.70710677 & -0.70710677 & 9.4670149 \\cdot 10^{-10}\\\\0.70710674 & 0.70710681 & -6.9813435 \\cdot 10^{-9}\\end{matrix}\\right]$"
      ],
      "text/plain": [
       "<IPython.core.display.Math object>"
      ]
     },
     "metadata": {},
     "output_type": "display_data"
    },
    {
     "data": {
      "text/latex": [
       "$\\displaystyle A_{ 49 } = \\left[\\begin{matrix}2.9999998 & -0.99999995 & -1.4142135\\\\2.3524964 \\cdot 10^{-9} & 2.0 & 1.4142136\\\\0 & -2.512146 \\cdot 10^{-15} & 0.99999999\\end{matrix}\\right], \\quad P_{ 49 } = \\left[\\begin{matrix}-1.2646402 \\cdot 10^{-8} & -9.3194969 \\cdot 10^{-10} & 1.0\\\\-0.70710677 & 0.70710677 & 9.4670326 \\cdot 10^{-10}\\\\-0.70710674 & -0.70710681 & -6.9813452 \\cdot 10^{-9}\\end{matrix}\\right]$"
      ],
      "text/plain": [
       "<IPython.core.display.Math object>"
      ]
     },
     "metadata": {},
     "output_type": "display_data"
    },
    {
     "data": {
      "text/latex": [
       "$\\displaystyle A_{ 50 } = \\left[\\begin{matrix}2.9999998 & -0.99999995 & 1.4142135\\\\1.568331 \\cdot 10^{-9} & 2.0 & -1.4142136\\\\0 & 1.256073 \\cdot 10^{-15} & 0.99999999\\end{matrix}\\right], \\quad P_{ 50 } = \\left[\\begin{matrix}1.2646402 \\cdot 10^{-8} & 9.3195094 \\cdot 10^{-10} & 1.0\\\\0.70710677 & -0.70710678 & 9.4670415 \\cdot 10^{-10}\\\\0.70710674 & 0.7071068 & -6.9813461 \\cdot 10^{-9}\\end{matrix}\\right]$"
      ],
      "text/plain": [
       "<IPython.core.display.Math object>"
      ]
     },
     "metadata": {},
     "output_type": "display_data"
    },
    {
     "data": {
      "text/latex": [
       "$\\displaystyle A_{ 51 } = \\left[\\begin{matrix}2.9999998 & -0.99999995 & -1.4142135\\\\1.0455541 \\cdot 10^{-9} & 2.0 & 1.4142136\\\\0 & -6.2803649 \\cdot 10^{-16} & 0.99999999\\end{matrix}\\right], \\quad P_{ 51 } = \\left[\\begin{matrix}-1.2646402 \\cdot 10^{-8} & -9.3195156 \\cdot 10^{-10} & 1.0\\\\-0.70710677 & 0.70710678 & 9.467046 \\cdot 10^{-10}\\\\-0.70710674 & -0.7071068 & -6.9813466 \\cdot 10^{-9}\\end{matrix}\\right]$"
      ],
      "text/plain": [
       "<IPython.core.display.Math object>"
      ]
     },
     "metadata": {},
     "output_type": "display_data"
    },
    {
     "data": {
      "text/latex": [
       "$\\displaystyle A_{ 52 } = \\left[\\begin{matrix}2.9999998 & -0.99999995 & 1.4142135\\\\6.9703609 \\cdot 10^{-10} & 2.0 & -1.4142136\\\\0 & 3.1401824 \\cdot 10^{-16} & 0.99999999\\end{matrix}\\right], \\quad P_{ 52 } = \\left[\\begin{matrix}1.2646402 \\cdot 10^{-8} & 9.3195187 \\cdot 10^{-10} & 1.0\\\\0.70710677 & -0.70710678 & 9.4670482 \\cdot 10^{-10}\\\\0.70710674 & 0.7071068 & -6.9813468 \\cdot 10^{-9}\\end{matrix}\\right]$"
      ],
      "text/plain": [
       "<IPython.core.display.Math object>"
      ]
     },
     "metadata": {},
     "output_type": "display_data"
    },
    {
     "data": {
      "text/latex": [
       "$\\displaystyle A_{ 53 } = \\left[\\begin{matrix}2.9999998 & -0.99999995 & -1.4142135\\\\4.6469076 \\cdot 10^{-10} & 2.0 & 1.4142136\\\\0 & -1.5700912 \\cdot 10^{-16} & 0.99999999\\end{matrix}\\right], \\quad P_{ 53 } = \\left[\\begin{matrix}-1.2646402 \\cdot 10^{-8} & -9.3195202 \\cdot 10^{-10} & 1.0\\\\-0.70710677 & 0.70710678 & 9.4670493 \\cdot 10^{-10}\\\\-0.70710674 & -0.7071068 & -6.9813469 \\cdot 10^{-9}\\end{matrix}\\right]$"
      ],
      "text/plain": [
       "<IPython.core.display.Math object>"
      ]
     },
     "metadata": {},
     "output_type": "display_data"
    },
    {
     "data": {
      "text/latex": [
       "$\\displaystyle A_{ 54 } = \\left[\\begin{matrix}2.9999998 & -0.99999995 & 1.4142135\\\\3.0979386 \\cdot 10^{-10} & 2.0 & -1.4142136\\\\0 & 7.8504558 \\cdot 10^{-17} & 0.99999999\\end{matrix}\\right], \\quad P_{ 54 } = \\left[\\begin{matrix}1.2646402 \\cdot 10^{-8} & 9.319521 \\cdot 10^{-10} & 1.0\\\\0.70710677 & -0.70710678 & 9.4670499 \\cdot 10^{-10}\\\\0.70710674 & 0.7071068 & -6.981347 \\cdot 10^{-9}\\end{matrix}\\right]$"
      ],
      "text/plain": [
       "<IPython.core.display.Math object>"
      ]
     },
     "metadata": {},
     "output_type": "display_data"
    },
    {
     "data": {
      "text/latex": [
       "$\\displaystyle A_{ 55 } = \\left[\\begin{matrix}2.9999998 & -0.99999995 & -1.4142135\\\\2.0652925 \\cdot 10^{-10} & 2.0 & 1.4142136\\\\0 & -3.9252278 \\cdot 10^{-17} & 0.99999999\\end{matrix}\\right], \\quad P_{ 55 } = \\left[\\begin{matrix}-1.2646402 \\cdot 10^{-8} & -9.3195214 \\cdot 10^{-10} & 1.0\\\\-0.70710677 & 0.70710678 & 9.4670501 \\cdot 10^{-10}\\\\-0.70710674 & -0.7071068 & -6.981347 \\cdot 10^{-9}\\end{matrix}\\right]$"
      ],
      "text/plain": [
       "<IPython.core.display.Math object>"
      ]
     },
     "metadata": {},
     "output_type": "display_data"
    },
    {
     "data": {
      "text/latex": [
       "$\\displaystyle A_{ 56 } = \\left[\\begin{matrix}2.9999998 & -0.99999995 & 1.4142135\\\\1.3768618 \\cdot 10^{-10} & 2.0 & -1.4142136\\\\0 & 1.9626139 \\cdot 10^{-17} & 0.99999999\\end{matrix}\\right], \\quad P_{ 56 } = \\left[\\begin{matrix}1.2646402 \\cdot 10^{-8} & 9.3195215 \\cdot 10^{-10} & 1.0\\\\0.70710677 & -0.70710678 & 9.4670503 \\cdot 10^{-10}\\\\0.70710674 & 0.7071068 & -6.981347 \\cdot 10^{-9}\\end{matrix}\\right]$"
      ],
      "text/plain": [
       "<IPython.core.display.Math object>"
      ]
     },
     "metadata": {},
     "output_type": "display_data"
    },
    {
     "data": {
      "text/latex": [
       "$\\displaystyle A_{ 57 } = \\left[\\begin{matrix}2.9999998 & -0.99999995 & -1.4142135\\\\9.1790791 \\cdot 10^{-11} & 2.0 & 1.4142136\\\\0 & -9.8130693 \\cdot 10^{-18} & 0.99999999\\end{matrix}\\right], \\quad P_{ 57 } = \\left[\\begin{matrix}-1.2646402 \\cdot 10^{-8} & -9.3195216 \\cdot 10^{-10} & 1.0\\\\-0.70710677 & 0.70710678 & 9.4670503 \\cdot 10^{-10}\\\\-0.70710674 & -0.7071068 & -6.981347 \\cdot 10^{-9}\\end{matrix}\\right]$"
      ],
      "text/plain": [
       "<IPython.core.display.Math object>"
      ]
     },
     "metadata": {},
     "output_type": "display_data"
    },
    {
     "data": {
      "text/latex": [
       "$\\displaystyle A_{ 58 } = \\left[\\begin{matrix}2.9999998 & -0.99999995 & 1.4142135\\\\6.1193864 \\cdot 10^{-11} & 2.0 & -1.4142136\\\\0 & 4.9065346 \\cdot 10^{-18} & 0.99999999\\end{matrix}\\right], \\quad P_{ 58 } = \\left[\\begin{matrix}1.2646402 \\cdot 10^{-8} & 9.3195217 \\cdot 10^{-10} & 1.0\\\\0.70710677 & -0.70710678 & 9.4670504 \\cdot 10^{-10}\\\\0.70710674 & 0.7071068 & -6.981347 \\cdot 10^{-9}\\end{matrix}\\right]$"
      ],
      "text/plain": [
       "<IPython.core.display.Math object>"
      ]
     },
     "metadata": {},
     "output_type": "display_data"
    },
    {
     "data": {
      "text/latex": [
       "$\\displaystyle A_{ 59 } = \\left[\\begin{matrix}2.9999998 & -0.99999995 & -1.4142135\\\\4.0795912 \\cdot 10^{-11} & 2.0 & 1.4142136\\\\0 & -2.4532672 \\cdot 10^{-18} & 0.99999999\\end{matrix}\\right], \\quad P_{ 59 } = \\left[\\begin{matrix}-1.2646402 \\cdot 10^{-8} & -9.3195217 \\cdot 10^{-10} & 1.0\\\\-0.70710677 & 0.70710678 & 9.4670504 \\cdot 10^{-10}\\\\-0.70710674 & -0.7071068 & -6.981347 \\cdot 10^{-9}\\end{matrix}\\right]$"
      ],
      "text/plain": [
       "<IPython.core.display.Math object>"
      ]
     },
     "metadata": {},
     "output_type": "display_data"
    },
    {
     "data": {
      "text/latex": [
       "$\\displaystyle A_{ 60 } = \\left[\\begin{matrix}2.9999998 & -0.99999995 & 1.4142135\\\\2.7197277 \\cdot 10^{-11} & 2.0 & -1.4142136\\\\0 & 1.2266336 \\cdot 10^{-18} & 0.99999999\\end{matrix}\\right], \\quad P_{ 60 } = \\left[\\begin{matrix}1.2646402 \\cdot 10^{-8} & 9.3195217 \\cdot 10^{-10} & 1.0\\\\0.70710677 & -0.70710678 & 9.4670504 \\cdot 10^{-10}\\\\0.70710674 & 0.7071068 & -6.981347 \\cdot 10^{-9}\\end{matrix}\\right]$"
      ],
      "text/plain": [
       "<IPython.core.display.Math object>"
      ]
     },
     "metadata": {},
     "output_type": "display_data"
    },
    {
     "data": {
      "text/latex": [
       "$\\displaystyle A_{ 61 } = \\left[\\begin{matrix}2.9999998 & -0.99999995 & -1.4142135\\\\1.8131519 \\cdot 10^{-11} & 2.0 & 1.4142136\\\\0 & -6.1331679 \\cdot 10^{-19} & 0.99999999\\end{matrix}\\right], \\quad P_{ 61 } = \\left[\\begin{matrix}-1.2646402 \\cdot 10^{-8} & -9.3195217 \\cdot 10^{-10} & 1.0\\\\-0.70710677 & 0.70710678 & 9.4670504 \\cdot 10^{-10}\\\\-0.70710674 & -0.7071068 & -6.981347 \\cdot 10^{-9}\\end{matrix}\\right]$"
      ],
      "text/plain": [
       "<IPython.core.display.Math object>"
      ]
     },
     "metadata": {},
     "output_type": "display_data"
    },
    {
     "data": {
      "text/latex": [
       "$\\displaystyle A_{ 62 } = \\left[\\begin{matrix}2.9999998 & -0.99999995 & 1.4142135\\\\1.208768 \\cdot 10^{-11} & 2.0 & -1.4142136\\\\0 & 3.0665839 \\cdot 10^{-19} & 0.99999999\\end{matrix}\\right], \\quad P_{ 62 } = \\left[\\begin{matrix}1.2646402 \\cdot 10^{-8} & 9.3195217 \\cdot 10^{-10} & 1.0\\\\0.70710677 & -0.70710678 & 9.4670504 \\cdot 10^{-10}\\\\0.70710674 & 0.7071068 & -6.981347 \\cdot 10^{-9}\\end{matrix}\\right]$"
      ],
      "text/plain": [
       "<IPython.core.display.Math object>"
      ]
     },
     "metadata": {},
     "output_type": "display_data"
    },
    {
     "data": {
      "text/latex": [
       "$\\displaystyle A_{ 63 } = \\left[\\begin{matrix}2.9999998 & -0.99999995 & -1.4142135\\\\8.0584538 \\cdot 10^{-12} & 2.0 & 1.4142136\\\\0 & -1.5332919 \\cdot 10^{-19} & 0.99999999\\end{matrix}\\right], \\quad P_{ 63 } = \\left[\\begin{matrix}-1.2646402 \\cdot 10^{-8} & -9.3195217 \\cdot 10^{-10} & 1.0\\\\-0.70710677 & 0.70710678 & 9.4670504 \\cdot 10^{-10}\\\\-0.70710674 & -0.7071068 & -6.981347 \\cdot 10^{-9}\\end{matrix}\\right]$"
      ],
      "text/plain": [
       "<IPython.core.display.Math object>"
      ]
     },
     "metadata": {},
     "output_type": "display_data"
    },
    {
     "data": {
      "text/latex": [
       "$\\displaystyle A_{ 64 } = \\left[\\begin{matrix}2.9999998 & -0.99999995 & 1.4142135\\\\5.3723029 \\cdot 10^{-12} & 2.0 & -1.4142136\\\\0 & 7.6664595 \\cdot 10^{-20} & 0.99999999\\end{matrix}\\right], \\quad P_{ 64 } = \\left[\\begin{matrix}1.2646402 \\cdot 10^{-8} & 9.3195217 \\cdot 10^{-10} & 1.0\\\\0.70710677 & -0.70710678 & 9.4670504 \\cdot 10^{-10}\\\\0.70710674 & 0.7071068 & -6.981347 \\cdot 10^{-9}\\end{matrix}\\right]$"
      ],
      "text/plain": [
       "<IPython.core.display.Math object>"
      ]
     },
     "metadata": {},
     "output_type": "display_data"
    },
    {
     "data": {
      "text/latex": [
       "$\\displaystyle A_{ 65 } = \\left[\\begin{matrix}2.9999998 & -0.99999995 & -1.4142135\\\\3.5815355 \\cdot 10^{-12} & 2.0 & 1.4142136\\\\0 & -3.8332297 \\cdot 10^{-20} & 0.99999999\\end{matrix}\\right], \\quad P_{ 65 } = \\left[\\begin{matrix}-1.2646402 \\cdot 10^{-8} & -9.3195217 \\cdot 10^{-10} & 1.0\\\\-0.70710677 & 0.70710678 & 9.4670504 \\cdot 10^{-10}\\\\-0.70710674 & -0.7071068 & -6.981347 \\cdot 10^{-9}\\end{matrix}\\right]$"
      ],
      "text/plain": [
       "<IPython.core.display.Math object>"
      ]
     },
     "metadata": {},
     "output_type": "display_data"
    },
    {
     "data": {
      "text/latex": [
       "$\\displaystyle A_{ 66 } = \\left[\\begin{matrix}2.9999998 & -0.99999995 & 1.4142135\\\\2.3876905 \\cdot 10^{-12} & 2.0 & -1.4142136\\\\0 & 1.9166148 \\cdot 10^{-20} & 0.99999999\\end{matrix}\\right], \\quad P_{ 66 } = \\left[\\begin{matrix}1.2646402 \\cdot 10^{-8} & 9.3195217 \\cdot 10^{-10} & 1.0\\\\0.70710677 & -0.70710678 & 9.4670504 \\cdot 10^{-10}\\\\0.70710674 & 0.7071068 & -6.981347 \\cdot 10^{-9}\\end{matrix}\\right]$"
      ],
      "text/plain": [
       "<IPython.core.display.Math object>"
      ]
     },
     "metadata": {},
     "output_type": "display_data"
    },
    {
     "data": {
      "text/latex": [
       "$\\displaystyle A_{ 67 } = \\left[\\begin{matrix}2.9999998 & -0.99999995 & -1.4142135\\\\1.5917938 \\cdot 10^{-12} & 2.0 & 1.4142136\\\\0 & -9.5830739 \\cdot 10^{-21} & 0.99999999\\end{matrix}\\right], \\quad P_{ 67 } = \\left[\\begin{matrix}-1.2646402 \\cdot 10^{-8} & -9.3195217 \\cdot 10^{-10} & 1.0\\\\-0.70710677 & 0.70710678 & 9.4670504 \\cdot 10^{-10}\\\\-0.70710674 & -0.7071068 & -6.981347 \\cdot 10^{-9}\\end{matrix}\\right]$"
      ],
      "text/plain": [
       "<IPython.core.display.Math object>"
      ]
     },
     "metadata": {},
     "output_type": "display_data"
    },
    {
     "data": {
      "text/latex": [
       "$\\displaystyle A_{ 68 } = \\left[\\begin{matrix}2.9999998 & -0.99999995 & 1.4142135\\\\1.0611959 \\cdot 10^{-12} & 2.0 & -1.4142136\\\\0 & 4.7915369 \\cdot 10^{-21} & 0.99999999\\end{matrix}\\right], \\quad P_{ 68 } = \\left[\\begin{matrix}1.2646402 \\cdot 10^{-8} & 9.3195217 \\cdot 10^{-10} & 1.0\\\\0.70710677 & -0.70710678 & 9.4670504 \\cdot 10^{-10}\\\\0.70710674 & 0.7071068 & -6.981347 \\cdot 10^{-9}\\end{matrix}\\right]$"
      ],
      "text/plain": [
       "<IPython.core.display.Math object>"
      ]
     },
     "metadata": {},
     "output_type": "display_data"
    },
    {
     "data": {
      "text/latex": [
       "$\\displaystyle A_{ 69 } = \\left[\\begin{matrix}2.9999998 & -0.99999995 & -1.4142135\\\\7.0746399 \\cdot 10^{-13} & 2.0 & 1.4142136\\\\0 & -2.3957684 \\cdot 10^{-21} & 0.99999999\\end{matrix}\\right], \\quad P_{ 69 } = \\left[\\begin{matrix}-1.2646402 \\cdot 10^{-8} & -9.3195217 \\cdot 10^{-10} & 1.0\\\\-0.70710677 & 0.70710678 & 9.4670504 \\cdot 10^{-10}\\\\-0.70710674 & -0.7071068 & -6.981347 \\cdot 10^{-9}\\end{matrix}\\right]$"
      ],
      "text/plain": [
       "<IPython.core.display.Math object>"
      ]
     },
     "metadata": {},
     "output_type": "display_data"
    },
    {
     "data": {
      "text/latex": [
       "$\\displaystyle A_{ 70 } = \\left[\\begin{matrix}2.9999998 & -0.99999995 & 1.4142135\\\\4.7164269 \\cdot 10^{-13} & 2.0 & -1.4142136\\\\0 & 1.1978842 \\cdot 10^{-21} & 0.99999999\\end{matrix}\\right], \\quad P_{ 70 } = \\left[\\begin{matrix}1.2646402 \\cdot 10^{-8} & 9.3195217 \\cdot 10^{-10} & 1.0\\\\0.70710677 & -0.70710678 & 9.4670504 \\cdot 10^{-10}\\\\0.70710674 & 0.7071068 & -6.981347 \\cdot 10^{-9}\\end{matrix}\\right]$"
      ],
      "text/plain": [
       "<IPython.core.display.Math object>"
      ]
     },
     "metadata": {},
     "output_type": "display_data"
    },
    {
     "data": {
      "text/latex": [
       "$\\displaystyle A_{ 71 } = \\left[\\begin{matrix}2.9999998 & -0.99999995 & -1.4142135\\\\3.1442848 \\cdot 10^{-13} & 2.0 & 1.4142136\\\\0 & -5.9894208 \\cdot 10^{-22} & 0.99999999\\end{matrix}\\right], \\quad P_{ 71 } = \\left[\\begin{matrix}-1.2646402 \\cdot 10^{-8} & -9.3195217 \\cdot 10^{-10} & 1.0\\\\-0.70710677 & 0.70710678 & 9.4670504 \\cdot 10^{-10}\\\\-0.70710674 & -0.7071068 & -6.981347 \\cdot 10^{-9}\\end{matrix}\\right]$"
      ],
      "text/plain": [
       "<IPython.core.display.Math object>"
      ]
     },
     "metadata": {},
     "output_type": "display_data"
    },
    {
     "data": {
      "text/latex": [
       "$\\displaystyle A_{ 72 } = \\left[\\begin{matrix}2.9999998 & -0.99999995 & 1.4142135\\\\2.09619 \\cdot 10^{-13} & 2.0 & -1.4142136\\\\0 & 2.9947104 \\cdot 10^{-22} & 0.99999999\\end{matrix}\\right], \\quad P_{ 72 } = \\left[\\begin{matrix}1.2646402 \\cdot 10^{-8} & 9.3195217 \\cdot 10^{-10} & 1.0\\\\0.70710677 & -0.70710678 & 9.4670504 \\cdot 10^{-10}\\\\0.70710674 & 0.7071068 & -6.981347 \\cdot 10^{-9}\\end{matrix}\\right]$"
      ],
      "text/plain": [
       "<IPython.core.display.Math object>"
      ]
     },
     "metadata": {},
     "output_type": "display_data"
    },
    {
     "data": {
      "text/latex": [
       "$\\displaystyle A_{ 73 } = \\left[\\begin{matrix}2.9999998 & -0.99999995 & -1.4142135\\\\1.3974601 \\cdot 10^{-13} & 2.0 & 1.4142136\\\\0 & -1.4973552 \\cdot 10^{-22} & 0.99999999\\end{matrix}\\right], \\quad P_{ 73 } = \\left[\\begin{matrix}-1.2646402 \\cdot 10^{-8} & -9.3195217 \\cdot 10^{-10} & 1.0\\\\-0.70710677 & 0.70710678 & 9.4670504 \\cdot 10^{-10}\\\\-0.70710674 & -0.7071068 & -6.981347 \\cdot 10^{-9}\\end{matrix}\\right]$"
      ],
      "text/plain": [
       "<IPython.core.display.Math object>"
      ]
     },
     "metadata": {},
     "output_type": "display_data"
    },
    {
     "data": {
      "text/latex": [
       "$\\displaystyle A_{ 74 } = \\left[\\begin{matrix}2.9999998 & -0.99999995 & 1.4142135\\\\9.3164012 \\cdot 10^{-14} & 2.0 & -1.4142136\\\\0 & 7.4867757 \\cdot 10^{-23} & 0.99999999\\end{matrix}\\right], \\quad P_{ 74 } = \\left[\\begin{matrix}1.2646402 \\cdot 10^{-8} & 9.3195217 \\cdot 10^{-10} & 1.0\\\\0.70710677 & -0.70710678 & 9.4670504 \\cdot 10^{-10}\\\\0.70710674 & 0.7071068 & -6.981347 \\cdot 10^{-9}\\end{matrix}\\right]$"
      ],
      "text/plain": [
       "<IPython.core.display.Math object>"
      ]
     },
     "metadata": {},
     "output_type": "display_data"
    },
    {
     "data": {
      "text/latex": [
       "$\\displaystyle A_{ 75 } = \\left[\\begin{matrix}2.9999998 & -0.99999995 & -1.4142135\\\\6.2109345 \\cdot 10^{-14} & 2.0 & 1.4142136\\\\0 & -3.7433878 \\cdot 10^{-23} & 0.99999999\\end{matrix}\\right], \\quad P_{ 75 } = \\left[\\begin{matrix}-1.2646402 \\cdot 10^{-8} & -9.3195217 \\cdot 10^{-10} & 1.0\\\\-0.70710677 & 0.70710678 & 9.4670504 \\cdot 10^{-10}\\\\-0.70710674 & -0.7071068 & -6.981347 \\cdot 10^{-9}\\end{matrix}\\right]$"
      ],
      "text/plain": [
       "<IPython.core.display.Math object>"
      ]
     },
     "metadata": {},
     "output_type": "display_data"
    },
    {
     "data": {
      "text/latex": [
       "$\\displaystyle A_{ 76 } = \\left[\\begin{matrix}2.9999998 & -0.99999995 & 1.4142135\\\\4.1406233 \\cdot 10^{-14} & 2.0 & -1.4142136\\\\0 & 1.8716939 \\cdot 10^{-23} & 0.99999999\\end{matrix}\\right], \\quad P_{ 76 } = \\left[\\begin{matrix}1.2646402 \\cdot 10^{-8} & 9.3195217 \\cdot 10^{-10} & 1.0\\\\0.70710677 & -0.70710678 & 9.4670504 \\cdot 10^{-10}\\\\0.70710674 & 0.7071068 & -6.981347 \\cdot 10^{-9}\\end{matrix}\\right]$"
      ],
      "text/plain": [
       "<IPython.core.display.Math object>"
      ]
     },
     "metadata": {},
     "output_type": "display_data"
    },
    {
     "data": {
      "text/latex": [
       "$\\displaystyle A_{ 77 } = \\left[\\begin{matrix}2.9999998 & -0.99999995 & -1.4142135\\\\2.7604157 \\cdot 10^{-14} & 2.0 & 1.4142136\\\\0 & -9.3584692 \\cdot 10^{-24} & 0.99999999\\end{matrix}\\right], \\quad P_{ 77 } = \\left[\\begin{matrix}-1.2646402 \\cdot 10^{-8} & -9.3195217 \\cdot 10^{-10} & 1.0\\\\-0.70710677 & 0.70710678 & 9.4670504 \\cdot 10^{-10}\\\\-0.70710674 & -0.7071068 & -6.981347 \\cdot 10^{-9}\\end{matrix}\\right]$"
      ],
      "text/plain": [
       "<IPython.core.display.Math object>"
      ]
     },
     "metadata": {},
     "output_type": "display_data"
    },
    {
     "data": {
      "text/latex": [
       "$\\displaystyle A_{ 78 } = \\left[\\begin{matrix}2.9999998 & -0.99999995 & 1.4142135\\\\1.8402772 \\cdot 10^{-14} & 2.0 & -1.4142136\\\\0 & 4.6792345 \\cdot 10^{-24} & 0.99999999\\end{matrix}\\right], \\quad P_{ 78 } = \\left[\\begin{matrix}1.2646402 \\cdot 10^{-8} & 9.3195217 \\cdot 10^{-10} & 1.0\\\\0.70710677 & -0.70710678 & 9.4670504 \\cdot 10^{-10}\\\\0.70710674 & 0.7071068 & -6.981347 \\cdot 10^{-9}\\end{matrix}\\right]$"
      ],
      "text/plain": [
       "<IPython.core.display.Math object>"
      ]
     },
     "metadata": {},
     "output_type": "display_data"
    },
    {
     "data": {
      "text/latex": [
       "$\\displaystyle A_{ 79 } = \\left[\\begin{matrix}2.9999998 & -0.99999995 & -1.4142135\\\\1.2268516 \\cdot 10^{-14} & 2.0 & 1.4142136\\\\0 & -2.3396172 \\cdot 10^{-24} & 0.99999999\\end{matrix}\\right], \\quad P_{ 79 } = \\left[\\begin{matrix}-1.2646402 \\cdot 10^{-8} & -9.3195217 \\cdot 10^{-10} & 1.0\\\\-0.70710677 & 0.70710678 & 9.4670504 \\cdot 10^{-10}\\\\-0.70710674 & -0.7071068 & -6.981347 \\cdot 10^{-9}\\end{matrix}\\right]$"
      ],
      "text/plain": [
       "<IPython.core.display.Math object>"
      ]
     },
     "metadata": {},
     "output_type": "display_data"
    },
    {
     "data": {
      "text/latex": [
       "$\\displaystyle A_{ 80 } = \\left[\\begin{matrix}2.9999998 & -0.99999995 & 1.4142135\\\\8.179011 \\cdot 10^{-15} & 2.0 & -1.4142136\\\\0 & 1.1698086 \\cdot 10^{-24} & 0.99999999\\end{matrix}\\right], \\quad P_{ 80 } = \\left[\\begin{matrix}1.2646402 \\cdot 10^{-8} & 9.3195217 \\cdot 10^{-10} & 1.0\\\\0.70710677 & -0.70710678 & 9.4670504 \\cdot 10^{-10}\\\\0.70710674 & 0.7071068 & -6.981347 \\cdot 10^{-9}\\end{matrix}\\right]$"
      ],
      "text/plain": [
       "<IPython.core.display.Math object>"
      ]
     },
     "metadata": {},
     "output_type": "display_data"
    },
    {
     "data": {
      "text/latex": [
       "$\\displaystyle A_{ 81 } = \\left[\\begin{matrix}2.9999998 & -0.99999995 & -1.4142135\\\\5.4526744 \\cdot 10^{-15} & 2.0 & 1.4142136\\\\0 & -5.8490429 \\cdot 10^{-25} & 0.99999999\\end{matrix}\\right], \\quad P_{ 81 } = \\left[\\begin{matrix}-1.2646402 \\cdot 10^{-8} & -9.3195217 \\cdot 10^{-10} & 1.0\\\\-0.70710677 & 0.70710678 & 9.4670504 \\cdot 10^{-10}\\\\-0.70710674 & -0.7071068 & -6.981347 \\cdot 10^{-9}\\end{matrix}\\right]$"
      ],
      "text/plain": [
       "<IPython.core.display.Math object>"
      ]
     },
     "metadata": {},
     "output_type": "display_data"
    },
    {
     "data": {
      "text/latex": [
       "$\\displaystyle A_{ 82 } = \\left[\\begin{matrix}2.9999998 & -0.99999995 & 1.4142135\\\\3.6351165 \\cdot 10^{-15} & 2.0 & -1.4142136\\\\0 & 2.9245214 \\cdot 10^{-25} & 0.99999999\\end{matrix}\\right], \\quad P_{ 82 } = \\left[\\begin{matrix}1.2646402 \\cdot 10^{-8} & 9.3195217 \\cdot 10^{-10} & 1.0\\\\0.70710677 & -0.70710678 & 9.4670504 \\cdot 10^{-10}\\\\0.70710674 & 0.7071068 & -6.981347 \\cdot 10^{-9}\\end{matrix}\\right]$"
      ],
      "text/plain": [
       "<IPython.core.display.Math object>"
      ]
     },
     "metadata": {},
     "output_type": "display_data"
    },
    {
     "data": {
      "text/latex": [
       "$\\displaystyle A_{ 83 } = \\left[\\begin{matrix}2.9999998 & -0.99999995 & -1.4142135\\\\2.4234111 \\cdot 10^{-15} & 2.0 & 1.4142136\\\\0 & -1.4622607 \\cdot 10^{-25} & 0.99999999\\end{matrix}\\right], \\quad P_{ 83 } = \\left[\\begin{matrix}-1.2646402 \\cdot 10^{-8} & -9.3195217 \\cdot 10^{-10} & 1.0\\\\-0.70710677 & 0.70710678 & 9.4670504 \\cdot 10^{-10}\\\\-0.70710674 & -0.7071068 & -6.981347 \\cdot 10^{-9}\\end{matrix}\\right]$"
      ],
      "text/plain": [
       "<IPython.core.display.Math object>"
      ]
     },
     "metadata": {},
     "output_type": "display_data"
    },
    {
     "data": {
      "text/latex": [
       "$\\displaystyle A_{ 84 } = \\left[\\begin{matrix}2.9999998 & -0.99999995 & 1.4142135\\\\1.6156075 \\cdot 10^{-15} & 2.0 & -1.4142136\\\\0 & 7.3113032 \\cdot 10^{-26} & 0.99999999\\end{matrix}\\right], \\quad P_{ 84 } = \\left[\\begin{matrix}1.2646402 \\cdot 10^{-8} & 9.3195217 \\cdot 10^{-10} & 1.0\\\\0.70710677 & -0.70710678 & 9.4670504 \\cdot 10^{-10}\\\\0.70710674 & 0.7071068 & -6.981347 \\cdot 10^{-9}\\end{matrix}\\right]$"
      ],
      "text/plain": [
       "<IPython.core.display.Math object>"
      ]
     },
     "metadata": {},
     "output_type": "display_data"
    },
    {
     "data": {
      "text/latex": [
       "$\\displaystyle A_{ 85 } = \\left[\\begin{matrix}2.9999998 & -0.99999995 & -1.4142135\\\\1.0770718 \\cdot 10^{-15} & 2.0 & 1.4142136\\\\0 & -3.6556516 \\cdot 10^{-26} & 0.99999999\\end{matrix}\\right], \\quad P_{ 85 } = \\left[\\begin{matrix}-1.2646402 \\cdot 10^{-8} & -9.3195217 \\cdot 10^{-10} & 1.0\\\\-0.70710677 & 0.70710678 & 9.4670504 \\cdot 10^{-10}\\\\-0.70710674 & -0.7071068 & -6.981347 \\cdot 10^{-9}\\end{matrix}\\right]$"
      ],
      "text/plain": [
       "<IPython.core.display.Math object>"
      ]
     },
     "metadata": {},
     "output_type": "display_data"
    },
    {
     "data": {
      "text/latex": [
       "$\\displaystyle A_{ 86 } = \\left[\\begin{matrix}2.9999998 & -0.99999995 & 1.4142135\\\\7.1804789 \\cdot 10^{-16} & 2.0 & -1.4142136\\\\0 & 1.8278257 \\cdot 10^{-26} & 0.99999999\\end{matrix}\\right], \\quad P_{ 86 } = \\left[\\begin{matrix}1.2646402 \\cdot 10^{-8} & 9.3195217 \\cdot 10^{-10} & 1.0\\\\0.70710677 & -0.70710678 & 9.4670504 \\cdot 10^{-10}\\\\0.70710674 & 0.7071068 & -6.981347 \\cdot 10^{-9}\\end{matrix}\\right]$"
      ],
      "text/plain": [
       "<IPython.core.display.Math object>"
      ]
     },
     "metadata": {},
     "output_type": "display_data"
    },
    {
     "data": {
      "text/latex": [
       "$\\displaystyle A_{ 87 } = \\left[\\begin{matrix}2.9999998 & -0.99999995 & -1.4142135\\\\4.7869862 \\cdot 10^{-16} & 2.0 & 1.4142136\\\\0 & -9.1391286 \\cdot 10^{-27} & 0.99999999\\end{matrix}\\right], \\quad P_{ 87 } = \\left[\\begin{matrix}-1.2646402 \\cdot 10^{-8} & -9.3195217 \\cdot 10^{-10} & 1.0\\\\-0.70710677 & 0.70710678 & 9.4670504 \\cdot 10^{-10}\\\\-0.70710674 & -0.7071068 & -6.981347 \\cdot 10^{-9}\\end{matrix}\\right]$"
      ],
      "text/plain": [
       "<IPython.core.display.Math object>"
      ]
     },
     "metadata": {},
     "output_type": "display_data"
    },
    {
     "data": {
      "text/latex": [
       "$\\displaystyle A_{ 88 } = \\left[\\begin{matrix}2.9999998 & -0.99999995 & 1.4142135\\\\3.1913243 \\cdot 10^{-16} & 2.0 & -1.4142136\\\\0 & 4.5695642 \\cdot 10^{-27} & 0.99999999\\end{matrix}\\right], \\quad P_{ 88 } = \\left[\\begin{matrix}1.2646402 \\cdot 10^{-8} & 9.3195217 \\cdot 10^{-10} & 1.0\\\\0.70710677 & -0.70710678 & 9.4670504 \\cdot 10^{-10}\\\\0.70710674 & 0.7071068 & -6.981347 \\cdot 10^{-9}\\end{matrix}\\right]$"
      ],
      "text/plain": [
       "<IPython.core.display.Math object>"
      ]
     },
     "metadata": {},
     "output_type": "display_data"
    },
    {
     "data": {
      "text/latex": [
       "$\\displaystyle A_{ 89 } = \\left[\\begin{matrix}2.9999998 & -0.99999995 & -1.4142135\\\\2.1275497 \\cdot 10^{-16} & 2.0 & 1.4142136\\\\0 & -2.2847821 \\cdot 10^{-27} & 0.99999999\\end{matrix}\\right], \\quad P_{ 89 } = \\left[\\begin{matrix}-1.2646402 \\cdot 10^{-8} & -9.3195217 \\cdot 10^{-10} & 1.0\\\\-0.70710677 & 0.70710678 & 9.4670504 \\cdot 10^{-10}\\\\-0.70710674 & -0.7071068 & -6.981347 \\cdot 10^{-9}\\end{matrix}\\right]$"
      ],
      "text/plain": [
       "<IPython.core.display.Math object>"
      ]
     },
     "metadata": {},
     "output_type": "display_data"
    },
    {
     "data": {
      "text/latex": [
       "$\\displaystyle A_{ 90 } = \\left[\\begin{matrix}2.9999998 & -0.99999995 & 1.4142135\\\\1.4183666 \\cdot 10^{-16} & 2.0 & -1.4142136\\\\0 & 1.142391 \\cdot 10^{-27} & 0.99999999\\end{matrix}\\right], \\quad P_{ 90 } = \\left[\\begin{matrix}1.2646402 \\cdot 10^{-8} & 9.3195217 \\cdot 10^{-10} & 1.0\\\\0.70710677 & -0.70710678 & 9.4670504 \\cdot 10^{-10}\\\\0.70710674 & 0.7071068 & -6.981347 \\cdot 10^{-9}\\end{matrix}\\right]$"
      ],
      "text/plain": [
       "<IPython.core.display.Math object>"
      ]
     },
     "metadata": {},
     "output_type": "display_data"
    },
    {
     "data": {
      "text/latex": [
       "$\\displaystyle A_{ 91 } = \\left[\\begin{matrix}2.9999998 & -0.99999995 & -1.4142135\\\\9.4557777 \\cdot 10^{-17} & 2.0 & 1.4142136\\\\0 & -5.711955 \\cdot 10^{-28} & 0.99999999\\end{matrix}\\right], \\quad P_{ 91 } = \\left[\\begin{matrix}-1.2646402 \\cdot 10^{-8} & -9.3195217 \\cdot 10^{-10} & 1.0\\\\-0.70710677 & 0.70710678 & 9.4670504 \\cdot 10^{-10}\\\\-0.70710674 & -0.7071068 & -6.981347 \\cdot 10^{-9}\\end{matrix}\\right]$"
      ],
      "text/plain": [
       "<IPython.core.display.Math object>"
      ]
     },
     "metadata": {},
     "output_type": "display_data"
    },
    {
     "data": {
      "text/latex": [
       "$\\displaystyle A_{ 92 } = \\left[\\begin{matrix}2.9999998 & -0.99999995 & 1.4142135\\\\6.3038522 \\cdot 10^{-17} & 2.0 & -1.4142136\\\\0 & 2.8559775 \\cdot 10^{-28} & 0.99999999\\end{matrix}\\right], \\quad P_{ 92 } = \\left[\\begin{matrix}1.2646402 \\cdot 10^{-8} & 9.3195217 \\cdot 10^{-10} & 1.0\\\\0.70710677 & -0.70710678 & 9.4670504 \\cdot 10^{-10}\\\\0.70710674 & 0.7071068 & -6.981347 \\cdot 10^{-9}\\end{matrix}\\right]$"
      ],
      "text/plain": [
       "<IPython.core.display.Math object>"
      ]
     },
     "metadata": {},
     "output_type": "display_data"
    },
    {
     "data": {
      "text/latex": [
       "$\\displaystyle A_{ 93 } = \\left[\\begin{matrix}2.9999998 & -0.99999995 & -1.4142135\\\\4.2025684 \\cdot 10^{-17} & 2.0 & 1.4142136\\\\0 & -1.4279887 \\cdot 10^{-28} & 0.99999999\\end{matrix}\\right], \\quad P_{ 93 } = \\left[\\begin{matrix}-1.2646402 \\cdot 10^{-8} & -9.3195217 \\cdot 10^{-10} & 1.0\\\\-0.70710677 & 0.70710678 & 9.4670504 \\cdot 10^{-10}\\\\-0.70710674 & -0.7071068 & -6.981347 \\cdot 10^{-9}\\end{matrix}\\right]$"
      ],
      "text/plain": [
       "<IPython.core.display.Math object>"
      ]
     },
     "metadata": {},
     "output_type": "display_data"
    },
    {
     "data": {
      "text/latex": [
       "$\\displaystyle A_{ 94 } = \\left[\\begin{matrix}2.9999998 & -0.99999995 & 1.4142135\\\\2.8017124 \\cdot 10^{-17} & 2.0 & -1.4142136\\\\0 & 7.1399434 \\cdot 10^{-29} & 0.99999999\\end{matrix}\\right], \\quad P_{ 94 } = \\left[\\begin{matrix}1.2646402 \\cdot 10^{-8} & 9.3195217 \\cdot 10^{-10} & 1.0\\\\0.70710677 & -0.70710678 & 9.4670504 \\cdot 10^{-10}\\\\0.70710674 & 0.7071068 & -6.981347 \\cdot 10^{-9}\\end{matrix}\\right]$"
      ],
      "text/plain": [
       "<IPython.core.display.Math object>"
      ]
     },
     "metadata": {},
     "output_type": "display_data"
    },
    {
     "data": {
      "text/latex": [
       "$\\displaystyle A_{ 95 } = \\left[\\begin{matrix}2.9999998 & -0.99999995 & -1.4142135\\\\1.8678084 \\cdot 10^{-17} & 2.0 & 1.4142136\\\\0 & -3.5699717 \\cdot 10^{-29} & 0.99999999\\end{matrix}\\right], \\quad P_{ 95 } = \\left[\\begin{matrix}-1.2646402 \\cdot 10^{-8} & -9.3195217 \\cdot 10^{-10} & 1.0\\\\-0.70710677 & 0.70710678 & 9.4670504 \\cdot 10^{-10}\\\\-0.70710674 & -0.7071068 & -6.981347 \\cdot 10^{-9}\\end{matrix}\\right]$"
      ],
      "text/plain": [
       "<IPython.core.display.Math object>"
      ]
     },
     "metadata": {},
     "output_type": "display_data"
    },
    {
     "data": {
      "text/latex": [
       "$\\displaystyle A_{ 96 } = \\left[\\begin{matrix}2.9999998 & -0.99999995 & 1.4142135\\\\1.2452057 \\cdot 10^{-17} & 2.0 & -1.4142136\\\\0 & 1.7849858 \\cdot 10^{-29} & 0.99999999\\end{matrix}\\right], \\quad P_{ 96 } = \\left[\\begin{matrix}1.2646402 \\cdot 10^{-8} & 9.3195217 \\cdot 10^{-10} & 1.0\\\\0.70710677 & -0.70710678 & 9.4670504 \\cdot 10^{-10}\\\\0.70710674 & 0.7071068 & -6.981347 \\cdot 10^{-9}\\end{matrix}\\right]$"
      ],
      "text/plain": [
       "<IPython.core.display.Math object>"
      ]
     },
     "metadata": {},
     "output_type": "display_data"
    },
    {
     "data": {
      "text/latex": [
       "$\\displaystyle A_{ 97 } = \\left[\\begin{matrix}2.9999998 & -0.99999995 & -1.4142135\\\\8.3013718 \\cdot 10^{-18} & 2.0 & 1.4142136\\\\0 & -8.9249289 \\cdot 10^{-30} & 0.99999999\\end{matrix}\\right], \\quad P_{ 97 } = \\left[\\begin{matrix}-1.2646402 \\cdot 10^{-8} & -9.3195217 \\cdot 10^{-10} & 1.0\\\\-0.70710677 & 0.70710678 & 9.4670504 \\cdot 10^{-10}\\\\-0.70710674 & -0.7071068 & -6.981347 \\cdot 10^{-9}\\end{matrix}\\right]$"
      ],
      "text/plain": [
       "<IPython.core.display.Math object>"
      ]
     },
     "metadata": {},
     "output_type": "display_data"
    },
    {
     "data": {
      "text/latex": [
       "$\\displaystyle A_{ 98 } = \\left[\\begin{matrix}2.9999998 & -0.99999995 & 1.4142135\\\\5.5342482 \\cdot 10^{-18} & 2.0 & -1.4142136\\\\0 & 4.4624644 \\cdot 10^{-30} & 0.99999999\\end{matrix}\\right], \\quad P_{ 98 } = \\left[\\begin{matrix}1.2646402 \\cdot 10^{-8} & 9.3195217 \\cdot 10^{-10} & 1.0\\\\0.70710677 & -0.70710678 & 9.4670504 \\cdot 10^{-10}\\\\0.70710674 & 0.7071068 & -6.981347 \\cdot 10^{-9}\\end{matrix}\\right]$"
      ],
      "text/plain": [
       "<IPython.core.display.Math object>"
      ]
     },
     "metadata": {},
     "output_type": "display_data"
    },
    {
     "data": {
      "text/latex": [
       "$\\displaystyle A_{ 99 } = \\left[\\begin{matrix}2.9999998 & -0.99999995 & -1.4142135\\\\3.6894991 \\cdot 10^{-18} & 2.0 & 1.4142136\\\\0 & -2.2312321 \\cdot 10^{-30} & 0.99999999\\end{matrix}\\right], \\quad P_{ 99 } = \\left[\\begin{matrix}-1.2646402 \\cdot 10^{-8} & -9.3195217 \\cdot 10^{-10} & 1.0\\\\-0.70710677 & 0.70710678 & 9.4670504 \\cdot 10^{-10}\\\\-0.70710674 & -0.7071068 & -6.981347 \\cdot 10^{-9}\\end{matrix}\\right]$"
      ],
      "text/plain": [
       "<IPython.core.display.Math object>"
      ]
     },
     "metadata": {},
     "output_type": "display_data"
    },
    {
     "data": {
      "text/latex": [
       "$\\displaystyle A_{ 100 } = \\left[\\begin{matrix}2.9999998 & -0.99999995 & 1.4142135\\\\2.4596662 \\cdot 10^{-18} & 2.0 & -1.4142136\\\\0 & 1.1156161 \\cdot 10^{-30} & 0.99999999\\end{matrix}\\right], \\quad P_{ 100 } = \\left[\\begin{matrix}1.2646402 \\cdot 10^{-8} & 9.3195217 \\cdot 10^{-10} & 1.0\\\\0.70710677 & -0.70710678 & 9.4670504 \\cdot 10^{-10}\\\\0.70710674 & 0.7071068 & -6.981347 \\cdot 10^{-9}\\end{matrix}\\right]$"
      ],
      "text/plain": [
       "<IPython.core.display.Math object>"
      ]
     },
     "metadata": {},
     "output_type": "display_data"
    },
    {
     "data": {
      "text/latex": [
       "$\\displaystyle \\lambda_{ 1 } = 2.9999998$"
      ],
      "text/plain": [
       "<IPython.core.display.Math object>"
      ]
     },
     "metadata": {},
     "output_type": "display_data"
    },
    {
     "data": {
      "text/latex": [
       "$\\displaystyle \\lambda_{ 2 } = 2.0$"
      ],
      "text/plain": [
       "<IPython.core.display.Math object>"
      ]
     },
     "metadata": {},
     "output_type": "display_data"
    },
    {
     "data": {
      "text/latex": [
       "$\\displaystyle \\lambda_{ 3 } = 0.99999999$"
      ],
      "text/plain": [
       "<IPython.core.display.Math object>"
      ]
     },
     "metadata": {},
     "output_type": "display_data"
    }
   ],
   "source": [
    "import IPython.display as dp\n",
    "import sympy as sp\n",
    "\n",
    "from eigen_qr import qr_eigen\n",
    "\n",
    "a = sp.Matrix([\n",
    "    [1, 0, 0],\n",
    "    [2, 3, 0],\n",
    "    [0, 1, 2],\n",
    "])\n",
    "\n",
    "eigen_vals = qr_eigen(a, iterations=100, precision=8, output=True)\n",
    "\n",
    "for i in range(len(eigen_vals)):\n",
    "    dp.display(dp.Math(f'\\\\lambda_{{ {i + 1} }} = {sp.latex(eigen_vals[i])}'))"
   ]
  }
 ],
 "metadata": {
  "kernelspec": {
   "display_name": "Python 3",
   "language": "python",
   "name": "python3"
  },
  "language_info": {
   "codemirror_mode": {
    "name": "ipython",
    "version": 3
   },
   "file_extension": ".py",
   "mimetype": "text/x-python",
   "name": "python",
   "nbconvert_exporter": "python",
   "pygments_lexer": "ipython3",
   "version": "3.11.4"
  }
 },
 "nbformat": 4,
 "nbformat_minor": 0
}

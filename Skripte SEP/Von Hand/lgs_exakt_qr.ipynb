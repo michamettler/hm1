{
 "cells": [
  {
   "cell_type": "code",
   "execution_count": 1,
   "outputs": [
    {
     "data": {
      "text/plain": "<IPython.core.display.Math object>",
      "text/latex": "$\\displaystyle A = \\left[\\begin{matrix}1 & 2 & -1\\\\4 & -2 & 6\\\\3 & 1 & 0\\end{matrix}\\right], \\quad b = \\left[\\begin{matrix}9\\\\-4\\\\z\\end{matrix}\\right]$"
     },
     "metadata": {},
     "output_type": "display_data"
    },
    {
     "data": {
      "text/plain": "<IPython.core.display.Markdown object>",
      "text/markdown": "## QR-Zerlegung"
     },
     "metadata": {},
     "output_type": "display_data"
    },
    {
     "data": {
      "text/plain": "<IPython.core.display.Markdown object>",
      "text/markdown": "Iteration 1"
     },
     "metadata": {},
     "output_type": "display_data"
    },
    {
     "data": {
      "text/plain": "<IPython.core.display.Math object>",
      "text/latex": "$\\displaystyle A_1 = \\left[\\begin{matrix}1 & 2 & -1\\\\4 & -2 & 6\\\\3 & 1 & 0\\end{matrix}\\right] \\; \\rightarrow \\; a_1 = \\left[\\begin{matrix}1\\\\4\\\\3\\end{matrix}\\right]$"
     },
     "metadata": {},
     "output_type": "display_data"
    },
    {
     "data": {
      "text/plain": "<IPython.core.display.Math object>",
      "text/latex": "$\\displaystyle v_1 = \\left[\\begin{matrix}1 + \\sqrt{26}\\\\4\\\\3\\end{matrix}\\right], \\; |v_1| = \\sqrt{25 + \\left(1 + \\sqrt{26}\\right)^{2}} \\approx 7.8866$"
     },
     "metadata": {},
     "output_type": "display_data"
    },
    {
     "data": {
      "text/plain": "<IPython.core.display.Math object>",
      "text/latex": "$\\displaystyle u_1 = \\left[\\begin{matrix}0.77334\\\\0.50719\\\\0.38039\\end{matrix}\\right] \\; \\rightarrow \\; u_1^T = \\left[\\begin{matrix}0.77334 & 0.50719 & 0.38039\\end{matrix}\\right]$"
     },
     "metadata": {},
     "output_type": "display_data"
    },
    {
     "data": {
      "text/plain": "<IPython.core.display.Math object>",
      "text/latex": "$\\displaystyle H_1 = I_3 - 2 u_1 u_1^T = I_3 - 2 \\cdot \\left[\\begin{matrix}0.59806 & 0.39223 & 0.29417\\\\0.39223 & 0.25724 & 0.19293\\\\0.29417 & 0.19293 & 0.1447\\end{matrix}\\right] = \\left[\\begin{matrix}-0.19612 & -0.78446 & -0.58835\\\\-0.78446 & 0.48552 & -0.38586\\\\-0.58835 & -0.38586 & 0.7106\\end{matrix}\\right]$"
     },
     "metadata": {},
     "output_type": "display_data"
    },
    {
     "data": {
      "text/plain": "<IPython.core.display.Math object>",
      "text/latex": "$\\displaystyle Q_1 = \\left[\\begin{matrix}-0.19612 & -0.78446 & -0.58835\\\\-0.78446 & 0.48552 & -0.38586\\\\-0.58835 & -0.38586 & 0.7106\\end{matrix}\\right] \\rightarrow Q = Q \\cdot Q_1^T = \\left[\\begin{matrix}-0.19612 & -0.78446 & -0.58835\\\\-0.78446 & 0.48552 & -0.38586\\\\-0.58835 & -0.38586 & 0.7106\\end{matrix}\\right], \\; R = Q_1 \\cdot R = \\left[\\begin{matrix}-5.099 & 0.58835 & -4.5107\\\\0 & -2.9258 & 3.6976\\\\0 & 0.30563 & -1.7268\\end{matrix}\\right]$"
     },
     "metadata": {},
     "output_type": "display_data"
    },
    {
     "data": {
      "text/plain": "<IPython.core.display.Markdown object>",
      "text/markdown": "Iteration 2"
     },
     "metadata": {},
     "output_type": "display_data"
    },
    {
     "data": {
      "text/plain": "<IPython.core.display.Math object>",
      "text/latex": "$\\displaystyle A_2 = \\left[\\begin{matrix}-2.9258 & 3.6976\\\\0.30563 & -1.7268\\end{matrix}\\right] \\; \\rightarrow \\; a_2 = \\left[\\begin{matrix}-2.9258\\\\0.30563\\end{matrix}\\right]$"
     },
     "metadata": {},
     "output_type": "display_data"
    },
    {
     "data": {
      "text/plain": "<IPython.core.display.Math object>",
      "text/latex": "$\\displaystyle v_2 = \\left[\\begin{matrix}-5.8676\\\\0.30563\\end{matrix}\\right], \\; |v_2| = 5.8755 \\approx 5.8755$"
     },
     "metadata": {},
     "output_type": "display_data"
    },
    {
     "data": {
      "text/plain": "<IPython.core.display.Math object>",
      "text/latex": "$\\displaystyle u_2 = \\left[\\begin{matrix}-0.99865\\\\0.052018\\end{matrix}\\right] \\; \\rightarrow \\; u_2^T = \\left[\\begin{matrix}-0.99865 & 0.052018\\end{matrix}\\right]$"
     },
     "metadata": {},
     "output_type": "display_data"
    },
    {
     "data": {
      "text/plain": "<IPython.core.display.Math object>",
      "text/latex": "$\\displaystyle H_2 = I_2 - 2 u_2 u_2^T = I_2 - 2 \\cdot \\left[\\begin{matrix}0.9973 & -0.051948\\\\-0.051948 & 0.0027059\\end{matrix}\\right] = \\left[\\begin{matrix}-0.99459 & 0.1039\\\\0.1039 & 0.99459\\end{matrix}\\right]$"
     },
     "metadata": {},
     "output_type": "display_data"
    },
    {
     "data": {
      "text/plain": "<IPython.core.display.Math object>",
      "text/latex": "$\\displaystyle Q_2 = \\left[\\begin{matrix}1 & 0 & 0\\\\0 & -0.99459 & 0.1039\\\\0 & 0.1039 & 0.99459\\end{matrix}\\right] \\rightarrow Q = Q \\cdot Q_2^T = \\left[\\begin{matrix}-0.19612 & 0.71909 & -0.66667\\\\-0.78446 & -0.52298 & -0.33333\\\\-0.58835 & 0.45761 & 0.66667\\end{matrix}\\right], \\; R = Q_2 \\cdot R = \\left[\\begin{matrix}-5.099 & 0.58835 & -4.5107\\\\0 & 2.9417 & -3.857\\\\0 & 0 & -1.3333\\end{matrix}\\right]$"
     },
     "metadata": {},
     "output_type": "display_data"
    },
    {
     "data": {
      "text/plain": "<IPython.core.display.Markdown object>",
      "text/markdown": "Resultat"
     },
     "metadata": {},
     "output_type": "display_data"
    },
    {
     "data": {
      "text/plain": "<IPython.core.display.Math object>",
      "text/latex": "$\\displaystyle Q = \\left[\\begin{matrix}-0.19612 & 0.71909 & -0.66667\\\\-0.78446 & -0.52298 & -0.33333\\\\-0.58835 & 0.45761 & 0.66667\\end{matrix}\\right], \\quad R = \\left[\\begin{matrix}-5.099 & 0.58835 & -4.5107\\\\0 & 2.9417 & -3.857\\\\0 & 0 & -1.3333\\end{matrix}\\right]$"
     },
     "metadata": {},
     "output_type": "display_data"
    },
    {
     "data": {
      "text/plain": "<IPython.core.display.Markdown object>",
      "text/markdown": "## Rückwärtseinsetzen"
     },
     "metadata": {},
     "output_type": "display_data"
    },
    {
     "data": {
      "text/plain": "<IPython.core.display.Math object>",
      "text/latex": "$\\displaystyle x_{3} = \\frac{0.66667 z - 4.6667}{-1.3333} = 3.5 - 0.5 z$"
     },
     "metadata": {},
     "output_type": "display_data"
    },
    {
     "data": {
      "text/plain": "<IPython.core.display.Math object>",
      "text/latex": "$\\displaystyle x_{2} = \\frac{0.45761 z + 8.5638 - (1.9285 z - 13.499)}{2.9417} = \\frac{22.063 - 1.4709 z}{2.9417} = 7.5 - 0.5 z$"
     },
     "metadata": {},
     "output_type": "display_data"
    },
    {
     "data": {
      "text/plain": "<IPython.core.display.Math object>",
      "text/latex": "$\\displaystyle x_{1} = \\frac{1.3728 - 0.58835 z - (1.9612 z - 11.375)}{-5.099} = \\frac{12.748 - 2.5495 z}{-5.099} = 0.5 z - 2.5$"
     },
     "metadata": {},
     "output_type": "display_data"
    },
    {
     "data": {
      "text/plain": "<IPython.core.display.Math object>",
      "text/latex": "$\\displaystyle x = \\left[\\begin{matrix}0.5 z - 2.5\\\\7.5 - 0.5 z\\\\3.5 - 0.5 z\\end{matrix}\\right]$"
     },
     "metadata": {},
     "output_type": "display_data"
    }
   ],
   "source": [
    "import sympy as sp\n",
    "\n",
    "from lgs_exakt_qr import qr\n",
    "\n",
    "a = sp.Matrix([\n",
    "    [1, 2, -1],\n",
    "    [4, -2, 6],\n",
    "    [3, 1, 0],\n",
    "])\n",
    "\n",
    "b = sp.Matrix([9, -4, sp.var('z')])\n",
    "\n",
    "q, r, x = qr(a, b, precision=5, output=True)"
   ],
   "metadata": {
    "collapsed": false
   }
  }
 ],
 "metadata": {
  "kernelspec": {
   "display_name": "Python 3",
   "language": "python",
   "name": "python3"
  },
  "language_info": {
   "codemirror_mode": {
    "name": "ipython",
    "version": 2
   },
   "file_extension": ".py",
   "mimetype": "text/x-python",
   "name": "python",
   "nbconvert_exporter": "python",
   "pygments_lexer": "ipython2",
   "version": "2.7.6"
  }
 },
 "nbformat": 4,
 "nbformat_minor": 0
}

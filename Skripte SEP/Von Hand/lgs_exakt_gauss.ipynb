{
 "cells": [
  {
   "cell_type": "code",
   "execution_count": 2,
   "metadata": {
    "collapsed": false
   },
   "outputs": [
    {
     "data": {
      "text/latex": [
       "$\\displaystyle A = \\left[\\begin{matrix}240 & 120 & 80\\\\60 & 180 & 170\\\\60 & 90 & 500\\end{matrix}\\right], \\quad b = \\left[\\begin{matrix}3080\\\\4070\\\\5030\\end{matrix}\\right]$"
      ],
      "text/plain": [
       "<IPython.core.display.Math object>"
      ]
     },
     "metadata": {},
     "output_type": "display_data"
    },
    {
     "data": {
      "text/markdown": [
       "## Gauss"
      ],
      "text/plain": [
       "<IPython.core.display.Markdown object>"
      ]
     },
     "metadata": {},
     "output_type": "display_data"
    },
    {
     "data": {
      "text/latex": [
       "$\\displaystyle z_{2} \\equiv z_{2} - (\\frac{1}{4}) \\cdot z_{1} \\Rightarrow \\left[\\begin{matrix}240 & 120 & 80\\\\0 & 150 & 150\\\\60 & 90 & 500\\end{matrix}\\right] \\; \\left[\\begin{matrix}3080\\\\3300\\\\5030\\end{matrix}\\right]$"
      ],
      "text/plain": [
       "<IPython.core.display.Math object>"
      ]
     },
     "metadata": {},
     "output_type": "display_data"
    },
    {
     "data": {
      "text/latex": [
       "$\\displaystyle z_{3} \\equiv z_{3} - (\\frac{1}{4}) \\cdot z_{1} \\Rightarrow \\left[\\begin{matrix}240 & 120 & 80\\\\0 & 150 & 150\\\\0 & 60 & 480\\end{matrix}\\right] \\; \\left[\\begin{matrix}3080\\\\3300\\\\4260\\end{matrix}\\right]$"
      ],
      "text/plain": [
       "<IPython.core.display.Math object>"
      ]
     },
     "metadata": {},
     "output_type": "display_data"
    },
    {
     "data": {
      "text/latex": [
       "$\\displaystyle z_{3} \\equiv z_{3} - (\\frac{2}{5}) \\cdot z_{2} \\Rightarrow \\left[\\begin{matrix}240 & 120 & 80\\\\0 & 150 & 150\\\\0 & 0 & 420\\end{matrix}\\right] \\; \\left[\\begin{matrix}3080\\\\3300\\\\2940\\end{matrix}\\right]$"
      ],
      "text/plain": [
       "<IPython.core.display.Math object>"
      ]
     },
     "metadata": {},
     "output_type": "display_data"
    },
    {
     "data": {
      "text/markdown": [
       "## Rückwärtseinsetzen"
      ],
      "text/plain": [
       "<IPython.core.display.Markdown object>"
      ]
     },
     "metadata": {},
     "output_type": "display_data"
    },
    {
     "data": {
      "text/latex": [
       "$\\displaystyle x_{3} = \\frac{2940}{420} = 7$"
      ],
      "text/plain": [
       "<IPython.core.display.Math object>"
      ]
     },
     "metadata": {},
     "output_type": "display_data"
    },
    {
     "data": {
      "text/latex": [
       "$\\displaystyle x_{2} = \\frac{3300 - (1050)}{150} = \\frac{2250}{150} = 15$"
      ],
      "text/plain": [
       "<IPython.core.display.Math object>"
      ]
     },
     "metadata": {},
     "output_type": "display_data"
    },
    {
     "data": {
      "text/latex": [
       "$\\displaystyle x_{1} = \\frac{3080 - (2360)}{240} = \\frac{720}{240} = 3$"
      ],
      "text/plain": [
       "<IPython.core.display.Math object>"
      ]
     },
     "metadata": {},
     "output_type": "display_data"
    },
    {
     "data": {
      "text/latex": [
       "$\\displaystyle x = \\left[\\begin{matrix}3\\\\15\\\\7\\end{matrix}\\right]$"
      ],
      "text/plain": [
       "<IPython.core.display.Math object>"
      ]
     },
     "metadata": {},
     "output_type": "display_data"
    },
    {
     "name": "stdout",
     "output_type": "stream",
     "text": [
      "Matrix([[3], [15], [7]])\n"
     ]
    }
   ],
   "source": [
    "import sympy as sp\n",
    "\n",
    "from lgs_exakt_gauss import gauss\n",
    "\n",
    "a = sp.Matrix([\n",
    "    [240, 120, 80],\n",
    "    [60, 180, 170],\n",
    "    [60, 90, 500],\n",
    "])\n",
    "\n",
    "b = sp.Matrix([3080, 4070, 5030])\n",
    "\n",
    "x = gauss(a, b, pivoting=False, output=True)\n",
    "print(x)"
   ]
  }
 ],
 "metadata": {
  "kernelspec": {
   "display_name": "Python 3",
   "language": "python",
   "name": "python3"
  },
  "language_info": {
   "codemirror_mode": {
    "name": "ipython",
    "version": 3
   },
   "file_extension": ".py",
   "mimetype": "text/x-python",
   "name": "python",
   "nbconvert_exporter": "python",
   "pygments_lexer": "ipython3",
   "version": "3.11.4"
  }
 },
 "nbformat": 4,
 "nbformat_minor": 0
}

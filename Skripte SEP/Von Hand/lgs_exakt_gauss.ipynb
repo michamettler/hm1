{
 "cells": [
  {
   "cell_type": "code",
   "execution_count": 3,
   "outputs": [
    {
     "data": {
      "text/plain": "<IPython.core.display.Math object>",
      "text/latex": "$\\displaystyle A = \\left[\\begin{matrix}0 & -2 & 0\\\\2 & -1 & 1\\\\0 & -2 & 0\\end{matrix}\\right], \\quad b = \\left[\\begin{matrix}0\\\\0\\\\0\\end{matrix}\\right]$"
     },
     "metadata": {},
     "output_type": "display_data"
    },
    {
     "data": {
      "text/plain": "<IPython.core.display.Markdown object>",
      "text/markdown": "## Gauss"
     },
     "metadata": {},
     "output_type": "display_data"
    },
    {
     "data": {
      "text/plain": "<IPython.core.display.Math object>",
      "text/latex": "$\\displaystyle \\text{pivot: swapping rows 1 and 2 in }\\left[\\begin{matrix}0 & -2 & 0\\\\2 & -1 & 1\\\\0 & -2 & 0\\end{matrix}\\right] \\; b = \\left[\\begin{matrix}0\\\\0\\\\0\\end{matrix}\\right] \\text{ gives }\\left[\\begin{matrix}2 & -1 & 1\\\\0 & -2 & 0\\\\0 & -2 & 0\\end{matrix}\\right] \\; b = \\left[\\begin{matrix}0\\\\0\\\\0\\end{matrix}\\right]$"
     },
     "metadata": {},
     "output_type": "display_data"
    },
    {
     "data": {
      "text/plain": "<IPython.core.display.Math object>",
      "text/latex": "$\\displaystyle z_{3} \\equiv z_{3} - (1) \\cdot z_{2} \\Rightarrow \\left[\\begin{matrix}2 & -1 & 1\\\\0 & -2 & 0\\\\0 & 0 & 0\\end{matrix}\\right] \\; \\left[\\begin{matrix}0\\\\0\\\\0\\end{matrix}\\right]$"
     },
     "metadata": {},
     "output_type": "display_data"
    },
    {
     "data": {
      "text/plain": "<IPython.core.display.Markdown object>",
      "text/markdown": "## Rückwärtseinsetzen"
     },
     "metadata": {},
     "output_type": "display_data"
    },
    {
     "data": {
      "text/plain": "<IPython.core.display.Math object>",
      "text/latex": "$\\displaystyle x_{3} = x_{3}$"
     },
     "metadata": {},
     "output_type": "display_data"
    },
    {
     "data": {
      "text/plain": "<IPython.core.display.Math object>",
      "text/latex": "$\\displaystyle x_{2} = \\frac{0}{-2} = 0$"
     },
     "metadata": {},
     "output_type": "display_data"
    },
    {
     "data": {
      "text/plain": "<IPython.core.display.Math object>",
      "text/latex": "$\\displaystyle x_{1} = \\frac{0 - (x_{3})}{2} = \\frac{- x_{3}}{2} = - \\frac{x_{3}}{2}$"
     },
     "metadata": {},
     "output_type": "display_data"
    },
    {
     "data": {
      "text/plain": "<IPython.core.display.Math object>",
      "text/latex": "$\\displaystyle x = \\left[\\begin{matrix}- \\frac{x_{3}}{2}\\\\0\\\\x_{3}\\end{matrix}\\right]$"
     },
     "metadata": {},
     "output_type": "display_data"
    },
    {
     "name": "stdout",
     "output_type": "stream",
     "text": [
      "Matrix([[-x3/2], [0], [x3]])\n"
     ]
    }
   ],
   "source": [
    "import sympy as sp\n",
    "\n",
    "from lgs_exakt_gauss import gauss\n",
    "\n",
    "a = sp.Matrix([\n",
    "    [0, -2, 0],\n",
    "    [2, -1, 1],\n",
    "    [0, -2, 0],\n",
    "])\n",
    "\n",
    "b = sp.Matrix([0, 0, 0])\n",
    "\n",
    "x = gauss(a, b, pivoting=False, output=True)\n",
    "print(x)"
   ],
   "metadata": {
    "collapsed": false
   }
  }
 ],
 "metadata": {
  "kernelspec": {
   "display_name": "Python 3",
   "language": "python",
   "name": "python3"
  },
  "language_info": {
   "codemirror_mode": {
    "name": "ipython",
    "version": 2
   },
   "file_extension": ".py",
   "mimetype": "text/x-python",
   "name": "python",
   "nbconvert_exporter": "python",
   "pygments_lexer": "ipython2",
   "version": "2.7.6"
  }
 },
 "nbformat": 4,
 "nbformat_minor": 0
}

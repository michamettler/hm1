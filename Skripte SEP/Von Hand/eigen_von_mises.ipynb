{
 "cells": [
  {
   "cell_type": "code",
   "execution_count": 2,
   "outputs": [
    {
     "data": {
      "text/plain": "<IPython.core.display.Math object>",
      "text/latex": "$\\displaystyle v_{ 1 } = \\left[\\begin{matrix}0.26726124\\\\0.80178373\\\\0.53452248\\end{matrix}\\right], \\; \\lambda_{ 1 } = 1.0$"
     },
     "metadata": {},
     "output_type": "display_data"
    },
    {
     "data": {
      "text/plain": "<IPython.core.display.Math object>",
      "text/latex": "$\\displaystyle v_{ 2 } = \\left[\\begin{matrix}0.52981294\\\\0.52981294\\\\0.66226618\\end{matrix}\\right], \\; \\lambda_{ 2 } = 1.8571429$"
     },
     "metadata": {},
     "output_type": "display_data"
    },
    {
     "data": {
      "text/plain": "<IPython.core.display.Math object>",
      "text/latex": "$\\displaystyle v_{ 3 } = \\left[\\begin{matrix}0.29231364\\\\0.65770569\\\\0.69424489\\end{matrix}\\right], \\; \\lambda_{ 3 } = 3.4912281$"
     },
     "metadata": {},
     "output_type": "display_data"
    },
    {
     "data": {
      "text/plain": "<IPython.core.display.Math object>",
      "text/latex": "$\\displaystyle v_{ 4 } = \\left[\\begin{matrix}0.34629748\\\\0.58604189\\\\0.73255236\\end{matrix}\\right], \\; \\lambda_{ 4 } = 2.7303071$"
     },
     "metadata": {},
     "output_type": "display_data"
    },
    {
     "data": {
      "text/plain": "<IPython.core.display.Math object>",
      "text/latex": "$\\displaystyle v_{ 5 } = \\left[\\begin{matrix}0.29695961\\\\0.61088834\\\\0.73391446\\end{matrix}\\right], \\; \\lambda_{ 5 } = 3.1348235$"
     },
     "metadata": {},
     "output_type": "display_data"
    },
    {
     "data": {
      "text/plain": "<IPython.core.display.Math object>",
      "text/latex": "$\\displaystyle v_{ 6 } = \\left[\\begin{matrix}0.30863655\\\\0.59419747\\\\0.74274683\\end{matrix}\\right], \\; \\lambda_{ 6 } = 2.9407541$"
     },
     "metadata": {},
     "output_type": "display_data"
    },
    {
     "data": {
      "text/plain": "<IPython.core.display.Math object>",
      "text/latex": "$\\displaystyle v_{ 7 } = \\left[\\begin{matrix}0.29788601\\\\0.59957888\\\\0.74281161\\end{matrix}\\right], \\; \\lambda_{ 7 } = 3.0305846$"
     },
     "metadata": {},
     "output_type": "display_data"
    },
    {
     "data": {
      "text/plain": "<IPython.core.display.Math object>",
      "text/latex": "$\\displaystyle v_{ 8 } = \\left[\\begin{matrix}0.30046394\\\\0.59582987\\\\0.74478734\\end{matrix}\\right], \\; \\lambda_{ 8 } = 2.9868937$"
     },
     "metadata": {},
     "output_type": "display_data"
    },
    {
     "data": {
      "text/plain": "<IPython.core.display.Math object>",
      "text/latex": "$\\displaystyle v_{ 9 } = \\left[\\begin{matrix}0.29808575\\\\0.59701924\\\\0.74479051\\end{matrix}\\right], \\; \\lambda_{ 9 } = 3.0068215$"
     },
     "metadata": {},
     "output_type": "display_data"
    },
    {
     "data": {
      "text/plain": "<IPython.core.display.Math object>",
      "text/latex": "$\\displaystyle \\text{Eigenvektor } v \\approx \\left[\\begin{matrix}0.29808575\\\\0.59701924\\\\0.74479051\\end{matrix}\\right]$"
     },
     "metadata": {},
     "output_type": "display_data"
    },
    {
     "data": {
      "text/plain": "<IPython.core.display.Math object>",
      "text/latex": "$\\displaystyle \\text{Eigenwert } \\lambda \\approx 3.0068215$"
     },
     "metadata": {},
     "output_type": "display_data"
    }
   ],
   "source": [
    "import sympy as sp\n",
    "\n",
    "from eigen_von_mises import von_mises\n",
    "\n",
    "a = sp.Matrix([\n",
    "    [1, 1, 0],\n",
    "    [3, -1, 2],\n",
    "    [2, -1, 3],\n",
    "])\n",
    "\n",
    "v0 = sp.Matrix([\n",
    "    [1],\n",
    "    [0],\n",
    "    [0],\n",
    "])\n",
    "\n",
    "eigen_vec, eigen_val = von_mises(a, v0, iterations=9, precision=8)"
   ],
   "metadata": {
    "collapsed": false
   }
  }
 ],
 "metadata": {
  "kernelspec": {
   "display_name": "Python 3",
   "language": "python",
   "name": "python3"
  },
  "language_info": {
   "codemirror_mode": {
    "name": "ipython",
    "version": 2
   },
   "file_extension": ".py",
   "mimetype": "text/x-python",
   "name": "python",
   "nbconvert_exporter": "python",
   "pygments_lexer": "ipython2",
   "version": "2.7.6"
  }
 },
 "nbformat": 4,
 "nbformat_minor": 0
}

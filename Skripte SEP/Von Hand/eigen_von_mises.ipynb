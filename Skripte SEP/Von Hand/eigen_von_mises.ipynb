{
 "cells": [
  {
   "cell_type": "code",
   "execution_count": 1,
   "metadata": {
    "collapsed": false
   },
   "outputs": [
    {
     "data": {
      "text/latex": [
       "$\\displaystyle v_{ 1 } = \\left[\\begin{matrix}0.39760744\\\\0.91755563\\end{matrix}\\right], \\; \\lambda_{ 1 } = 13.0$"
      ],
      "text/plain": [
       "<IPython.core.display.Math object>"
      ]
     },
     "metadata": {},
     "output_type": "display_data"
    },
    {
     "data": {
      "text/latex": [
       "$\\displaystyle v_{ 2 } = \\left[\\begin{matrix}0.37803196\\\\0.92579255\\end{matrix}\\right], \\; \\lambda_{ 2 } = 3.9635173$"
      ],
      "text/plain": [
       "<IPython.core.display.Math object>"
      ]
     },
     "metadata": {},
     "output_type": "display_data"
    },
    {
     "data": {
      "text/latex": [
       "$\\displaystyle v_{ 3 } = \\left[\\begin{matrix}0.37344029\\\\0.92765422\\end{matrix}\\right], \\; \\lambda_{ 3 } = 3.2434379$"
      ],
      "text/plain": [
       "<IPython.core.display.Math object>"
      ]
     },
     "metadata": {},
     "output_type": "display_data"
    },
    {
     "data": {
      "text/latex": [
       "$\\displaystyle v_{ 4 } = \\left[\\begin{matrix}0.3720574\\\\0.92820972\\end{matrix}\\right], \\; \\lambda_{ 4 } = 3.0750782$"
      ],
      "text/plain": [
       "<IPython.core.display.Math object>"
      ]
     },
     "metadata": {},
     "output_type": "display_data"
    },
    {
     "data": {
      "text/latex": [
       "$\\displaystyle v_{ 5 } = \\left[\\begin{matrix}0.37161114\\\\0.92838847\\end{matrix}\\right], \\; \\lambda_{ 5 } = 3.0244172$"
      ],
      "text/plain": [
       "<IPython.core.display.Math object>"
      ]
     },
     "metadata": {},
     "output_type": "display_data"
    },
    {
     "data": {
      "text/latex": [
       "$\\displaystyle v_{ 6 } = \\left[\\begin{matrix}0.37146397\\\\0.92844737\\end{matrix}\\right], \\; \\lambda_{ 6 } = 3.0080736$"
      ],
      "text/plain": [
       "<IPython.core.display.Math object>"
      ]
     },
     "metadata": {},
     "output_type": "display_data"
    },
    {
     "data": {
      "text/latex": [
       "$\\displaystyle v_{ 7 } = \\left[\\begin{matrix}0.37141508\\\\0.92846693\\end{matrix}\\right], \\; \\lambda_{ 7 } = 3.002684$"
      ],
      "text/plain": [
       "<IPython.core.display.Math object>"
      ]
     },
     "metadata": {},
     "output_type": "display_data"
    },
    {
     "data": {
      "text/latex": [
       "$\\displaystyle v_{ 8 } = \\left[\\begin{matrix}0.37139881\\\\0.92847344\\end{matrix}\\right], \\; \\lambda_{ 8 } = 3.0008938$"
      ],
      "text/plain": [
       "<IPython.core.display.Math object>"
      ]
     },
     "metadata": {},
     "output_type": "display_data"
    },
    {
     "data": {
      "text/latex": [
       "$\\displaystyle v_{ 9 } = \\left[\\begin{matrix}0.37139339\\\\0.92847561\\end{matrix}\\right], \\; \\lambda_{ 9 } = 3.0002979$"
      ],
      "text/plain": [
       "<IPython.core.display.Math object>"
      ]
     },
     "metadata": {},
     "output_type": "display_data"
    },
    {
     "data": {
      "text/latex": [
       "$\\displaystyle v_{ 10 } = \\left[\\begin{matrix}0.37139158\\\\0.92847633\\end{matrix}\\right], \\; \\lambda_{ 10 } = 3.0000993$"
      ],
      "text/plain": [
       "<IPython.core.display.Math object>"
      ]
     },
     "metadata": {},
     "output_type": "display_data"
    },
    {
     "data": {
      "text/latex": [
       "$\\displaystyle v_{ 11 } = \\left[\\begin{matrix}0.37139098\\\\0.92847657\\end{matrix}\\right], \\; \\lambda_{ 11 } = 3.0000332$"
      ],
      "text/plain": [
       "<IPython.core.display.Math object>"
      ]
     },
     "metadata": {},
     "output_type": "display_data"
    },
    {
     "data": {
      "text/latex": [
       "$\\displaystyle v_{ 12 } = \\left[\\begin{matrix}0.37139078\\\\0.92847665\\end{matrix}\\right], \\; \\lambda_{ 12 } = 3.000011$"
      ],
      "text/plain": [
       "<IPython.core.display.Math object>"
      ]
     },
     "metadata": {},
     "output_type": "display_data"
    },
    {
     "data": {
      "text/latex": [
       "$\\displaystyle v_{ 13 } = \\left[\\begin{matrix}0.37139071\\\\0.92847668\\end{matrix}\\right], \\; \\lambda_{ 13 } = 3.0000037$"
      ],
      "text/plain": [
       "<IPython.core.display.Math object>"
      ]
     },
     "metadata": {},
     "output_type": "display_data"
    },
    {
     "data": {
      "text/latex": [
       "$\\displaystyle v_{ 14 } = \\left[\\begin{matrix}0.37139069\\\\0.92847669\\end{matrix}\\right], \\; \\lambda_{ 14 } = 3.0000012$"
      ],
      "text/plain": [
       "<IPython.core.display.Math object>"
      ]
     },
     "metadata": {},
     "output_type": "display_data"
    },
    {
     "data": {
      "text/latex": [
       "$\\displaystyle v_{ 15 } = \\left[\\begin{matrix}0.37139068\\\\0.92847669\\end{matrix}\\right], \\; \\lambda_{ 15 } = 3.0000004$"
      ],
      "text/plain": [
       "<IPython.core.display.Math object>"
      ]
     },
     "metadata": {},
     "output_type": "display_data"
    },
    {
     "data": {
      "text/latex": [
       "$\\displaystyle v_{ 16 } = \\left[\\begin{matrix}0.37139068\\\\0.92847669\\end{matrix}\\right], \\; \\lambda_{ 16 } = 3.0000001$"
      ],
      "text/plain": [
       "<IPython.core.display.Math object>"
      ]
     },
     "metadata": {},
     "output_type": "display_data"
    },
    {
     "data": {
      "text/latex": [
       "$\\displaystyle v_{ 17 } = \\left[\\begin{matrix}0.37139068\\\\0.92847669\\end{matrix}\\right], \\; \\lambda_{ 17 } = 3.0$"
      ],
      "text/plain": [
       "<IPython.core.display.Math object>"
      ]
     },
     "metadata": {},
     "output_type": "display_data"
    },
    {
     "data": {
      "text/latex": [
       "$\\displaystyle v_{ 18 } = \\left[\\begin{matrix}0.37139068\\\\0.92847669\\end{matrix}\\right], \\; \\lambda_{ 18 } = 3.0$"
      ],
      "text/plain": [
       "<IPython.core.display.Math object>"
      ]
     },
     "metadata": {},
     "output_type": "display_data"
    },
    {
     "data": {
      "text/latex": [
       "$\\displaystyle v_{ 19 } = \\left[\\begin{matrix}0.37139068\\\\0.92847669\\end{matrix}\\right], \\; \\lambda_{ 19 } = 3.0$"
      ],
      "text/plain": [
       "<IPython.core.display.Math object>"
      ]
     },
     "metadata": {},
     "output_type": "display_data"
    },
    {
     "data": {
      "text/latex": [
       "$\\displaystyle v_{ 20 } = \\left[\\begin{matrix}0.37139068\\\\0.92847669\\end{matrix}\\right], \\; \\lambda_{ 20 } = 3.0$"
      ],
      "text/plain": [
       "<IPython.core.display.Math object>"
      ]
     },
     "metadata": {},
     "output_type": "display_data"
    },
    {
     "data": {
      "text/latex": [
       "$\\displaystyle v_{ 21 } = \\left[\\begin{matrix}0.37139068\\\\0.92847669\\end{matrix}\\right], \\; \\lambda_{ 21 } = 3.0$"
      ],
      "text/plain": [
       "<IPython.core.display.Math object>"
      ]
     },
     "metadata": {},
     "output_type": "display_data"
    },
    {
     "data": {
      "text/latex": [
       "$\\displaystyle v_{ 22 } = \\left[\\begin{matrix}0.37139068\\\\0.92847669\\end{matrix}\\right], \\; \\lambda_{ 22 } = 3.0$"
      ],
      "text/plain": [
       "<IPython.core.display.Math object>"
      ]
     },
     "metadata": {},
     "output_type": "display_data"
    },
    {
     "data": {
      "text/latex": [
       "$\\displaystyle v_{ 23 } = \\left[\\begin{matrix}0.37139068\\\\0.92847669\\end{matrix}\\right], \\; \\lambda_{ 23 } = 3.0$"
      ],
      "text/plain": [
       "<IPython.core.display.Math object>"
      ]
     },
     "metadata": {},
     "output_type": "display_data"
    },
    {
     "data": {
      "text/latex": [
       "$\\displaystyle v_{ 24 } = \\left[\\begin{matrix}0.37139068\\\\0.92847669\\end{matrix}\\right], \\; \\lambda_{ 24 } = 3.0$"
      ],
      "text/plain": [
       "<IPython.core.display.Math object>"
      ]
     },
     "metadata": {},
     "output_type": "display_data"
    },
    {
     "data": {
      "text/latex": [
       "$\\displaystyle v_{ 25 } = \\left[\\begin{matrix}0.37139068\\\\0.92847669\\end{matrix}\\right], \\; \\lambda_{ 25 } = 3.0$"
      ],
      "text/plain": [
       "<IPython.core.display.Math object>"
      ]
     },
     "metadata": {},
     "output_type": "display_data"
    },
    {
     "data": {
      "text/latex": [
       "$\\displaystyle v_{ 26 } = \\left[\\begin{matrix}0.37139068\\\\0.92847669\\end{matrix}\\right], \\; \\lambda_{ 26 } = 3.0$"
      ],
      "text/plain": [
       "<IPython.core.display.Math object>"
      ]
     },
     "metadata": {},
     "output_type": "display_data"
    },
    {
     "data": {
      "text/latex": [
       "$\\displaystyle v_{ 27 } = \\left[\\begin{matrix}0.37139068\\\\0.92847669\\end{matrix}\\right], \\; \\lambda_{ 27 } = 3.0$"
      ],
      "text/plain": [
       "<IPython.core.display.Math object>"
      ]
     },
     "metadata": {},
     "output_type": "display_data"
    },
    {
     "data": {
      "text/latex": [
       "$\\displaystyle v_{ 28 } = \\left[\\begin{matrix}0.37139068\\\\0.92847669\\end{matrix}\\right], \\; \\lambda_{ 28 } = 3.0$"
      ],
      "text/plain": [
       "<IPython.core.display.Math object>"
      ]
     },
     "metadata": {},
     "output_type": "display_data"
    },
    {
     "data": {
      "text/latex": [
       "$\\displaystyle v_{ 29 } = \\left[\\begin{matrix}0.37139068\\\\0.92847669\\end{matrix}\\right], \\; \\lambda_{ 29 } = 3.0$"
      ],
      "text/plain": [
       "<IPython.core.display.Math object>"
      ]
     },
     "metadata": {},
     "output_type": "display_data"
    },
    {
     "data": {
      "text/latex": [
       "$\\displaystyle v_{ 30 } = \\left[\\begin{matrix}0.37139068\\\\0.92847669\\end{matrix}\\right], \\; \\lambda_{ 30 } = 3.0$"
      ],
      "text/plain": [
       "<IPython.core.display.Math object>"
      ]
     },
     "metadata": {},
     "output_type": "display_data"
    },
    {
     "data": {
      "text/latex": [
       "$\\displaystyle v_{ 31 } = \\left[\\begin{matrix}0.37139068\\\\0.92847669\\end{matrix}\\right], \\; \\lambda_{ 31 } = 3.0$"
      ],
      "text/plain": [
       "<IPython.core.display.Math object>"
      ]
     },
     "metadata": {},
     "output_type": "display_data"
    },
    {
     "data": {
      "text/latex": [
       "$\\displaystyle v_{ 32 } = \\left[\\begin{matrix}0.37139068\\\\0.92847669\\end{matrix}\\right], \\; \\lambda_{ 32 } = 3.0$"
      ],
      "text/plain": [
       "<IPython.core.display.Math object>"
      ]
     },
     "metadata": {},
     "output_type": "display_data"
    },
    {
     "data": {
      "text/latex": [
       "$\\displaystyle v_{ 33 } = \\left[\\begin{matrix}0.37139068\\\\0.92847669\\end{matrix}\\right], \\; \\lambda_{ 33 } = 3.0$"
      ],
      "text/plain": [
       "<IPython.core.display.Math object>"
      ]
     },
     "metadata": {},
     "output_type": "display_data"
    },
    {
     "data": {
      "text/latex": [
       "$\\displaystyle v_{ 34 } = \\left[\\begin{matrix}0.37139068\\\\0.92847669\\end{matrix}\\right], \\; \\lambda_{ 34 } = 3.0$"
      ],
      "text/plain": [
       "<IPython.core.display.Math object>"
      ]
     },
     "metadata": {},
     "output_type": "display_data"
    },
    {
     "data": {
      "text/latex": [
       "$\\displaystyle v_{ 35 } = \\left[\\begin{matrix}0.37139068\\\\0.92847669\\end{matrix}\\right], \\; \\lambda_{ 35 } = 3.0$"
      ],
      "text/plain": [
       "<IPython.core.display.Math object>"
      ]
     },
     "metadata": {},
     "output_type": "display_data"
    },
    {
     "data": {
      "text/latex": [
       "$\\displaystyle v_{ 36 } = \\left[\\begin{matrix}0.37139068\\\\0.92847669\\end{matrix}\\right], \\; \\lambda_{ 36 } = 3.0$"
      ],
      "text/plain": [
       "<IPython.core.display.Math object>"
      ]
     },
     "metadata": {},
     "output_type": "display_data"
    },
    {
     "data": {
      "text/latex": [
       "$\\displaystyle v_{ 37 } = \\left[\\begin{matrix}0.37139068\\\\0.92847669\\end{matrix}\\right], \\; \\lambda_{ 37 } = 3.0$"
      ],
      "text/plain": [
       "<IPython.core.display.Math object>"
      ]
     },
     "metadata": {},
     "output_type": "display_data"
    },
    {
     "data": {
      "text/latex": [
       "$\\displaystyle v_{ 38 } = \\left[\\begin{matrix}0.37139068\\\\0.92847669\\end{matrix}\\right], \\; \\lambda_{ 38 } = 3.0$"
      ],
      "text/plain": [
       "<IPython.core.display.Math object>"
      ]
     },
     "metadata": {},
     "output_type": "display_data"
    },
    {
     "data": {
      "text/latex": [
       "$\\displaystyle v_{ 39 } = \\left[\\begin{matrix}0.37139068\\\\0.92847669\\end{matrix}\\right], \\; \\lambda_{ 39 } = 3.0$"
      ],
      "text/plain": [
       "<IPython.core.display.Math object>"
      ]
     },
     "metadata": {},
     "output_type": "display_data"
    },
    {
     "data": {
      "text/latex": [
       "$\\displaystyle v_{ 40 } = \\left[\\begin{matrix}0.37139068\\\\0.92847669\\end{matrix}\\right], \\; \\lambda_{ 40 } = 3.0$"
      ],
      "text/plain": [
       "<IPython.core.display.Math object>"
      ]
     },
     "metadata": {},
     "output_type": "display_data"
    },
    {
     "data": {
      "text/latex": [
       "$\\displaystyle \\text{Eigenvektor } v \\approx \\left[\\begin{matrix}0.37139068\\\\0.92847669\\end{matrix}\\right]$"
      ],
      "text/plain": [
       "<IPython.core.display.Math object>"
      ]
     },
     "metadata": {},
     "output_type": "display_data"
    },
    {
     "data": {
      "text/latex": [
       "$\\displaystyle \\text{Eigenwert } \\lambda \\approx 3.0$"
      ],
      "text/plain": [
       "<IPython.core.display.Math object>"
      ]
     },
     "metadata": {},
     "output_type": "display_data"
    }
   ],
   "source": [
    "import sympy as sp\n",
    "\n",
    "from eigen_von_mises import von_mises\n",
    "\n",
    "a = sp.Matrix([\n",
    "    [13, -4],\n",
    "    [30,-9],\n",
    "])\n",
    "\n",
    "v0 = sp.Matrix([\n",
    "    [1],\n",
    "    [0]\n",
    "])\n",
    "\n",
    "eigen_vec, eigen_val = von_mises(a, v0, iterations=40, precision=8)"
   ]
  }
 ],
 "metadata": {
  "kernelspec": {
   "display_name": "Python 3",
   "language": "python",
   "name": "python3"
  },
  "language_info": {
   "codemirror_mode": {
    "name": "ipython",
    "version": 3
   },
   "file_extension": ".py",
   "mimetype": "text/x-python",
   "name": "python",
   "nbconvert_exporter": "python",
   "pygments_lexer": "ipython3",
   "version": "3.11.4"
  }
 },
 "nbformat": 4,
 "nbformat_minor": 0
}

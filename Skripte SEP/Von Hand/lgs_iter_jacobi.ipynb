{
 "cells": [
  {
   "cell_type": "code",
   "execution_count": 3,
   "metadata": {
    "collapsed": false
   },
   "outputs": [
    {
     "data": {
      "text/latex": [
       "Iteration 1"
      ],
      "text/plain": [
       "<IPython.core.display.Latex object>"
      ]
     },
     "metadata": {},
     "output_type": "display_data"
    },
    {
     "data": {
      "text/latex": [
       "$\\displaystyle x_{ 0 } = \\frac{ 5 }{ 4 } - \\frac{ (x \\cdot 0) + (1 \\cdot 0) }{ 4 } = 1.25$"
      ],
      "text/plain": [
       "<IPython.core.display.Math object>"
      ]
     },
     "metadata": {},
     "output_type": "display_data"
    },
    {
     "data": {
      "text/latex": [
       "$\\displaystyle x_{ 1 } = \\frac{ 11 }{ 5 } - \\frac{ (-2 \\cdot 0) + (1 \\cdot 0) }{ 5 } = 2.2$"
      ],
      "text/plain": [
       "<IPython.core.display.Math object>"
      ]
     },
     "metadata": {},
     "output_type": "display_data"
    },
    {
     "data": {
      "text/latex": [
       "$\\displaystyle x_{ 2 } = \\frac{ 12 }{ 5 } - \\frac{ (1 \\cdot 0) + (-2 \\cdot 0) }{ 5 } = 2.4$"
      ],
      "text/plain": [
       "<IPython.core.display.Math object>"
      ]
     },
     "metadata": {},
     "output_type": "display_data"
    },
    {
     "data": {
      "text/latex": [
       "Iteration 2"
      ],
      "text/plain": [
       "<IPython.core.display.Latex object>"
      ]
     },
     "metadata": {},
     "output_type": "display_data"
    },
    {
     "data": {
      "text/latex": [
       "$\\displaystyle x_{ 0 } = \\frac{ 5 }{ 4 } - \\frac{ (x \\cdot 2.2) + (1 \\cdot 2.4) }{ 4 } = 0.65 - 0.55 x$"
      ],
      "text/plain": [
       "<IPython.core.display.Math object>"
      ]
     },
     "metadata": {},
     "output_type": "display_data"
    },
    {
     "data": {
      "text/latex": [
       "$\\displaystyle x_{ 1 } = \\frac{ 11 }{ 5 } - \\frac{ (-2 \\cdot 1.25) + (1 \\cdot 2.4) }{ 5 } = 2.22$"
      ],
      "text/plain": [
       "<IPython.core.display.Math object>"
      ]
     },
     "metadata": {},
     "output_type": "display_data"
    },
    {
     "data": {
      "text/latex": [
       "$\\displaystyle x_{ 2 } = \\frac{ 12 }{ 5 } - \\frac{ (1 \\cdot 1.25) + (-2 \\cdot 2.2) }{ 5 } = 3.03$"
      ],
      "text/plain": [
       "<IPython.core.display.Math object>"
      ]
     },
     "metadata": {},
     "output_type": "display_data"
    },
    {
     "data": {
      "text/latex": [
       "Iteration 3"
      ],
      "text/plain": [
       "<IPython.core.display.Latex object>"
      ]
     },
     "metadata": {},
     "output_type": "display_data"
    },
    {
     "data": {
      "text/latex": [
       "$\\displaystyle x_{ 0 } = \\frac{ 5 }{ 4 } - \\frac{ (x \\cdot 2.22) + (1 \\cdot 3.03) }{ 4 } = 0.4925 - 0.555 x$"
      ],
      "text/plain": [
       "<IPython.core.display.Math object>"
      ]
     },
     "metadata": {},
     "output_type": "display_data"
    },
    {
     "data": {
      "text/latex": [
       "$\\displaystyle x_{ 1 } = \\frac{ 11 }{ 5 } - \\frac{ (-2 \\cdot 0.65 - 0.55 x) + (1 \\cdot 3.03) }{ 5 } = 1.854 - 0.22 x$"
      ],
      "text/plain": [
       "<IPython.core.display.Math object>"
      ]
     },
     "metadata": {},
     "output_type": "display_data"
    },
    {
     "data": {
      "text/latex": [
       "$\\displaystyle x_{ 2 } = \\frac{ 12 }{ 5 } - \\frac{ (1 \\cdot 0.65 - 0.55 x) + (-2 \\cdot 2.22) }{ 5 } = 0.11 x + 3.158$"
      ],
      "text/plain": [
       "<IPython.core.display.Math object>"
      ]
     },
     "metadata": {},
     "output_type": "display_data"
    },
    {
     "data": {
      "text/latex": [
       "Iteration 4"
      ],
      "text/plain": [
       "<IPython.core.display.Latex object>"
      ]
     },
     "metadata": {},
     "output_type": "display_data"
    },
    {
     "data": {
      "text/latex": [
       "$\\displaystyle x_{ 0 } = \\frac{ 5 }{ 4 } - \\frac{ (x \\cdot 1.854 - 0.22 x) + (1 \\cdot 0.11 x + 3.158) }{ 4 } = - 0.25 x \\left(1.854 - 0.22 x\\right) - 0.0275 x + 0.4605$"
      ],
      "text/plain": [
       "<IPython.core.display.Math object>"
      ]
     },
     "metadata": {},
     "output_type": "display_data"
    },
    {
     "data": {
      "text/latex": [
       "$\\displaystyle x_{ 1 } = \\frac{ 11 }{ 5 } - \\frac{ (-2 \\cdot 0.4925 - 0.555 x) + (1 \\cdot 0.11 x + 3.158) }{ 5 } = 1.7654 - 0.244 x$"
      ],
      "text/plain": [
       "<IPython.core.display.Math object>"
      ]
     },
     "metadata": {},
     "output_type": "display_data"
    },
    {
     "data": {
      "text/latex": [
       "$\\displaystyle x_{ 2 } = \\frac{ 12 }{ 5 } - \\frac{ (1 \\cdot 0.4925 - 0.555 x) + (-2 \\cdot 1.854 - 0.22 x) }{ 5 } = 0.023 x + 3.0431$"
      ],
      "text/plain": [
       "<IPython.core.display.Math object>"
      ]
     },
     "metadata": {},
     "output_type": "display_data"
    },
    {
     "data": {
      "text/latex": [
       "Iteration 5"
      ],
      "text/plain": [
       "<IPython.core.display.Latex object>"
      ]
     },
     "metadata": {},
     "output_type": "display_data"
    },
    {
     "data": {
      "text/latex": [
       "$\\displaystyle x_{ 0 } = \\frac{ 5 }{ 4 } - \\frac{ (x \\cdot 1.7654 - 0.244 x) + (1 \\cdot 0.023 x + 3.0431) }{ 4 } = - 0.25 x \\left(1.7654 - 0.244 x\\right) - 0.00575 x + 0.489225$"
      ],
      "text/plain": [
       "<IPython.core.display.Math object>"
      ]
     },
     "metadata": {},
     "output_type": "display_data"
    },
    {
     "data": {
      "text/latex": [
       "$\\displaystyle x_{ 1 } = \\frac{ 11 }{ 5 } - \\frac{ (-2 \\cdot - 0.25 x \\left(1.854 - 0.22 x\\right) - 0.0275 x + 0.4605) + (1 \\cdot 0.023 x + 3.0431) }{ 5 } = - 0.1 x \\left(1.854 - 0.22 x\\right) - 0.0156 x + 1.77558$"
      ],
      "text/plain": [
       "<IPython.core.display.Math object>"
      ]
     },
     "metadata": {},
     "output_type": "display_data"
    },
    {
     "data": {
      "text/latex": [
       "$\\displaystyle x_{ 2 } = \\frac{ 12 }{ 5 } - \\frac{ (1 \\cdot - 0.25 x \\left(1.854 - 0.22 x\\right) - 0.0275 x + 0.4605) + (-2 \\cdot 1.7654 - 0.244 x) }{ 5 } = 0.05 x \\left(1.854 - 0.22 x\\right) - 0.0921 x + 3.01406$"
      ],
      "text/plain": [
       "<IPython.core.display.Math object>"
      ]
     },
     "metadata": {},
     "output_type": "display_data"
    },
    {
     "name": "stdout",
     "output_type": "stream",
     "text": [
      "Matrix([[-0.25*x*(1.76539993286133 - 0.24399995803833*x) - 0.00575000047683716*x + 0.489225029945374], [-0.0999999940395355*x*(1.85400009155273 - 0.219999969005585*x) - 0.0155999977141619*x + 1.77557969093323], [0.0499999970197678*x*(1.85400009155273 - 0.219999969005585*x) - 0.0920999795198441*x + 3.01405954360962]])\n"
     ]
    }
   ],
   "source": [
    "import sympy as sp\n",
    "\n",
    "from lgs_iter_jacobi import jacobi\n",
    "\n",
    "x = sp.symbols('x')\n",
    "\n",
    "a = sp.Matrix([\n",
    "    [4, x, 1],\n",
    "    [-2, 5, 1],\n",
    "    [1, -2, 5],\n",
    "])\n",
    "\n",
    "b = sp.Matrix([5, 11, 12])\n",
    "x0 = sp.Matrix([0, 0, 0])\n",
    "\n",
    "x = jacobi(a, b, x0, 5, precision=6).evalf()\n",
    "print(x)"
   ]
  }
 ],
 "metadata": {
  "kernelspec": {
   "display_name": "Python 3",
   "language": "python",
   "name": "python3"
  },
  "language_info": {
   "codemirror_mode": {
    "name": "ipython",
    "version": 3
   },
   "file_extension": ".py",
   "mimetype": "text/x-python",
   "name": "python",
   "nbconvert_exporter": "python",
   "pygments_lexer": "ipython3",
   "version": "3.11.4"
  }
 },
 "nbformat": 4,
 "nbformat_minor": 0
}

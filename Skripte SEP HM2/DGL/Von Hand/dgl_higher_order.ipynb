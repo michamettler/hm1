{
 "cells": [
  {
   "cell_type": "code",
   "execution_count": 1,
   "metadata": {},
   "outputs": [
    {
     "data": {
      "text/markdown": [
       "#### Iteration 1"
      ],
      "text/plain": [
       "<IPython.core.display.Markdown object>"
      ]
     },
     "metadata": {},
     "output_type": "display_data"
    },
    {
     "data": {
      "text/latex": [
       "$\\displaystyle \\begin{aligned}& k_1 = f(x_{0}, y_{0}) = \\left[\\begin{matrix}0\\\\0\\\\0\\end{matrix}\\right] \\\\ & k_2 = f(x_{0} + \\frac{h}{2}, y_{0} + \\frac{h}{2} \\cdot k_1) = f(0 + \\frac{2}{2}, \\left[\\begin{matrix}2\\\\0\\\\0\\end{matrix}\\right] + \\frac{2}{2} \\cdot \\left[\\begin{matrix}0\\\\0\\\\0\\end{matrix}\\right]) = \\left[\\begin{matrix}0\\\\0\\\\-2.0\\end{matrix}\\right] \\\\ & k_3 = f(x_{0} + \\frac{h}{2}, y_{0} + \\frac{h}{2} \\cdot k_2) = f(0 + \\frac{2}{2}, \\left[\\begin{matrix}2\\\\0\\\\0\\end{matrix}\\right] + \\frac{2}{2} \\cdot \\left[\\begin{matrix}0\\\\0\\\\-2.0\\end{matrix}\\right]) = \\left[\\begin{matrix}0\\\\-2.0\\\\-2.0\\end{matrix}\\right] \\\\ & k_4 = f(x_{0} + h, y_{0} + h \\cdot k_3) = f(0 + 2, \\left[\\begin{matrix}2\\\\0\\\\0\\end{matrix}\\right] + 2 \\cdot \\left[\\begin{matrix}0\\\\-2.0\\\\-2.0\\end{matrix}\\right]) = \\left[\\begin{matrix}-4.0\\\\-4.0\\\\12.0\\end{matrix}\\right] \\end{aligned}$"
      ],
      "text/plain": [
       "<IPython.core.display.Math object>"
      ]
     },
     "metadata": {},
     "output_type": "display_data"
    },
    {
     "data": {
      "text/latex": [
       "$\\displaystyle \\begin{aligned}& x_{1} = x_{0} + h = 0 + 2 = 2 \\\\ & y_{1} = y_{0} + \\frac{h}{6} \\cdot (k_1 + 2 \\cdot k_2 + 2 \\cdot k_3 + k_4) = \\left[\\begin{matrix}2\\\\0\\\\0\\end{matrix}\\right] + \\frac{2}{6} \\cdot (\\left[\\begin{matrix}0\\\\0\\\\0\\end{matrix}\\right] + 2 \\cdot \\left[\\begin{matrix}0\\\\0\\\\-2.0\\end{matrix}\\right] + 2 \\cdot \\left[\\begin{matrix}0\\\\-2.0\\\\-2.0\\end{matrix}\\right] + \\left[\\begin{matrix}-4.0\\\\-4.0\\\\12.0\\end{matrix}\\right]) = \\left[\\begin{matrix}0.666666666666667\\\\-2.66666666666667\\\\1.33333333333333\\end{matrix}\\right] \\end{aligned}$"
      ],
      "text/plain": [
       "<IPython.core.display.Math object>"
      ]
     },
     "metadata": {},
     "output_type": "display_data"
    }
   ],
   "source": [
    "import sympy as sp\n",
    "import importlib\n",
    "\n",
    "import dgl_euler as euler\n",
    "import dgl_runge_kutta as runge_kutta\n",
    "\n",
    "importlib.reload(euler)\n",
    "importlib.reload(runge_kutta)\n",
    "\n",
    "# y''' + 5y'' + 8y' + 6y = 10e^(-x)\n",
    "\n",
    "# 1. Auflösen nach höchster Ableitung\n",
    "#   -> y''' = 10e^(-x) - 5y'' - 8y' - 6y\n",
    "# 2. Ersetzen durch neue Variable\n",
    "#   -> z_1 = y\n",
    "#   -> z_2 = y'\n",
    "#   -> z_3 = y''\n",
    "# 3. Ersetzen der Ableitungen\n",
    "#   -> z_1' = y' = z_2\n",
    "#   -> z_2' = y'' = z_3\n",
    "#   -> z_3' = y''' = 10e^(-x) - 5z_3 - 8z_2 - 6z_1\n",
    "# 4. Vektorielle Darstellung\n",
    "#   -> z' = (z_1', z_2', z_3')^T\n",
    "#         = (z_2, z_3, 10e^(-x) - 5z_3 - 8z_2 - 6z_1)^T\n",
    "#         = f(x, z)\n",
    "\n",
    "f = lambda x, z: sp.Matrix([\n",
    "    z[1],\n",
    "    z[2],\n",
    "    z[1]**2 - x * z[0]\n",
    "])\n",
    "\n",
    "a = 0\n",
    "b = 5\n",
    "n = 1\n",
    "\n",
    "\n",
    "z0 = sp.Matrix([2, 0, 0])\n",
    "\n",
    "x, z = runge_kutta.classic(f, a, b, n, 2, z0, print_steps=True)"
   ]
  }
 ],
 "metadata": {
  "kernelspec": {
   "display_name": "venv",
   "language": "python",
   "name": "python3"
  },
  "language_info": {
   "codemirror_mode": {
    "name": "ipython",
    "version": 3
   },
   "file_extension": ".py",
   "mimetype": "text/x-python",
   "name": "python",
   "nbconvert_exporter": "python",
   "pygments_lexer": "ipython3",
   "version": "3.11.4"
  },
  "orig_nbformat": 4
 },
 "nbformat": 4,
 "nbformat_minor": 2
}

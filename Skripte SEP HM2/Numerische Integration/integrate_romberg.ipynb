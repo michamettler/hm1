{
 "cells": [
  {
   "cell_type": "code",
   "execution_count": 1,
   "metadata": {},
   "outputs": [
    {
     "data": {
      "text/plain": [
       "<module 'integrate_romberg' from '/home/florian/dev/github.com/thecodinglab/hm-scripts/sympy/integrate_romberg.py'>"
      ]
     },
     "execution_count": 1,
     "metadata": {},
     "output_type": "execute_result"
    }
   ],
   "source": [
    "import importlib\n",
    "import integrate_romberg\n",
    "importlib.reload(integrate_romberg)"
   ]
  },
  {
   "cell_type": "code",
   "execution_count": 2,
   "metadata": {},
   "outputs": [
    {
     "data": {
      "text/markdown": [
       "## Romberg-Extrapolation"
      ],
      "text/plain": [
       "<IPython.core.display.Markdown object>"
      ]
     },
     "metadata": {},
     "output_type": "display_data"
    },
    {
     "data": {
      "text/latex": [
       "$\\displaystyle T_{j0} = \\frac{b - a}{2^j} \\cdot \\left( \\frac{f(a) + f(b)}{2} + \\sum_{i=1}^{2^j - 1} f(a + i \\cdot h) \\right)$"
      ],
      "text/plain": [
       "<IPython.core.display.Math object>"
      ]
     },
     "metadata": {},
     "output_type": "display_data"
    },
    {
     "data": {
      "text/latex": [
       "$\\displaystyle T_{j,k} = \\frac{4^k \\cdot T_{j, k-1} - T_{j-1, k-1}}{4^k - 1}$"
      ],
      "text/plain": [
       "<IPython.core.display.Math object>"
      ]
     },
     "metadata": {},
     "output_type": "display_data"
    },
    {
     "data": {
      "text/markdown": [
       "### Rechenschritte"
      ],
      "text/plain": [
       "<IPython.core.display.Markdown object>"
      ]
     },
     "metadata": {},
     "output_type": "display_data"
    },
    {
     "data": {
      "text/markdown": [
       "#### Initialisierung"
      ],
      "text/plain": [
       "<IPython.core.display.Markdown object>"
      ]
     },
     "metadata": {},
     "output_type": "display_data"
    },
    {
     "data": {
      "text/latex": [
       "$\\displaystyle \\begin{aligned}\n",
       "T_{0, 0} &= \\frac{4 - 2}{2^{0}} \\cdot \\left( \\frac{f(2) + f({b})}{2} + \\sum_{i=1}^{2^{0} - 1} f(2 + i \\cdot 2.0) \\right) \\\\\n",
       " &= \\frac{2}{1} \\cdot \\left( \\frac{0.500000 + 0.250000}{2} + \\sum_{i=1}^{1 - 1} f(2 + i \\cdot 2.0) \\right) \\\\\n",
       " &= 2.000000 \\cdot \\left( 0.375000 + \\sum_{i=1}^{0} f(2 + i \\cdot 2.0) \\right) \\\\\n",
       " &= 2.000000 \\cdot 0.375000 \\\\\n",
       " &= 0.750000\n",
       "\\end{aligned}$"
      ],
      "text/plain": [
       "<IPython.core.display.Math object>"
      ]
     },
     "metadata": {},
     "output_type": "display_data"
    },
    {
     "data": {
      "text/latex": [
       "$\\displaystyle \\begin{aligned}\n",
       "T_{1, 0} &= \\frac{4 - 2}{2^{1}} \\cdot \\left( \\frac{f(2) + f({b})}{2} + \\sum_{i=1}^{2^{1} - 1} f(2 + i \\cdot 1.0) \\right) \\\\\n",
       " &= \\frac{2}{2} \\cdot \\left( \\frac{0.500000 + 0.250000}{2} + \\sum_{i=1}^{2 - 1} f(2 + i \\cdot 1.0) \\right) \\\\\n",
       " &= 1.000000 \\cdot \\left( 0.375000 + \\sum_{i=1}^{1} f(2 + i \\cdot 1.0) \\right) \\\\\n",
       " &= 1.000000 \\cdot \\left( 0.375000 + f(3.000000) \\right) \\\\\n",
       " &= 1.000000 \\cdot \\left( 0.375000 + 0.333333 \\right) \\\\\n",
       " &= 1.000000 \\cdot 0.708333 \\\\\n",
       " &= 0.708333\n",
       "\\end{aligned}$"
      ],
      "text/plain": [
       "<IPython.core.display.Math object>"
      ]
     },
     "metadata": {},
     "output_type": "display_data"
    },
    {
     "data": {
      "text/latex": [
       "$\\displaystyle \\begin{aligned}\n",
       "T_{2, 0} &= \\frac{4 - 2}{2^{2}} \\cdot \\left( \\frac{f(2) + f({b})}{2} + \\sum_{i=1}^{2^{2} - 1} f(2 + i \\cdot 0.5) \\right) \\\\\n",
       " &= \\frac{2}{4} \\cdot \\left( \\frac{0.500000 + 0.250000}{2} + \\sum_{i=1}^{4 - 1} f(2 + i \\cdot 0.5) \\right) \\\\\n",
       " &= 0.500000 \\cdot \\left( 0.375000 + \\sum_{i=1}^{3} f(2 + i \\cdot 0.5) \\right) \\\\\n",
       " &= 0.500000 \\cdot \\left( 0.375000 + f(2.500000) + f(3.000000) + f(3.500000) \\right) \\\\\n",
       " &= 0.500000 \\cdot \\left( 0.375000 + 0.400000 + 0.333333 + 0.285714 \\right) \\\\\n",
       " &= 0.500000 \\cdot 1.394048 \\\\\n",
       " &= 0.697024\n",
       "\\end{aligned}$"
      ],
      "text/plain": [
       "<IPython.core.display.Math object>"
      ]
     },
     "metadata": {},
     "output_type": "display_data"
    },
    {
     "data": {
      "text/latex": [
       "$\\displaystyle \\begin{aligned}\n",
       "T_{3, 0} &= \\frac{4 - 2}{2^{3}} \\cdot \\left( \\frac{f(2) + f({b})}{2} + \\sum_{i=1}^{2^{3} - 1} f(2 + i \\cdot 0.25) \\right) \\\\\n",
       " &= \\frac{2}{8} \\cdot \\left( \\frac{0.500000 + 0.250000}{2} + \\sum_{i=1}^{8 - 1} f(2 + i \\cdot 0.25) \\right) \\\\\n",
       " &= 0.250000 \\cdot \\left( 0.375000 + \\sum_{i=1}^{7} f(2 + i \\cdot 0.25) \\right) \\\\\n",
       " &= 0.250000 \\cdot \\left( 0.375000 + f(2.250000) + f(2.500000) + f(2.750000) + f(3.000000) + f(3.250000) + f(3.500000) + f(3.750000) \\right) \\\\\n",
       " &= 0.250000 \\cdot \\left( 0.375000 + 0.444444 + 0.400000 + 0.363636 + 0.333333 + 0.307692 + 0.285714 + 0.266667 \\right) \\\\\n",
       " &= 0.250000 \\cdot 2.776487 \\\\\n",
       " &= 0.694122\n",
       "\\end{aligned}$"
      ],
      "text/plain": [
       "<IPython.core.display.Math object>"
      ]
     },
     "metadata": {},
     "output_type": "display_data"
    },
    {
     "data": {
      "text/markdown": [
       "#### Iteration"
      ],
      "text/plain": [
       "<IPython.core.display.Markdown object>"
      ]
     },
     "metadata": {},
     "output_type": "display_data"
    },
    {
     "data": {
      "text/latex": [
       "$\\displaystyle T_{1, 1} = \\frac{4^{1} \\cdot T_{1, 0} - T_{0, 0}}{4^{1} - 1} = \\frac{4 \\cdot 0.708333 - 0.750000}{3} = 0.694444$"
      ],
      "text/plain": [
       "<IPython.core.display.Math object>"
      ]
     },
     "metadata": {},
     "output_type": "display_data"
    },
    {
     "data": {
      "text/latex": [
       "$\\displaystyle T_{2, 1} = \\frac{4^{1} \\cdot T_{2, 0} - T_{1, 0}}{4^{1} - 1} = \\frac{4 \\cdot 0.697024 - 0.708333}{3} = 0.693254$"
      ],
      "text/plain": [
       "<IPython.core.display.Math object>"
      ]
     },
     "metadata": {},
     "output_type": "display_data"
    },
    {
     "data": {
      "text/latex": [
       "$\\displaystyle T_{2, 2} = \\frac{4^{2} \\cdot T_{2, 1} - T_{1, 1}}{4^{2} - 1} = \\frac{16 \\cdot 0.693254 - 0.694444}{15} = 0.693175$"
      ],
      "text/plain": [
       "<IPython.core.display.Math object>"
      ]
     },
     "metadata": {},
     "output_type": "display_data"
    },
    {
     "data": {
      "text/latex": [
       "$\\displaystyle T_{3, 1} = \\frac{4^{1} \\cdot T_{3, 0} - T_{2, 0}}{4^{1} - 1} = \\frac{4 \\cdot 0.694122 - 0.697024}{3} = 0.693155$"
      ],
      "text/plain": [
       "<IPython.core.display.Math object>"
      ]
     },
     "metadata": {},
     "output_type": "display_data"
    },
    {
     "data": {
      "text/latex": [
       "$\\displaystyle T_{3, 2} = \\frac{4^{2} \\cdot T_{3, 1} - T_{2, 1}}{4^{2} - 1} = \\frac{16 \\cdot 0.693155 - 0.693254}{15} = 0.693148$"
      ],
      "text/plain": [
       "<IPython.core.display.Math object>"
      ]
     },
     "metadata": {},
     "output_type": "display_data"
    },
    {
     "data": {
      "text/latex": [
       "$\\displaystyle T_{3, 3} = \\frac{4^{3} \\cdot T_{3, 2} - T_{2, 2}}{4^{3} - 1} = \\frac{64 \\cdot 0.693148 - 0.693175}{63} = 0.693147$"
      ],
      "text/plain": [
       "<IPython.core.display.Math object>"
      ]
     },
     "metadata": {},
     "output_type": "display_data"
    },
    {
     "data": {
      "text/markdown": [
       "### Ergebnis"
      ],
      "text/plain": [
       "<IPython.core.display.Markdown object>"
      ]
     },
     "metadata": {},
     "output_type": "display_data"
    },
    {
     "data": {
      "text/latex": [
       "$\\displaystyle \\begin{matrix}\n",
       "T_{0, 0} = 0.750000 & \\\\\n",
       "T_{1, 0} = 0.708333 & T_{1, 1} = 0.694444 & \\\\\n",
       "T_{2, 0} = 0.697024 & T_{2, 1} = 0.693254 & T_{2, 2} = 0.693175 & \\\\\n",
       "T_{3, 0} = 0.694122 & T_{3, 1} = 0.693155 & T_{3, 2} = 0.693148 & T_{3, 3} = 0.693147 & \\\\\n",
       "\\end{matrix}$"
      ],
      "text/plain": [
       "<IPython.core.display.Math object>"
      ]
     },
     "metadata": {},
     "output_type": "display_data"
    },
    {
     "data": {
      "text/latex": [
       "$\\displaystyle T = T_{j, k} = T_{3, 3} = 0.693147$"
      ],
      "text/plain": [
       "<IPython.core.display.Math object>"
      ]
     },
     "metadata": {},
     "output_type": "display_data"
    },
    {
     "data": {
      "text/markdown": [
       "### Verifikation"
      ],
      "text/plain": [
       "<IPython.core.display.Markdown object>"
      ]
     },
     "metadata": {},
     "output_type": "display_data"
    },
    {
     "data": {
      "text/latex": [
       "$\\displaystyle \\int_{2}^{4} f(x) \\, dx = 0.693147$"
      ],
      "text/plain": [
       "<IPython.core.display.Math object>"
      ]
     },
     "metadata": {},
     "output_type": "display_data"
    },
    {
     "data": {
      "text/latex": [
       "$\\displaystyle \\text{Absoluter Fehler} = |0.000000| = 0.000000$"
      ],
      "text/plain": [
       "<IPython.core.display.Math object>"
      ]
     },
     "metadata": {},
     "output_type": "display_data"
    },
    {
     "data": {
      "text/latex": [
       "$\\displaystyle \\text{Relativer Fehler} = \\frac{|0.000000|}{|0.693147|} = 0.000000$"
      ],
      "text/plain": [
       "<IPython.core.display.Math object>"
      ]
     },
     "metadata": {},
     "output_type": "display_data"
    }
   ],
   "source": [
    "import sympy as sp\n",
    "from integrate_romberg import romberg\n",
    "\n",
    "x = sp.Symbol('x')\n",
    "f = 1 / x\n",
    "\n",
    "_ = romberg(f, x, 2, 4, n=4, precision=6)"
   ]
  }
 ],
 "metadata": {
  "kernelspec": {
   "display_name": "venv",
   "language": "python",
   "name": "python3"
  },
  "language_info": {
   "codemirror_mode": {
    "name": "ipython",
    "version": 3
   },
   "file_extension": ".py",
   "mimetype": "text/x-python",
   "name": "python",
   "nbconvert_exporter": "python",
   "pygments_lexer": "ipython3",
   "version": "3.11.3"
  },
  "orig_nbformat": 4
 },
 "nbformat": 4,
 "nbformat_minor": 2
}

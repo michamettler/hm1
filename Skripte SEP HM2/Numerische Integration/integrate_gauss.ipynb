{
 "cells": [
  {
   "cell_type": "code",
   "execution_count": 2,
   "metadata": {},
   "outputs": [
    {
     "data": {
      "text/plain": [
       "<module 'integrate_gauss' from '/home/florian/dev/github.com/thecodinglab/hm-scripts/sympy/integrate_gauss.py'>"
      ]
     },
     "execution_count": 2,
     "metadata": {},
     "output_type": "execute_result"
    }
   ],
   "source": [
    "import integrate_gauss\n",
    "import importlib\n",
    "importlib.reload(integrate_gauss)"
   ]
  },
  {
   "cell_type": "code",
   "execution_count": 3,
   "metadata": {},
   "outputs": [
    {
     "data": {
      "text/latex": [
       "$\\displaystyle G_1f = (b - a) \\cdot f \\left( \\frac{a + b}{2} \\right) = (0.5 - 0) \\cdot f \\left( \\frac{0 + 0.5}{2} \\right) = (0.5) \\cdot f \\left( \\frac{0.5}{2} \\right) = (0.5) \\cdot f \\left( 0.250000 \\right) = (0.5) \\cdot 0.939413 = 0.469707$"
      ],
      "text/plain": [
       "<IPython.core.display.Math object>"
      ]
     },
     "metadata": {},
     "output_type": "display_data"
    },
    {
     "data": {
      "text/latex": [
       "$\\begin{aligned}\n",
       "G_2f &= \\frac{b - a}{2} \\cdot \\left[ f \\left( - \\frac{1}{\\sqrt{3}} \\cdot \\frac{b - a}{2} + \\frac{a + b}{2} \\right) + f \\left( \\frac{1}{\\sqrt{3}} \\cdot \\frac{b - a}{2} + \\frac{a + b}{2} \\right) \\right] \\\\\n",
       " &= \\frac{0.5 - 0}{2} \\cdot \\left[ f \\left( - \\frac{1}{\\sqrt{3}} \\cdot \\frac{0.5 - 0}{2} + \\frac{0 + 0.5}{2} \\right) + f \\left( \\frac{1}{\\sqrt{3}} \\cdot \\frac{0.5 - 0}{2} + \\frac{0 + 0.5}{2} \\right) \\right] \\\\\n",
       " &= \\frac{0.5}{2} \\cdot \\left[ f \\left( - \\frac{0.5}{2 \\cdot \\sqrt{3}} + \\frac{0.5}{2} \\right) + f \\left( \\frac{0.5}{2 \\cdot \\sqrt{3}} + \\frac{0.5}{2} \\right) \\right] \\\\\n",
       " &= 0.250000 \\cdot \\left[ f \\left( 0.105662 \\right) + f \\left( 0.394338 \\right) \\right] \\\\\n",
       " &= 0.250000 \\cdot \\left[ 0.988898 + 0.855985 \\right] \\\\\n",
       " &= 0.461221\n",
       "\\end{aligned}$"
      ],
      "text/plain": [
       "<IPython.core.display.Latex object>"
      ]
     },
     "metadata": {},
     "output_type": "display_data"
    },
    {
     "data": {
      "text/latex": [
       "$\\begin{aligned}\n",
       "G_3f &= \\frac{b - a}{2} \\cdot \\left[ \\frac{5}{9} \\cdot f \\left( - \\sqrt{0.6} \\cdot \\frac{b - a}{2} + \\frac{a + b}{2} \\right) + \\frac{8}{9} \\cdot f \\left( \\frac{a + b}{2} \\right) + \\frac{5}{9} \\cdot f \\left( \\sqrt{0.6} \\cdot \\frac{b - a}{2} + \\frac{a + b}{2} \\right) \\right] \\\\\n",
       " &= \\frac{0.5 - 0}{2} \\cdot \\left[ \\frac{5}{9} \\cdot f \\left( - \\sqrt{0.6} \\cdot \\frac{0.5 - 0}{2} + \\frac{0 + 0.5}{2} \\right) + \\frac{8}{9} \\cdot f \\left( \\frac{0 + 0.5}{2} \\right) + \\frac{5}{9} \\cdot f \\left( \\sqrt{0.6} \\cdot \\frac{0.5 - 0}{2} + \\frac{0 + 0.5}{2} \\right) \\right] \\\\\n",
       " &= \\frac{0.5}{2} \\cdot \\left[ \\frac{5}{9} \\cdot f \\left( - \\sqrt{0.6} \\cdot \\frac{0.5}{2} + \\frac{0.5}{2} \\right) + \\frac{8}{9} \\cdot f \\left( \\frac{0.5}{2} \\right) + \\frac{5}{9} \\cdot f \\left( \\sqrt{0.6} \\cdot \\frac{0.5}{2} + \\frac{0.5}{2} \\right) \\right] \\\\\n",
       " &= 0.250000 \\cdot \\left[ \\frac{5}{9} \\cdot f \\left( 0.056351 \\right) + \\frac{8}{9} \\cdot f \\left( 0.250000 \\right) + \\frac{5}{9} \\cdot f \\left( 0.443649 \\right) \\right] \\\\\n",
       " &= 0.250000 \\cdot \\left[ \\frac{5}{9} \\cdot 0.996830 + \\frac{8}{9} \\cdot 0.939413 + \\frac{5}{9} \\cdot 0.821335 \\right] \\\\\n",
       " &= 0.461281\n",
       "\\end{aligned}$"
      ],
      "text/plain": [
       "<IPython.core.display.Latex object>"
      ]
     },
     "metadata": {},
     "output_type": "display_data"
    }
   ],
   "source": [
    "import sympy as sp\n",
    "from integrate_gauss import gauss_1, gauss_2, gauss_3\n",
    "\n",
    "x = sp.Symbol('x')\n",
    "f = sp.exp(-x ** 2)\n",
    "\n",
    "_ = gauss_1(f, x, 0, 0.5, precision=6)\n",
    "_ = gauss_2(f, x, 0, 0.5, precision=6)\n",
    "_ = gauss_3(f, x, 0, 0.5, precision=6)"
   ]
  }
 ],
 "metadata": {
  "kernelspec": {
   "display_name": "venv",
   "language": "python",
   "name": "python3"
  },
  "language_info": {
   "codemirror_mode": {
    "name": "ipython",
    "version": 3
   },
   "file_extension": ".py",
   "mimetype": "text/x-python",
   "name": "python",
   "nbconvert_exporter": "python",
   "pygments_lexer": "ipython3",
   "version": "3.11.3"
  },
  "orig_nbformat": 4
 },
 "nbformat": 4,
 "nbformat_minor": 2
}

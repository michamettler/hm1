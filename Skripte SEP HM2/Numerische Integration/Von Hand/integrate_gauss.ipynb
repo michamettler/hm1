{
 "cells": [
  {
   "cell_type": "code",
   "execution_count": 1,
   "metadata": {},
   "outputs": [
    {
     "data": {
      "text/plain": [
       "<module 'integrate_gauss' from 'c:\\\\Users\\\\mettl\\\\Documents\\\\Python Scripts\\\\zhaw-hm1\\\\Skripte SEP HM2\\\\Numerische Integration\\\\Von Hand\\\\integrate_gauss.py'>"
      ]
     },
     "execution_count": 1,
     "metadata": {},
     "output_type": "execute_result"
    }
   ],
   "source": [
    "import integrate_gauss\n",
    "import importlib\n",
    "importlib.reload(integrate_gauss)"
   ]
  },
  {
   "cell_type": "code",
   "execution_count": 2,
   "metadata": {},
   "outputs": [
    {
     "data": {
      "text/latex": [
       "$\\displaystyle G_1f = (b - a) \\cdot f \\left( \\frac{a + b}{2} \\right) = (4 - 2) \\cdot f \\left( \\frac{2 + 4}{2} \\right) = (2) \\cdot f \\left( \\frac{6}{2} \\right) = (2) \\cdot f \\left( 3.000000 \\right) = (2) \\cdot 0.333333 = 0.666667$"
      ],
      "text/plain": [
       "<IPython.core.display.Math object>"
      ]
     },
     "metadata": {},
     "output_type": "display_data"
    },
    {
     "data": {
      "text/latex": [
       "$\\begin{aligned}\n",
       "G_2f &= \\frac{b - a}{2} \\cdot \\left[ f \\left( - \\frac{1}{\\sqrt{3}} \\cdot \\frac{b - a}{2} + \\frac{a + b}{2} \\right) + f \\left( \\frac{1}{\\sqrt{3}} \\cdot \\frac{b - a}{2} + \\frac{a + b}{2} \\right) \\right] \\\\\n",
       " &= \\frac{4 - 2}{2} \\cdot \\left[ f \\left( - \\frac{1}{\\sqrt{3}} \\cdot \\frac{4 - 2}{2} + \\frac{2 + 4}{2} \\right) + f \\left( \\frac{1}{\\sqrt{3}} \\cdot \\frac{4 - 2}{2} + \\frac{2 + 4}{2} \\right) \\right] \\\\\n",
       " &= \\frac{2}{2} \\cdot \\left[ f \\left( - \\frac{2}{2 \\cdot \\sqrt{3}} + \\frac{6}{2} \\right) + f \\left( \\frac{2}{2 \\cdot \\sqrt{3}} + \\frac{6}{2} \\right) \\right] \\\\\n",
       " &= 1.000000 \\cdot \\left[ f \\left( 2.422650 \\right) + f \\left( 3.577350 \\right) \\right] \\\\\n",
       " &= 1.000000 \\cdot \\left[ 0.412771 + 0.279537 \\right] \\\\\n",
       " &= 0.692308\n",
       "\\end{aligned}$"
      ],
      "text/plain": [
       "<IPython.core.display.Latex object>"
      ]
     },
     "metadata": {},
     "output_type": "display_data"
    },
    {
     "data": {
      "text/latex": [
       "$\\begin{aligned}\n",
       "G_3f &= \\frac{b - a}{2} \\cdot \\left[ \\frac{5}{9} \\cdot f \\left( - \\sqrt{0.6} \\cdot \\frac{b - a}{2} + \\frac{a + b}{2} \\right) + \\frac{8}{9} \\cdot f \\left( \\frac{a + b}{2} \\right) + \\frac{5}{9} \\cdot f \\left( \\sqrt{0.6} \\cdot \\frac{b - a}{2} + \\frac{a + b}{2} \\right) \\right] \\\\\n",
       " &= \\frac{4 - 2}{2} \\cdot \\left[ \\frac{5}{9} \\cdot f \\left( - \\sqrt{0.6} \\cdot \\frac{4 - 2}{2} + \\frac{2 + 4}{2} \\right) + \\frac{8}{9} \\cdot f \\left( \\frac{2 + 4}{2} \\right) + \\frac{5}{9} \\cdot f \\left( \\sqrt{0.6} \\cdot \\frac{4 - 2}{2} + \\frac{2 + 4}{2} \\right) \\right] \\\\\n",
       " &= \\frac{2}{2} \\cdot \\left[ \\frac{5}{9} \\cdot f \\left( - \\sqrt{0.6} \\cdot \\frac{2}{2} + \\frac{6}{2} \\right) + \\frac{8}{9} \\cdot f \\left( \\frac{6}{2} \\right) + \\frac{5}{9} \\cdot f \\left( \\sqrt{0.6} \\cdot \\frac{2}{2} + \\frac{6}{2} \\right) \\right] \\\\\n",
       " &= 1.000000 \\cdot \\left[ \\frac{5}{9} \\cdot f \\left( 2.225403 \\right) + \\frac{8}{9} \\cdot f \\left( 3.000000 \\right) + \\frac{5}{9} \\cdot f \\left( 3.774597 \\right) \\right] \\\\\n",
       " &= 1.000000 \\cdot \\left[ \\frac{5}{9} \\cdot 0.449357 + \\frac{8}{9} \\cdot 0.333333 + \\frac{5}{9} \\cdot 0.264929 \\right] \\\\\n",
       " &= 0.693122\n",
       "\\end{aligned}$"
      ],
      "text/plain": [
       "<IPython.core.display.Latex object>"
      ]
     },
     "metadata": {},
     "output_type": "display_data"
    }
   ],
   "source": [
    "import sympy as sp\n",
    "from integrate_gauss import gauss_1, gauss_2, gauss_3\n",
    "\n",
    "x = sp.Symbol('x')\n",
    "f = 1/x\n",
    "\n",
    "_ = gauss_1(f, x, 2, 4, precision=6)\n",
    "_ = gauss_2(f, x, 2, 4, precision=6)\n",
    "_ = gauss_3(f, x, 2, 4, precision=6)"
   ]
  }
 ],
 "metadata": {
  "kernelspec": {
   "display_name": "venv",
   "language": "python",
   "name": "python3"
  },
  "language_info": {
   "codemirror_mode": {
    "name": "ipython",
    "version": 3
   },
   "file_extension": ".py",
   "mimetype": "text/x-python",
   "name": "python",
   "nbconvert_exporter": "python",
   "pygments_lexer": "ipython3",
   "version": "3.11.4"
  },
  "orig_nbformat": 4
 },
 "nbformat": 4,
 "nbformat_minor": 2
}

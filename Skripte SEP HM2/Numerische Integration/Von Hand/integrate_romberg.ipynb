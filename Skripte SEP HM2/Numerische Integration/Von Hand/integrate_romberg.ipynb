{
 "cells": [
  {
   "cell_type": "code",
   "execution_count": 1,
   "metadata": {},
   "outputs": [
    {
     "data": {
      "text/plain": [
       "<module 'integrate_romberg' from 'c:\\\\Users\\\\mettl\\\\Documents\\\\Python Scripts\\\\zhaw-hm1\\\\Skripte SEP HM2\\\\Numerische Integration\\\\Von Hand\\\\integrate_romberg.py'>"
      ]
     },
     "execution_count": 1,
     "metadata": {},
     "output_type": "execute_result"
    }
   ],
   "source": [
    "import importlib\n",
    "import integrate_romberg\n",
    "importlib.reload(integrate_romberg)"
   ]
  },
  {
   "cell_type": "code",
   "execution_count": 2,
   "metadata": {},
   "outputs": [
    {
     "data": {
      "text/markdown": [
       "## Romberg-Extrapolation"
      ],
      "text/plain": [
       "<IPython.core.display.Markdown object>"
      ]
     },
     "metadata": {},
     "output_type": "display_data"
    },
    {
     "data": {
      "text/latex": [
       "$\\displaystyle T_{j0} = \\frac{b - a}{2^j} \\cdot \\left( \\frac{f(a) + f(b)}{2} + \\sum_{i=1}^{2^j - 1} f(a + i \\cdot h) \\right)$"
      ],
      "text/plain": [
       "<IPython.core.display.Math object>"
      ]
     },
     "metadata": {},
     "output_type": "display_data"
    },
    {
     "data": {
      "text/latex": [
       "$\\displaystyle T_{j,k} = \\frac{4^k \\cdot T_{j, k-1} - T_{j-1, k-1}}{4^k - 1}$"
      ],
      "text/plain": [
       "<IPython.core.display.Math object>"
      ]
     },
     "metadata": {},
     "output_type": "display_data"
    },
    {
     "data": {
      "text/markdown": [
       "### Rechenschritte"
      ],
      "text/plain": [
       "<IPython.core.display.Markdown object>"
      ]
     },
     "metadata": {},
     "output_type": "display_data"
    },
    {
     "data": {
      "text/markdown": [
       "#### Initialisierung"
      ],
      "text/plain": [
       "<IPython.core.display.Markdown object>"
      ]
     },
     "metadata": {},
     "output_type": "display_data"
    },
    {
     "data": {
      "text/latex": [
       "$\\displaystyle \\begin{aligned}\n",
       "T_{0, 0} &= \\frac{4 - 0}{2^{0}} \\cdot \\left( \\frac{f(0) + f({b})}{2} + \\sum_{i=1}^{2^{0} - 1} f(0 + i \\cdot 4.0) \\right) \\\\\n",
       " &= \\frac{4}{1} \\cdot \\left( \\frac{0.000000 + 88.000000}{2} + \\sum_{i=1}^{1 - 1} f(0 + i \\cdot 4.0) \\right) \\\\\n",
       " &= 4.000000 \\cdot \\left( 44.000000 + \\sum_{i=1}^{0} f(0 + i \\cdot 4.0) \\right) \\\\\n",
       " &= 4.000000 \\cdot 44.000000 \\\\\n",
       " &= 176.000000\n",
       "\\end{aligned}$"
      ],
      "text/plain": [
       "<IPython.core.display.Math object>"
      ]
     },
     "metadata": {},
     "output_type": "display_data"
    },
    {
     "data": {
      "text/latex": [
       "$\\displaystyle \\begin{aligned}\n",
       "T_{1, 0} &= \\frac{4 - 0}{2^{1}} \\cdot \\left( \\frac{f(0) + f({b})}{2} + \\sum_{i=1}^{2^{1} - 1} f(0 + i \\cdot 2.0) \\right) \\\\\n",
       " &= \\frac{4}{2} \\cdot \\left( \\frac{0.000000 + 88.000000}{2} + \\sum_{i=1}^{2 - 1} f(0 + i \\cdot 2.0) \\right) \\\\\n",
       " &= 2.000000 \\cdot \\left( 44.000000 + \\sum_{i=1}^{1} f(0 + i \\cdot 2.0) \\right) \\\\\n",
       " &= 2.000000 \\cdot \\left( 44.000000 + f(2.000000) \\right) \\\\\n",
       " &= 2.000000 \\cdot \\left( 44.000000 + 20.000000 \\right) \\\\\n",
       " &= 2.000000 \\cdot 64.000000 \\\\\n",
       " &= 128.000000\n",
       "\\end{aligned}$"
      ],
      "text/plain": [
       "<IPython.core.display.Math object>"
      ]
     },
     "metadata": {},
     "output_type": "display_data"
    },
    {
     "data": {
      "text/latex": [
       "$\\displaystyle \\begin{aligned}\n",
       "T_{2, 0} &= \\frac{4 - 0}{2^{2}} \\cdot \\left( \\frac{f(0) + f({b})}{2} + \\sum_{i=1}^{2^{2} - 1} f(0 + i \\cdot 1.0) \\right) \\\\\n",
       " &= \\frac{4}{4} \\cdot \\left( \\frac{0.000000 + 88.000000}{2} + \\sum_{i=1}^{4 - 1} f(0 + i \\cdot 1.0) \\right) \\\\\n",
       " &= 1.000000 \\cdot \\left( 44.000000 + \\sum_{i=1}^{3} f(0 + i \\cdot 1.0) \\right) \\\\\n",
       " &= 1.000000 \\cdot \\left( 44.000000 + f(1.000000) + f(2.000000) + f(3.000000) \\right) \\\\\n",
       " &= 1.000000 \\cdot \\left( 44.000000 + 4.000000 + 20.000000 + 48.000000 \\right) \\\\\n",
       " &= 1.000000 \\cdot 116.000000 \\\\\n",
       " &= 116.000000\n",
       "\\end{aligned}$"
      ],
      "text/plain": [
       "<IPython.core.display.Math object>"
      ]
     },
     "metadata": {},
     "output_type": "display_data"
    },
    {
     "data": {
      "text/latex": [
       "$\\displaystyle \\begin{aligned}\n",
       "T_{3, 0} &= \\frac{4 - 0}{2^{3}} \\cdot \\left( \\frac{f(0) + f({b})}{2} + \\sum_{i=1}^{2^{3} - 1} f(0 + i \\cdot 0.5) \\right) \\\\\n",
       " &= \\frac{4}{8} \\cdot \\left( \\frac{0.000000 + 88.000000}{2} + \\sum_{i=1}^{8 - 1} f(0 + i \\cdot 0.5) \\right) \\\\\n",
       " &= 0.500000 \\cdot \\left( 44.000000 + \\sum_{i=1}^{7} f(0 + i \\cdot 0.5) \\right) \\\\\n",
       " &= 0.500000 \\cdot \\left( 44.000000 + f(0.500000) + f(1.000000) + f(1.500000) + f(2.000000) + f(2.500000) + f(3.000000) + f(3.500000) \\right) \\\\\n",
       " &= 0.500000 \\cdot \\left( 44.000000 + 0.500000 + 4.000000 + 10.500000 + 20.000000 + 32.500000 + 48.000000 + 66.500000 \\right) \\\\\n",
       " &= 0.500000 \\cdot 226.000000 \\\\\n",
       " &= 113.000000\n",
       "\\end{aligned}$"
      ],
      "text/plain": [
       "<IPython.core.display.Math object>"
      ]
     },
     "metadata": {},
     "output_type": "display_data"
    },
    {
     "data": {
      "text/markdown": [
       "#### Iteration"
      ],
      "text/plain": [
       "<IPython.core.display.Markdown object>"
      ]
     },
     "metadata": {},
     "output_type": "display_data"
    },
    {
     "data": {
      "text/latex": [
       "$\\displaystyle T_{1, 1} = \\frac{4^{1} \\cdot T_{1, 0} - T_{0, 0}}{4^{1} - 1} = \\frac{4 \\cdot 128.000000 - 176.000000}{3} = 112.000000$"
      ],
      "text/plain": [
       "<IPython.core.display.Math object>"
      ]
     },
     "metadata": {},
     "output_type": "display_data"
    },
    {
     "data": {
      "text/latex": [
       "$\\displaystyle T_{2, 1} = \\frac{4^{1} \\cdot T_{2, 0} - T_{1, 0}}{4^{1} - 1} = \\frac{4 \\cdot 116.000000 - 128.000000}{3} = 112.000000$"
      ],
      "text/plain": [
       "<IPython.core.display.Math object>"
      ]
     },
     "metadata": {},
     "output_type": "display_data"
    },
    {
     "data": {
      "text/latex": [
       "$\\displaystyle T_{2, 2} = \\frac{4^{2} \\cdot T_{2, 1} - T_{1, 1}}{4^{2} - 1} = \\frac{16 \\cdot 112.000000 - 112.000000}{15} = 112.000000$"
      ],
      "text/plain": [
       "<IPython.core.display.Math object>"
      ]
     },
     "metadata": {},
     "output_type": "display_data"
    },
    {
     "data": {
      "text/latex": [
       "$\\displaystyle T_{3, 1} = \\frac{4^{1} \\cdot T_{3, 0} - T_{2, 0}}{4^{1} - 1} = \\frac{4 \\cdot 113.000000 - 116.000000}{3} = 112.000000$"
      ],
      "text/plain": [
       "<IPython.core.display.Math object>"
      ]
     },
     "metadata": {},
     "output_type": "display_data"
    },
    {
     "data": {
      "text/latex": [
       "$\\displaystyle T_{3, 2} = \\frac{4^{2} \\cdot T_{3, 1} - T_{2, 1}}{4^{2} - 1} = \\frac{16 \\cdot 112.000000 - 112.000000}{15} = 112.000000$"
      ],
      "text/plain": [
       "<IPython.core.display.Math object>"
      ]
     },
     "metadata": {},
     "output_type": "display_data"
    },
    {
     "data": {
      "text/latex": [
       "$\\displaystyle T_{3, 3} = \\frac{4^{3} \\cdot T_{3, 2} - T_{2, 2}}{4^{3} - 1} = \\frac{64 \\cdot 112.000000 - 112.000000}{63} = 112.000000$"
      ],
      "text/plain": [
       "<IPython.core.display.Math object>"
      ]
     },
     "metadata": {},
     "output_type": "display_data"
    },
    {
     "data": {
      "text/markdown": [
       "### Ergebnis"
      ],
      "text/plain": [
       "<IPython.core.display.Markdown object>"
      ]
     },
     "metadata": {},
     "output_type": "display_data"
    },
    {
     "data": {
      "text/latex": [
       "$\\displaystyle \\begin{matrix}\n",
       "T_{0, 0} = 176.000000 & \\\\\n",
       "T_{1, 0} = 128.000000 & T_{1, 1} = 112.000000 & \\\\\n",
       "T_{2, 0} = 116.000000 & T_{2, 1} = 112.000000 & T_{2, 2} = 112.000000 & \\\\\n",
       "T_{3, 0} = 113.000000 & T_{3, 1} = 112.000000 & T_{3, 2} = 112.000000 & T_{3, 3} = 112.000000 & \\\\\n",
       "\\end{matrix}$"
      ],
      "text/plain": [
       "<IPython.core.display.Math object>"
      ]
     },
     "metadata": {},
     "output_type": "display_data"
    },
    {
     "data": {
      "text/latex": [
       "$\\displaystyle T = T_{j, k} = T_{3, 3} = 112.000000$"
      ],
      "text/plain": [
       "<IPython.core.display.Math object>"
      ]
     },
     "metadata": {},
     "output_type": "display_data"
    },
    {
     "data": {
      "text/markdown": [
       "### Verifikation"
      ],
      "text/plain": [
       "<IPython.core.display.Markdown object>"
      ]
     },
     "metadata": {},
     "output_type": "display_data"
    },
    {
     "data": {
      "text/latex": [
       "$\\displaystyle \\int_{0}^{4} f(x) \\, dx = 112.000000$"
      ],
      "text/plain": [
       "<IPython.core.display.Math object>"
      ]
     },
     "metadata": {},
     "output_type": "display_data"
    },
    {
     "data": {
      "text/latex": [
       "$\\displaystyle \\text{Absoluter Fehler} = |0.000000| = 0.000000$"
      ],
      "text/plain": [
       "<IPython.core.display.Math object>"
      ]
     },
     "metadata": {},
     "output_type": "display_data"
    },
    {
     "data": {
      "text/latex": [
       "$\\displaystyle \\text{Relativer Fehler} = \\frac{|0.000000|}{|112.000000|} = 0.000000$"
      ],
      "text/plain": [
       "<IPython.core.display.Math object>"
      ]
     },
     "metadata": {},
     "output_type": "display_data"
    }
   ],
   "source": [
    "import sympy as sp\n",
    "from integrate_romberg import romberg\n",
    "\n",
    "x = sp.Symbol('x')\n",
    "f = 6*x**2 - 2*x\n",
    "\n",
    "_ = romberg(f, x, 0, 4, n=4, precision=6)"
   ]
  }
 ],
 "metadata": {
  "kernelspec": {
   "display_name": "venv",
   "language": "python",
   "name": "python3"
  },
  "language_info": {
   "codemirror_mode": {
    "name": "ipython",
    "version": 3
   },
   "file_extension": ".py",
   "mimetype": "text/x-python",
   "name": "python",
   "nbconvert_exporter": "python",
   "pygments_lexer": "ipython3",
   "version": "3.11.4"
  },
  "orig_nbformat": 4
 },
 "nbformat": 4,
 "nbformat_minor": 2
}

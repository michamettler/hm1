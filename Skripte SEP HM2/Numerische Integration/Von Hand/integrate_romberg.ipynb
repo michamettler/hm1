{
 "cells": [
  {
   "cell_type": "code",
   "execution_count": 1,
   "metadata": {},
   "outputs": [
    {
     "data": {
      "text/plain": [
       "<module 'integrate_romberg' from 'c:\\\\Users\\\\mettl\\\\Documents\\\\Python Scripts\\\\zhaw-hm1\\\\Skripte SEP HM2\\\\Numerische Integration\\\\Von Hand\\\\integrate_romberg.py'>"
      ]
     },
     "execution_count": 1,
     "metadata": {},
     "output_type": "execute_result"
    }
   ],
   "source": [
    "import importlib\n",
    "import integrate_romberg\n",
    "importlib.reload(integrate_romberg)"
   ]
  },
  {
   "cell_type": "code",
   "execution_count": 1,
   "metadata": {},
   "outputs": [
    {
     "data": {
      "text/markdown": [
       "## Romberg-Extrapolation"
      ],
      "text/plain": [
       "<IPython.core.display.Markdown object>"
      ]
     },
     "metadata": {},
     "output_type": "display_data"
    },
    {
     "data": {
      "text/latex": [
       "$\\displaystyle T_{j0} = \\frac{b - a}{2^j} \\cdot \\left( \\frac{f(a) + f(b)}{2} + \\sum_{i=1}^{2^j - 1} f(a + i \\cdot h) \\right)$"
      ],
      "text/plain": [
       "<IPython.core.display.Math object>"
      ]
     },
     "metadata": {},
     "output_type": "display_data"
    },
    {
     "data": {
      "text/latex": [
       "$\\displaystyle T_{j,k} = \\frac{4^k \\cdot T_{j, k-1} - T_{j-1, k-1}}{4^k - 1}$"
      ],
      "text/plain": [
       "<IPython.core.display.Math object>"
      ]
     },
     "metadata": {},
     "output_type": "display_data"
    },
    {
     "data": {
      "text/markdown": [
       "### Rechenschritte"
      ],
      "text/plain": [
       "<IPython.core.display.Markdown object>"
      ]
     },
     "metadata": {},
     "output_type": "display_data"
    },
    {
     "data": {
      "text/markdown": [
       "#### Initialisierung"
      ],
      "text/plain": [
       "<IPython.core.display.Markdown object>"
      ]
     },
     "metadata": {},
     "output_type": "display_data"
    },
    {
     "data": {
      "text/latex": [
       "$\\displaystyle \\begin{aligned}\n",
       "T_{0, 0} &= \\frac{pi/2 - 0}{2^{0}} \\cdot \\left( \\frac{f(0) + f({b})}{2} + \\sum_{i=1}^{2^{0} - 1} f(0 + i \\cdot pi/2) \\right) \\\\\n",
       " &= \\frac{pi/2}{1} \\cdot \\left( \\frac{0.000000 + 1.000000}{2} + \\sum_{i=1}^{1 - 1} f(0 + i \\cdot pi/2) \\right) \\\\\n",
       " &= 1.570796 \\cdot \\left( 0.500000 + \\sum_{i=1}^{0} f(0 + i \\cdot pi/2) \\right) \\\\\n",
       " &= 1.570796 \\cdot 0.500000 \\\\\n",
       " &= 0.785398\n",
       "\\end{aligned}$"
      ],
      "text/plain": [
       "<IPython.core.display.Math object>"
      ]
     },
     "metadata": {},
     "output_type": "display_data"
    },
    {
     "data": {
      "text/latex": [
       "$\\displaystyle \\begin{aligned}\n",
       "T_{1, 0} &= \\frac{pi/2 - 0}{2^{1}} \\cdot \\left( \\frac{f(0) + f({b})}{2} + \\sum_{i=1}^{2^{1} - 1} f(0 + i \\cdot pi/4) \\right) \\\\\n",
       " &= \\frac{pi/2}{2} \\cdot \\left( \\frac{0.000000 + 1.000000}{2} + \\sum_{i=1}^{2 - 1} f(0 + i \\cdot pi/4) \\right) \\\\\n",
       " &= 0.785398 \\cdot \\left( 0.500000 + \\sum_{i=1}^{1} f(0 + i \\cdot pi/4) \\right) \\\\\n",
       " &= 0.785398 \\cdot \\left( 0.500000 + f(0.785398) \\right) \\\\\n",
       " &= 0.785398 \\cdot \\left( 0.500000 + 0.707107 \\right) \\\\\n",
       " &= 0.785398 \\cdot 1.207107 \\\\\n",
       " &= 0.948059\n",
       "\\end{aligned}$"
      ],
      "text/plain": [
       "<IPython.core.display.Math object>"
      ]
     },
     "metadata": {},
     "output_type": "display_data"
    },
    {
     "data": {
      "text/latex": [
       "$\\displaystyle \\begin{aligned}\n",
       "T_{2, 0} &= \\frac{pi/2 - 0}{2^{2}} \\cdot \\left( \\frac{f(0) + f({b})}{2} + \\sum_{i=1}^{2^{2} - 1} f(0 + i \\cdot pi/8) \\right) \\\\\n",
       " &= \\frac{pi/2}{4} \\cdot \\left( \\frac{0.000000 + 1.000000}{2} + \\sum_{i=1}^{4 - 1} f(0 + i \\cdot pi/8) \\right) \\\\\n",
       " &= 0.392699 \\cdot \\left( 0.500000 + \\sum_{i=1}^{3} f(0 + i \\cdot pi/8) \\right) \\\\\n",
       " &= 0.392699 \\cdot \\left( 0.500000 + f(0.392699) + f(0.785398) + f(1.178097) \\right) \\\\\n",
       " &= 0.392699 \\cdot \\left( 0.500000 + 0.382683 + 0.707107 + 0.923880 \\right) \\\\\n",
       " &= 0.392699 \\cdot 2.513670 \\\\\n",
       " &= 0.987116\n",
       "\\end{aligned}$"
      ],
      "text/plain": [
       "<IPython.core.display.Math object>"
      ]
     },
     "metadata": {},
     "output_type": "display_data"
    },
    {
     "data": {
      "text/latex": [
       "$\\displaystyle \\begin{aligned}\n",
       "T_{3, 0} &= \\frac{pi/2 - 0}{2^{3}} \\cdot \\left( \\frac{f(0) + f({b})}{2} + \\sum_{i=1}^{2^{3} - 1} f(0 + i \\cdot pi/16) \\right) \\\\\n",
       " &= \\frac{pi/2}{8} \\cdot \\left( \\frac{0.000000 + 1.000000}{2} + \\sum_{i=1}^{8 - 1} f(0 + i \\cdot pi/16) \\right) \\\\\n",
       " &= 0.196350 \\cdot \\left( 0.500000 + \\sum_{i=1}^{7} f(0 + i \\cdot pi/16) \\right) \\\\\n",
       " &= 0.196350 \\cdot \\left( 0.500000 + f(0.196350) + f(0.392699) + f(0.589049) + f(0.785398) + f(0.981748) + f(1.178097) + f(1.374447) \\right) \\\\\n",
       " &= 0.196350 \\cdot \\left( 0.500000 + 0.195090 + 0.382683 + 0.555570 + 0.707107 + 0.831470 + 0.923880 + 0.980785 \\right) \\\\\n",
       " &= 0.196350 \\cdot 5.076585 \\\\\n",
       " &= 0.996785\n",
       "\\end{aligned}$"
      ],
      "text/plain": [
       "<IPython.core.display.Math object>"
      ]
     },
     "metadata": {},
     "output_type": "display_data"
    },
    {
     "data": {
      "text/markdown": [
       "#### Iteration"
      ],
      "text/plain": [
       "<IPython.core.display.Markdown object>"
      ]
     },
     "metadata": {},
     "output_type": "display_data"
    },
    {
     "data": {
      "text/latex": [
       "$\\displaystyle T_{1, 1} = \\frac{4^{1} \\cdot T_{1, 0} - T_{0, 0}}{4^{1} - 1} = \\frac{4 \\cdot 0.948059 - 0.785398}{3} = 1.002280$"
      ],
      "text/plain": [
       "<IPython.core.display.Math object>"
      ]
     },
     "metadata": {},
     "output_type": "display_data"
    },
    {
     "data": {
      "text/latex": [
       "$\\displaystyle T_{2, 1} = \\frac{4^{1} \\cdot T_{2, 0} - T_{1, 0}}{4^{1} - 1} = \\frac{4 \\cdot 0.987116 - 0.948059}{3} = 1.000135$"
      ],
      "text/plain": [
       "<IPython.core.display.Math object>"
      ]
     },
     "metadata": {},
     "output_type": "display_data"
    },
    {
     "data": {
      "text/latex": [
       "$\\displaystyle T_{2, 2} = \\frac{4^{2} \\cdot T_{2, 1} - T_{1, 1}}{4^{2} - 1} = \\frac{16 \\cdot 1.000135 - 1.002280}{15} = 0.999992$"
      ],
      "text/plain": [
       "<IPython.core.display.Math object>"
      ]
     },
     "metadata": {},
     "output_type": "display_data"
    },
    {
     "data": {
      "text/latex": [
       "$\\displaystyle T_{3, 1} = \\frac{4^{1} \\cdot T_{3, 0} - T_{2, 0}}{4^{1} - 1} = \\frac{4 \\cdot 0.996785 - 0.987116}{3} = 1.000008$"
      ],
      "text/plain": [
       "<IPython.core.display.Math object>"
      ]
     },
     "metadata": {},
     "output_type": "display_data"
    },
    {
     "data": {
      "text/latex": [
       "$\\displaystyle T_{3, 2} = \\frac{4^{2} \\cdot T_{3, 1} - T_{2, 1}}{4^{2} - 1} = \\frac{16 \\cdot 1.000008 - 1.000135}{15} = 1.000000$"
      ],
      "text/plain": [
       "<IPython.core.display.Math object>"
      ]
     },
     "metadata": {},
     "output_type": "display_data"
    },
    {
     "data": {
      "text/latex": [
       "$\\displaystyle T_{3, 3} = \\frac{4^{3} \\cdot T_{3, 2} - T_{2, 2}}{4^{3} - 1} = \\frac{64 \\cdot 1.000000 - 0.999992}{63} = 1.000000$"
      ],
      "text/plain": [
       "<IPython.core.display.Math object>"
      ]
     },
     "metadata": {},
     "output_type": "display_data"
    },
    {
     "data": {
      "text/markdown": [
       "### Ergebnis"
      ],
      "text/plain": [
       "<IPython.core.display.Markdown object>"
      ]
     },
     "metadata": {},
     "output_type": "display_data"
    },
    {
     "data": {
      "text/latex": [
       "$\\displaystyle \\begin{matrix}\n",
       "T_{0, 0} = 0.785398 & \\\\\n",
       "T_{1, 0} = 0.948059 & T_{1, 1} = 1.002280 & \\\\\n",
       "T_{2, 0} = 0.987116 & T_{2, 1} = 1.000135 & T_{2, 2} = 0.999992 & \\\\\n",
       "T_{3, 0} = 0.996785 & T_{3, 1} = 1.000008 & T_{3, 2} = 1.000000 & T_{3, 3} = 1.000000 & \\\\\n",
       "\\end{matrix}$"
      ],
      "text/plain": [
       "<IPython.core.display.Math object>"
      ]
     },
     "metadata": {},
     "output_type": "display_data"
    },
    {
     "data": {
      "text/latex": [
       "$\\displaystyle T = T_{j, k} = T_{3, 3} = 1.000000$"
      ],
      "text/plain": [
       "<IPython.core.display.Math object>"
      ]
     },
     "metadata": {},
     "output_type": "display_data"
    },
    {
     "data": {
      "text/markdown": [
       "### Verifikation"
      ],
      "text/plain": [
       "<IPython.core.display.Markdown object>"
      ]
     },
     "metadata": {},
     "output_type": "display_data"
    },
    {
     "data": {
      "text/latex": [
       "$\\displaystyle \\int_{0}^{pi/2} f(x) \\, dx = 1.000000$"
      ],
      "text/plain": [
       "<IPython.core.display.Math object>"
      ]
     },
     "metadata": {},
     "output_type": "display_data"
    },
    {
     "data": {
      "text/latex": [
       "$\\displaystyle \\text{Absoluter Fehler} = |0.000000| = 0.000000$"
      ],
      "text/plain": [
       "<IPython.core.display.Math object>"
      ]
     },
     "metadata": {},
     "output_type": "display_data"
    },
    {
     "data": {
      "text/latex": [
       "$\\displaystyle \\text{Relativer Fehler} = \\frac{|0.000000|}{|1.000000|} = 0.000000$"
      ],
      "text/plain": [
       "<IPython.core.display.Math object>"
      ]
     },
     "metadata": {},
     "output_type": "display_data"
    }
   ],
   "source": [
    "import sympy as sp\n",
    "from integrate_romberg import romberg\n",
    "\n",
    "x = sp.Symbol('x')\n",
    "f = sp.sin(x)\n",
    "\n",
    "_ = romberg(f, x, 0, sp.pi/2, n=4, precision=6)"
   ]
  }
 ],
 "metadata": {
  "kernelspec": {
   "display_name": "venv",
   "language": "python",
   "name": "python3"
  },
  "language_info": {
   "codemirror_mode": {
    "name": "ipython",
    "version": 3
   },
   "file_extension": ".py",
   "mimetype": "text/x-python",
   "name": "python",
   "nbconvert_exporter": "python",
   "pygments_lexer": "ipython3",
   "version": "3.11.4"
  },
  "orig_nbformat": 4
 },
 "nbformat": 4,
 "nbformat_minor": 2
}

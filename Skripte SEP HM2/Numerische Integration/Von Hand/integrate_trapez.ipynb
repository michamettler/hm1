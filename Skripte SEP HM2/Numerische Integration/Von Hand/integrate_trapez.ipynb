{
 "cells": [
  {
   "cell_type": "code",
   "execution_count": 1,
   "metadata": {},
   "outputs": [
    {
     "data": {
      "text/plain": [
       "<module 'integrate_trapez' from 'c:\\\\Users\\\\mettl\\\\Documents\\\\Python Scripts\\\\zhaw-hm1\\\\Skripte SEP HM2\\\\Numerische Integration\\\\integrate_trapez.py'>"
      ]
     },
     "execution_count": 1,
     "metadata": {},
     "output_type": "execute_result"
    }
   ],
   "source": [
    "import importlib\n",
    "import integrate_trapez\n",
    "importlib.reload(integrate_trapez)"
   ]
  },
  {
   "cell_type": "code",
   "execution_count": 1,
   "metadata": {},
   "outputs": [
    {
     "data": {
      "text/markdown": [
       "## Trapezregel"
      ],
      "text/plain": [
       "<IPython.core.display.Markdown object>"
      ]
     },
     "metadata": {},
     "output_type": "display_data"
    },
    {
     "data": {
      "text/latex": [
       "$\\displaystyle f(x) = 6 x^{2} - 2 x$"
      ],
      "text/plain": [
       "<IPython.core.display.Math object>"
      ]
     },
     "metadata": {},
     "output_type": "display_data"
    },
    {
     "data": {
      "text/latex": [
       "$\\displaystyle Tf(h) = h \\cdot \\left( \\frac{f(a) + f(b)}{2} + \\sum_{i=1}^{n-1} f(a + i \\cdot h) \\right)$"
      ],
      "text/plain": [
       "<IPython.core.display.Math object>"
      ]
     },
     "metadata": {},
     "output_type": "display_data"
    },
    {
     "data": {
      "text/latex": [
       "$\\displaystyle h = \\frac{1 - 0}{10} = 0.100000$"
      ],
      "text/plain": [
       "<IPython.core.display.Math object>"
      ]
     },
     "metadata": {},
     "output_type": "display_data"
    },
    {
     "data": {
      "text/markdown": [
       "### Rechenschritte"
      ],
      "text/plain": [
       "<IPython.core.display.Markdown object>"
      ]
     },
     "metadata": {},
     "output_type": "display_data"
    },
    {
     "data": {
      "text/latex": [
       "$\\displaystyle a_{1} = \\int_{0.000000}^{0.100000} 6 x^{2} - 2 x \\; dx \\approx 0.100000 \\cdot \\frac{f(0.000000) + f(0.100000)}{2} = 0.100000 \\cdot \\frac{0.000000 + -0.140000}{2} = -0.007000$"
      ],
      "text/plain": [
       "<IPython.core.display.Math object>"
      ]
     },
     "metadata": {},
     "output_type": "display_data"
    },
    {
     "data": {
      "text/latex": [
       "$\\displaystyle a_{2} = \\int_{0.100000}^{0.200000} 6 x^{2} - 2 x \\; dx \\approx 0.100000 \\cdot \\frac{f(0.100000) + f(0.200000)}{2} = 0.100000 \\cdot \\frac{-0.140000 + -0.160000}{2} = -0.015000$"
      ],
      "text/plain": [
       "<IPython.core.display.Math object>"
      ]
     },
     "metadata": {},
     "output_type": "display_data"
    },
    {
     "data": {
      "text/latex": [
       "$\\displaystyle a_{3} = \\int_{0.200000}^{0.300000} 6 x^{2} - 2 x \\; dx \\approx 0.100000 \\cdot \\frac{f(0.200000) + f(0.300000)}{2} = 0.100000 \\cdot \\frac{-0.160000 + -0.060000}{2} = -0.011000$"
      ],
      "text/plain": [
       "<IPython.core.display.Math object>"
      ]
     },
     "metadata": {},
     "output_type": "display_data"
    },
    {
     "data": {
      "text/latex": [
       "$\\displaystyle a_{4} = \\int_{0.300000}^{0.400000} 6 x^{2} - 2 x \\; dx \\approx 0.100000 \\cdot \\frac{f(0.300000) + f(0.400000)}{2} = 0.100000 \\cdot \\frac{-0.060000 + 0.160000}{2} = 0.005000$"
      ],
      "text/plain": [
       "<IPython.core.display.Math object>"
      ]
     },
     "metadata": {},
     "output_type": "display_data"
    },
    {
     "data": {
      "text/latex": [
       "$\\displaystyle a_{5} = \\int_{0.400000}^{0.500000} 6 x^{2} - 2 x \\; dx \\approx 0.100000 \\cdot \\frac{f(0.400000) + f(0.500000)}{2} = 0.100000 \\cdot \\frac{0.160000 + 0.500000}{2} = 0.033000$"
      ],
      "text/plain": [
       "<IPython.core.display.Math object>"
      ]
     },
     "metadata": {},
     "output_type": "display_data"
    },
    {
     "data": {
      "text/latex": [
       "$\\displaystyle a_{6} = \\int_{0.500000}^{0.600000} 6 x^{2} - 2 x \\; dx \\approx 0.100000 \\cdot \\frac{f(0.500000) + f(0.600000)}{2} = 0.100000 \\cdot \\frac{0.500000 + 0.960000}{2} = 0.073000$"
      ],
      "text/plain": [
       "<IPython.core.display.Math object>"
      ]
     },
     "metadata": {},
     "output_type": "display_data"
    },
    {
     "data": {
      "text/latex": [
       "$\\displaystyle a_{7} = \\int_{0.600000}^{0.700000} 6 x^{2} - 2 x \\; dx \\approx 0.100000 \\cdot \\frac{f(0.600000) + f(0.700000)}{2} = 0.100000 \\cdot \\frac{0.960000 + 1.540000}{2} = 0.125000$"
      ],
      "text/plain": [
       "<IPython.core.display.Math object>"
      ]
     },
     "metadata": {},
     "output_type": "display_data"
    },
    {
     "data": {
      "text/latex": [
       "$\\displaystyle a_{8} = \\int_{0.700000}^{0.800000} 6 x^{2} - 2 x \\; dx \\approx 0.100000 \\cdot \\frac{f(0.700000) + f(0.800000)}{2} = 0.100000 \\cdot \\frac{1.540000 + 2.240000}{2} = 0.189000$"
      ],
      "text/plain": [
       "<IPython.core.display.Math object>"
      ]
     },
     "metadata": {},
     "output_type": "display_data"
    },
    {
     "data": {
      "text/latex": [
       "$\\displaystyle a_{9} = \\int_{0.800000}^{0.900000} 6 x^{2} - 2 x \\; dx \\approx 0.100000 \\cdot \\frac{f(0.800000) + f(0.900000)}{2} = 0.100000 \\cdot \\frac{2.240000 + 3.060000}{2} = 0.265000$"
      ],
      "text/plain": [
       "<IPython.core.display.Math object>"
      ]
     },
     "metadata": {},
     "output_type": "display_data"
    },
    {
     "data": {
      "text/latex": [
       "$\\displaystyle a_{10} = \\int_{0.900000}^{1.000000} 6 x^{2} - 2 x \\; dx \\approx 0.100000 \\cdot \\frac{f(0.900000) + f(1.000000)}{2} = 0.100000 \\cdot \\frac{3.060000 + 4.000000}{2} = 0.353000$"
      ],
      "text/plain": [
       "<IPython.core.display.Math object>"
      ]
     },
     "metadata": {},
     "output_type": "display_data"
    },
    {
     "data": {
      "text/markdown": [
       "### Resultat"
      ],
      "text/plain": [
       "<IPython.core.display.Markdown object>"
      ]
     },
     "metadata": {},
     "output_type": "display_data"
    },
    {
     "data": {
      "text/latex": [
       "$\\displaystyle \\int_{0}^{1} 6 x^{2} - 2 x \\; dx = \\sum a_i \\approx 1.010000$"
      ],
      "text/plain": [
       "<IPython.core.display.Math object>"
      ]
     },
     "metadata": {},
     "output_type": "display_data"
    },
    {
     "data": {
      "text/markdown": [
       "### Verifikation"
      ],
      "text/plain": [
       "<IPython.core.display.Markdown object>"
      ]
     },
     "metadata": {},
     "output_type": "display_data"
    },
    {
     "data": {
      "text/latex": [
       "$\\displaystyle \\int_{0}^{1} 6 x^{2} - 2 x \\; dx = 1$"
      ],
      "text/plain": [
       "<IPython.core.display.Math object>"
      ]
     },
     "metadata": {},
     "output_type": "display_data"
    },
    {
     "data": {
      "text/latex": [
       "$\\displaystyle \\text{Absoluter Fehler} = |-0.010000| = 0.010000$"
      ],
      "text/plain": [
       "<IPython.core.display.Math object>"
      ]
     },
     "metadata": {},
     "output_type": "display_data"
    },
    {
     "data": {
      "text/latex": [
       "$\\displaystyle \\text{Relativer Fehler} = \\frac{|-0.010000|}{|1.000000|} = 0.010000$"
      ],
      "text/plain": [
       "<IPython.core.display.Math object>"
      ]
     },
     "metadata": {},
     "output_type": "display_data"
    },
    {
     "data": {
      "text/latex": [
       "$\\displaystyle 1.01$"
      ],
      "text/plain": [
       "1.01000000000000"
      ]
     },
     "execution_count": 1,
     "metadata": {},
     "output_type": "execute_result"
    },
    {
     "data": {
      "image/png": "[encoded data removed]",
      "text/plain": [
       "<Figure size 640x480 with 1 Axes>"
      ]
     },
     "metadata": {},
     "output_type": "display_data"
    }
   ],
   "source": [
    "import sympy as sp\n",
    "from integrate_trapez import trapezoidal\n",
    "\n",
    "x = sp.Symbol('x')\n",
    "f = 6*x**2 - 2*x\n",
    "\n",
    "trapezoidal(f, x, 0, 1, n=10, precision=6, plot=True)"
   ]
  }
 ],
 "metadata": {
  "kernelspec": {
   "display_name": "venv",
   "language": "python",
   "name": "python3"
  },
  "language_info": {
   "codemirror_mode": {
    "name": "ipython",
    "version": 3
   },
   "file_extension": ".py",
   "mimetype": "text/x-python",
   "name": "python",
   "nbconvert_exporter": "python",
   "pygments_lexer": "ipython3",
   "version": "3.11.4"
  },
  "orig_nbformat": 4
 },
 "nbformat": 4,
 "nbformat_minor": 2
}

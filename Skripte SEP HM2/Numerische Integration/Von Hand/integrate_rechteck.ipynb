{
 "cells": [
  {
   "cell_type": "code",
   "execution_count": 1,
   "metadata": {},
   "outputs": [
    {
     "data": {
      "text/plain": [
       "<module 'integrate_rechteck' from 'c:\\\\Users\\\\mettl\\\\Documents\\\\Python Scripts\\\\zhaw-hm1\\\\Skripte SEP HM2\\\\Numerische Integration\\\\integrate_rechteck.py'>"
      ]
     },
     "execution_count": 1,
     "metadata": {},
     "output_type": "execute_result"
    }
   ],
   "source": [
    "import importlib\n",
    "import integrate_rechteck\n",
    "importlib.reload(integrate_rechteck)"
   ]
  },
  {
   "cell_type": "code",
   "execution_count": 2,
   "metadata": {},
   "outputs": [
    {
     "data": {
      "text/markdown": [
       "## Rechteckregel"
      ],
      "text/plain": [
       "<IPython.core.display.Markdown object>"
      ]
     },
     "metadata": {},
     "output_type": "display_data"
    },
    {
     "data": {
      "text/latex": [
       "$\\displaystyle f(x) = x^{2}$"
      ],
      "text/plain": [
       "<IPython.core.display.Math object>"
      ]
     },
     "metadata": {},
     "output_type": "display_data"
    },
    {
     "data": {
      "text/latex": [
       "$\\displaystyle Rf(h) = h \\cdot \\sum_{i=1}^{n} f \\left(a + i \\cdot h + \\frac{h}{2} \\right)$"
      ],
      "text/plain": [
       "<IPython.core.display.Math object>"
      ]
     },
     "metadata": {},
     "output_type": "display_data"
    },
    {
     "data": {
      "text/latex": [
       "$\\displaystyle h = \\frac{b - a}{n} = \\frac{1 - 0}{10} = 0.100000$"
      ],
      "text/plain": [
       "<IPython.core.display.Math object>"
      ]
     },
     "metadata": {},
     "output_type": "display_data"
    },
    {
     "data": {
      "text/markdown": [
       "### Rechenschritte"
      ],
      "text/plain": [
       "<IPython.core.display.Markdown object>"
      ]
     },
     "metadata": {},
     "output_type": "display_data"
    },
    {
     "data": {
      "text/latex": [
       "$\\displaystyle a_{1} = \\int_{0.000000}^{0.100000} x^{2} \\; dx \\approx 0.100000 \\cdot f \\left(\\frac{0.000000 + 0.100000}{2} \\right) = 0.100000 \\cdot f(0.050000) = 0.100000 \\cdot 0.002500 = 0.000250$"
      ],
      "text/plain": [
       "<IPython.core.display.Math object>"
      ]
     },
     "metadata": {},
     "output_type": "display_data"
    },
    {
     "data": {
      "text/latex": [
       "$\\displaystyle a_{2} = \\int_{0.100000}^{0.200000} x^{2} \\; dx \\approx 0.100000 \\cdot f \\left(\\frac{0.100000 + 0.200000}{2} \\right) = 0.100000 \\cdot f(0.150000) = 0.100000 \\cdot 0.022500 = 0.002250$"
      ],
      "text/plain": [
       "<IPython.core.display.Math object>"
      ]
     },
     "metadata": {},
     "output_type": "display_data"
    },
    {
     "data": {
      "text/latex": [
       "$\\displaystyle a_{3} = \\int_{0.200000}^{0.300000} x^{2} \\; dx \\approx 0.100000 \\cdot f \\left(\\frac{0.200000 + 0.300000}{2} \\right) = 0.100000 \\cdot f(0.250000) = 0.100000 \\cdot 0.062500 = 0.006250$"
      ],
      "text/plain": [
       "<IPython.core.display.Math object>"
      ]
     },
     "metadata": {},
     "output_type": "display_data"
    },
    {
     "data": {
      "text/latex": [
       "$\\displaystyle a_{4} = \\int_{0.300000}^{0.400000} x^{2} \\; dx \\approx 0.100000 \\cdot f \\left(\\frac{0.300000 + 0.400000}{2} \\right) = 0.100000 \\cdot f(0.350000) = 0.100000 \\cdot 0.122500 = 0.012250$"
      ],
      "text/plain": [
       "<IPython.core.display.Math object>"
      ]
     },
     "metadata": {},
     "output_type": "display_data"
    },
    {
     "data": {
      "text/latex": [
       "$\\displaystyle a_{5} = \\int_{0.400000}^{0.500000} x^{2} \\; dx \\approx 0.100000 \\cdot f \\left(\\frac{0.400000 + 0.500000}{2} \\right) = 0.100000 \\cdot f(0.450000) = 0.100000 \\cdot 0.202500 = 0.020250$"
      ],
      "text/plain": [
       "<IPython.core.display.Math object>"
      ]
     },
     "metadata": {},
     "output_type": "display_data"
    },
    {
     "data": {
      "text/latex": [
       "$\\displaystyle a_{6} = \\int_{0.500000}^{0.600000} x^{2} \\; dx \\approx 0.100000 \\cdot f \\left(\\frac{0.500000 + 0.600000}{2} \\right) = 0.100000 \\cdot f(0.550000) = 0.100000 \\cdot 0.302500 = 0.030250$"
      ],
      "text/plain": [
       "<IPython.core.display.Math object>"
      ]
     },
     "metadata": {},
     "output_type": "display_data"
    },
    {
     "data": {
      "text/latex": [
       "$\\displaystyle a_{7} = \\int_{0.600000}^{0.700000} x^{2} \\; dx \\approx 0.100000 \\cdot f \\left(\\frac{0.600000 + 0.700000}{2} \\right) = 0.100000 \\cdot f(0.650000) = 0.100000 \\cdot 0.422500 = 0.042250$"
      ],
      "text/plain": [
       "<IPython.core.display.Math object>"
      ]
     },
     "metadata": {},
     "output_type": "display_data"
    },
    {
     "data": {
      "text/latex": [
       "$\\displaystyle a_{8} = \\int_{0.700000}^{0.800000} x^{2} \\; dx \\approx 0.100000 \\cdot f \\left(\\frac{0.700000 + 0.800000}{2} \\right) = 0.100000 \\cdot f(0.750000) = 0.100000 \\cdot 0.562500 = 0.056250$"
      ],
      "text/plain": [
       "<IPython.core.display.Math object>"
      ]
     },
     "metadata": {},
     "output_type": "display_data"
    },
    {
     "data": {
      "text/latex": [
       "$\\displaystyle a_{9} = \\int_{0.800000}^{0.900000} x^{2} \\; dx \\approx 0.100000 \\cdot f \\left(\\frac{0.800000 + 0.900000}{2} \\right) = 0.100000 \\cdot f(0.850000) = 0.100000 \\cdot 0.722500 = 0.072250$"
      ],
      "text/plain": [
       "<IPython.core.display.Math object>"
      ]
     },
     "metadata": {},
     "output_type": "display_data"
    },
    {
     "data": {
      "text/latex": [
       "$\\displaystyle a_{10} = \\int_{0.900000}^{1.000000} x^{2} \\; dx \\approx 0.100000 \\cdot f \\left(\\frac{0.900000 + 1.000000}{2} \\right) = 0.100000 \\cdot f(0.950000) = 0.100000 \\cdot 0.902500 = 0.090250$"
      ],
      "text/plain": [
       "<IPython.core.display.Math object>"
      ]
     },
     "metadata": {},
     "output_type": "display_data"
    },
    {
     "data": {
      "text/markdown": [
       "### Resultat"
      ],
      "text/plain": [
       "<IPython.core.display.Markdown object>"
      ]
     },
     "metadata": {},
     "output_type": "display_data"
    },
    {
     "data": {
      "text/latex": [
       "$\\displaystyle \\int_{0}^{1} x^{2} \\; dx = \\sum a_i \\approx 0.332500$"
      ],
      "text/plain": [
       "<IPython.core.display.Math object>"
      ]
     },
     "metadata": {},
     "output_type": "display_data"
    },
    {
     "data": {
      "text/markdown": [
       "### Verifikation"
      ],
      "text/plain": [
       "<IPython.core.display.Markdown object>"
      ]
     },
     "metadata": {},
     "output_type": "display_data"
    },
    {
     "data": {
      "text/latex": [
       "$\\displaystyle \\int_{0}^{1} x^{2} \\; dx = \\frac{1}{3}$"
      ],
      "text/plain": [
       "<IPython.core.display.Math object>"
      ]
     },
     "metadata": {},
     "output_type": "display_data"
    },
    {
     "data": {
      "text/latex": [
       "$\\displaystyle \\text{Absoluter Fehler} = |0.000833| = 0.000833$"
      ],
      "text/plain": [
       "<IPython.core.display.Math object>"
      ]
     },
     "metadata": {},
     "output_type": "display_data"
    },
    {
     "data": {
      "text/latex": [
       "$\\displaystyle \\text{Relativer Fehler} = \\frac{|0.000833|}{|0.333333|} = 0.002500$"
      ],
      "text/plain": [
       "<IPython.core.display.Math object>"
      ]
     },
     "metadata": {},
     "output_type": "display_data"
    },
    {
     "data": {
      "text/latex": [
       "$\\displaystyle 0.3325$"
      ],
      "text/plain": [
       "0.332500000000000"
      ]
     },
     "execution_count": 2,
     "metadata": {},
     "output_type": "execute_result"
    },
    {
     "data": {
      "image/png": "[encoded data removed]",
      "text/plain": [
       "<Figure size 640x480 with 1 Axes>"
      ]
     },
     "metadata": {},
     "output_type": "display_data"
    }
   ],
   "source": [
    "import sympy as sp\n",
    "from integrate_rechteck import rechteck\n",
    "\n",
    "x = sp.Symbol('x')\n",
    "f = x**2\n",
    "\n",
    "rechteck(f, x, 0, 1, n=10, precision=6, plot=True)"
   ]
  }
 ],
 "metadata": {
  "kernelspec": {
   "display_name": "venv",
   "language": "python",
   "name": "python3"
  },
  "language_info": {
   "codemirror_mode": {
    "name": "ipython",
    "version": 3
   },
   "file_extension": ".py",
   "mimetype": "text/x-python",
   "name": "python",
   "nbconvert_exporter": "python",
   "pygments_lexer": "ipython3",
   "version": "3.11.4"
  },
  "orig_nbformat": 4
 },
 "nbformat": 4,
 "nbformat_minor": 2
}

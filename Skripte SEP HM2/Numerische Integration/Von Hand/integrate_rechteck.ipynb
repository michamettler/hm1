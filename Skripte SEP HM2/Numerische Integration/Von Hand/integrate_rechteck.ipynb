{
 "cells": [
  {
   "cell_type": "code",
   "execution_count": 1,
   "metadata": {},
   "outputs": [
    {
     "data": {
      "text/plain": [
       "<module 'integrate_rechteck' from 'c:\\\\Users\\\\mettl\\\\Documents\\\\Python Scripts\\\\zhaw-hm1\\\\Skripte SEP HM2\\\\Numerische Integration\\\\integrate_rechteck.py'>"
      ]
     },
     "execution_count": 1,
     "metadata": {},
     "output_type": "execute_result"
    }
   ],
   "source": [
    "import importlib\n",
    "import integrate_rechteck\n",
    "importlib.reload(integrate_rechteck)"
   ]
  },
  {
   "cell_type": "code",
   "execution_count": 4,
   "metadata": {},
   "outputs": [
    {
     "data": {
      "text/markdown": [
       "## Rechteckregel"
      ],
      "text/plain": [
       "<IPython.core.display.Markdown object>"
      ]
     },
     "metadata": {},
     "output_type": "display_data"
    },
    {
     "data": {
      "text/latex": [
       "$\\displaystyle f(x) = \\frac{1}{x}$"
      ],
      "text/plain": [
       "<IPython.core.display.Math object>"
      ]
     },
     "metadata": {},
     "output_type": "display_data"
    },
    {
     "data": {
      "text/latex": [
       "$\\displaystyle Rf(h) = h \\cdot \\sum_{i=1}^{n} f \\left(a + i \\cdot h + \\frac{h}{2} \\right)$"
      ],
      "text/plain": [
       "<IPython.core.display.Math object>"
      ]
     },
     "metadata": {},
     "output_type": "display_data"
    },
    {
     "data": {
      "text/latex": [
       "$\\displaystyle h = \\frac{b - a}{n} = \\frac{4 - 2}{10} = 0.200000$"
      ],
      "text/plain": [
       "<IPython.core.display.Math object>"
      ]
     },
     "metadata": {},
     "output_type": "display_data"
    },
    {
     "data": {
      "text/markdown": [
       "### Rechenschritte"
      ],
      "text/plain": [
       "<IPython.core.display.Markdown object>"
      ]
     },
     "metadata": {},
     "output_type": "display_data"
    },
    {
     "data": {
      "text/latex": [
       "$\\displaystyle a_{1} = \\int_{2.000000}^{2.200000} \\frac{1}{x} \\; dx \\approx 0.200000 \\cdot f \\left(\\frac{2.000000 + 2.200000}{2} \\right) = 0.200000 \\cdot f(2.100000) = 0.200000 \\cdot 0.476190 = 0.095238$"
      ],
      "text/plain": [
       "<IPython.core.display.Math object>"
      ]
     },
     "metadata": {},
     "output_type": "display_data"
    },
    {
     "data": {
      "text/latex": [
       "$\\displaystyle a_{2} = \\int_{2.200000}^{2.400000} \\frac{1}{x} \\; dx \\approx 0.200000 \\cdot f \\left(\\frac{2.200000 + 2.400000}{2} \\right) = 0.200000 \\cdot f(2.300000) = 0.200000 \\cdot 0.434783 = 0.086957$"
      ],
      "text/plain": [
       "<IPython.core.display.Math object>"
      ]
     },
     "metadata": {},
     "output_type": "display_data"
    },
    {
     "data": {
      "text/latex": [
       "$\\displaystyle a_{3} = \\int_{2.400000}^{2.600000} \\frac{1}{x} \\; dx \\approx 0.200000 \\cdot f \\left(\\frac{2.400000 + 2.600000}{2} \\right) = 0.200000 \\cdot f(2.500000) = 0.200000 \\cdot 0.400000 = 0.080000$"
      ],
      "text/plain": [
       "<IPython.core.display.Math object>"
      ]
     },
     "metadata": {},
     "output_type": "display_data"
    },
    {
     "data": {
      "text/latex": [
       "$\\displaystyle a_{4} = \\int_{2.600000}^{2.800000} \\frac{1}{x} \\; dx \\approx 0.200000 \\cdot f \\left(\\frac{2.600000 + 2.800000}{2} \\right) = 0.200000 \\cdot f(2.700000) = 0.200000 \\cdot 0.370370 = 0.074074$"
      ],
      "text/plain": [
       "<IPython.core.display.Math object>"
      ]
     },
     "metadata": {},
     "output_type": "display_data"
    },
    {
     "data": {
      "text/latex": [
       "$\\displaystyle a_{5} = \\int_{2.800000}^{3.000000} \\frac{1}{x} \\; dx \\approx 0.200000 \\cdot f \\left(\\frac{2.800000 + 3.000000}{2} \\right) = 0.200000 \\cdot f(2.900000) = 0.200000 \\cdot 0.344828 = 0.068966$"
      ],
      "text/plain": [
       "<IPython.core.display.Math object>"
      ]
     },
     "metadata": {},
     "output_type": "display_data"
    },
    {
     "data": {
      "text/latex": [
       "$\\displaystyle a_{6} = \\int_{3.000000}^{3.200000} \\frac{1}{x} \\; dx \\approx 0.200000 \\cdot f \\left(\\frac{3.000000 + 3.200000}{2} \\right) = 0.200000 \\cdot f(3.100000) = 0.200000 \\cdot 0.322581 = 0.064516$"
      ],
      "text/plain": [
       "<IPython.core.display.Math object>"
      ]
     },
     "metadata": {},
     "output_type": "display_data"
    },
    {
     "data": {
      "text/latex": [
       "$\\displaystyle a_{7} = \\int_{3.200000}^{3.400000} \\frac{1}{x} \\; dx \\approx 0.200000 \\cdot f \\left(\\frac{3.200000 + 3.400000}{2} \\right) = 0.200000 \\cdot f(3.300000) = 0.200000 \\cdot 0.303030 = 0.060606$"
      ],
      "text/plain": [
       "<IPython.core.display.Math object>"
      ]
     },
     "metadata": {},
     "output_type": "display_data"
    },
    {
     "data": {
      "text/latex": [
       "$\\displaystyle a_{8} = \\int_{3.400000}^{3.600000} \\frac{1}{x} \\; dx \\approx 0.200000 \\cdot f \\left(\\frac{3.400000 + 3.600000}{2} \\right) = 0.200000 \\cdot f(3.500000) = 0.200000 \\cdot 0.285714 = 0.057143$"
      ],
      "text/plain": [
       "<IPython.core.display.Math object>"
      ]
     },
     "metadata": {},
     "output_type": "display_data"
    },
    {
     "data": {
      "text/latex": [
       "$\\displaystyle a_{9} = \\int_{3.600000}^{3.800000} \\frac{1}{x} \\; dx \\approx 0.200000 \\cdot f \\left(\\frac{3.600000 + 3.800000}{2} \\right) = 0.200000 \\cdot f(3.700000) = 0.200000 \\cdot 0.270270 = 0.054054$"
      ],
      "text/plain": [
       "<IPython.core.display.Math object>"
      ]
     },
     "metadata": {},
     "output_type": "display_data"
    },
    {
     "data": {
      "text/latex": [
       "$\\displaystyle a_{10} = \\int_{3.800000}^{4.000000} \\frac{1}{x} \\; dx \\approx 0.200000 \\cdot f \\left(\\frac{3.800000 + 4.000000}{2} \\right) = 0.200000 \\cdot f(3.900000) = 0.200000 \\cdot 0.256410 = 0.051282$"
      ],
      "text/plain": [
       "<IPython.core.display.Math object>"
      ]
     },
     "metadata": {},
     "output_type": "display_data"
    },
    {
     "data": {
      "text/markdown": [
       "### Resultat"
      ],
      "text/plain": [
       "<IPython.core.display.Markdown object>"
      ]
     },
     "metadata": {},
     "output_type": "display_data"
    },
    {
     "data": {
      "text/latex": [
       "$\\displaystyle \\int_{2}^{4} \\frac{1}{x} \\; dx = \\sum a_i \\approx 0.692835$"
      ],
      "text/plain": [
       "<IPython.core.display.Math object>"
      ]
     },
     "metadata": {},
     "output_type": "display_data"
    },
    {
     "data": {
      "text/markdown": [
       "### Verifikation"
      ],
      "text/plain": [
       "<IPython.core.display.Markdown object>"
      ]
     },
     "metadata": {},
     "output_type": "display_data"
    },
    {
     "data": {
      "text/latex": [
       "$\\displaystyle \\int_{2}^{4} \\frac{1}{x} \\; dx = - \\log{\\left(2 \\right)} + \\log{\\left(4 \\right)}$"
      ],
      "text/plain": [
       "<IPython.core.display.Math object>"
      ]
     },
     "metadata": {},
     "output_type": "display_data"
    },
    {
     "data": {
      "text/latex": [
       "$\\displaystyle \\text{Absoluter Fehler} = |0.000312| = 0.000312$"
      ],
      "text/plain": [
       "<IPython.core.display.Math object>"
      ]
     },
     "metadata": {},
     "output_type": "display_data"
    },
    {
     "data": {
      "text/latex": [
       "$\\displaystyle \\text{Relativer Fehler} = \\frac{|0.000312|}{|0.693147|} = 0.000450$"
      ],
      "text/plain": [
       "<IPython.core.display.Math object>"
      ]
     },
     "metadata": {},
     "output_type": "display_data"
    },
    {
     "data": {
      "text/latex": [
       "$\\displaystyle 0.69283536040996$"
      ],
      "text/plain": [
       "0.692835360409960"
      ]
     },
     "execution_count": 4,
     "metadata": {},
     "output_type": "execute_result"
    },
    {
     "data": {
      "image/png": "[encoded data removed]",
      "text/plain": [
       "<Figure size 640x480 with 1 Axes>"
      ]
     },
     "metadata": {},
     "output_type": "display_data"
    }
   ],
   "source": [
    "import sympy as sp\n",
    "from integrate_rechteck import rechteck\n",
    "\n",
    "x = sp.Symbol('x')\n",
    "f = 1/x\n",
    "\n",
    "# untere Grenze, obere Grenze\n",
    "rechteck(f, x, 2, 4, n=10, precision=6, plot=True)"
   ]
  }
 ],
 "metadata": {
  "kernelspec": {
   "display_name": "venv",
   "language": "python",
   "name": "python3"
  },
  "language_info": {
   "codemirror_mode": {
    "name": "ipython",
    "version": 3
   },
   "file_extension": ".py",
   "mimetype": "text/x-python",
   "name": "python",
   "nbconvert_exporter": "python",
   "pygments_lexer": "ipython3",
   "version": "3.11.4"
  },
  "orig_nbformat": 4
 },
 "nbformat": 4,
 "nbformat_minor": 2
}

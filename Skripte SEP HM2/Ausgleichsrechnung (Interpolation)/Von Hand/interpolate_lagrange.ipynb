{
 "cells": [
  {
   "cell_type": "code",
   "execution_count": 1,
   "metadata": {},
   "outputs": [
    {
     "data": {
      "text/plain": [
       "<module 'interpolate_lagrange' from 'c:\\\\Users\\\\mettl\\\\Documents\\\\Python Scripts\\\\zhaw-hm1\\\\Skripte SEP HM2\\\\Ausgleichsrechnung (Interpolation)\\\\Von Hand\\\\interpolate_lagrange.py'>"
      ]
     },
     "execution_count": 1,
     "metadata": {},
     "output_type": "execute_result"
    }
   ],
   "source": [
    "import importlib\n",
    "import interpolate_lagrange\n",
    "importlib.reload(interpolate_lagrange)"
   ]
  },
  {
   "cell_type": "code",
   "execution_count": 2,
   "metadata": {},
   "outputs": [
    {
     "data": {
      "text/latex": [
       "$\\displaystyle l_{0}(t) = \\prod_{j = 0, j \\neq 0}^{3} \\frac{t - x_j}{x_i - x_j} = \\frac{(t - 10.0) \\cdot (t - 12.0) \\cdot (t - 14.0)}{(8.0 - 10.0) \\cdot (8.0 - 12.0) \\cdot (8.0 - 14.0)} = \\frac{(t - 10.0) \\cdot (t - 12.0) \\cdot (t - 14.0)}{-48.00} = - 0.0208333333333333 \\left(t - 14.0\\right) \\left(t - 12.0\\right) \\left(t - 10.0\\right) = - 0.0208333333333333 t^{3} + 0.75 t^{2} - 8.91666666666667 t + 35.0$"
      ],
      "text/plain": [
       "<IPython.core.display.Math object>"
      ]
     },
     "metadata": {},
     "output_type": "display_data"
    },
    {
     "data": {
      "text/latex": [
       "$\\displaystyle l_{1}(t) = \\prod_{j = 0, j \\neq 1}^{3} \\frac{t - x_j}{x_i - x_j} = \\frac{(t - 8.0) \\cdot (t - 12.0) \\cdot (t - 14.0)}{(10.0 - 8.0) \\cdot (10.0 - 12.0) \\cdot (10.0 - 14.0)} = \\frac{(t - 8.0) \\cdot (t - 12.0) \\cdot (t - 14.0)}{16.00} = 0.0625 \\left(t - 14.0\\right) \\left(t - 12.0\\right) \\left(t - 8.0\\right) = 0.0625 t^{3} - 2.125 t^{2} + 23.5 t - 84.0$"
      ],
      "text/plain": [
       "<IPython.core.display.Math object>"
      ]
     },
     "metadata": {},
     "output_type": "display_data"
    },
    {
     "data": {
      "text/latex": [
       "$\\displaystyle l_{2}(t) = \\prod_{j = 0, j \\neq 2}^{3} \\frac{t - x_j}{x_i - x_j} = \\frac{(t - 8.0) \\cdot (t - 10.0) \\cdot (t - 14.0)}{(12.0 - 8.0) \\cdot (12.0 - 10.0) \\cdot (12.0 - 14.0)} = \\frac{(t - 8.0) \\cdot (t - 10.0) \\cdot (t - 14.0)}{-16.00} = - 0.0625 \\left(t - 14.0\\right) \\left(t - 10.0\\right) \\left(t - 8.0\\right) = - 0.0625 t^{3} + 2.0 t^{2} - 20.75 t + 70.0$"
      ],
      "text/plain": [
       "<IPython.core.display.Math object>"
      ]
     },
     "metadata": {},
     "output_type": "display_data"
    },
    {
     "data": {
      "text/latex": [
       "$\\displaystyle l_{3}(t) = \\prod_{j = 0, j \\neq 3}^{3} \\frac{t - x_j}{x_i - x_j} = \\frac{(t - 8.0) \\cdot (t - 10.0) \\cdot (t - 12.0)}{(14.0 - 8.0) \\cdot (14.0 - 10.0) \\cdot (14.0 - 12.0)} = \\frac{(t - 8.0) \\cdot (t - 10.0) \\cdot (t - 12.0)}{48.00} = 0.0208333333333333 \\left(t - 12.0\\right) \\left(t - 10.0\\right) \\left(t - 8.0\\right) = 0.0208333333333333 t^{3} - 0.625 t^{2} + 6.16666666666667 t - 20.0$"
      ],
      "text/plain": [
       "<IPython.core.display.Math object>"
      ]
     },
     "metadata": {},
     "output_type": "display_data"
    },
    {
     "data": {
      "text/latex": [
       "$\\displaystyle p(t) = \\sum_{i = 0}^{3} l_i(t) \\cdot y_i = 0.05417 t^{3} - 1.663 t^{2} + 17.81 t - 52.6$"
      ],
      "text/plain": [
       "<IPython.core.display.Math object>"
      ]
     },
     "metadata": {},
     "output_type": "display_data"
    }
   ],
   "source": [
    "import sympy as sp\n",
    "from interpolate_lagrange import lagrange\n",
    "\n",
    "data = sp.Matrix([\n",
    "    [8., 11.2],\n",
    "    [10., 13.4],\n",
    "    [12., 15.3],\n",
    "    [14., 19.5],\n",
    "])\n",
    "\n",
    "t = sp.Symbol('t')\n",
    "\n",
    "p = lagrange(data, t, precision=4)"
   ]
  },
  {
   "cell_type": "code",
   "execution_count": 4,
   "metadata": {},
   "outputs": [
    {
     "data": {
      "image/png": "[encoded data removed]",
      "text/plain": [
       "<Figure size 640x480 with 1 Axes>"
      ]
     },
     "metadata": {},
     "output_type": "display_data"
    }
   ],
   "source": [
    "import numpy as np\n",
    "import matplotlib.pyplot as plt\n",
    "\n",
    "data_x = data[:, 0]\n",
    "data_y = data[:, 1]\n",
    "\n",
    "a = float(data_x[0])\n",
    "b = float(data_x[-1])\n",
    "\n",
    "x = np.linspace(a, b, 100)\n",
    "f = sp.lambdify(t, p, 'numpy')\n",
    "\n",
    "plt.plot(x, f(x))\n",
    "plt.plot(data_x, data_y, 'o')\n",
    "plt.show()"
   ]
  },
  {
   "cell_type": "code",
   "execution_count": 5,
   "metadata": {},
   "outputs": [
    {
     "name": "stdout",
     "output_type": "stream",
     "text": [
      "0\n"
     ]
    }
   ],
   "source": [
    "# Fehlerabschätzung\n",
    "\n",
    "x = sp.Symbol('x')\n",
    "\n",
    "f = 1  # Originale Funktion\n",
    "n = data.shape[0]\n",
    "\n",
    "df = sp.diff(f, x, n)\n",
    "df_max = np.max([np.abs(df.subs(x, x_i)) for x_i in data_x])\n",
    "\n",
    "x = 9\n",
    "\n",
    "num = np.abs(np.prod([x - x_i for x_i in data_x]))\n",
    "den = np.math.factorial(n)\n",
    "\n",
    "err = df_max * num / den\n",
    "print(err)"
   ]
  }
 ],
 "metadata": {
  "kernelspec": {
   "display_name": "venv",
   "language": "python",
   "name": "python3"
  },
  "language_info": {
   "codemirror_mode": {
    "name": "ipython",
    "version": 3
   },
   "file_extension": ".py",
   "mimetype": "text/x-python",
   "name": "python",
   "nbconvert_exporter": "python",
   "pygments_lexer": "ipython3",
   "version": "3.11.4"
  },
  "orig_nbformat": 4
 },
 "nbformat": 4,
 "nbformat_minor": 2
}

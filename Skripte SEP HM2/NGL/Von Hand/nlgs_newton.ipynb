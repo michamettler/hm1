{
 "cells": [
  {
   "cell_type": "code",
   "execution_count": 2,
   "metadata": {},
   "outputs": [
    {
     "data": {
      "text/plain": [
       "<module 'nlgs_newton' from 'c:\\\\Users\\\\mettl\\\\Documents\\\\Python Scripts\\\\zhaw-hm1\\\\Skripte SEP HM2\\\\NGL\\\\Von Hand\\\\nlgs_newton.py'>"
      ]
     },
     "execution_count": 2,
     "metadata": {},
     "output_type": "execute_result"
    }
   ],
   "source": [
    "import importlib\n",
    "import nlgs_newton\n",
    "importlib.reload(nlgs_newton)"
   ]
  },
  {
   "cell_type": "code",
   "execution_count": 13,
   "metadata": {},
   "outputs": [
    {
     "data": {
      "text/latex": [
       "$\\displaystyle f(x) = \\left[\\begin{matrix}x + y - 4\\\\x^{2} + y^{2} - 9\\end{matrix}\\right]$"
      ],
      "text/plain": [
       "<IPython.core.display.Math object>"
      ]
     },
     "metadata": {},
     "output_type": "display_data"
    },
    {
     "data": {
      "text/markdown": [
       "## Partial Derivatives"
      ],
      "text/plain": [
       "<IPython.core.display.Markdown object>"
      ]
     },
     "metadata": {},
     "output_type": "display_data"
    },
    {
     "data": {
      "text/latex": [
       "$\\displaystyle \\frac{\\partial f_0}{\\partial x} = \\frac{\\partial}{\\partial x} \\left( x + y - 4 \\right) = 1$"
      ],
      "text/plain": [
       "<IPython.core.display.Math object>"
      ]
     },
     "metadata": {},
     "output_type": "display_data"
    },
    {
     "data": {
      "text/latex": [
       "$\\displaystyle \\frac{\\partial f_0}{\\partial y} = \\frac{\\partial}{\\partial y} \\left( x + y - 4 \\right) = 1$"
      ],
      "text/plain": [
       "<IPython.core.display.Math object>"
      ]
     },
     "metadata": {},
     "output_type": "display_data"
    },
    {
     "data": {
      "text/latex": [
       "$\\displaystyle \\frac{\\partial f_1}{\\partial x} = \\frac{\\partial}{\\partial x} \\left( x^{2} + y^{2} - 9 \\right) = 2 x$"
      ],
      "text/plain": [
       "<IPython.core.display.Math object>"
      ]
     },
     "metadata": {},
     "output_type": "display_data"
    },
    {
     "data": {
      "text/latex": [
       "$\\displaystyle \\frac{\\partial f_1}{\\partial y} = \\frac{\\partial}{\\partial y} \\left( x^{2} + y^{2} - 9 \\right) = 2 y$"
      ],
      "text/plain": [
       "<IPython.core.display.Math object>"
      ]
     },
     "metadata": {},
     "output_type": "display_data"
    },
    {
     "data": {
      "text/markdown": [
       "## Jacobi Matrix"
      ],
      "text/plain": [
       "<IPython.core.display.Markdown object>"
      ]
     },
     "metadata": {},
     "output_type": "display_data"
    },
    {
     "data": {
      "text/latex": [
       "$\\displaystyle Df(x) = \\left[\\begin{matrix}1 & 1\\\\2 x & 2 y\\end{matrix}\\right]$"
      ],
      "text/plain": [
       "<IPython.core.display.Math object>"
      ]
     },
     "metadata": {},
     "output_type": "display_data"
    },
    {
     "data": {
      "text/markdown": [
       "## Newton Verfahren"
      ],
      "text/plain": [
       "<IPython.core.display.Markdown object>"
      ]
     },
     "metadata": {},
     "output_type": "display_data"
    },
    {
     "data": {
      "text/markdown": [
       "Iteration 1"
      ],
      "text/plain": [
       "<IPython.core.display.Markdown object>"
      ]
     },
     "metadata": {},
     "output_type": "display_data"
    },
    {
     "data": {
      "text/latex": [
       "$\\displaystyle f(x_{0}) = f \\left( \\left[\\begin{matrix}0\\\\3\\end{matrix}\\right] \\right) = \\left[\\begin{matrix}-1\\\\0\\end{matrix}\\right] \\approx \\left[\\begin{matrix}-1.0\\\\0\\end{matrix}\\right]$"
      ],
      "text/plain": [
       "<IPython.core.display.Math object>"
      ]
     },
     "metadata": {},
     "output_type": "display_data"
    },
    {
     "data": {
      "text/latex": [
       "$\\displaystyle Df(x_{0}) = Df \\left( \\left[\\begin{matrix}0\\\\3\\end{matrix}\\right] \\right) = \\left[\\begin{matrix}1 & 1\\\\0 & 6\\end{matrix}\\right] \\approx \\left[\\begin{matrix}1.0 & 1.0\\\\0 & 6.0\\end{matrix}\\right]$"
      ],
      "text/plain": [
       "<IPython.core.display.Math object>"
      ]
     },
     "metadata": {},
     "output_type": "display_data"
    },
    {
     "data": {
      "text/latex": [
       "$\\displaystyle \\delta = -Df(x_{0})^{-1} f(x_{0}) = -\\left[\\begin{matrix}1 & 1\\\\0 & 6\\end{matrix}\\right]^{-1} \\left[\\begin{matrix}-1\\\\0\\end{matrix}\\right] = -\\left[\\begin{matrix}1 & - \\frac{1}{6}\\\\0 & \\frac{1}{6}\\end{matrix}\\right] \\left[\\begin{matrix}-1\\\\0\\end{matrix}\\right] = \\left[\\begin{matrix}1\\\\0\\end{matrix}\\right] \\approx \\left[\\begin{matrix}1.0\\\\0\\end{matrix}\\right]$"
      ],
      "text/plain": [
       "<IPython.core.display.Math object>"
      ]
     },
     "metadata": {},
     "output_type": "display_data"
    },
    {
     "data": {
      "text/latex": [
       "$\\displaystyle x_{1} = x_{0} + \\delta = \\left[\\begin{matrix}0\\\\3\\end{matrix}\\right] + \\left[\\begin{matrix}1\\\\0\\end{matrix}\\right] = \\left[\\begin{matrix}1\\\\3\\end{matrix}\\right] \\approx \\left[\\begin{matrix}1.0\\\\3.0\\end{matrix}\\right]$"
      ],
      "text/plain": [
       "<IPython.core.display.Math object>"
      ]
     },
     "metadata": {},
     "output_type": "display_data"
    },
    {
     "data": {
      "text/markdown": [
       "Iteration 2"
      ],
      "text/plain": [
       "<IPython.core.display.Markdown object>"
      ]
     },
     "metadata": {},
     "output_type": "display_data"
    },
    {
     "data": {
      "text/latex": [
       "$\\displaystyle f(x_{1}) = f \\left( \\left[\\begin{matrix}1.0\\\\3.0\\end{matrix}\\right] \\right) = \\left[\\begin{matrix}0\\\\1.0\\end{matrix}\\right] \\approx \\left[\\begin{matrix}0\\\\1.0\\end{matrix}\\right]$"
      ],
      "text/plain": [
       "<IPython.core.display.Math object>"
      ]
     },
     "metadata": {},
     "output_type": "display_data"
    },
    {
     "data": {
      "text/latex": [
       "$\\displaystyle Df(x_{1}) = Df \\left( \\left[\\begin{matrix}1.0\\\\3.0\\end{matrix}\\right] \\right) = \\left[\\begin{matrix}1 & 1\\\\2.0 & 6.0\\end{matrix}\\right] \\approx \\left[\\begin{matrix}1.0 & 1.0\\\\2.0 & 6.0\\end{matrix}\\right]$"
      ],
      "text/plain": [
       "<IPython.core.display.Math object>"
      ]
     },
     "metadata": {},
     "output_type": "display_data"
    },
    {
     "data": {
      "text/latex": [
       "$\\displaystyle \\delta = -Df(x_{1})^{-1} f(x_{1}) = -\\left[\\begin{matrix}1 & 1\\\\2.0 & 6.0\\end{matrix}\\right]^{-1} \\left[\\begin{matrix}0\\\\1.0\\end{matrix}\\right] = -\\left[\\begin{matrix}1.5 & -0.25\\\\-0.5 & 0.25\\end{matrix}\\right] \\left[\\begin{matrix}0\\\\1.0\\end{matrix}\\right] = \\left[\\begin{matrix}0.25\\\\-0.25\\end{matrix}\\right] \\approx \\left[\\begin{matrix}0.25\\\\-0.25\\end{matrix}\\right]$"
      ],
      "text/plain": [
       "<IPython.core.display.Math object>"
      ]
     },
     "metadata": {},
     "output_type": "display_data"
    },
    {
     "data": {
      "text/latex": [
       "$\\displaystyle x_{2} = x_{1} + \\delta = \\left[\\begin{matrix}1.0\\\\3.0\\end{matrix}\\right] + \\left[\\begin{matrix}0.25\\\\-0.25\\end{matrix}\\right] = \\left[\\begin{matrix}1.25\\\\2.75\\end{matrix}\\right] \\approx \\left[\\begin{matrix}1.25\\\\2.75\\end{matrix}\\right]$"
      ],
      "text/plain": [
       "<IPython.core.display.Math object>"
      ]
     },
     "metadata": {},
     "output_type": "display_data"
    },
    {
     "data": {
      "text/markdown": [
       "Iteration 3"
      ],
      "text/plain": [
       "<IPython.core.display.Markdown object>"
      ]
     },
     "metadata": {},
     "output_type": "display_data"
    },
    {
     "data": {
      "text/latex": [
       "$\\displaystyle f(x_{2}) = f \\left( \\left[\\begin{matrix}1.25\\\\2.75\\end{matrix}\\right] \\right) = \\left[\\begin{matrix}0\\\\0.125\\end{matrix}\\right] \\approx \\left[\\begin{matrix}0\\\\0.125\\end{matrix}\\right]$"
      ],
      "text/plain": [
       "<IPython.core.display.Math object>"
      ]
     },
     "metadata": {},
     "output_type": "display_data"
    },
    {
     "data": {
      "text/latex": [
       "$\\displaystyle Df(x_{2}) = Df \\left( \\left[\\begin{matrix}1.25\\\\2.75\\end{matrix}\\right] \\right) = \\left[\\begin{matrix}1 & 1\\\\2.5 & 5.5\\end{matrix}\\right] \\approx \\left[\\begin{matrix}1.0 & 1.0\\\\2.5 & 5.5\\end{matrix}\\right]$"
      ],
      "text/plain": [
       "<IPython.core.display.Math object>"
      ]
     },
     "metadata": {},
     "output_type": "display_data"
    },
    {
     "data": {
      "text/latex": [
       "$\\displaystyle \\delta = -Df(x_{2})^{-1} f(x_{2}) = -\\left[\\begin{matrix}1 & 1\\\\2.5 & 5.5\\end{matrix}\\right]^{-1} \\left[\\begin{matrix}0\\\\0.125\\end{matrix}\\right] = -\\left[\\begin{matrix}1.833 & -0.3333\\\\-0.8333 & 0.3333\\end{matrix}\\right] \\left[\\begin{matrix}0\\\\0.125\\end{matrix}\\right] = \\left[\\begin{matrix}0.04167\\\\-0.04167\\end{matrix}\\right] \\approx \\left[\\begin{matrix}0.04167\\\\-0.04167\\end{matrix}\\right]$"
      ],
      "text/plain": [
       "<IPython.core.display.Math object>"
      ]
     },
     "metadata": {},
     "output_type": "display_data"
    },
    {
     "data": {
      "text/latex": [
       "$\\displaystyle x_{3} = x_{2} + \\delta = \\left[\\begin{matrix}1.25\\\\2.75\\end{matrix}\\right] + \\left[\\begin{matrix}0.04167\\\\-0.04167\\end{matrix}\\right] = \\left[\\begin{matrix}1.292\\\\2.708\\end{matrix}\\right] \\approx \\left[\\begin{matrix}1.292\\\\2.708\\end{matrix}\\right]$"
      ],
      "text/plain": [
       "<IPython.core.display.Math object>"
      ]
     },
     "metadata": {},
     "output_type": "display_data"
    },
    {
     "data": {
      "text/markdown": [
       "Iteration 4"
      ],
      "text/plain": [
       "<IPython.core.display.Markdown object>"
      ]
     },
     "metadata": {},
     "output_type": "display_data"
    },
    {
     "data": {
      "text/latex": [
       "$\\displaystyle f(x_{3}) = f \\left( \\left[\\begin{matrix}1.292\\\\2.708\\end{matrix}\\right] \\right) = \\left[\\begin{matrix}3.052 \\cdot 10^{-5}\\\\0.00354\\end{matrix}\\right] \\approx \\left[\\begin{matrix}3.052 \\cdot 10^{-5}\\\\0.00354\\end{matrix}\\right]$"
      ],
      "text/plain": [
       "<IPython.core.display.Math object>"
      ]
     },
     "metadata": {},
     "output_type": "display_data"
    },
    {
     "data": {
      "text/latex": [
       "$\\displaystyle Df(x_{3}) = Df \\left( \\left[\\begin{matrix}1.292\\\\2.708\\end{matrix}\\right] \\right) = \\left[\\begin{matrix}1 & 1\\\\2.583 & 5.417\\end{matrix}\\right] \\approx \\left[\\begin{matrix}1.0 & 1.0\\\\2.583 & 5.417\\end{matrix}\\right]$"
      ],
      "text/plain": [
       "<IPython.core.display.Math object>"
      ]
     },
     "metadata": {},
     "output_type": "display_data"
    },
    {
     "data": {
      "text/latex": [
       "$\\displaystyle \\delta = -Df(x_{3})^{-1} f(x_{3}) = -\\left[\\begin{matrix}1 & 1\\\\2.583 & 5.417\\end{matrix}\\right]^{-1} \\left[\\begin{matrix}3.052 \\cdot 10^{-5}\\\\0.00354\\end{matrix}\\right] = -\\left[\\begin{matrix}1.912 & -0.3529\\\\-0.9118 & 0.3529\\end{matrix}\\right] \\left[\\begin{matrix}3.052 \\cdot 10^{-5}\\\\0.00354\\end{matrix}\\right] = \\left[\\begin{matrix}0.001191\\\\-0.001222\\end{matrix}\\right] \\approx \\left[\\begin{matrix}0.001191\\\\-0.001222\\end{matrix}\\right]$"
      ],
      "text/plain": [
       "<IPython.core.display.Math object>"
      ]
     },
     "metadata": {},
     "output_type": "display_data"
    },
    {
     "data": {
      "text/latex": [
       "$\\displaystyle x_{4} = x_{3} + \\delta = \\left[\\begin{matrix}1.292\\\\2.708\\end{matrix}\\right] + \\left[\\begin{matrix}0.001191\\\\-0.001222\\end{matrix}\\right] = \\left[\\begin{matrix}1.293\\\\2.707\\end{matrix}\\right] \\approx \\left[\\begin{matrix}1.293\\\\2.707\\end{matrix}\\right]$"
      ],
      "text/plain": [
       "<IPython.core.display.Math object>"
      ]
     },
     "metadata": {},
     "output_type": "display_data"
    }
   ],
   "source": [
    "import sympy as sp\n",
    "from nlgs_newton import newton\n",
    "\n",
    "symbols = sp.symbols('x y')\n",
    "x, y = symbols\n",
    "\n",
    "funcs = sp.Matrix([\n",
    "    x + y-4,\n",
    "    x**2 + y**2 -9\n",
    "])\n",
    "\n",
    "x0 = sp.Matrix([0,3])\n",
    "\n",
    "newton(symbols, funcs, x0, n=4, precision=4)"
   ]
  }
 ],
 "metadata": {
  "kernelspec": {
   "display_name": "venv",
   "language": "python",
   "name": "python3"
  },
  "language_info": {
   "codemirror_mode": {
    "name": "ipython",
    "version": 3
   },
   "file_extension": ".py",
   "mimetype": "text/x-python",
   "name": "python",
   "nbconvert_exporter": "python",
   "pygments_lexer": "ipython3",
   "version": "3.11.4"
  },
  "orig_nbformat": 4
 },
 "nbformat": 4,
 "nbformat_minor": 2
}

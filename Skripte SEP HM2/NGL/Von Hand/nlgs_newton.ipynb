{
 "cells": [
  {
   "cell_type": "code",
   "execution_count": 3,
   "metadata": {},
   "outputs": [
    {
     "data": {
      "text/plain": [
       "<module 'nlgs_newton' from 'c:\\\\Users\\\\mettl\\\\Documents\\\\Python Scripts\\\\zhaw-hm1\\\\Skripte SEP HM2\\\\NGL\\\\Von Hand\\\\nlgs_newton.py'>"
      ]
     },
     "execution_count": 3,
     "metadata": {},
     "output_type": "execute_result"
    }
   ],
   "source": [
    "import importlib\n",
    "import nlgs_newton\n",
    "importlib.reload(nlgs_newton)"
   ]
  },
  {
   "cell_type": "code",
   "execution_count": 1,
   "metadata": {},
   "outputs": [
    {
     "data": {
      "text/latex": [
       "$\\displaystyle f(x) = \\left[\\begin{matrix}x^{2} + y - 11\\\\x + y^{2} - 7\\end{matrix}\\right]$"
      ],
      "text/plain": [
       "<IPython.core.display.Math object>"
      ]
     },
     "metadata": {},
     "output_type": "display_data"
    },
    {
     "data": {
      "text/markdown": [
       "## Partial Derivatives"
      ],
      "text/plain": [
       "<IPython.core.display.Markdown object>"
      ]
     },
     "metadata": {},
     "output_type": "display_data"
    },
    {
     "data": {
      "text/latex": [
       "$\\displaystyle \\frac{\\partial f_0}{\\partial x} = \\frac{\\partial}{\\partial x} \\left( x^{2} + y - 11 \\right) = 2 x$"
      ],
      "text/plain": [
       "<IPython.core.display.Math object>"
      ]
     },
     "metadata": {},
     "output_type": "display_data"
    },
    {
     "data": {
      "text/latex": [
       "$\\displaystyle \\frac{\\partial f_0}{\\partial y} = \\frac{\\partial}{\\partial y} \\left( x^{2} + y - 11 \\right) = 1$"
      ],
      "text/plain": [
       "<IPython.core.display.Math object>"
      ]
     },
     "metadata": {},
     "output_type": "display_data"
    },
    {
     "data": {
      "text/latex": [
       "$\\displaystyle \\frac{\\partial f_1}{\\partial x} = \\frac{\\partial}{\\partial x} \\left( x + y^{2} - 7 \\right) = 1$"
      ],
      "text/plain": [
       "<IPython.core.display.Math object>"
      ]
     },
     "metadata": {},
     "output_type": "display_data"
    },
    {
     "data": {
      "text/latex": [
       "$\\displaystyle \\frac{\\partial f_1}{\\partial y} = \\frac{\\partial}{\\partial y} \\left( x + y^{2} - 7 \\right) = 2 y$"
      ],
      "text/plain": [
       "<IPython.core.display.Math object>"
      ]
     },
     "metadata": {},
     "output_type": "display_data"
    },
    {
     "data": {
      "text/markdown": [
       "## Jacobi Matrix"
      ],
      "text/plain": [
       "<IPython.core.display.Markdown object>"
      ]
     },
     "metadata": {},
     "output_type": "display_data"
    },
    {
     "data": {
      "text/latex": [
       "$\\displaystyle Df(x) = \\left[\\begin{matrix}2 x & 1\\\\1 & 2 y\\end{matrix}\\right]$"
      ],
      "text/plain": [
       "<IPython.core.display.Math object>"
      ]
     },
     "metadata": {},
     "output_type": "display_data"
    },
    {
     "data": {
      "text/markdown": [
       "## Newton Verfahren"
      ],
      "text/plain": [
       "<IPython.core.display.Markdown object>"
      ]
     },
     "metadata": {},
     "output_type": "display_data"
    },
    {
     "data": {
      "text/markdown": [
       "Iteration 1"
      ],
      "text/plain": [
       "<IPython.core.display.Markdown object>"
      ]
     },
     "metadata": {},
     "output_type": "display_data"
    },
    {
     "data": {
      "text/latex": [
       "$\\displaystyle f(x_{0}) = f \\left( \\left[\\begin{matrix}1\\\\1\\end{matrix}\\right] \\right) = \\left[\\begin{matrix}-9\\\\-5\\end{matrix}\\right] \\approx \\left[\\begin{matrix}-9.0\\\\-5.0\\end{matrix}\\right]$"
      ],
      "text/plain": [
       "<IPython.core.display.Math object>"
      ]
     },
     "metadata": {},
     "output_type": "display_data"
    },
    {
     "data": {
      "text/latex": [
       "$\\displaystyle Df(x_{0}) = Df \\left( \\left[\\begin{matrix}1\\\\1\\end{matrix}\\right] \\right) = \\left[\\begin{matrix}2 & 1\\\\1 & 2\\end{matrix}\\right] \\approx \\left[\\begin{matrix}2.0 & 1.0\\\\1.0 & 2.0\\end{matrix}\\right]$"
      ],
      "text/plain": [
       "<IPython.core.display.Math object>"
      ]
     },
     "metadata": {},
     "output_type": "display_data"
    },
    {
     "data": {
      "text/latex": [
       "$\\displaystyle \\delta = -Df(x_{0})^{-1} f(x_{0}) = -\\left[\\begin{matrix}2 & 1\\\\1 & 2\\end{matrix}\\right]^{-1} \\left[\\begin{matrix}-9\\\\-5\\end{matrix}\\right] = -\\left[\\begin{matrix}\\frac{2}{3} & - \\frac{1}{3}\\\\- \\frac{1}{3} & \\frac{2}{3}\\end{matrix}\\right] \\left[\\begin{matrix}-9\\\\-5\\end{matrix}\\right] = \\left[\\begin{matrix}\\frac{13}{3}\\\\\\frac{1}{3}\\end{matrix}\\right] \\approx \\left[\\begin{matrix}4.333\\\\0.3333\\end{matrix}\\right]$"
      ],
      "text/plain": [
       "<IPython.core.display.Math object>"
      ]
     },
     "metadata": {},
     "output_type": "display_data"
    },
    {
     "data": {
      "text/latex": [
       "$\\displaystyle x_{1} = x_{0} + \\delta = \\left[\\begin{matrix}1\\\\1\\end{matrix}\\right] + \\left[\\begin{matrix}\\frac{13}{3}\\\\\\frac{1}{3}\\end{matrix}\\right] = \\left[\\begin{matrix}\\frac{16}{3}\\\\\\frac{4}{3}\\end{matrix}\\right] \\approx \\left[\\begin{matrix}5.333\\\\1.333\\end{matrix}\\right]$"
      ],
      "text/plain": [
       "<IPython.core.display.Math object>"
      ]
     },
     "metadata": {},
     "output_type": "display_data"
    },
    {
     "data": {
      "text/markdown": [
       "Iteration 2"
      ],
      "text/plain": [
       "<IPython.core.display.Markdown object>"
      ]
     },
     "metadata": {},
     "output_type": "display_data"
    },
    {
     "data": {
      "text/latex": [
       "$\\displaystyle f(x_{1}) = f \\left( \\left[\\begin{matrix}5.333\\\\1.333\\end{matrix}\\right] \\right) = \\left[\\begin{matrix}18.78\\\\0.1111\\end{matrix}\\right] \\approx \\left[\\begin{matrix}18.78\\\\0.1111\\end{matrix}\\right]$"
      ],
      "text/plain": [
       "<IPython.core.display.Math object>"
      ]
     },
     "metadata": {},
     "output_type": "display_data"
    },
    {
     "data": {
      "text/latex": [
       "$\\displaystyle Df(x_{1}) = Df \\left( \\left[\\begin{matrix}5.333\\\\1.333\\end{matrix}\\right] \\right) = \\left[\\begin{matrix}10.67 & 1\\\\1 & 2.667\\end{matrix}\\right] \\approx \\left[\\begin{matrix}10.67 & 1.0\\\\1.0 & 2.667\\end{matrix}\\right]$"
      ],
      "text/plain": [
       "<IPython.core.display.Math object>"
      ]
     },
     "metadata": {},
     "output_type": "display_data"
    },
    {
     "data": {
      "text/latex": [
       "$\\displaystyle \\delta = -Df(x_{1})^{-1} f(x_{1}) = -\\left[\\begin{matrix}10.67 & 1\\\\1 & 2.667\\end{matrix}\\right]^{-1} \\left[\\begin{matrix}18.78\\\\0.1111\\end{matrix}\\right] = -\\left[\\begin{matrix}0.09717 & -0.03644\\\\-0.03644 & 0.3887\\end{matrix}\\right] \\left[\\begin{matrix}18.78\\\\0.1111\\end{matrix}\\right] = \\left[\\begin{matrix}-1.82\\\\0.641\\end{matrix}\\right] \\approx \\left[\\begin{matrix}-1.82\\\\0.641\\end{matrix}\\right]$"
      ],
      "text/plain": [
       "<IPython.core.display.Math object>"
      ]
     },
     "metadata": {},
     "output_type": "display_data"
    },
    {
     "data": {
      "text/latex": [
       "$\\displaystyle x_{2} = x_{1} + \\delta = \\left[\\begin{matrix}5.333\\\\1.333\\end{matrix}\\right] + \\left[\\begin{matrix}-1.82\\\\0.641\\end{matrix}\\right] = \\left[\\begin{matrix}3.513\\\\1.974\\end{matrix}\\right] \\approx \\left[\\begin{matrix}3.513\\\\1.974\\end{matrix}\\right]$"
      ],
      "text/plain": [
       "<IPython.core.display.Math object>"
      ]
     },
     "metadata": {},
     "output_type": "display_data"
    },
    {
     "data": {
      "text/markdown": [
       "Iteration 3"
      ],
      "text/plain": [
       "<IPython.core.display.Markdown object>"
      ]
     },
     "metadata": {},
     "output_type": "display_data"
    },
    {
     "data": {
      "text/latex": [
       "$\\displaystyle f(x_{2}) = f \\left( \\left[\\begin{matrix}3.513\\\\1.974\\end{matrix}\\right] \\right) = \\left[\\begin{matrix}3.314\\\\0.4109\\end{matrix}\\right] \\approx \\left[\\begin{matrix}3.314\\\\0.4109\\end{matrix}\\right]$"
      ],
      "text/plain": [
       "<IPython.core.display.Math object>"
      ]
     },
     "metadata": {},
     "output_type": "display_data"
    },
    {
     "data": {
      "text/latex": [
       "$\\displaystyle Df(x_{2}) = Df \\left( \\left[\\begin{matrix}3.513\\\\1.974\\end{matrix}\\right] \\right) = \\left[\\begin{matrix}7.026 & 1\\\\1 & 3.949\\end{matrix}\\right] \\approx \\left[\\begin{matrix}7.026 & 1.0\\\\1.0 & 3.949\\end{matrix}\\right]$"
      ],
      "text/plain": [
       "<IPython.core.display.Math object>"
      ]
     },
     "metadata": {},
     "output_type": "display_data"
    },
    {
     "data": {
      "text/latex": [
       "$\\displaystyle \\delta = -Df(x_{2})^{-1} f(x_{2}) = -\\left[\\begin{matrix}7.026 & 1\\\\1 & 3.949\\end{matrix}\\right]^{-1} \\left[\\begin{matrix}3.314\\\\0.4109\\end{matrix}\\right] = -\\left[\\begin{matrix}0.1477 & -0.03739\\\\-0.03739 & 0.2627\\end{matrix}\\right] \\left[\\begin{matrix}3.314\\\\0.4109\\end{matrix}\\right] = \\left[\\begin{matrix}-0.474\\\\0.01597\\end{matrix}\\right] \\approx \\left[\\begin{matrix}-0.474\\\\0.01597\\end{matrix}\\right]$"
      ],
      "text/plain": [
       "<IPython.core.display.Math object>"
      ]
     },
     "metadata": {},
     "output_type": "display_data"
    },
    {
     "data": {
      "text/latex": [
       "$\\displaystyle x_{3} = x_{2} + \\delta = \\left[\\begin{matrix}3.513\\\\1.974\\end{matrix}\\right] + \\left[\\begin{matrix}-0.474\\\\0.01597\\end{matrix}\\right] = \\left[\\begin{matrix}3.039\\\\1.99\\end{matrix}\\right] \\approx \\left[\\begin{matrix}3.039\\\\1.99\\end{matrix}\\right]$"
      ],
      "text/plain": [
       "<IPython.core.display.Math object>"
      ]
     },
     "metadata": {},
     "output_type": "display_data"
    },
    {
     "data": {
      "text/markdown": [
       "Iteration 4"
      ],
      "text/plain": [
       "<IPython.core.display.Markdown object>"
      ]
     },
     "metadata": {},
     "output_type": "display_data"
    },
    {
     "data": {
      "text/latex": [
       "$\\displaystyle f(x_{3}) = f \\left( \\left[\\begin{matrix}3.039\\\\1.99\\end{matrix}\\right] \\right) = \\left[\\begin{matrix}0.2247\\\\0.0002136\\end{matrix}\\right] \\approx \\left[\\begin{matrix}0.2247\\\\0.0002136\\end{matrix}\\right]$"
      ],
      "text/plain": [
       "<IPython.core.display.Math object>"
      ]
     },
     "metadata": {},
     "output_type": "display_data"
    },
    {
     "data": {
      "text/latex": [
       "$\\displaystyle Df(x_{3}) = Df \\left( \\left[\\begin{matrix}3.039\\\\1.99\\end{matrix}\\right] \\right) = \\left[\\begin{matrix}6.078 & 1\\\\1 & 3.981\\end{matrix}\\right] \\approx \\left[\\begin{matrix}6.078 & 1.0\\\\1.0 & 3.981\\end{matrix}\\right]$"
      ],
      "text/plain": [
       "<IPython.core.display.Math object>"
      ]
     },
     "metadata": {},
     "output_type": "display_data"
    },
    {
     "data": {
      "text/latex": [
       "$\\displaystyle \\delta = -Df(x_{3})^{-1} f(x_{3}) = -\\left[\\begin{matrix}6.078 & 1\\\\1 & 3.981\\end{matrix}\\right]^{-1} \\left[\\begin{matrix}0.2247\\\\0.0002136\\end{matrix}\\right] = -\\left[\\begin{matrix}0.1716 & -0.04312\\\\-0.04312 & 0.262\\end{matrix}\\right] \\left[\\begin{matrix}0.2247\\\\0.0002136\\end{matrix}\\right] = \\left[\\begin{matrix}-0.03856\\\\0.009632\\end{matrix}\\right] \\approx \\left[\\begin{matrix}-0.03856\\\\0.009632\\end{matrix}\\right]$"
      ],
      "text/plain": [
       "<IPython.core.display.Math object>"
      ]
     },
     "metadata": {},
     "output_type": "display_data"
    },
    {
     "data": {
      "text/latex": [
       "$\\displaystyle x_{4} = x_{3} + \\delta = \\left[\\begin{matrix}3.039\\\\1.99\\end{matrix}\\right] + \\left[\\begin{matrix}-0.03856\\\\0.009632\\end{matrix}\\right] = \\left[\\begin{matrix}3.0\\\\2.0\\end{matrix}\\right] \\approx \\left[\\begin{matrix}3.0\\\\2.0\\end{matrix}\\right]$"
      ],
      "text/plain": [
       "<IPython.core.display.Math object>"
      ]
     },
     "metadata": {},
     "output_type": "display_data"
    }
   ],
   "source": [
    "import sympy as sp\n",
    "from nlgs_newton import newton\n",
    "\n",
    "symbols = sp.symbols('x y')\n",
    "x, y = symbols\n",
    "\n",
    "funcs = sp.Matrix([\n",
    "    x**2 + y - 11,\n",
    "    x + y**2 - 7\n",
    "])\n",
    "\n",
    "x0 = sp.Matrix([1, 1])\n",
    "\n",
    "newton(symbols, funcs, x0, n=4, precision=4)"
   ]
  }
 ],
 "metadata": {
  "kernelspec": {
   "display_name": "venv",
   "language": "python",
   "name": "python3"
  },
  "language_info": {
   "codemirror_mode": {
    "name": "ipython",
    "version": 3
   },
   "file_extension": ".py",
   "mimetype": "text/x-python",
   "name": "python",
   "nbconvert_exporter": "python",
   "pygments_lexer": "ipython3",
   "version": "3.11.4"
  },
  "orig_nbformat": 4
 },
 "nbformat": 4,
 "nbformat_minor": 2
}

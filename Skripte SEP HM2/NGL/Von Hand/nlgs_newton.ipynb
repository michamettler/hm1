{
 "cells": [
  {
   "cell_type": "code",
   "execution_count": 3,
   "metadata": {},
   "outputs": [
    {
     "data": {
      "text/plain": [
       "<module 'nlgs_newton' from 'c:\\\\Users\\\\mettl\\\\Documents\\\\Python Scripts\\\\zhaw-hm1\\\\Skripte SEP HM2\\\\NGL\\\\Von Hand\\\\nlgs_newton.py'>"
      ]
     },
     "execution_count": 3,
     "metadata": {},
     "output_type": "execute_result"
    }
   ],
   "source": [
    "import importlib\n",
    "import nlgs_newton\n",
    "importlib.reload(nlgs_newton)"
   ]
  },
  {
   "cell_type": "code",
   "execution_count": 1,
   "metadata": {},
   "outputs": [
    {
     "data": {
      "text/latex": [
       "$\\displaystyle f(x) = \\left[\\begin{matrix}c x + y - 4\\\\x^{2} + y^{2} - 9\\end{matrix}\\right]$"
      ],
      "text/plain": [
       "<IPython.core.display.Math object>"
      ]
     },
     "metadata": {},
     "output_type": "display_data"
    },
    {
     "data": {
      "text/markdown": [
       "## Partial Derivatives"
      ],
      "text/plain": [
       "<IPython.core.display.Markdown object>"
      ]
     },
     "metadata": {},
     "output_type": "display_data"
    },
    {
     "data": {
      "text/latex": [
       "$\\displaystyle \\frac{\\partial f_0}{\\partial x} = \\frac{\\partial}{\\partial x} \\left( c x + y - 4 \\right) = c$"
      ],
      "text/plain": [
       "<IPython.core.display.Math object>"
      ]
     },
     "metadata": {},
     "output_type": "display_data"
    },
    {
     "data": {
      "text/latex": [
       "$\\displaystyle \\frac{\\partial f_0}{\\partial y} = \\frac{\\partial}{\\partial y} \\left( c x + y - 4 \\right) = 1$"
      ],
      "text/plain": [
       "<IPython.core.display.Math object>"
      ]
     },
     "metadata": {},
     "output_type": "display_data"
    },
    {
     "data": {
      "text/latex": [
       "$\\displaystyle \\frac{\\partial f_1}{\\partial x} = \\frac{\\partial}{\\partial x} \\left( x^{2} + y^{2} - 9 \\right) = 2 x$"
      ],
      "text/plain": [
       "<IPython.core.display.Math object>"
      ]
     },
     "metadata": {},
     "output_type": "display_data"
    },
    {
     "data": {
      "text/latex": [
       "$\\displaystyle \\frac{\\partial f_1}{\\partial y} = \\frac{\\partial}{\\partial y} \\left( x^{2} + y^{2} - 9 \\right) = 2 y$"
      ],
      "text/plain": [
       "<IPython.core.display.Math object>"
      ]
     },
     "metadata": {},
     "output_type": "display_data"
    },
    {
     "data": {
      "text/markdown": [
       "## Jacobi Matrix"
      ],
      "text/plain": [
       "<IPython.core.display.Markdown object>"
      ]
     },
     "metadata": {},
     "output_type": "display_data"
    },
    {
     "data": {
      "text/latex": [
       "$\\displaystyle Df(x) = \\left[\\begin{matrix}c & 1\\\\2 x & 2 y\\end{matrix}\\right]$"
      ],
      "text/plain": [
       "<IPython.core.display.Math object>"
      ]
     },
     "metadata": {},
     "output_type": "display_data"
    },
    {
     "data": {
      "text/markdown": [
       "## Newton Verfahren"
      ],
      "text/plain": [
       "<IPython.core.display.Markdown object>"
      ]
     },
     "metadata": {},
     "output_type": "display_data"
    },
    {
     "data": {
      "text/markdown": [
       "Iteration 1"
      ],
      "text/plain": [
       "<IPython.core.display.Markdown object>"
      ]
     },
     "metadata": {},
     "output_type": "display_data"
    },
    {
     "data": {
      "text/latex": [
       "$\\displaystyle f(x_{0}) = f \\left( \\left[\\begin{matrix}0\\\\3\\end{matrix}\\right] \\right) = \\left[\\begin{matrix}-1\\\\0\\end{matrix}\\right] \\approx \\left[\\begin{matrix}-1.0\\\\0\\end{matrix}\\right]$"
      ],
      "text/plain": [
       "<IPython.core.display.Math object>"
      ]
     },
     "metadata": {},
     "output_type": "display_data"
    },
    {
     "data": {
      "text/latex": [
       "$\\displaystyle Df(x_{0}) = Df \\left( \\left[\\begin{matrix}0\\\\3\\end{matrix}\\right] \\right) = \\left[\\begin{matrix}c & 1\\\\0 & 6\\end{matrix}\\right] \\approx \\left[\\begin{matrix}c & 1.0\\\\0 & 6.0\\end{matrix}\\right]$"
      ],
      "text/plain": [
       "<IPython.core.display.Math object>"
      ]
     },
     "metadata": {},
     "output_type": "display_data"
    },
    {
     "data": {
      "text/latex": [
       "$\\displaystyle \\delta = -Df(x_{0})^{-1} f(x_{0}) = -\\left[\\begin{matrix}c & 1\\\\0 & 6\\end{matrix}\\right]^{-1} \\left[\\begin{matrix}-1\\\\0\\end{matrix}\\right] = -\\left[\\begin{matrix}\\frac{1}{c} & - \\frac{1}{6 c}\\\\0 & \\frac{1}{6}\\end{matrix}\\right] \\left[\\begin{matrix}-1\\\\0\\end{matrix}\\right] = \\left[\\begin{matrix}\\frac{1}{c}\\\\0\\end{matrix}\\right] \\approx \\left[\\begin{matrix}\\frac{1}{c}\\\\0\\end{matrix}\\right]$"
      ],
      "text/plain": [
       "<IPython.core.display.Math object>"
      ]
     },
     "metadata": {},
     "output_type": "display_data"
    },
    {
     "data": {
      "text/latex": [
       "$\\displaystyle x_{1} = x_{0} + \\delta = \\left[\\begin{matrix}0\\\\3\\end{matrix}\\right] + \\left[\\begin{matrix}\\frac{1}{c}\\\\0\\end{matrix}\\right] = \\left[\\begin{matrix}\\frac{1}{c}\\\\3\\end{matrix}\\right] \\approx \\left[\\begin{matrix}\\frac{1}{c}\\\\3.0\\end{matrix}\\right]$"
      ],
      "text/plain": [
       "<IPython.core.display.Math object>"
      ]
     },
     "metadata": {},
     "output_type": "display_data"
    }
   ],
   "source": [
    "import sympy as sp\n",
    "from nlgs_newton import newton\n",
    "\n",
    "# Symbole definieren\n",
    "symbols = sp.symbols('x y')\n",
    "x, y = symbols\n",
    "c = sp.Symbol('c')\n",
    "\n",
    "# Funktionsvektor definieren\n",
    "funcs = sp.Matrix([\n",
    "    c*x + y - 4,\n",
    "    x**2 + y**2 - 9\n",
    "])\n",
    "\n",
    "x0 = sp.Matrix([0, 3])\n",
    "\n",
    "newton(symbols, funcs, x0, n=1, precision=4)"
   ]
  }
 ],
 "metadata": {
  "kernelspec": {
   "display_name": "venv",
   "language": "python",
   "name": "python3"
  },
  "language_info": {
   "codemirror_mode": {
    "name": "ipython",
    "version": 3
   },
   "file_extension": ".py",
   "mimetype": "text/x-python",
   "name": "python",
   "nbconvert_exporter": "python",
   "pygments_lexer": "ipython3",
   "version": "3.11.4"
  },
  "orig_nbformat": 4
 },
 "nbformat": 4,
 "nbformat_minor": 2
}

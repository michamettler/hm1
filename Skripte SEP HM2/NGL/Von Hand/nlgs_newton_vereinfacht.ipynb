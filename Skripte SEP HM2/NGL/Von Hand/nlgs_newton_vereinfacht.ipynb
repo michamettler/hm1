{
 "cells": [
  {
   "cell_type": "code",
   "execution_count": 1,
   "metadata": {},
   "outputs": [
    {
     "data": {
      "text/plain": [
       "<module 'nlgs_newton_vereinfacht' from 'c:\\\\Users\\\\mettl\\\\Documents\\\\Python Scripts\\\\zhaw-hm1\\\\Skripte SEP HM2\\\\NGL\\\\nlgs_newton_vereinfacht.py'>"
      ]
     },
     "execution_count": 1,
     "metadata": {},
     "output_type": "execute_result"
    }
   ],
   "source": [
    "import importlib\n",
    "import nlgs_newton_vereinfacht\n",
    "importlib.reload(nlgs_newton_vereinfacht)"
   ]
  },
  {
   "cell_type": "code",
   "execution_count": 12,
   "metadata": {},
   "outputs": [
    {
     "data": {
      "text/latex": [
       "$\\displaystyle f(x) = \\left[\\begin{matrix}x + y - 4\\\\x^{2} + y^{2} - 9\\end{matrix}\\right]$"
      ],
      "text/plain": [
       "<IPython.core.display.Math object>"
      ]
     },
     "metadata": {},
     "output_type": "display_data"
    },
    {
     "data": {
      "text/markdown": [
       "## Partial Derivatives"
      ],
      "text/plain": [
       "<IPython.core.display.Markdown object>"
      ]
     },
     "metadata": {},
     "output_type": "display_data"
    },
    {
     "data": {
      "text/latex": [
       "$\\displaystyle \\frac{\\partial f_0}{\\partial x} = \\frac{\\partial}{\\partial x} \\left( x + y - 4 \\right) = 1$"
      ],
      "text/plain": [
       "<IPython.core.display.Math object>"
      ]
     },
     "metadata": {},
     "output_type": "display_data"
    },
    {
     "data": {
      "text/latex": [
       "$\\displaystyle \\frac{\\partial f_0}{\\partial y} = \\frac{\\partial}{\\partial y} \\left( x + y - 4 \\right) = 1$"
      ],
      "text/plain": [
       "<IPython.core.display.Math object>"
      ]
     },
     "metadata": {},
     "output_type": "display_data"
    },
    {
     "data": {
      "text/latex": [
       "$\\displaystyle \\frac{\\partial f_1}{\\partial x} = \\frac{\\partial}{\\partial x} \\left( x^{2} + y^{2} - 9 \\right) = 2 x$"
      ],
      "text/plain": [
       "<IPython.core.display.Math object>"
      ]
     },
     "metadata": {},
     "output_type": "display_data"
    },
    {
     "data": {
      "text/latex": [
       "$\\displaystyle \\frac{\\partial f_1}{\\partial y} = \\frac{\\partial}{\\partial y} \\left( x^{2} + y^{2} - 9 \\right) = 2 y$"
      ],
      "text/plain": [
       "<IPython.core.display.Math object>"
      ]
     },
     "metadata": {},
     "output_type": "display_data"
    },
    {
     "data": {
      "text/markdown": [
       "## Jacobi Matrix"
      ],
      "text/plain": [
       "<IPython.core.display.Markdown object>"
      ]
     },
     "metadata": {},
     "output_type": "display_data"
    },
    {
     "data": {
      "text/latex": [
       "$\\displaystyle Df(x) = \\left[\\begin{matrix}1 & 1\\\\2 x & 2 y\\end{matrix}\\right]$"
      ],
      "text/plain": [
       "<IPython.core.display.Math object>"
      ]
     },
     "metadata": {},
     "output_type": "display_data"
    },
    {
     "data": {
      "text/latex": [
       "$\\displaystyle Df(x_0) = Df \\left( \\left[\\begin{matrix}1\\\\0\\end{matrix}\\right] \\right) = \\left[\\begin{matrix}1 & 1\\\\2 & 0\\end{matrix}\\right] \\approx \\left[\\begin{matrix}1.0 & 1.0\\\\2.0 & 0\\end{matrix}\\right]$"
      ],
      "text/plain": [
       "<IPython.core.display.Math object>"
      ]
     },
     "metadata": {},
     "output_type": "display_data"
    },
    {
     "data": {
      "text/latex": [
       "$\\displaystyle Df(x_0)^{-1} = \\left( Df \\left( \\left[\\begin{matrix}1\\\\0\\end{matrix}\\right] \\right) \\right)^{-1} = \\left[\\begin{matrix}1 & 1\\\\2 & 0\\end{matrix}\\right]^{-1} = \\left[\\begin{matrix}0 & \\frac{1}{2}\\\\1 & - \\frac{1}{2}\\end{matrix}\\right] \\approx \\left[\\begin{matrix}0 & 0.5\\\\1.0 & -0.5\\end{matrix}\\right]$"
      ],
      "text/plain": [
       "<IPython.core.display.Math object>"
      ]
     },
     "metadata": {},
     "output_type": "display_data"
    },
    {
     "data": {
      "text/markdown": [
       "## Newton Verfahren"
      ],
      "text/plain": [
       "<IPython.core.display.Markdown object>"
      ]
     },
     "metadata": {},
     "output_type": "display_data"
    },
    {
     "data": {
      "text/markdown": [
       "Iteration 1"
      ],
      "text/plain": [
       "<IPython.core.display.Markdown object>"
      ]
     },
     "metadata": {},
     "output_type": "display_data"
    },
    {
     "data": {
      "text/latex": [
       "$\\displaystyle f(x_{0}) = f \\left( \\left[\\begin{matrix}1\\\\0\\end{matrix}\\right] \\right) = \\left[\\begin{matrix}-3\\\\-8\\end{matrix}\\right] \\approx \\left[\\begin{matrix}-3.0\\\\-8.0\\end{matrix}\\right]$"
      ],
      "text/plain": [
       "<IPython.core.display.Math object>"
      ]
     },
     "metadata": {},
     "output_type": "display_data"
    },
    {
     "data": {
      "text/latex": [
       "$\\displaystyle \\delta = -Df(x_0)^{-1} f(x_{0}) = - \\left[\\begin{matrix}0 & \\frac{1}{2}\\\\1 & - \\frac{1}{2}\\end{matrix}\\right] \\left[\\begin{matrix}-3\\\\-8\\end{matrix}\\right] = \\left[\\begin{matrix}4\\\\-1\\end{matrix}\\right] \\approx \\left[\\begin{matrix}4.0\\\\-1.0\\end{matrix}\\right]$"
      ],
      "text/plain": [
       "<IPython.core.display.Math object>"
      ]
     },
     "metadata": {},
     "output_type": "display_data"
    },
    {
     "data": {
      "text/latex": [
       "$\\displaystyle x_{1} = x_{0} + \\delta = \\left[\\begin{matrix}1\\\\0\\end{matrix}\\right] + \\left[\\begin{matrix}4\\\\-1\\end{matrix}\\right] = \\left[\\begin{matrix}5\\\\-1\\end{matrix}\\right] \\approx \\left[\\begin{matrix}5.0\\\\-1.0\\end{matrix}\\right]$"
      ],
      "text/plain": [
       "<IPython.core.display.Math object>"
      ]
     },
     "metadata": {},
     "output_type": "display_data"
    },
    {
     "data": {
      "text/markdown": [
       "Iteration 2"
      ],
      "text/plain": [
       "<IPython.core.display.Markdown object>"
      ]
     },
     "metadata": {},
     "output_type": "display_data"
    },
    {
     "data": {
      "text/latex": [
       "$\\displaystyle f(x_{1}) = f \\left( \\left[\\begin{matrix}5.0\\\\-1.0\\end{matrix}\\right] \\right) = \\left[\\begin{matrix}0\\\\17.0\\end{matrix}\\right] \\approx \\left[\\begin{matrix}0\\\\17.0\\end{matrix}\\right]$"
      ],
      "text/plain": [
       "<IPython.core.display.Math object>"
      ]
     },
     "metadata": {},
     "output_type": "display_data"
    },
    {
     "data": {
      "text/latex": [
       "$\\displaystyle \\delta = -Df(x_0)^{-1} f(x_{1}) = - \\left[\\begin{matrix}0 & \\frac{1}{2}\\\\1 & - \\frac{1}{2}\\end{matrix}\\right] \\left[\\begin{matrix}0\\\\17.0\\end{matrix}\\right] = \\left[\\begin{matrix}-8.5\\\\8.5\\end{matrix}\\right] \\approx \\left[\\begin{matrix}-8.5\\\\8.5\\end{matrix}\\right]$"
      ],
      "text/plain": [
       "<IPython.core.display.Math object>"
      ]
     },
     "metadata": {},
     "output_type": "display_data"
    },
    {
     "data": {
      "text/latex": [
       "$\\displaystyle x_{2} = x_{1} + \\delta = \\left[\\begin{matrix}5.0\\\\-1.0\\end{matrix}\\right] + \\left[\\begin{matrix}-8.5\\\\8.5\\end{matrix}\\right] = \\left[\\begin{matrix}-3.5\\\\7.5\\end{matrix}\\right] \\approx \\left[\\begin{matrix}-3.5\\\\7.5\\end{matrix}\\right]$"
      ],
      "text/plain": [
       "<IPython.core.display.Math object>"
      ]
     },
     "metadata": {},
     "output_type": "display_data"
    },
    {
     "data": {
      "text/markdown": [
       "Iteration 3"
      ],
      "text/plain": [
       "<IPython.core.display.Markdown object>"
      ]
     },
     "metadata": {},
     "output_type": "display_data"
    },
    {
     "data": {
      "text/latex": [
       "$\\displaystyle f(x_{2}) = f \\left( \\left[\\begin{matrix}-3.5\\\\7.5\\end{matrix}\\right] \\right) = \\left[\\begin{matrix}0\\\\59.5\\end{matrix}\\right] \\approx \\left[\\begin{matrix}0\\\\59.5\\end{matrix}\\right]$"
      ],
      "text/plain": [
       "<IPython.core.display.Math object>"
      ]
     },
     "metadata": {},
     "output_type": "display_data"
    },
    {
     "data": {
      "text/latex": [
       "$\\displaystyle \\delta = -Df(x_0)^{-1} f(x_{2}) = - \\left[\\begin{matrix}0 & \\frac{1}{2}\\\\1 & - \\frac{1}{2}\\end{matrix}\\right] \\left[\\begin{matrix}0\\\\59.5\\end{matrix}\\right] = \\left[\\begin{matrix}-29.75\\\\29.75\\end{matrix}\\right] \\approx \\left[\\begin{matrix}-29.75\\\\29.75\\end{matrix}\\right]$"
      ],
      "text/plain": [
       "<IPython.core.display.Math object>"
      ]
     },
     "metadata": {},
     "output_type": "display_data"
    },
    {
     "data": {
      "text/latex": [
       "$\\displaystyle x_{3} = x_{2} + \\delta = \\left[\\begin{matrix}-3.5\\\\7.5\\end{matrix}\\right] + \\left[\\begin{matrix}-29.75\\\\29.75\\end{matrix}\\right] = \\left[\\begin{matrix}-33.25\\\\37.25\\end{matrix}\\right] \\approx \\left[\\begin{matrix}-33.25\\\\37.25\\end{matrix}\\right]$"
      ],
      "text/plain": [
       "<IPython.core.display.Math object>"
      ]
     },
     "metadata": {},
     "output_type": "display_data"
    },
    {
     "data": {
      "text/markdown": [
       "Iteration 4"
      ],
      "text/plain": [
       "<IPython.core.display.Markdown object>"
      ]
     },
     "metadata": {},
     "output_type": "display_data"
    },
    {
     "data": {
      "text/latex": [
       "$\\displaystyle f(x_{3}) = f \\left( \\left[\\begin{matrix}-33.25\\\\37.25\\end{matrix}\\right] \\right) = \\left[\\begin{matrix}0\\\\2484.0\\end{matrix}\\right] \\approx \\left[\\begin{matrix}0\\\\2484.0\\end{matrix}\\right]$"
      ],
      "text/plain": [
       "<IPython.core.display.Math object>"
      ]
     },
     "metadata": {},
     "output_type": "display_data"
    },
    {
     "data": {
      "text/latex": [
       "$\\displaystyle \\delta = -Df(x_0)^{-1} f(x_{3}) = - \\left[\\begin{matrix}0 & \\frac{1}{2}\\\\1 & - \\frac{1}{2}\\end{matrix}\\right] \\left[\\begin{matrix}0\\\\2484.0\\end{matrix}\\right] = \\left[\\begin{matrix}-1242.0\\\\1242.0\\end{matrix}\\right] \\approx \\left[\\begin{matrix}-1242.0\\\\1242.0\\end{matrix}\\right]$"
      ],
      "text/plain": [
       "<IPython.core.display.Math object>"
      ]
     },
     "metadata": {},
     "output_type": "display_data"
    },
    {
     "data": {
      "text/latex": [
       "$\\displaystyle x_{4} = x_{3} + \\delta = \\left[\\begin{matrix}-33.25\\\\37.25\\end{matrix}\\right] + \\left[\\begin{matrix}-1242.0\\\\1242.0\\end{matrix}\\right] = \\left[\\begin{matrix}-1275.0\\\\1279.0\\end{matrix}\\right] \\approx \\left[\\begin{matrix}-1275.0\\\\1279.0\\end{matrix}\\right]$"
      ],
      "text/plain": [
       "<IPython.core.display.Math object>"
      ]
     },
     "metadata": {},
     "output_type": "display_data"
    },
    {
     "data": {
      "text/markdown": [
       "Iteration 5"
      ],
      "text/plain": [
       "<IPython.core.display.Markdown object>"
      ]
     },
     "metadata": {},
     "output_type": "display_data"
    },
    {
     "data": {
      "text/latex": [
       "$\\displaystyle f(x_{4}) = f \\left( \\left[\\begin{matrix}-1275.0\\\\1279.0\\end{matrix}\\right] \\right) = \\left[\\begin{matrix}0\\\\3.263 \\cdot 10^{6}\\end{matrix}\\right] \\approx \\left[\\begin{matrix}0\\\\3.263 \\cdot 10^{6}\\end{matrix}\\right]$"
      ],
      "text/plain": [
       "<IPython.core.display.Math object>"
      ]
     },
     "metadata": {},
     "output_type": "display_data"
    },
    {
     "data": {
      "text/latex": [
       "$\\displaystyle \\delta = -Df(x_0)^{-1} f(x_{4}) = - \\left[\\begin{matrix}0 & \\frac{1}{2}\\\\1 & - \\frac{1}{2}\\end{matrix}\\right] \\left[\\begin{matrix}0\\\\3.263 \\cdot 10^{6}\\end{matrix}\\right] = \\left[\\begin{matrix}-1.632 \\cdot 10^{6}\\\\1.632 \\cdot 10^{6}\\end{matrix}\\right] \\approx \\left[\\begin{matrix}-1.632 \\cdot 10^{6}\\\\1.632 \\cdot 10^{6}\\end{matrix}\\right]$"
      ],
      "text/plain": [
       "<IPython.core.display.Math object>"
      ]
     },
     "metadata": {},
     "output_type": "display_data"
    },
    {
     "data": {
      "text/latex": [
       "$\\displaystyle x_{5} = x_{4} + \\delta = \\left[\\begin{matrix}-1275.0\\\\1279.0\\end{matrix}\\right] + \\left[\\begin{matrix}-1.632 \\cdot 10^{6}\\\\1.632 \\cdot 10^{6}\\end{matrix}\\right] = \\left[\\begin{matrix}-1.633 \\cdot 10^{6}\\\\1.633 \\cdot 10^{6}\\end{matrix}\\right] \\approx \\left[\\begin{matrix}-1.633 \\cdot 10^{6}\\\\1.633 \\cdot 10^{6}\\end{matrix}\\right]$"
      ],
      "text/plain": [
       "<IPython.core.display.Math object>"
      ]
     },
     "metadata": {},
     "output_type": "display_data"
    },
    {
     "data": {
      "text/markdown": [
       "Iteration 6"
      ],
      "text/plain": [
       "<IPython.core.display.Markdown object>"
      ]
     },
     "metadata": {},
     "output_type": "display_data"
    },
    {
     "data": {
      "text/latex": [
       "$\\displaystyle f(x_{5}) = f \\left( \\left[\\begin{matrix}-1.633 \\cdot 10^{6}\\\\1.633 \\cdot 10^{6}\\end{matrix}\\right] \\right) = \\left[\\begin{matrix}0\\\\5.332 \\cdot 10^{12}\\end{matrix}\\right] \\approx \\left[\\begin{matrix}0\\\\5.332 \\cdot 10^{12}\\end{matrix}\\right]$"
      ],
      "text/plain": [
       "<IPython.core.display.Math object>"
      ]
     },
     "metadata": {},
     "output_type": "display_data"
    },
    {
     "data": {
      "text/latex": [
       "$\\displaystyle \\delta = -Df(x_0)^{-1} f(x_{5}) = - \\left[\\begin{matrix}0 & \\frac{1}{2}\\\\1 & - \\frac{1}{2}\\end{matrix}\\right] \\left[\\begin{matrix}0\\\\5.332 \\cdot 10^{12}\\end{matrix}\\right] = \\left[\\begin{matrix}-2.666 \\cdot 10^{12}\\\\2.666 \\cdot 10^{12}\\end{matrix}\\right] \\approx \\left[\\begin{matrix}-2.666 \\cdot 10^{12}\\\\2.666 \\cdot 10^{12}\\end{matrix}\\right]$"
      ],
      "text/plain": [
       "<IPython.core.display.Math object>"
      ]
     },
     "metadata": {},
     "output_type": "display_data"
    },
    {
     "data": {
      "text/latex": [
       "$\\displaystyle x_{6} = x_{5} + \\delta = \\left[\\begin{matrix}-1.633 \\cdot 10^{6}\\\\1.633 \\cdot 10^{6}\\end{matrix}\\right] + \\left[\\begin{matrix}-2.666 \\cdot 10^{12}\\\\2.666 \\cdot 10^{12}\\end{matrix}\\right] = \\left[\\begin{matrix}-2.666 \\cdot 10^{12}\\\\2.666 \\cdot 10^{12}\\end{matrix}\\right] \\approx \\left[\\begin{matrix}-2.666 \\cdot 10^{12}\\\\2.666 \\cdot 10^{12}\\end{matrix}\\right]$"
      ],
      "text/plain": [
       "<IPython.core.display.Math object>"
      ]
     },
     "metadata": {},
     "output_type": "display_data"
    },
    {
     "data": {
      "text/markdown": [
       "Iteration 7"
      ],
      "text/plain": [
       "<IPython.core.display.Markdown object>"
      ]
     },
     "metadata": {},
     "output_type": "display_data"
    },
    {
     "data": {
      "text/latex": [
       "$\\displaystyle f(x_{6}) = f \\left( \\left[\\begin{matrix}-2.666 \\cdot 10^{12}\\\\2.666 \\cdot 10^{12}\\end{matrix}\\right] \\right) = \\left[\\begin{matrix}0\\\\1.422 \\cdot 10^{25}\\end{matrix}\\right] \\approx \\left[\\begin{matrix}0\\\\1.422 \\cdot 10^{25}\\end{matrix}\\right]$"
      ],
      "text/plain": [
       "<IPython.core.display.Math object>"
      ]
     },
     "metadata": {},
     "output_type": "display_data"
    },
    {
     "data": {
      "text/latex": [
       "$\\displaystyle \\delta = -Df(x_0)^{-1} f(x_{6}) = - \\left[\\begin{matrix}0 & \\frac{1}{2}\\\\1 & - \\frac{1}{2}\\end{matrix}\\right] \\left[\\begin{matrix}0\\\\1.422 \\cdot 10^{25}\\end{matrix}\\right] = \\left[\\begin{matrix}-7.108 \\cdot 10^{24}\\\\7.108 \\cdot 10^{24}\\end{matrix}\\right] \\approx \\left[\\begin{matrix}-7.108 \\cdot 10^{24}\\\\7.108 \\cdot 10^{24}\\end{matrix}\\right]$"
      ],
      "text/plain": [
       "<IPython.core.display.Math object>"
      ]
     },
     "metadata": {},
     "output_type": "display_data"
    },
    {
     "data": {
      "text/latex": [
       "$\\displaystyle x_{7} = x_{6} + \\delta = \\left[\\begin{matrix}-2.666 \\cdot 10^{12}\\\\2.666 \\cdot 10^{12}\\end{matrix}\\right] + \\left[\\begin{matrix}-7.108 \\cdot 10^{24}\\\\7.108 \\cdot 10^{24}\\end{matrix}\\right] = \\left[\\begin{matrix}-7.108 \\cdot 10^{24}\\\\7.108 \\cdot 10^{24}\\end{matrix}\\right] \\approx \\left[\\begin{matrix}-7.108 \\cdot 10^{24}\\\\7.108 \\cdot 10^{24}\\end{matrix}\\right]$"
      ],
      "text/plain": [
       "<IPython.core.display.Math object>"
      ]
     },
     "metadata": {},
     "output_type": "display_data"
    },
    {
     "data": {
      "text/markdown": [
       "Iteration 8"
      ],
      "text/plain": [
       "<IPython.core.display.Markdown object>"
      ]
     },
     "metadata": {},
     "output_type": "display_data"
    },
    {
     "data": {
      "text/latex": [
       "$\\displaystyle f(x_{7}) = f \\left( \\left[\\begin{matrix}-7.108 \\cdot 10^{24}\\\\7.108 \\cdot 10^{24}\\end{matrix}\\right] \\right) = \\left[\\begin{matrix}0\\\\1.01 \\cdot 10^{50}\\end{matrix}\\right] \\approx \\left[\\begin{matrix}0\\\\1.01 \\cdot 10^{50}\\end{matrix}\\right]$"
      ],
      "text/plain": [
       "<IPython.core.display.Math object>"
      ]
     },
     "metadata": {},
     "output_type": "display_data"
    },
    {
     "data": {
      "text/latex": [
       "$\\displaystyle \\delta = -Df(x_0)^{-1} f(x_{7}) = - \\left[\\begin{matrix}0 & \\frac{1}{2}\\\\1 & - \\frac{1}{2}\\end{matrix}\\right] \\left[\\begin{matrix}0\\\\1.01 \\cdot 10^{50}\\end{matrix}\\right] = \\left[\\begin{matrix}-5.052 \\cdot 10^{49}\\\\5.052 \\cdot 10^{49}\\end{matrix}\\right] \\approx \\left[\\begin{matrix}-5.052 \\cdot 10^{49}\\\\5.052 \\cdot 10^{49}\\end{matrix}\\right]$"
      ],
      "text/plain": [
       "<IPython.core.display.Math object>"
      ]
     },
     "metadata": {},
     "output_type": "display_data"
    },
    {
     "data": {
      "text/latex": [
       "$\\displaystyle x_{8} = x_{7} + \\delta = \\left[\\begin{matrix}-7.108 \\cdot 10^{24}\\\\7.108 \\cdot 10^{24}\\end{matrix}\\right] + \\left[\\begin{matrix}-5.052 \\cdot 10^{49}\\\\5.052 \\cdot 10^{49}\\end{matrix}\\right] = \\left[\\begin{matrix}-5.052 \\cdot 10^{49}\\\\5.052 \\cdot 10^{49}\\end{matrix}\\right] \\approx \\left[\\begin{matrix}-5.052 \\cdot 10^{49}\\\\5.052 \\cdot 10^{49}\\end{matrix}\\right]$"
      ],
      "text/plain": [
       "<IPython.core.display.Math object>"
      ]
     },
     "metadata": {},
     "output_type": "display_data"
    },
    {
     "data": {
      "text/markdown": [
       "Iteration 9"
      ],
      "text/plain": [
       "<IPython.core.display.Markdown object>"
      ]
     },
     "metadata": {},
     "output_type": "display_data"
    },
    {
     "data": {
      "text/latex": [
       "$\\displaystyle f(x_{8}) = f \\left( \\left[\\begin{matrix}-5.052 \\cdot 10^{49}\\\\5.052 \\cdot 10^{49}\\end{matrix}\\right] \\right) = \\left[\\begin{matrix}0\\\\5.105 \\cdot 10^{99}\\end{matrix}\\right] \\approx \\left[\\begin{matrix}0\\\\5.105 \\cdot 10^{99}\\end{matrix}\\right]$"
      ],
      "text/plain": [
       "<IPython.core.display.Math object>"
      ]
     },
     "metadata": {},
     "output_type": "display_data"
    },
    {
     "data": {
      "text/latex": [
       "$\\displaystyle \\delta = -Df(x_0)^{-1} f(x_{8}) = - \\left[\\begin{matrix}0 & \\frac{1}{2}\\\\1 & - \\frac{1}{2}\\end{matrix}\\right] \\left[\\begin{matrix}0\\\\5.105 \\cdot 10^{99}\\end{matrix}\\right] = \\left[\\begin{matrix}-2.552 \\cdot 10^{99}\\\\2.552 \\cdot 10^{99}\\end{matrix}\\right] \\approx \\left[\\begin{matrix}-2.552 \\cdot 10^{99}\\\\2.552 \\cdot 10^{99}\\end{matrix}\\right]$"
      ],
      "text/plain": [
       "<IPython.core.display.Math object>"
      ]
     },
     "metadata": {},
     "output_type": "display_data"
    },
    {
     "data": {
      "text/latex": [
       "$\\displaystyle x_{9} = x_{8} + \\delta = \\left[\\begin{matrix}-5.052 \\cdot 10^{49}\\\\5.052 \\cdot 10^{49}\\end{matrix}\\right] + \\left[\\begin{matrix}-2.552 \\cdot 10^{99}\\\\2.552 \\cdot 10^{99}\\end{matrix}\\right] = \\left[\\begin{matrix}-2.552 \\cdot 10^{99}\\\\2.552 \\cdot 10^{99}\\end{matrix}\\right] \\approx \\left[\\begin{matrix}-2.552 \\cdot 10^{99}\\\\2.552 \\cdot 10^{99}\\end{matrix}\\right]$"
      ],
      "text/plain": [
       "<IPython.core.display.Math object>"
      ]
     },
     "metadata": {},
     "output_type": "display_data"
    },
    {
     "data": {
      "text/markdown": [
       "Iteration 10"
      ],
      "text/plain": [
       "<IPython.core.display.Markdown object>"
      ]
     },
     "metadata": {},
     "output_type": "display_data"
    },
    {
     "data": {
      "text/latex": [
       "$\\displaystyle f(x_{9}) = f \\left( \\left[\\begin{matrix}-2.552 \\cdot 10^{99}\\\\2.552 \\cdot 10^{99}\\end{matrix}\\right] \\right) = \\left[\\begin{matrix}0\\\\1.303 \\cdot 10^{199}\\end{matrix}\\right] \\approx \\left[\\begin{matrix}0\\\\1.303 \\cdot 10^{199}\\end{matrix}\\right]$"
      ],
      "text/plain": [
       "<IPython.core.display.Math object>"
      ]
     },
     "metadata": {},
     "output_type": "display_data"
    },
    {
     "data": {
      "text/latex": [
       "$\\displaystyle \\delta = -Df(x_0)^{-1} f(x_{9}) = - \\left[\\begin{matrix}0 & \\frac{1}{2}\\\\1 & - \\frac{1}{2}\\end{matrix}\\right] \\left[\\begin{matrix}0\\\\1.303 \\cdot 10^{199}\\end{matrix}\\right] = \\left[\\begin{matrix}-6.514 \\cdot 10^{198}\\\\6.514 \\cdot 10^{198}\\end{matrix}\\right] \\approx \\left[\\begin{matrix}-6.514 \\cdot 10^{198}\\\\6.514 \\cdot 10^{198}\\end{matrix}\\right]$"
      ],
      "text/plain": [
       "<IPython.core.display.Math object>"
      ]
     },
     "metadata": {},
     "output_type": "display_data"
    },
    {
     "data": {
      "text/latex": [
       "$\\displaystyle x_{10} = x_{9} + \\delta = \\left[\\begin{matrix}-2.552 \\cdot 10^{99}\\\\2.552 \\cdot 10^{99}\\end{matrix}\\right] + \\left[\\begin{matrix}-6.514 \\cdot 10^{198}\\\\6.514 \\cdot 10^{198}\\end{matrix}\\right] = \\left[\\begin{matrix}-6.514 \\cdot 10^{198}\\\\6.514 \\cdot 10^{198}\\end{matrix}\\right] \\approx \\left[\\begin{matrix}-6.514 \\cdot 10^{198}\\\\6.514 \\cdot 10^{198}\\end{matrix}\\right]$"
      ],
      "text/plain": [
       "<IPython.core.display.Math object>"
      ]
     },
     "metadata": {},
     "output_type": "display_data"
    }
   ],
   "source": [
    "import sympy as sp\n",
    "from nlgs_newton_vereinfacht import newton\n",
    "\n",
    "symbols = sp.symbols('x y')\n",
    "x, y = symbols\n",
    "\n",
    "funcs = sp.Matrix([\n",
    "    x + y-4,\n",
    "    x**2 + y**2 -9\n",
    "])\n",
    "\n",
    "x0 = sp.Matrix([1, 0])\n",
    "\n",
    "newton(symbols, funcs, x0, n=10, precision=4)"
   ]
  }
 ],
 "metadata": {
  "kernelspec": {
   "display_name": "venv",
   "language": "python",
   "name": "python3"
  },
  "language_info": {
   "codemirror_mode": {
    "name": "ipython",
    "version": 3
   },
   "file_extension": ".py",
   "mimetype": "text/x-python",
   "name": "python",
   "nbconvert_exporter": "python",
   "pygments_lexer": "ipython3",
   "version": "3.11.4"
  },
  "orig_nbformat": 4
 },
 "nbformat": 4,
 "nbformat_minor": 2
}

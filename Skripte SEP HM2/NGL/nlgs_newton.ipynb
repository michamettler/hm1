{
 "cells": [
  {
   "cell_type": "code",
   "execution_count": 139,
   "metadata": {},
   "outputs": [
    {
     "data": {
      "text/plain": [
       "<module 'nlgs_newton' from '/home/florian/dev/github.com/thecodinglab/hm-scripts/sympy/nlgs_newton.py'>"
      ]
     },
     "execution_count": 139,
     "metadata": {},
     "output_type": "execute_result"
    }
   ],
   "source": [
    "import importlib\n",
    "import nlgs_newton\n",
    "importlib.reload(nlgs_newton)"
   ]
  },
  {
   "cell_type": "code",
   "execution_count": 140,
   "metadata": {},
   "outputs": [
    {
     "data": {
      "text/latex": [
       "$\\displaystyle f(x) = \\left[\\begin{matrix}2 x_{1} + 4 x_{2}\\\\4 x_{1} + 8 x_{2}^{3}\\end{matrix}\\right]$"
      ],
      "text/plain": [
       "<IPython.core.display.Math object>"
      ]
     },
     "metadata": {},
     "output_type": "display_data"
    },
    {
     "data": {
      "text/markdown": [
       "## Partial Derivatives"
      ],
      "text/plain": [
       "<IPython.core.display.Markdown object>"
      ]
     },
     "metadata": {},
     "output_type": "display_data"
    },
    {
     "data": {
      "text/latex": [
       "$\\displaystyle \\frac{\\partial f_0}{\\partial x_{1}} = \\frac{\\partial}{\\partial x_{1}} \\left( 2 x_{1} + 4 x_{2} \\right) = 2$"
      ],
      "text/plain": [
       "<IPython.core.display.Math object>"
      ]
     },
     "metadata": {},
     "output_type": "display_data"
    },
    {
     "data": {
      "text/latex": [
       "$\\displaystyle \\frac{\\partial f_0}{\\partial x_{2}} = \\frac{\\partial}{\\partial x_{2}} \\left( 2 x_{1} + 4 x_{2} \\right) = 4$"
      ],
      "text/plain": [
       "<IPython.core.display.Math object>"
      ]
     },
     "metadata": {},
     "output_type": "display_data"
    },
    {
     "data": {
      "text/latex": [
       "$\\displaystyle \\frac{\\partial f_1}{\\partial x_{1}} = \\frac{\\partial}{\\partial x_{1}} \\left( 4 x_{1} + 8 x_{2}^{3} \\right) = 4$"
      ],
      "text/plain": [
       "<IPython.core.display.Math object>"
      ]
     },
     "metadata": {},
     "output_type": "display_data"
    },
    {
     "data": {
      "text/latex": [
       "$\\displaystyle \\frac{\\partial f_1}{\\partial x_{2}} = \\frac{\\partial}{\\partial x_{2}} \\left( 4 x_{1} + 8 x_{2}^{3} \\right) = 24 x_{2}^{2}$"
      ],
      "text/plain": [
       "<IPython.core.display.Math object>"
      ]
     },
     "metadata": {},
     "output_type": "display_data"
    },
    {
     "data": {
      "text/markdown": [
       "## Jacobi Matrix"
      ],
      "text/plain": [
       "<IPython.core.display.Markdown object>"
      ]
     },
     "metadata": {},
     "output_type": "display_data"
    },
    {
     "data": {
      "text/latex": [
       "$\\displaystyle Df(x) = \\left[\\begin{matrix}2 & 4\\\\4 & 24 x_{2}^{2}\\end{matrix}\\right]$"
      ],
      "text/plain": [
       "<IPython.core.display.Math object>"
      ]
     },
     "metadata": {},
     "output_type": "display_data"
    },
    {
     "data": {
      "text/markdown": [
       "## Newton Verfahren"
      ],
      "text/plain": [
       "<IPython.core.display.Markdown object>"
      ]
     },
     "metadata": {},
     "output_type": "display_data"
    },
    {
     "data": {
      "text/markdown": [
       "Iteration 1"
      ],
      "text/plain": [
       "<IPython.core.display.Markdown object>"
      ]
     },
     "metadata": {},
     "output_type": "display_data"
    },
    {
     "data": {
      "text/latex": [
       "$\\displaystyle f(x_{0}) = f \\left( \\left[\\begin{matrix}4\\\\2\\end{matrix}\\right] \\right) = \\left[\\begin{matrix}16\\\\80\\end{matrix}\\right] \\approx \\left[\\begin{matrix}16.0\\\\80.0\\end{matrix}\\right]$"
      ],
      "text/plain": [
       "<IPython.core.display.Math object>"
      ]
     },
     "metadata": {},
     "output_type": "display_data"
    },
    {
     "data": {
      "text/latex": [
       "$\\displaystyle Df(x_{0}) = Df \\left( \\left[\\begin{matrix}4\\\\2\\end{matrix}\\right] \\right) = \\left[\\begin{matrix}2 & 4\\\\4 & 96\\end{matrix}\\right] \\approx \\left[\\begin{matrix}2.0 & 4.0\\\\4.0 & 96.0\\end{matrix}\\right]$"
      ],
      "text/plain": [
       "<IPython.core.display.Math object>"
      ]
     },
     "metadata": {},
     "output_type": "display_data"
    },
    {
     "data": {
      "text/latex": [
       "$\\displaystyle \\delta = -Df(x_{0})^{-1} f(x_{0}) = -\\left[\\begin{matrix}2 & 4\\\\4 & 96\\end{matrix}\\right]^{-1} \\left[\\begin{matrix}16\\\\80\\end{matrix}\\right] = -\\left[\\begin{matrix}\\frac{6}{11} & - \\frac{1}{44}\\\\- \\frac{1}{44} & \\frac{1}{88}\\end{matrix}\\right] \\left[\\begin{matrix}16\\\\80\\end{matrix}\\right] = \\left[\\begin{matrix}- \\frac{76}{11}\\\\- \\frac{6}{11}\\end{matrix}\\right] \\approx \\left[\\begin{matrix}-6.909\\\\-0.5455\\end{matrix}\\right]$"
      ],
      "text/plain": [
       "<IPython.core.display.Math object>"
      ]
     },
     "metadata": {},
     "output_type": "display_data"
    },
    {
     "data": {
      "text/latex": [
       "$\\displaystyle x_{1} = x_{0} + \\delta = \\left[\\begin{matrix}4\\\\2\\end{matrix}\\right] + \\left[\\begin{matrix}- \\frac{76}{11}\\\\- \\frac{6}{11}\\end{matrix}\\right] = \\left[\\begin{matrix}- \\frac{32}{11}\\\\\\frac{16}{11}\\end{matrix}\\right] \\approx \\left[\\begin{matrix}-2.909\\\\1.455\\end{matrix}\\right]$"
      ],
      "text/plain": [
       "<IPython.core.display.Math object>"
      ]
     },
     "metadata": {},
     "output_type": "display_data"
    },
    {
     "data": {
      "text/markdown": [
       "Iteration 2"
      ],
      "text/plain": [
       "<IPython.core.display.Markdown object>"
      ]
     },
     "metadata": {},
     "output_type": "display_data"
    },
    {
     "data": {
      "text/latex": [
       "$\\displaystyle f(x_{1}) = f \\left( \\left[\\begin{matrix}-2.909\\\\1.455\\end{matrix}\\right] \\right) = \\left[\\begin{matrix}0\\\\12.98\\end{matrix}\\right] \\approx \\left[\\begin{matrix}0\\\\12.98\\end{matrix}\\right]$"
      ],
      "text/plain": [
       "<IPython.core.display.Math object>"
      ]
     },
     "metadata": {},
     "output_type": "display_data"
    },
    {
     "data": {
      "text/latex": [
       "$\\displaystyle Df(x_{1}) = Df \\left( \\left[\\begin{matrix}-2.909\\\\1.455\\end{matrix}\\right] \\right) = \\left[\\begin{matrix}2 & 4\\\\4 & 50.78\\end{matrix}\\right] \\approx \\left[\\begin{matrix}2.0 & 4.0\\\\4.0 & 50.78\\end{matrix}\\right]$"
      ],
      "text/plain": [
       "<IPython.core.display.Math object>"
      ]
     },
     "metadata": {},
     "output_type": "display_data"
    },
    {
     "data": {
      "text/latex": [
       "$\\displaystyle \\delta = -Df(x_{1})^{-1} f(x_{1}) = -\\left[\\begin{matrix}2 & 4\\\\4 & 50.78\\end{matrix}\\right]^{-1} \\left[\\begin{matrix}0\\\\12.98\\end{matrix}\\right] = -\\left[\\begin{matrix}0.5935 & -0.04675\\\\-0.04675 & 0.02338\\end{matrix}\\right] \\left[\\begin{matrix}0\\\\12.98\\end{matrix}\\right] = \\left[\\begin{matrix}0.607\\\\-0.3035\\end{matrix}\\right] \\approx \\left[\\begin{matrix}0.607\\\\-0.3035\\end{matrix}\\right]$"
      ],
      "text/plain": [
       "<IPython.core.display.Math object>"
      ]
     },
     "metadata": {},
     "output_type": "display_data"
    },
    {
     "data": {
      "text/latex": [
       "$\\displaystyle x_{2} = x_{1} + \\delta = \\left[\\begin{matrix}-2.909\\\\1.455\\end{matrix}\\right] + \\left[\\begin{matrix}0.607\\\\-0.3035\\end{matrix}\\right] = \\left[\\begin{matrix}-2.302\\\\1.151\\end{matrix}\\right] \\approx \\left[\\begin{matrix}-2.302\\\\1.151\\end{matrix}\\right]$"
      ],
      "text/plain": [
       "<IPython.core.display.Math object>"
      ]
     },
     "metadata": {},
     "output_type": "display_data"
    },
    {
     "data": {
      "text/markdown": [
       "Iteration 3"
      ],
      "text/plain": [
       "<IPython.core.display.Markdown object>"
      ]
     },
     "metadata": {},
     "output_type": "display_data"
    },
    {
     "data": {
      "text/latex": [
       "$\\displaystyle f(x_{2}) = f \\left( \\left[\\begin{matrix}-2.302\\\\1.151\\end{matrix}\\right] \\right) = \\left[\\begin{matrix}0\\\\2.992\\end{matrix}\\right] \\approx \\left[\\begin{matrix}0\\\\2.992\\end{matrix}\\right]$"
      ],
      "text/plain": [
       "<IPython.core.display.Math object>"
      ]
     },
     "metadata": {},
     "output_type": "display_data"
    },
    {
     "data": {
      "text/latex": [
       "$\\displaystyle Df(x_{2}) = Df \\left( \\left[\\begin{matrix}-2.302\\\\1.151\\end{matrix}\\right] \\right) = \\left[\\begin{matrix}2 & 4\\\\4 & 31.8\\end{matrix}\\right] \\approx \\left[\\begin{matrix}2.0 & 4.0\\\\4.0 & 31.8\\end{matrix}\\right]$"
      ],
      "text/plain": [
       "<IPython.core.display.Math object>"
      ]
     },
     "metadata": {},
     "output_type": "display_data"
    },
    {
     "data": {
      "text/latex": [
       "$\\displaystyle \\delta = -Df(x_{2})^{-1} f(x_{2}) = -\\left[\\begin{matrix}2 & 4\\\\4 & 31.8\\end{matrix}\\right]^{-1} \\left[\\begin{matrix}0\\\\2.992\\end{matrix}\\right] = -\\left[\\begin{matrix}0.6681 & -0.08404\\\\-0.08404 & 0.04202\\end{matrix}\\right] \\left[\\begin{matrix}0\\\\2.992\\end{matrix}\\right] = \\left[\\begin{matrix}0.2514\\\\-0.1257\\end{matrix}\\right] \\approx \\left[\\begin{matrix}0.2514\\\\-0.1257\\end{matrix}\\right]$"
      ],
      "text/plain": [
       "<IPython.core.display.Math object>"
      ]
     },
     "metadata": {},
     "output_type": "display_data"
    },
    {
     "data": {
      "text/latex": [
       "$\\displaystyle x_{3} = x_{2} + \\delta = \\left[\\begin{matrix}-2.302\\\\1.151\\end{matrix}\\right] + \\left[\\begin{matrix}0.2514\\\\-0.1257\\end{matrix}\\right] = \\left[\\begin{matrix}-2.051\\\\1.025\\end{matrix}\\right] \\approx \\left[\\begin{matrix}-2.051\\\\1.025\\end{matrix}\\right]$"
      ],
      "text/plain": [
       "<IPython.core.display.Math object>"
      ]
     },
     "metadata": {},
     "output_type": "display_data"
    },
    {
     "data": {
      "text/markdown": [
       "Iteration 4"
      ],
      "text/plain": [
       "<IPython.core.display.Markdown object>"
      ]
     },
     "metadata": {},
     "output_type": "display_data"
    },
    {
     "data": {
      "text/latex": [
       "$\\displaystyle f(x_{3}) = f \\left( \\left[\\begin{matrix}-2.051\\\\1.025\\end{matrix}\\right] \\right) = \\left[\\begin{matrix}0\\\\0.4208\\end{matrix}\\right] \\approx \\left[\\begin{matrix}0\\\\0.4208\\end{matrix}\\right]$"
      ],
      "text/plain": [
       "<IPython.core.display.Math object>"
      ]
     },
     "metadata": {},
     "output_type": "display_data"
    },
    {
     "data": {
      "text/latex": [
       "$\\displaystyle Df(x_{3}) = Df \\left( \\left[\\begin{matrix}-2.051\\\\1.025\\end{matrix}\\right] \\right) = \\left[\\begin{matrix}2 & 4\\\\4 & 25.23\\end{matrix}\\right] \\approx \\left[\\begin{matrix}2.0 & 4.0\\\\4.0 & 25.23\\end{matrix}\\right]$"
      ],
      "text/plain": [
       "<IPython.core.display.Math object>"
      ]
     },
     "metadata": {},
     "output_type": "display_data"
    },
    {
     "data": {
      "text/latex": [
       "$\\displaystyle \\delta = -Df(x_{3})^{-1} f(x_{3}) = -\\left[\\begin{matrix}2 & 4\\\\4 & 25.23\\end{matrix}\\right]^{-1} \\left[\\begin{matrix}0\\\\0.4208\\end{matrix}\\right] = -\\left[\\begin{matrix}0.7321 & -0.1161\\\\-0.1161 & 0.05803\\end{matrix}\\right] \\left[\\begin{matrix}0\\\\0.4208\\end{matrix}\\right] = \\left[\\begin{matrix}0.04884\\\\-0.02442\\end{matrix}\\right] \\approx \\left[\\begin{matrix}0.04884\\\\-0.02442\\end{matrix}\\right]$"
      ],
      "text/plain": [
       "<IPython.core.display.Math object>"
      ]
     },
     "metadata": {},
     "output_type": "display_data"
    },
    {
     "data": {
      "text/latex": [
       "$\\displaystyle x_{4} = x_{3} + \\delta = \\left[\\begin{matrix}-2.051\\\\1.025\\end{matrix}\\right] + \\left[\\begin{matrix}0.04884\\\\-0.02442\\end{matrix}\\right] = \\left[\\begin{matrix}-2.002\\\\1.001\\end{matrix}\\right] \\approx \\left[\\begin{matrix}-2.002\\\\1.001\\end{matrix}\\right]$"
      ],
      "text/plain": [
       "<IPython.core.display.Math object>"
      ]
     },
     "metadata": {},
     "output_type": "display_data"
    }
   ],
   "source": [
    "import sympy as sp\n",
    "from nlgs_newton import newton\n",
    "\n",
    "symbols = sp.symbols('x_1 x_2')\n",
    "x1, x2 = symbols\n",
    "\n",
    "funcs = sp.Matrix([\n",
    "    2 * x1 + 4 * x2,\n",
    "    4 * x1 + 8 * x2 ** 3\n",
    "])\n",
    "\n",
    "x0 = sp.Matrix([4, 2])\n",
    "\n",
    "newton(symbols, funcs, x0, n=4, precision=4)"
   ]
  }
 ],
 "metadata": {
  "kernelspec": {
   "display_name": "venv",
   "language": "python",
   "name": "python3"
  },
  "language_info": {
   "codemirror_mode": {
    "name": "ipython",
    "version": 3
   },
   "file_extension": ".py",
   "mimetype": "text/x-python",
   "name": "python",
   "nbconvert_exporter": "python",
   "pygments_lexer": "ipython3",
   "version": "3.11.3"
  },
  "orig_nbformat": 4
 },
 "nbformat": 4,
 "nbformat_minor": 2
}

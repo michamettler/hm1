{
 "cells": [
  {
   "cell_type": "code",
   "execution_count": 17,
   "metadata": {},
   "outputs": [
    {
     "data": {
      "text/plain": [
       "<module 'nlgs_newton_vereinfacht' from '/home/florian/dev/github.com/thecodinglab/hm-scripts/sympy/nlgs_newton_vereinfacht.py'>"
      ]
     },
     "execution_count": 17,
     "metadata": {},
     "output_type": "execute_result"
    }
   ],
   "source": [
    "import importlib\n",
    "import nlgs_newton_vereinfacht\n",
    "importlib.reload(nlgs_newton_vereinfacht)"
   ]
  },
  {
   "cell_type": "code",
   "execution_count": 18,
   "metadata": {},
   "outputs": [
    {
     "data": {
      "text/latex": [
       "$\\displaystyle f(x) = \\left[\\begin{matrix}2 x_{1} + 4 x_{2}\\\\4 x_{1} + 8 x_{2}^{3}\\end{matrix}\\right]$"
      ],
      "text/plain": [
       "<IPython.core.display.Math object>"
      ]
     },
     "metadata": {},
     "output_type": "display_data"
    },
    {
     "data": {
      "text/markdown": [
       "## Partial Derivatives"
      ],
      "text/plain": [
       "<IPython.core.display.Markdown object>"
      ]
     },
     "metadata": {},
     "output_type": "display_data"
    },
    {
     "data": {
      "text/latex": [
       "$\\displaystyle \\frac{\\partial f_0}{\\partial x_{1}} = \\frac{\\partial}{\\partial x_{1}} \\left( 2 x_{1} + 4 x_{2} \\right) = 2$"
      ],
      "text/plain": [
       "<IPython.core.display.Math object>"
      ]
     },
     "metadata": {},
     "output_type": "display_data"
    },
    {
     "data": {
      "text/latex": [
       "$\\displaystyle \\frac{\\partial f_0}{\\partial x_{2}} = \\frac{\\partial}{\\partial x_{2}} \\left( 2 x_{1} + 4 x_{2} \\right) = 4$"
      ],
      "text/plain": [
       "<IPython.core.display.Math object>"
      ]
     },
     "metadata": {},
     "output_type": "display_data"
    },
    {
     "data": {
      "text/latex": [
       "$\\displaystyle \\frac{\\partial f_1}{\\partial x_{1}} = \\frac{\\partial}{\\partial x_{1}} \\left( 4 x_{1} + 8 x_{2}^{3} \\right) = 4$"
      ],
      "text/plain": [
       "<IPython.core.display.Math object>"
      ]
     },
     "metadata": {},
     "output_type": "display_data"
    },
    {
     "data": {
      "text/latex": [
       "$\\displaystyle \\frac{\\partial f_1}{\\partial x_{2}} = \\frac{\\partial}{\\partial x_{2}} \\left( 4 x_{1} + 8 x_{2}^{3} \\right) = 24 x_{2}^{2}$"
      ],
      "text/plain": [
       "<IPython.core.display.Math object>"
      ]
     },
     "metadata": {},
     "output_type": "display_data"
    },
    {
     "data": {
      "text/markdown": [
       "## Jacobi Matrix"
      ],
      "text/plain": [
       "<IPython.core.display.Markdown object>"
      ]
     },
     "metadata": {},
     "output_type": "display_data"
    },
    {
     "data": {
      "text/latex": [
       "$\\displaystyle Df(x) = \\left[\\begin{matrix}2 & 4\\\\4 & 24 x_{2}^{2}\\end{matrix}\\right]$"
      ],
      "text/plain": [
       "<IPython.core.display.Math object>"
      ]
     },
     "metadata": {},
     "output_type": "display_data"
    },
    {
     "data": {
      "text/latex": [
       "$\\displaystyle Df(x_0) = Df \\left( \\left[\\begin{matrix}4\\\\2\\end{matrix}\\right] \\right) = \\left[\\begin{matrix}2 & 4\\\\4 & 96\\end{matrix}\\right] \\approx \\left[\\begin{matrix}2.0 & 4.0\\\\4.0 & 96.0\\end{matrix}\\right]$"
      ],
      "text/plain": [
       "<IPython.core.display.Math object>"
      ]
     },
     "metadata": {},
     "output_type": "display_data"
    },
    {
     "data": {
      "text/latex": [
       "$\\displaystyle Df(x_0)^{-1} = \\left( Df \\left( \\left[\\begin{matrix}4\\\\2\\end{matrix}\\right] \\right) \\right)^{-1} = \\left[\\begin{matrix}2 & 4\\\\4 & 96\\end{matrix}\\right]^{-1} = \\left[\\begin{matrix}\\frac{6}{11} & - \\frac{1}{44}\\\\- \\frac{1}{44} & \\frac{1}{88}\\end{matrix}\\right] \\approx \\left[\\begin{matrix}0.5455 & -0.02273\\\\-0.02273 & 0.01136\\end{matrix}\\right]$"
      ],
      "text/plain": [
       "<IPython.core.display.Math object>"
      ]
     },
     "metadata": {},
     "output_type": "display_data"
    },
    {
     "data": {
      "text/markdown": [
       "## Newton Verfahren"
      ],
      "text/plain": [
       "<IPython.core.display.Markdown object>"
      ]
     },
     "metadata": {},
     "output_type": "display_data"
    },
    {
     "data": {
      "text/markdown": [
       "Iteration 1"
      ],
      "text/plain": [
       "<IPython.core.display.Markdown object>"
      ]
     },
     "metadata": {},
     "output_type": "display_data"
    },
    {
     "data": {
      "text/latex": [
       "$\\displaystyle f(x_{0}) = f \\left( \\left[\\begin{matrix}4\\\\2\\end{matrix}\\right] \\right) = \\left[\\begin{matrix}16\\\\80\\end{matrix}\\right] \\approx \\left[\\begin{matrix}16.0\\\\80.0\\end{matrix}\\right]$"
      ],
      "text/plain": [
       "<IPython.core.display.Math object>"
      ]
     },
     "metadata": {},
     "output_type": "display_data"
    },
    {
     "data": {
      "text/latex": [
       "$\\displaystyle \\delta = -Df(x_0)^{-1} f(x_{0}) = - \\left[\\begin{matrix}\\frac{6}{11} & - \\frac{1}{44}\\\\- \\frac{1}{44} & \\frac{1}{88}\\end{matrix}\\right] \\left[\\begin{matrix}16\\\\80\\end{matrix}\\right] = \\left[\\begin{matrix}- \\frac{76}{11}\\\\- \\frac{6}{11}\\end{matrix}\\right] \\approx \\left[\\begin{matrix}-6.909\\\\-0.5455\\end{matrix}\\right]$"
      ],
      "text/plain": [
       "<IPython.core.display.Math object>"
      ]
     },
     "metadata": {},
     "output_type": "display_data"
    },
    {
     "data": {
      "text/latex": [
       "$\\displaystyle x_{1} = x_{0} + \\delta = \\left[\\begin{matrix}4\\\\2\\end{matrix}\\right] + \\left[\\begin{matrix}- \\frac{76}{11}\\\\- \\frac{6}{11}\\end{matrix}\\right] = \\left[\\begin{matrix}- \\frac{32}{11}\\\\\\frac{16}{11}\\end{matrix}\\right] \\approx \\left[\\begin{matrix}-2.909\\\\1.455\\end{matrix}\\right]$"
      ],
      "text/plain": [
       "<IPython.core.display.Math object>"
      ]
     },
     "metadata": {},
     "output_type": "display_data"
    },
    {
     "data": {
      "text/markdown": [
       "Iteration 2"
      ],
      "text/plain": [
       "<IPython.core.display.Markdown object>"
      ]
     },
     "metadata": {},
     "output_type": "display_data"
    },
    {
     "data": {
      "text/latex": [
       "$\\displaystyle f(x_{1}) = f \\left( \\left[\\begin{matrix}-2.909\\\\1.455\\end{matrix}\\right] \\right) = \\left[\\begin{matrix}0\\\\12.98\\end{matrix}\\right] \\approx \\left[\\begin{matrix}0\\\\12.98\\end{matrix}\\right]$"
      ],
      "text/plain": [
       "<IPython.core.display.Math object>"
      ]
     },
     "metadata": {},
     "output_type": "display_data"
    },
    {
     "data": {
      "text/latex": [
       "$\\displaystyle \\delta = -Df(x_0)^{-1} f(x_{1}) = - \\left[\\begin{matrix}\\frac{6}{11} & - \\frac{1}{44}\\\\- \\frac{1}{44} & \\frac{1}{88}\\end{matrix}\\right] \\left[\\begin{matrix}0\\\\12.98\\end{matrix}\\right] = \\left[\\begin{matrix}0.2951\\\\-0.1475\\end{matrix}\\right] \\approx \\left[\\begin{matrix}0.2951\\\\-0.1475\\end{matrix}\\right]$"
      ],
      "text/plain": [
       "<IPython.core.display.Math object>"
      ]
     },
     "metadata": {},
     "output_type": "display_data"
    },
    {
     "data": {
      "text/latex": [
       "$\\displaystyle x_{2} = x_{1} + \\delta = \\left[\\begin{matrix}-2.909\\\\1.455\\end{matrix}\\right] + \\left[\\begin{matrix}0.2951\\\\-0.1475\\end{matrix}\\right] = \\left[\\begin{matrix}-2.614\\\\1.307\\end{matrix}\\right] \\approx \\left[\\begin{matrix}-2.614\\\\1.307\\end{matrix}\\right]$"
      ],
      "text/plain": [
       "<IPython.core.display.Math object>"
      ]
     },
     "metadata": {},
     "output_type": "display_data"
    },
    {
     "data": {
      "text/markdown": [
       "Iteration 3"
      ],
      "text/plain": [
       "<IPython.core.display.Markdown object>"
      ]
     },
     "metadata": {},
     "output_type": "display_data"
    },
    {
     "data": {
      "text/latex": [
       "$\\displaystyle f(x_{2}) = f \\left( \\left[\\begin{matrix}-2.614\\\\1.307\\end{matrix}\\right] \\right) = \\left[\\begin{matrix}0\\\\7.406\\end{matrix}\\right] \\approx \\left[\\begin{matrix}0\\\\7.406\\end{matrix}\\right]$"
      ],
      "text/plain": [
       "<IPython.core.display.Math object>"
      ]
     },
     "metadata": {},
     "output_type": "display_data"
    },
    {
     "data": {
      "text/latex": [
       "$\\displaystyle \\delta = -Df(x_0)^{-1} f(x_{2}) = - \\left[\\begin{matrix}\\frac{6}{11} & - \\frac{1}{44}\\\\- \\frac{1}{44} & \\frac{1}{88}\\end{matrix}\\right] \\left[\\begin{matrix}0\\\\7.406\\end{matrix}\\right] = \\left[\\begin{matrix}0.1683\\\\-0.08416\\end{matrix}\\right] \\approx \\left[\\begin{matrix}0.1683\\\\-0.08416\\end{matrix}\\right]$"
      ],
      "text/plain": [
       "<IPython.core.display.Math object>"
      ]
     },
     "metadata": {},
     "output_type": "display_data"
    },
    {
     "data": {
      "text/latex": [
       "$\\displaystyle x_{3} = x_{2} + \\delta = \\left[\\begin{matrix}-2.614\\\\1.307\\end{matrix}\\right] + \\left[\\begin{matrix}0.1683\\\\-0.08416\\end{matrix}\\right] = \\left[\\begin{matrix}-2.446\\\\1.223\\end{matrix}\\right] \\approx \\left[\\begin{matrix}-2.446\\\\1.223\\end{matrix}\\right]$"
      ],
      "text/plain": [
       "<IPython.core.display.Math object>"
      ]
     },
     "metadata": {},
     "output_type": "display_data"
    },
    {
     "data": {
      "text/markdown": [
       "Iteration 4"
      ],
      "text/plain": [
       "<IPython.core.display.Markdown object>"
      ]
     },
     "metadata": {},
     "output_type": "display_data"
    },
    {
     "data": {
      "text/latex": [
       "$\\displaystyle f(x_{3}) = f \\left( \\left[\\begin{matrix}-2.446\\\\1.223\\end{matrix}\\right] \\right) = \\left[\\begin{matrix}0\\\\4.846\\end{matrix}\\right] \\approx \\left[\\begin{matrix}0\\\\4.846\\end{matrix}\\right]$"
      ],
      "text/plain": [
       "<IPython.core.display.Math object>"
      ]
     },
     "metadata": {},
     "output_type": "display_data"
    },
    {
     "data": {
      "text/latex": [
       "$\\displaystyle \\delta = -Df(x_0)^{-1} f(x_{3}) = - \\left[\\begin{matrix}\\frac{6}{11} & - \\frac{1}{44}\\\\- \\frac{1}{44} & \\frac{1}{88}\\end{matrix}\\right] \\left[\\begin{matrix}0\\\\4.846\\end{matrix}\\right] = \\left[\\begin{matrix}0.1101\\\\-0.05507\\end{matrix}\\right] \\approx \\left[\\begin{matrix}0.1101\\\\-0.05507\\end{matrix}\\right]$"
      ],
      "text/plain": [
       "<IPython.core.display.Math object>"
      ]
     },
     "metadata": {},
     "output_type": "display_data"
    },
    {
     "data": {
      "text/latex": [
       "$\\displaystyle x_{4} = x_{3} + \\delta = \\left[\\begin{matrix}-2.446\\\\1.223\\end{matrix}\\right] + \\left[\\begin{matrix}0.1101\\\\-0.05507\\end{matrix}\\right] = \\left[\\begin{matrix}-2.336\\\\1.168\\end{matrix}\\right] \\approx \\left[\\begin{matrix}-2.336\\\\1.168\\end{matrix}\\right]$"
      ],
      "text/plain": [
       "<IPython.core.display.Math object>"
      ]
     },
     "metadata": {},
     "output_type": "display_data"
    },
    {
     "data": {
      "text/markdown": [
       "Iteration 5"
      ],
      "text/plain": [
       "<IPython.core.display.Markdown object>"
      ]
     },
     "metadata": {},
     "output_type": "display_data"
    },
    {
     "data": {
      "text/latex": [
       "$\\displaystyle f(x_{4}) = f \\left( \\left[\\begin{matrix}-2.336\\\\1.168\\end{matrix}\\right] \\right) = \\left[\\begin{matrix}0\\\\3.398\\end{matrix}\\right] \\approx \\left[\\begin{matrix}0\\\\3.398\\end{matrix}\\right]$"
      ],
      "text/plain": [
       "<IPython.core.display.Math object>"
      ]
     },
     "metadata": {},
     "output_type": "display_data"
    },
    {
     "data": {
      "text/latex": [
       "$\\displaystyle \\delta = -Df(x_0)^{-1} f(x_{4}) = - \\left[\\begin{matrix}\\frac{6}{11} & - \\frac{1}{44}\\\\- \\frac{1}{44} & \\frac{1}{88}\\end{matrix}\\right] \\left[\\begin{matrix}0\\\\3.398\\end{matrix}\\right] = \\left[\\begin{matrix}0.07723\\\\-0.03861\\end{matrix}\\right] \\approx \\left[\\begin{matrix}0.07723\\\\-0.03861\\end{matrix}\\right]$"
      ],
      "text/plain": [
       "<IPython.core.display.Math object>"
      ]
     },
     "metadata": {},
     "output_type": "display_data"
    },
    {
     "data": {
      "text/latex": [
       "$\\displaystyle x_{5} = x_{4} + \\delta = \\left[\\begin{matrix}-2.336\\\\1.168\\end{matrix}\\right] + \\left[\\begin{matrix}0.07723\\\\-0.03861\\end{matrix}\\right] = \\left[\\begin{matrix}-2.258\\\\1.129\\end{matrix}\\right] \\approx \\left[\\begin{matrix}-2.258\\\\1.129\\end{matrix}\\right]$"
      ],
      "text/plain": [
       "<IPython.core.display.Math object>"
      ]
     },
     "metadata": {},
     "output_type": "display_data"
    },
    {
     "data": {
      "text/markdown": [
       "Iteration 6"
      ],
      "text/plain": [
       "<IPython.core.display.Markdown object>"
      ]
     },
     "metadata": {},
     "output_type": "display_data"
    },
    {
     "data": {
      "text/latex": [
       "$\\displaystyle f(x_{5}) = f \\left( \\left[\\begin{matrix}-2.258\\\\1.129\\end{matrix}\\right] \\right) = \\left[\\begin{matrix}0\\\\2.484\\end{matrix}\\right] \\approx \\left[\\begin{matrix}0\\\\2.484\\end{matrix}\\right]$"
      ],
      "text/plain": [
       "<IPython.core.display.Math object>"
      ]
     },
     "metadata": {},
     "output_type": "display_data"
    },
    {
     "data": {
      "text/latex": [
       "$\\displaystyle \\delta = -Df(x_0)^{-1} f(x_{5}) = - \\left[\\begin{matrix}\\frac{6}{11} & - \\frac{1}{44}\\\\- \\frac{1}{44} & \\frac{1}{88}\\end{matrix}\\right] \\left[\\begin{matrix}0\\\\2.484\\end{matrix}\\right] = \\left[\\begin{matrix}0.05646\\\\-0.02823\\end{matrix}\\right] \\approx \\left[\\begin{matrix}0.05646\\\\-0.02823\\end{matrix}\\right]$"
      ],
      "text/plain": [
       "<IPython.core.display.Math object>"
      ]
     },
     "metadata": {},
     "output_type": "display_data"
    },
    {
     "data": {
      "text/latex": [
       "$\\displaystyle x_{6} = x_{5} + \\delta = \\left[\\begin{matrix}-2.258\\\\1.129\\end{matrix}\\right] + \\left[\\begin{matrix}0.05646\\\\-0.02823\\end{matrix}\\right] = \\left[\\begin{matrix}-2.202\\\\1.101\\end{matrix}\\right] \\approx \\left[\\begin{matrix}-2.202\\\\1.101\\end{matrix}\\right]$"
      ],
      "text/plain": [
       "<IPython.core.display.Math object>"
      ]
     },
     "metadata": {},
     "output_type": "display_data"
    },
    {
     "data": {
      "text/markdown": [
       "Iteration 7"
      ],
      "text/plain": [
       "<IPython.core.display.Markdown object>"
      ]
     },
     "metadata": {},
     "output_type": "display_data"
    },
    {
     "data": {
      "text/latex": [
       "$\\displaystyle f(x_{6}) = f \\left( \\left[\\begin{matrix}-2.202\\\\1.101\\end{matrix}\\right] \\right) = \\left[\\begin{matrix}0\\\\1.868\\end{matrix}\\right] \\approx \\left[\\begin{matrix}0\\\\1.868\\end{matrix}\\right]$"
      ],
      "text/plain": [
       "<IPython.core.display.Math object>"
      ]
     },
     "metadata": {},
     "output_type": "display_data"
    },
    {
     "data": {
      "text/latex": [
       "$\\displaystyle \\delta = -Df(x_0)^{-1} f(x_{6}) = - \\left[\\begin{matrix}\\frac{6}{11} & - \\frac{1}{44}\\\\- \\frac{1}{44} & \\frac{1}{88}\\end{matrix}\\right] \\left[\\begin{matrix}0\\\\1.868\\end{matrix}\\right] = \\left[\\begin{matrix}0.04245\\\\-0.02122\\end{matrix}\\right] \\approx \\left[\\begin{matrix}0.04245\\\\-0.02122\\end{matrix}\\right]$"
      ],
      "text/plain": [
       "<IPython.core.display.Math object>"
      ]
     },
     "metadata": {},
     "output_type": "display_data"
    },
    {
     "data": {
      "text/latex": [
       "$\\displaystyle x_{7} = x_{6} + \\delta = \\left[\\begin{matrix}-2.202\\\\1.101\\end{matrix}\\right] + \\left[\\begin{matrix}0.04245\\\\-0.02122\\end{matrix}\\right] = \\left[\\begin{matrix}-2.159\\\\1.08\\end{matrix}\\right] \\approx \\left[\\begin{matrix}-2.159\\\\1.08\\end{matrix}\\right]$"
      ],
      "text/plain": [
       "<IPython.core.display.Math object>"
      ]
     },
     "metadata": {},
     "output_type": "display_data"
    },
    {
     "data": {
      "text/markdown": [
       "Iteration 8"
      ],
      "text/plain": [
       "<IPython.core.display.Markdown object>"
      ]
     },
     "metadata": {},
     "output_type": "display_data"
    },
    {
     "data": {
      "text/latex": [
       "$\\displaystyle f(x_{7}) = f \\left( \\left[\\begin{matrix}-2.159\\\\1.08\\end{matrix}\\right] \\right) = \\left[\\begin{matrix}0\\\\1.432\\end{matrix}\\right] \\approx \\left[\\begin{matrix}0\\\\1.432\\end{matrix}\\right]$"
      ],
      "text/plain": [
       "<IPython.core.display.Math object>"
      ]
     },
     "metadata": {},
     "output_type": "display_data"
    },
    {
     "data": {
      "text/latex": [
       "$\\displaystyle \\delta = -Df(x_0)^{-1} f(x_{7}) = - \\left[\\begin{matrix}\\frac{6}{11} & - \\frac{1}{44}\\\\- \\frac{1}{44} & \\frac{1}{88}\\end{matrix}\\right] \\left[\\begin{matrix}0\\\\1.432\\end{matrix}\\right] = \\left[\\begin{matrix}0.03254\\\\-0.01627\\end{matrix}\\right] \\approx \\left[\\begin{matrix}0.03254\\\\-0.01627\\end{matrix}\\right]$"
      ],
      "text/plain": [
       "<IPython.core.display.Math object>"
      ]
     },
     "metadata": {},
     "output_type": "display_data"
    },
    {
     "data": {
      "text/latex": [
       "$\\displaystyle x_{8} = x_{7} + \\delta = \\left[\\begin{matrix}-2.159\\\\1.08\\end{matrix}\\right] + \\left[\\begin{matrix}0.03254\\\\-0.01627\\end{matrix}\\right] = \\left[\\begin{matrix}-2.127\\\\1.063\\end{matrix}\\right] \\approx \\left[\\begin{matrix}-2.127\\\\1.063\\end{matrix}\\right]$"
      ],
      "text/plain": [
       "<IPython.core.display.Math object>"
      ]
     },
     "metadata": {},
     "output_type": "display_data"
    },
    {
     "data": {
      "text/markdown": [
       "Iteration 9"
      ],
      "text/plain": [
       "<IPython.core.display.Markdown object>"
      ]
     },
     "metadata": {},
     "output_type": "display_data"
    },
    {
     "data": {
      "text/latex": [
       "$\\displaystyle f(x_{8}) = f \\left( \\left[\\begin{matrix}-2.127\\\\1.063\\end{matrix}\\right] \\right) = \\left[\\begin{matrix}0\\\\1.114\\end{matrix}\\right] \\approx \\left[\\begin{matrix}0\\\\1.114\\end{matrix}\\right]$"
      ],
      "text/plain": [
       "<IPython.core.display.Math object>"
      ]
     },
     "metadata": {},
     "output_type": "display_data"
    },
    {
     "data": {
      "text/latex": [
       "$\\displaystyle \\delta = -Df(x_0)^{-1} f(x_{8}) = - \\left[\\begin{matrix}\\frac{6}{11} & - \\frac{1}{44}\\\\- \\frac{1}{44} & \\frac{1}{88}\\end{matrix}\\right] \\left[\\begin{matrix}0\\\\1.114\\end{matrix}\\right] = \\left[\\begin{matrix}0.02531\\\\-0.01266\\end{matrix}\\right] \\approx \\left[\\begin{matrix}0.02531\\\\-0.01266\\end{matrix}\\right]$"
      ],
      "text/plain": [
       "<IPython.core.display.Math object>"
      ]
     },
     "metadata": {},
     "output_type": "display_data"
    },
    {
     "data": {
      "text/latex": [
       "$\\displaystyle x_{9} = x_{8} + \\delta = \\left[\\begin{matrix}-2.127\\\\1.063\\end{matrix}\\right] + \\left[\\begin{matrix}0.02531\\\\-0.01266\\end{matrix}\\right] = \\left[\\begin{matrix}-2.102\\\\1.051\\end{matrix}\\right] \\approx \\left[\\begin{matrix}-2.102\\\\1.051\\end{matrix}\\right]$"
      ],
      "text/plain": [
       "<IPython.core.display.Math object>"
      ]
     },
     "metadata": {},
     "output_type": "display_data"
    },
    {
     "data": {
      "text/markdown": [
       "Iteration 10"
      ],
      "text/plain": [
       "<IPython.core.display.Markdown object>"
      ]
     },
     "metadata": {},
     "output_type": "display_data"
    },
    {
     "data": {
      "text/latex": [
       "$\\displaystyle f(x_{9}) = f \\left( \\left[\\begin{matrix}-2.102\\\\1.051\\end{matrix}\\right] \\right) = \\left[\\begin{matrix}0\\\\0.8757\\end{matrix}\\right] \\approx \\left[\\begin{matrix}0\\\\0.8757\\end{matrix}\\right]$"
      ],
      "text/plain": [
       "<IPython.core.display.Math object>"
      ]
     },
     "metadata": {},
     "output_type": "display_data"
    },
    {
     "data": {
      "text/latex": [
       "$\\displaystyle \\delta = -Df(x_0)^{-1} f(x_{9}) = - \\left[\\begin{matrix}\\frac{6}{11} & - \\frac{1}{44}\\\\- \\frac{1}{44} & \\frac{1}{88}\\end{matrix}\\right] \\left[\\begin{matrix}0\\\\0.8757\\end{matrix}\\right] = \\left[\\begin{matrix}0.0199\\\\-0.009951\\end{matrix}\\right] \\approx \\left[\\begin{matrix}0.0199\\\\-0.009951\\end{matrix}\\right]$"
      ],
      "text/plain": [
       "<IPython.core.display.Math object>"
      ]
     },
     "metadata": {},
     "output_type": "display_data"
    },
    {
     "data": {
      "text/latex": [
       "$\\displaystyle x_{10} = x_{9} + \\delta = \\left[\\begin{matrix}-2.102\\\\1.051\\end{matrix}\\right] + \\left[\\begin{matrix}0.0199\\\\-0.009951\\end{matrix}\\right] = \\left[\\begin{matrix}-2.082\\\\1.041\\end{matrix}\\right] \\approx \\left[\\begin{matrix}-2.082\\\\1.041\\end{matrix}\\right]$"
      ],
      "text/plain": [
       "<IPython.core.display.Math object>"
      ]
     },
     "metadata": {},
     "output_type": "display_data"
    }
   ],
   "source": [
    "import sympy as sp\n",
    "from nlgs_newton_vereinfacht import newton\n",
    "\n",
    "symbols = sp.symbols('x_1 x_2')\n",
    "x1, x2 = symbols\n",
    "\n",
    "funcs = sp.Matrix([\n",
    "    2 * x1 + 4 * x2,\n",
    "    4 * x1 + 8 * x2 ** 3\n",
    "])\n",
    "\n",
    "x0 = sp.Matrix([4, 2])\n",
    "\n",
    "newton(symbols, funcs, x0, n=10, precision=4)"
   ]
  }
 ],
 "metadata": {
  "kernelspec": {
   "display_name": "venv",
   "language": "python",
   "name": "python3"
  },
  "language_info": {
   "codemirror_mode": {
    "name": "ipython",
    "version": 3
   },
   "file_extension": ".py",
   "mimetype": "text/x-python",
   "name": "python",
   "nbconvert_exporter": "python",
   "pygments_lexer": "ipython3",
   "version": "3.11.3"
  },
  "orig_nbformat": 4
 },
 "nbformat": 4,
 "nbformat_minor": 2
}

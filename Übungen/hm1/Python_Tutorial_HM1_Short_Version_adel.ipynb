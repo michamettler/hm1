{
 "cells": [
  {
   "cell_type": "markdown",
   "metadata": {
    "colab_type": "text",
    "id": "dzNng6vCL9eP"
   },
   "source": [
    "# <span style='color :blue'> Python Tutorial With Jupyter Notebook - Short Version</span>"
   ]
  },
  {
   "cell_type": "markdown",
   "metadata": {
    "colab_type": "text",
    "id": "0vJLt3JRL9eR"
   },
   "source": [
    "This tutorial was originally written by Justin Johnson for CS231 at Stanford University and transferred to a Jupyter notebook for CS228 by Volodymyr Kuleshov and Isaac Caswell. It was adapted by Reto Knaack for HM1 at ZHAW. This short version was established by Moritz Adelmeyer."
   ]
  },
  {
   "cell_type": "markdown",
   "metadata": {
    "colab_type": "text",
    "id": "qVrTo-LhL9eS"
   },
   "source": [
    "## Content"
   ]
  },
  {
   "cell_type": "markdown",
   "metadata": {
    "colab_type": "text",
    "id": "9t1gKp9PL9eV"
   },
   "source": [
    "Python is a great general-purpose programming language on its own, but with the help of a few popular libraries (Numpy, Scipy, Matplotlib, ...) it becomes a powerful environment for scientific computing.\n",
    "\n",
    "This tutorial will serve as a crash course both on the Python programming language and on the use of Python for scientific computing. We will cover:\n",
    "\n",
    "* Python: Basic data types (Numbers, Booleans, Strings), Containers (Lists, Tuples), Loops and Control (For, While, If-else), Functions\n",
    "* Numpy: Array handling (Creating, Indexing, Slicing, Reshaping), Array math (Elementwise operations, Vector and matrix operations)\n",
    "* Matplotlib: Plotting"
   ]
  },
  {
   "cell_type": "markdown",
   "metadata": {
    "colab_type": "text",
    "id": "JAFKYgrpL9eY"
   },
   "source": [
    "## Python"
   ]
  },
  {
   "cell_type": "markdown",
   "metadata": {
    "colab_type": "text",
    "id": "RbFS6tdgL9ea"
   },
   "source": [
    "Python is a high-level, dynamically typed multiparadigm programming language. Python code is often said to be almost like pseudocode, since it allows you to express very powerful ideas in very few lines of code while being very readable.  "
   ]
  },
  {
   "cell_type": "markdown",
   "metadata": {
    "colab_type": "text",
    "id": "NwS_hu4xL9eo"
   },
   "source": [
    "### Basic data types"
   ]
  },
  {
   "cell_type": "markdown",
   "metadata": {
    "colab_type": "text",
    "id": "DL5sMSZ9L9eq"
   },
   "source": [
    "#### Numbers"
   ]
  },
  {
   "cell_type": "markdown",
   "metadata": {
    "colab_type": "text",
    "id": "MGS0XEWoL9er"
   },
   "source": [
    "The two basic numerical types are Integers and Floats. Unlike Java, in Python variables must not be declared and can change the type."
   ]
  },
  {
   "cell_type": "code",
   "execution_count": 158,
   "metadata": {
    "colab": {
     "base_uri": "https://localhost:8080/",
     "height": 52
    },
    "colab_type": "code",
    "id": "KheDr_zDL9es",
    "outputId": "1db9f4d3-2e0d-4008-f78a-161ed52c4359"
   },
   "outputs": [
    {
     "name": "stdout",
     "output_type": "stream",
     "text": [
      "3\n",
      "<class 'int'>\n"
     ]
    }
   ],
   "source": [
    "x = 3  # Assign integer value to variable x\n",
    "print(x)\n",
    "print(type(x))"
   ]
  },
  {
   "cell_type": "code",
   "execution_count": 159,
   "metadata": {},
   "outputs": [
    {
     "name": "stdout",
     "output_type": "stream",
     "text": [
      "4.5\n",
      "<class 'float'>\n"
     ]
    }
   ],
   "source": [
    "x = 4.5  # Assign float value to variable x\n",
    "print(x)\n",
    "print(type(x))"
   ]
  },
  {
   "cell_type": "code",
   "execution_count": 160,
   "metadata": {
    "colab": {
     "base_uri": "https://localhost:8080/",
     "height": 86
    },
    "colab_type": "code",
    "id": "sk_8DFcuL9ey",
    "outputId": "dd60a271-3457-465d-e16a-41acf12a56ab"
   },
   "outputs": [
    {
     "name": "stdout",
     "output_type": "stream",
     "text": [
      "4\n",
      "2\n",
      "6\n",
      "9\n"
     ]
    }
   ],
   "source": [
    "x = 3\n",
    "print(x + 1)   # Addition\n",
    "print(x - 1)   # Subtraction\n",
    "print(x * 2)   # Multiplication\n",
    "print(x ** 2)  # Exponentiation"
   ]
  },
  {
   "cell_type": "code",
   "execution_count": 1,
   "metadata": {
    "colab": {
     "base_uri": "https://localhost:8080/",
     "height": 52
    },
    "colab_type": "code",
    "id": "U4Jl8K0tL9e4",
    "outputId": "07e3db14-3781-42b7-8ba6-042b3f9f72ba"
   },
   "outputs": [
    {
     "name": "stdout",
     "output_type": "stream",
     "text": [
      "5.5\n",
      "11.0\n"
     ]
    }
   ],
   "source": [
    "x = 4.5\n",
    "x += 1  # Increment x by 1\n",
    "print(x)\n",
    "x *= 2  # Double x\n",
    "print(x)"
   ]
  },
  {
   "cell_type": "markdown",
   "metadata": {},
   "source": [
    "> **Task 1**\n",
    ">\n",
    "> Calculate $y = x^3 - 2\\cdot x^2 + 3\\cdot x - 4$ for $x=2$.\n",
    "\n"
   ]
  },
  {
   "cell_type": "code",
   "execution_count": 2,
   "metadata": {},
   "outputs": [
    {
     "name": "stdout",
     "output_type": "stream",
     "text": [
      "2\n"
     ]
    }
   ],
   "source": [
    "# Your code\n",
    "x = 2\n",
    "y = x**3 - 2 * x**2 + 3 * x - 4\n",
    "print(y)"
   ]
  },
  {
   "cell_type": "code",
   "execution_count": null,
   "metadata": {},
   "outputs": [],
   "source": [
    "x = 8; y = 9; m = 2\n",
    "print(x % m, y % m)  # Modulo m operation"
   ]
  },
  {
   "cell_type": "markdown",
   "metadata": {
    "colab_type": "text",
    "id": "EqRS7qhBL9fC"
   },
   "source": [
    "#### Booleans"
   ]
  },
  {
   "cell_type": "markdown",
   "metadata": {},
   "source": [
    "Booleans have the value `True` or `False` (note the upper case)."
   ]
  },
  {
   "cell_type": "code",
   "execution_count": 161,
   "metadata": {
    "colab": {
     "base_uri": "https://localhost:8080/",
     "height": 34
    },
    "colab_type": "code",
    "id": "RvoImwgGL9fE",
    "outputId": "1517077b-edca-463f-857b-6a8c386cd387",
    "scrolled": false
   },
   "outputs": [
    {
     "name": "stdout",
     "output_type": "stream",
     "text": [
      "True <class 'bool'>\n",
      "False <class 'bool'>\n"
     ]
    }
   ],
   "source": [
    "t, f = True, False  # Simultaneous assignment of t and f\n",
    "print(t, type(t))\n",
    "print(f, type(f))"
   ]
  },
  {
   "cell_type": "code",
   "execution_count": 162,
   "metadata": {
    "colab": {
     "base_uri": "https://localhost:8080/",
     "height": 86
    },
    "colab_type": "code",
    "id": "6zYm7WzCL9fK",
    "outputId": "f3cebe76-5af4-473a-8127-88a1fd60560f"
   },
   "outputs": [
    {
     "name": "stdout",
     "output_type": "stream",
     "text": [
      "True\n",
      "False\n",
      "False True\n"
     ]
    }
   ],
   "source": [
    "print(t or f)  # Logical OR\n",
    "print(t and f) # Logical AND\n",
    "print(not t, not f)  # Logical NOT"
   ]
  },
  {
   "cell_type": "markdown",
   "metadata": {},
   "source": [
    ">**Task 2**\n",
    ">\n",
    "> Define Boolean variables t1 (true), f1 (false), t2 (true), f2 (false) and test the following operations (try to estimate the results before):\n",
    ">\n",
    "> (t1 or t2) and (f1 or f2)\n",
    ">\n",
    ">t1 or t2 and f1 or f2"
   ]
  },
  {
   "cell_type": "code",
   "execution_count": 7,
   "metadata": {
    "scrolled": true
   },
   "outputs": [
    {
     "name": "stdout",
     "output_type": "stream",
     "text": [
      "False\n",
      "True\n"
     ]
    }
   ],
   "source": [
    "# Your Code\n",
    "\n",
    "t1 = True\n",
    "f1 = False\n",
    "t2 = True\n",
    "f2 = False\n",
    "\n",
    "print ((t1 or t2) and (f1 or f2))\n",
    "print (t1 or t2 and f1 or f2)"
   ]
  },
  {
   "cell_type": "markdown",
   "metadata": {
    "colab_type": "text",
    "id": "Nv_LIVOJL9fD"
   },
   "source": [
    "There are eight comparison operations in Python:\n",
    "\n",
    "== (equal), != (not equal), < (strictly less than), <= (less than or equal), > (strictly greater than),  >= (greater than or equal), is  (object identity), is not (negated object identity)\n",
    "\n",
    "They all have the same priority which is higher than that of the Boolean operations."
   ]
  },
  {
   "cell_type": "markdown",
   "metadata": {},
   "source": [
    "> **Task 3**\n",
    ">\n",
    "> Assign numbers to variables a and b. Test, if a is greater or equal than b.\n",
    ">\n",
    "> Assign strings to variables c and d. Test, if c is smaller than d."
   ]
  },
  {
   "cell_type": "code",
   "execution_count": 11,
   "metadata": {},
   "outputs": [
    {
     "name": "stdout",
     "output_type": "stream",
     "text": [
      "True\n",
      "True\n"
     ]
    }
   ],
   "source": [
    "# Your code\n",
    "\n",
    "a = 5\n",
    "b = 3\n",
    "\n",
    "print(a >= b)\n",
    "\n",
    "c = \"Hallo\"\n",
    "d = \"Hall\"\n",
    "\n",
    "print(c < d)\n"
   ]
  },
  {
   "cell_type": "markdown",
   "metadata": {
    "colab_type": "text",
    "id": "UQnQWFEyL9fP"
   },
   "source": [
    "#### Strings"
   ]
  },
  {
   "cell_type": "code",
   "execution_count": 163,
   "metadata": {
    "colab": {
     "base_uri": "https://localhost:8080/",
     "height": 34
    },
    "colab_type": "code",
    "id": "AijEDtPFL9fP",
    "outputId": "2a6b0cd7-58f1-43cf-e6b7-bf940d532549"
   },
   "outputs": [
    {
     "name": "stdout",
     "output_type": "stream",
     "text": [
      "Hello world\n"
     ]
    }
   ],
   "source": [
    "h = 'Hello'   # String literals can have single quotes\n",
    "w = \"world\"   # or double quotes; it does not matter\n",
    "print(h, w)"
   ]
  },
  {
   "cell_type": "code",
   "execution_count": 164,
   "metadata": {
    "colab": {
     "base_uri": "https://localhost:8080/",
     "height": 34
    },
    "colab_type": "code",
    "id": "saDeaA7hL9fT",
    "outputId": "2837d0ab-9ae5-4053-d087-bfa0af81c344"
   },
   "outputs": [
    {
     "name": "stdout",
     "output_type": "stream",
     "text": [
      "Hello world!\n"
     ]
    }
   ],
   "source": [
    "hw = h + ' ' + w + '!'  # String concatenation\n",
    "print(hw)"
   ]
  },
  {
   "cell_type": "markdown",
   "metadata": {
    "colab_type": "text",
    "id": "p-6hClFjL9fk"
   },
   "source": [
    "### Containers"
   ]
  },
  {
   "cell_type": "markdown",
   "metadata": {
    "colab_type": "text",
    "id": "FD9H18eQL9fk"
   },
   "source": [
    "Python includes several built-in container data types: lists, tuples, and many others."
   ]
  },
  {
   "cell_type": "markdown",
   "metadata": {
    "colab_type": "text",
    "id": "UsIWOe0LL9fn"
   },
   "source": [
    "#### Lists"
   ]
  },
  {
   "cell_type": "markdown",
   "metadata": {
    "colab_type": "text",
    "id": "wzxX7rgWL9fn"
   },
   "source": [
    "A list is the Python equivalent of an array, but is resizeable and can contain elements of different types.\n",
    "\n",
    "Indexing starts at 0."
   ]
  },
  {
   "cell_type": "code",
   "execution_count": 165,
   "metadata": {
    "colab": {
     "base_uri": "https://localhost:8080/",
     "height": 52
    },
    "colab_type": "code",
    "id": "hk3A8pPcL9fp",
    "outputId": "b545939a-580c-4356-db95-7ad3670b46e4"
   },
   "outputs": [
    {
     "name": "stdout",
     "output_type": "stream",
     "text": [
      "[10, 20, 30]\n",
      "10 30\n",
      "60\n"
     ]
    }
   ],
   "source": [
    "xs = [10, 20, 30]  # Create a list\n",
    "print(xs) # Print list\n",
    "print(xs[0], xs[2])  # Print first and last element of list\n",
    "print(xs[0] + xs[1] + xs[2])  # Print sum of elements of list"
   ]
  },
  {
   "cell_type": "markdown",
   "metadata": {
    "colab_type": "text",
    "id": "wzxX7rgWL9fn"
   },
   "source": [
    "Negative indices start with -1 from the last element."
   ]
  },
  {
   "cell_type": "code",
   "execution_count": 166,
   "metadata": {
    "colab": {
     "base_uri": "https://localhost:8080/",
     "height": 52
    },
    "colab_type": "code",
    "id": "hk3A8pPcL9fp",
    "outputId": "b545939a-580c-4356-db95-7ad3670b46e4"
   },
   "outputs": [
    {
     "name": "stdout",
     "output_type": "stream",
     "text": [
      "30 10\n"
     ]
    }
   ],
   "source": [
    "print(xs[-1], xs[-3])  # Print last and first element of list"
   ]
  },
  {
   "cell_type": "markdown",
   "metadata": {
    "colab_type": "text",
    "id": "wzxX7rgWL9fn"
   },
   "source": [
    "Change an element of a list:"
   ]
  },
  {
   "cell_type": "code",
   "execution_count": 167,
   "metadata": {
    "colab": {
     "base_uri": "https://localhost:8080/",
     "height": 34
    },
    "colab_type": "code",
    "id": "YCjCy_0_L9ft",
    "outputId": "417c54ff-170b-4372-9099-0f756f8e48af"
   },
   "outputs": [
    {
     "name": "stdout",
     "output_type": "stream",
     "text": [
      "[10, 50, 30]\n"
     ]
    }
   ],
   "source": [
    "xs[1] = 50\n",
    "print(xs)"
   ]
  },
  {
   "cell_type": "markdown",
   "metadata": {
    "colab_type": "text",
    "id": "wzxX7rgWL9fn"
   },
   "source": [
    "Append an element to a list:"
   ]
  },
  {
   "cell_type": "code",
   "execution_count": 168,
   "metadata": {
    "colab": {
     "base_uri": "https://localhost:8080/",
     "height": 34
    },
    "colab_type": "code",
    "id": "vJ0x5cF-L9fx",
    "outputId": "a97731a3-70e1-4553-d9e0-2aea227cac80"
   },
   "outputs": [
    {
     "name": "stdout",
     "output_type": "stream",
     "text": [
      "[10, 50, 30, 'ZHAW']\n"
     ]
    }
   ],
   "source": [
    "xs.append('ZHAW')  # Add a new element to the end of the list\n",
    "print(xs)          # Lists can contain elements of different type"
   ]
  },
  {
   "cell_type": "markdown",
   "metadata": {},
   "source": [
    "Creating a list of integers with `range()`:"
   ]
  },
  {
   "cell_type": "code",
   "execution_count": 169,
   "metadata": {},
   "outputs": [
    {
     "name": "stdout",
     "output_type": "stream",
     "text": [
      "[5, 8, 11, 14, 17]\n"
     ]
    }
   ],
   "source": [
    "nums = list(range(5,20,3))  # Create a list from 5 (inclusive) to 20 (exclusive) with step 3. \n",
    "print(nums)                 # Works only with integers."
   ]
  },
  {
   "cell_type": "markdown",
   "metadata": {},
   "source": [
    "> **Task 4**\n",
    ">\n",
    "> Define a list of even integers from 0 to 10 (inclusive). Print the list.\n",
    ">\n",
    "> Change the first element of the list to the Boolean value True, and append to the end of the list the Boolean value False. Print the new list."
   ]
  },
  {
   "cell_type": "code",
   "execution_count": 2,
   "metadata": {},
   "outputs": [
    {
     "name": "stdout",
     "output_type": "stream",
     "text": [
      "[0, 1, 2, 3, 4, 5, 6, 7, 8, 9]\n"
     ]
    }
   ],
   "source": [
    "# Your code\n",
    "\n",
    "test = list(range(0,10))\n",
    "print(test)\n"
   ]
  },
  {
   "cell_type": "markdown",
   "metadata": {
    "colab_type": "text",
    "id": "YeSYKhv9L9f6"
   },
   "source": [
    "In addition to accessing list elements one at a time, Python provides concise syntax to access sublists; this is known as slicing."
   ]
  },
  {
   "cell_type": "code",
   "execution_count": 1,
   "metadata": {
    "colab": {
     "base_uri": "https://localhost:8080/",
     "height": 139
    },
    "colab_type": "code",
    "id": "ninq666bL9f6",
    "outputId": "c3c2ed92-7358-4fdb-bbc0-e90f82e7e941",
    "scrolled": true
   },
   "outputs": [
    {
     "name": "stdout",
     "output_type": "stream",
     "text": [
      "[10, 20, 30, 40, 50]\n",
      "[30, 40]\n",
      "[30, 40, 50]\n",
      "[10, 20]\n",
      "[10, 20, 30, 40, 50]\n"
     ]
    }
   ],
   "source": [
    "nums = list(range(10,60,10))  # Create list [10, 20, 30, 40, 50]\n",
    "print(nums)                   \n",
    "print(nums[2:4])  # Get a slice from index 2 to 4 (exclusive); prints [30, 40]\n",
    "print(nums[2:])   # Get a slice from index 2 to the end; prints [30, 40, 50]\n",
    "print(nums[:2])   # Get a slice from the start to index 2 (exclusive); prints [10, 20]\n",
    "print(nums[:])    # Get a slice of the whole list; prints [10, 20, 30, 40, 50]"
   ]
  },
  {
   "cell_type": "code",
   "execution_count": null,
   "metadata": {},
   "outputs": [],
   "source": [
    "nums[2:4] = [60, 70]  # Assign a new sublist to a slice\n",
    "print(nums)  # Prints [10, 20, 60, 70, 50]"
   ]
  },
  {
   "cell_type": "markdown",
   "metadata": {},
   "source": [
    "> **Task 5**\n",
    "> \n",
    "> Create a list from 5 to 50 with step width 5. Overwrite the first 3 elements with [50, 100, 150] and the last two elements with [450, 500]. Print the first 5 elements and the last 5 elements of the new list separately."
   ]
  },
  {
   "cell_type": "code",
   "execution_count": 26,
   "metadata": {},
   "outputs": [
    {
     "name": "stdout",
     "output_type": "stream",
     "text": [
      "[50, 100, 150, 15, 20]\n",
      "[30, 35, 40, 450, 500]\n"
     ]
    }
   ],
   "source": [
    "# Your code\n",
    "\n",
    "test1 = list(range(5, 50, 5))\n",
    "test1[:2] = [50, 100, 150]\n",
    "test1[-1:] = [450, 500]\n",
    "print(test1[:5])\n",
    "print(test1[-5:])\n"
   ]
  },
  {
   "cell_type": "markdown",
   "metadata": {
    "colab_type": "text",
    "id": "qPsHSKB1L9hF"
   },
   "source": [
    "#### Tuples"
   ]
  },
  {
   "cell_type": "markdown",
   "metadata": {
    "colab_type": "text",
    "id": "kucc0LKVL9hG"
   },
   "source": [
    "A tuple is an immutable ordered list of values. Immutable means that a tuple cannot be changed any more after its creation. A tuple is in many ways similar to a list. In contrast to lists, round brackets () are used to create tuples."
   ]
  },
  {
   "cell_type": "code",
   "execution_count": 27,
   "metadata": {
    "colab": {
     "base_uri": "https://localhost:8080/",
     "height": 69
    },
    "colab_type": "code",
    "id": "9wHUyTKxL9hH",
    "outputId": "cdc5f620-04fe-4b0b-df7a-55b061d23d88"
   },
   "outputs": [
    {
     "name": "stdout",
     "output_type": "stream",
     "text": [
      "<class 'tuple'>\n",
      "50\n",
      "(60, 70)\n"
     ]
    }
   ],
   "source": [
    "t = (50, 60, 70, 80)  # Create a tuple\n",
    "print(type(t))\n",
    "print(t[0])\n",
    "print(t[1:3])"
   ]
  },
  {
   "cell_type": "markdown",
   "metadata": {
    "colab_type": "text",
    "id": "kucc0LKVL9hG"
   },
   "source": [
    "When you try to change an element of a tuple, an error message occurs:"
   ]
  },
  {
   "cell_type": "code",
   "execution_count": 170,
   "metadata": {
    "colab": {
     "base_uri": "https://localhost:8080/",
     "height": 165
    },
    "colab_type": "code",
    "id": "HoO8zYKzL9hJ",
    "outputId": "28862bfc-0298-40d7-f8c4-168e109d2d93",
    "scrolled": true
   },
   "outputs": [
    {
     "ename": "TypeError",
     "evalue": "'bool' object does not support item assignment",
     "output_type": "error",
     "traceback": [
      "\u001b[1;31m---------------------------------------------------------------------------\u001b[0m",
      "\u001b[1;31mTypeError\u001b[0m                                 Traceback (most recent call last)",
      "Cell \u001b[1;32mIn[170], line 1\u001b[0m\n\u001b[1;32m----> 1\u001b[0m t[\u001b[38;5;241m0\u001b[39m] \u001b[38;5;241m=\u001b[39m \u001b[38;5;241m40\u001b[39m\n",
      "\u001b[1;31mTypeError\u001b[0m: 'bool' object does not support item assignment"
     ]
    }
   ],
   "source": [
    "t[0] = 40"
   ]
  },
  {
   "cell_type": "markdown",
   "metadata": {
    "colab_type": "text",
    "id": "kucc0LKVL9hG"
   },
   "source": [
    "A tuple with only one element, say 10, is written in the form (10,) in order to avoid ambiguity with the mathematical expression (10):"
   ]
  },
  {
   "cell_type": "code",
   "execution_count": 2,
   "metadata": {
    "colab": {
     "base_uri": "https://localhost:8080/",
     "height": 165
    },
    "colab_type": "code",
    "id": "HoO8zYKzL9hJ",
    "outputId": "28862bfc-0298-40d7-f8c4-168e109d2d93",
    "scrolled": true
   },
   "outputs": [
    {
     "name": "stdout",
     "output_type": "stream",
     "text": [
      "10 <class 'int'>\n",
      "(10,) <class 'tuple'>\n"
     ]
    }
   ],
   "source": [
    "t1 = (10)\n",
    "print(t1, type(t1))\n",
    "t2 = (10,)\n",
    "print(t2, type(t2))"
   ]
  },
  {
   "cell_type": "markdown",
   "metadata": {
    "colab_type": "text",
    "id": "UONpMhF4L9f_"
   },
   "source": [
    "### Loops and Control"
   ]
  },
  {
   "cell_type": "markdown",
   "metadata": {
    "colab_type": "text",
    "id": "UONpMhF4L9f_"
   },
   "source": [
    "#### For loop"
   ]
  },
  {
   "cell_type": "markdown",
   "metadata": {
    "colab_type": "text",
    "id": "_DYz1j6QL9f_"
   },
   "source": [
    "You can loop over the elements of a list like this:"
   ]
  },
  {
   "cell_type": "code",
   "execution_count": 3,
   "metadata": {
    "colab": {
     "base_uri": "https://localhost:8080/",
     "height": 69
    },
    "colab_type": "code",
    "id": "4cCOysfWL9gA",
    "outputId": "560e46c7-279c-409a-838c-64bea8d321c4"
   },
   "outputs": [
    {
     "name": "stdout",
     "output_type": "stream",
     "text": [
      "10\n",
      "20\n",
      "30\n"
     ]
    }
   ],
   "source": [
    "xs = [10, 20, 30]\n",
    "for x in xs:\n",
    "    print(x)"
   ]
  },
  {
   "cell_type": "markdown",
   "metadata": {
    "colab_type": "text",
    "id": "KxIaQs7pL9gE"
   },
   "source": [
    "Alternatively, you can loop over the indices using `range()`:"
   ]
  },
  {
   "cell_type": "code",
   "execution_count": 4,
   "metadata": {
    "colab": {
     "base_uri": "https://localhost:8080/",
     "height": 69
    },
    "colab_type": "code",
    "id": "JjGnDluWL9gF",
    "outputId": "81421905-17ea-4c5a-bcc0-176de19fd9bd"
   },
   "outputs": [
    {
     "name": "stdout",
     "output_type": "stream",
     "text": [
      "10\n",
      "20\n",
      "30\n"
     ]
    }
   ],
   "source": [
    "xs = [10, 20, 30]\n",
    "for i in range(3):  # i = 0, 1, 2\n",
    "    print(xs[i])"
   ]
  },
  {
   "cell_type": "markdown",
   "metadata": {},
   "source": [
    "> **Task 6**\n",
    "> \n",
    "> Define a list with the even numbers from 2 to 20 (inclusive) and print their squares using a for-loop."
   ]
  },
  {
   "cell_type": "code",
   "execution_count": 13,
   "metadata": {},
   "outputs": [
    {
     "name": "stdout",
     "output_type": "stream",
     "text": [
      "4\n",
      "16\n",
      "36\n",
      "64\n",
      "100\n",
      "144\n",
      "196\n",
      "256\n",
      "324\n"
     ]
    }
   ],
   "source": [
    "# Your code\n",
    "xs1 = [x for x in range(20) if x%2==0]\n",
    "xs1.pop(0)\n",
    "\n",
    "for i in xs1:\n",
    "    print(i**2)\n"
   ]
  },
  {
   "cell_type": "markdown",
   "metadata": {},
   "source": [
    "> **Important**\n",
    "> \n",
    "> Where in Java the indentation in code is for readability only, the INDENTATION in PYTHON is CRUCIAL. Python uses indentation to indicate a BLOCK OF CODE."
   ]
  },
  {
   "cell_type": "code",
   "execution_count": 14,
   "metadata": {},
   "outputs": [
    {
     "name": "stdout",
     "output_type": "stream",
     "text": [
      "1\n",
      "3\n",
      "6\n",
      "10\n"
     ]
    }
   ],
   "source": [
    "sum = 0\n",
    "for num in range(1,5):\n",
    "    sum += num\n",
    "    print(sum)"
   ]
  },
  {
   "cell_type": "code",
   "execution_count": 15,
   "metadata": {},
   "outputs": [
    {
     "name": "stdout",
     "output_type": "stream",
     "text": [
      "10\n"
     ]
    }
   ],
   "source": [
    "sum = 0\n",
    "for num in range(1,5):\n",
    "    sum += num\n",
    "print(sum)"
   ]
  },
  {
   "cell_type": "markdown",
   "metadata": {
    "colab_type": "text",
    "id": "UONpMhF4L9f_"
   },
   "source": [
    "#### If selection"
   ]
  },
  {
   "cell_type": "markdown",
   "metadata": {},
   "source": [
    "An if selection allows more than one possible flow of control."
   ]
  },
  {
   "cell_type": "code",
   "execution_count": 171,
   "metadata": {},
   "outputs": [
    {
     "name": "stdout",
     "output_type": "stream",
     "text": [
      "Enter an integer: 5\n",
      "Not negative\n"
     ]
    }
   ],
   "source": [
    "x = int(input(\"Enter an integer: \"))\n",
    "\n",
    "if x < 0:\n",
    "    print('Negative')\n",
    "else:\n",
    "    print('Not negative')"
   ]
  },
  {
   "cell_type": "code",
   "execution_count": 16,
   "metadata": {
    "scrolled": true
   },
   "outputs": [
    {
     "name": "stdout",
     "output_type": "stream",
     "text": [
      "Enter an integer: 7\n",
      "Positive\n"
     ]
    }
   ],
   "source": [
    "x = int(input(\"Enter an integer: \"))\n",
    "\n",
    "if x < 0:\n",
    "    print('Negative')\n",
    "elif x == 0:\n",
    "    print('Zero')\n",
    "else:\n",
    "     print('Positive')"
   ]
  },
  {
   "cell_type": "markdown",
   "metadata": {},
   "source": [
    "> **Task 7**\n",
    "> \n",
    "> Assigne an integer number to variable n ant print, if n is even or odd."
   ]
  },
  {
   "cell_type": "markdown",
   "metadata": {
    "colab_type": "text",
    "id": "UONpMhF4L9f_"
   },
   "source": [
    "#### While loop"
   ]
  },
  {
   "cell_type": "markdown",
   "metadata": {},
   "source": [
    "A while loop is executet while the given Boolean expression is true. "
   ]
  },
  {
   "cell_type": "code",
   "execution_count": 172,
   "metadata": {},
   "outputs": [
    {
     "name": "stdout",
     "output_type": "stream",
     "text": [
      "4\n",
      "3\n",
      "2\n",
      "1\n",
      "0\n"
     ]
    }
   ],
   "source": [
    "n = 5\n",
    "while n > 0:\n",
    "    n -= 1\n",
    "    print(n)"
   ]
  },
  {
   "cell_type": "markdown",
   "metadata": {},
   "source": [
    "A while loop can also be terminated by the `break` statement: "
   ]
  },
  {
   "cell_type": "code",
   "execution_count": 173,
   "metadata": {},
   "outputs": [
    {
     "name": "stdout",
     "output_type": "stream",
     "text": [
      "4\n",
      "3\n"
     ]
    }
   ],
   "source": [
    "n = 5\n",
    "while n > 0:\n",
    "    n -= 1\n",
    "    if n == 2:\n",
    "        break\n",
    "    print(n)"
   ]
  },
  {
   "cell_type": "markdown",
   "metadata": {},
   "source": [
    "> **Task 8**\n",
    "> \n",
    "> Assign a positive number to variable x. Halve x repeatedly, until x is smaller than 0.001. Count the number n of halvings. Print n and the last value of x."
   ]
  },
  {
   "cell_type": "code",
   "execution_count": 20,
   "metadata": {},
   "outputs": [
    {
     "name": "stdout",
     "output_type": "stream",
     "text": [
      "13\n",
      "0.000732421875\n"
     ]
    }
   ],
   "source": [
    "# Your Code\n",
    "\n",
    "x = 6\n",
    "cntr = 0\n",
    "while x > 0.001:\n",
    "    x = x/2\n",
    "    cntr = cntr + 1\n",
    "\n",
    "print(cntr)\n",
    "print(x)"
   ]
  },
  {
   "cell_type": "markdown",
   "metadata": {
    "colab_type": "text",
    "id": "AXA4jrEOL9hM"
   },
   "source": [
    "### Functions"
   ]
  },
  {
   "cell_type": "markdown",
   "metadata": {
    "colab_type": "text",
    "id": "WaRms-QfL9hN"
   },
   "source": [
    "Python functions are defined using the `def` keyword. For example:"
   ]
  },
  {
   "cell_type": "code",
   "execution_count": 21,
   "metadata": {
    "colab": {
     "base_uri": "https://localhost:8080/",
     "height": 69
    },
    "colab_type": "code",
    "id": "kiMDUr58L9hN",
    "outputId": "9f53bf9a-7b2a-4c51-9def-398e4677cd6c"
   },
   "outputs": [
    {
     "name": "stdout",
     "output_type": "stream",
     "text": [
      "-10 negative\n",
      "0 zero\n",
      "10 positive\n"
     ]
    }
   ],
   "source": [
    "# Function sign(x) returns the sign of a number x\n",
    "def sign(x):\n",
    "    if x > 0:\n",
    "        return 'positive'\n",
    "    elif x < 0:\n",
    "        return 'negative'\n",
    "    else:\n",
    "        return 'zero'\n",
    "\n",
    "for x in [-10, 0, 10]:\n",
    "    print(x, sign(x))"
   ]
  },
  {
   "cell_type": "markdown",
   "metadata": {},
   "source": [
    "> **Task 9**\n",
    "> \n",
    "> Create a function sum(n) that calculates and returns the sum 1 + 2 + ... + n. Test your function\n",
    "for n = 10. The sum should be 55."
   ]
  },
  {
   "cell_type": "code",
   "execution_count": 34,
   "metadata": {
    "scrolled": false
   },
   "outputs": [
    {
     "name": "stdout",
     "output_type": "stream",
     "text": [
      "10 55\n"
     ]
    }
   ],
   "source": [
    "# Your code\n",
    "\n",
    "def sumSymbol(n):\n",
    "    x = 0\n",
    "    for i in range(n+1):\n",
    "        x = x + i\n",
    "    return x\n",
    "\n",
    "print(x, sumSymbol(10))"
   ]
  },
  {
   "cell_type": "markdown",
   "metadata": {},
   "source": [
    "An example of a function with a second argument, that is optional, and with no return:"
   ]
  },
  {
   "cell_type": "code",
   "execution_count": null,
   "metadata": {
    "colab": {
     "base_uri": "https://localhost:8080/",
     "height": 52
    },
    "colab_type": "code",
    "id": "PfsZ3DazL9hR",
    "outputId": "6e6af832-67d8-4d8c-949b-335927684ae3"
   },
   "outputs": [],
   "source": [
    "def hello(name, loud=False):\n",
    "    if loud:\n",
    "        print('HELLO ' + name + ' !!!')\n",
    "    else:\n",
    "        print('Hello ' + name +  ' !')\n",
    "\n",
    "hello('Bob')\n",
    "hello('Fred', loud=True)"
   ]
  },
  {
   "cell_type": "markdown",
   "metadata": {
    "colab_type": "text",
    "id": "3cfrOV4dL9hW"
   },
   "source": [
    "## Numpy"
   ]
  },
  {
   "cell_type": "markdown",
   "metadata": {
    "colab_type": "text",
    "id": "fY12nHhyL9hX"
   },
   "source": [
    "Numpy is the fundamental package for scientific computing in Python. It is a Python library that provides a multi-dimensional array object, and routines for fast operations on arrays.\n",
    "\n",
    "There are several important differences between Numpy arrays and Python lists:\n",
    "- Numpy arrays have a fixed size.\n",
    "- The elements in a Numpy array are objects of the same type.\n",
    "- Numpy arrays faciliate and accelerate mathematical and other operations on large data."
   ]
  },
  {
   "cell_type": "markdown",
   "metadata": {
    "colab_type": "text",
    "id": "lZMyAdqhL9hY"
   },
   "source": [
    "To use Numpy, we first need to import the `numpy` package:"
   ]
  },
  {
   "cell_type": "code",
   "execution_count": 35,
   "metadata": {
    "colab": {},
    "colab_type": "code",
    "id": "58QdX8BLL9hZ"
   },
   "outputs": [],
   "source": [
    "import numpy as np"
   ]
  },
  {
   "cell_type": "markdown",
   "metadata": {
    "colab_type": "text",
    "id": "DDx6v1EdL9hb"
   },
   "source": [
    "### Arrays"
   ]
  },
  {
   "cell_type": "markdown",
   "metadata": {
    "colab_type": "text",
    "id": "f-Zv3f7LL9hc"
   },
   "source": [
    "One dimensional arrays correspond to vectors, two dimensional arrays to matrices. Names of 1D arrays are usually in lower case, names of 2D arrays in upper case."
   ]
  },
  {
   "cell_type": "markdown",
   "metadata": {
    "colab_type": "text",
    "id": "jI5qcSDfL9iC"
   },
   "source": [
    "#### Creating and indexing"
   ]
  },
  {
   "cell_type": "markdown",
   "metadata": {
    "colab_type": "text",
    "id": "_eMTRnZRL9hc"
   },
   "source": [
    "We can create Numpy arrays from Python lists, and access elements using indices in square brackets. Indexing starts from 0."
   ]
  },
  {
   "cell_type": "code",
   "execution_count": 36,
   "metadata": {
    "colab": {
     "base_uri": "https://localhost:8080/",
     "height": 52
    },
    "colab_type": "code",
    "id": "-l3JrGxCL9hc",
    "outputId": "8d9dad18-c734-4a8a-ca8c-44060a40fb79"
   },
   "outputs": [
    {
     "name": "stdout",
     "output_type": "stream",
     "text": [
      "[10 20 30 40]\n",
      "<class 'numpy.ndarray'>\n",
      "int32\n",
      "(4,)\n",
      "10 40\n"
     ]
    }
   ],
   "source": [
    "# Create 1D array and print array, object type of array, data type of elements, shape of array,\n",
    "# first and last element\n",
    "a = np.array([10,20,30,40])\n",
    "print(a)\n",
    "print(type((a)))\n",
    "print(a.dtype)\n",
    "print(a.shape)\n",
    "print(a[0], a[3])"
   ]
  },
  {
   "cell_type": "code",
   "execution_count": 37,
   "metadata": {},
   "outputs": [
    {
     "name": "stdout",
     "output_type": "stream",
     "text": [
      "[[10. 20. 30. 40.]\n",
      " [50. 60. 70. 80.]]\n",
      "<class 'numpy.ndarray'>\n",
      "float64\n",
      "(2, 4)\n",
      "10.0 80.0\n"
     ]
    }
   ],
   "source": [
    "# Create 2D array and print array, object type of array, data type of elements, shape of array,\n",
    "# first and last element\n",
    "A = np.array([[10.,20.,30.,40.], [50.,60.,70.,80.]])\n",
    "print(A)\n",
    "print(type(A))\n",
    "print(A.dtype)\n",
    "print(A.shape)\n",
    "print(A[0,0], A[1,3])"
   ]
  },
  {
   "cell_type": "markdown",
   "metadata": {},
   "source": [
    "> **Task 10**\n",
    "> \n",
    "> Create a 3x2 matrix filled with all 10 in the first row, all 20 in the second row and all 30 in the third row. Print the matrix.\n",
    ">\n",
    "> Change all elements of the first column to 40. Print the new matrix."
   ]
  },
  {
   "cell_type": "code",
   "execution_count": 47,
   "metadata": {},
   "outputs": [
    {
     "name": "stdout",
     "output_type": "stream",
     "text": [
      "[[10 10]\n",
      " [20 20]\n",
      " [30 30]]\n",
      "[[40 10]\n",
      " [40 20]\n",
      " [40 30]]\n"
     ]
    }
   ],
   "source": [
    "# Your Code:\n",
    "\n",
    "B = np.array([[10, 10], [20, 20], [30, 30]])\n",
    "print(B)\n",
    "\n",
    "B[:,0] = 40\n",
    "print(B)\n"
   ]
  },
  {
   "cell_type": "markdown",
   "metadata": {
    "colab_type": "text",
    "id": "F2qwdyvuL9hn"
   },
   "source": [
    "Numpy also provides many functions to create special arrays:"
   ]
  },
  {
   "cell_type": "code",
   "execution_count": 48,
   "metadata": {},
   "outputs": [
    {
     "name": "stdout",
     "output_type": "stream",
     "text": [
      "[2.5 3.  3.5 4.  4.5 5.  5.5]\n"
     ]
    }
   ],
   "source": [
    "x = np.arange(2.5, 6.0, 0.5)  # Create vetor from 2.5 (inclusive) to 6.0 (exclusive)\n",
    "print(x)                      # with step 0.5"
   ]
  },
  {
   "cell_type": "code",
   "execution_count": 49,
   "metadata": {
    "colab": {
     "base_uri": "https://localhost:8080/",
     "height": 52
    },
    "colab_type": "code",
    "id": "mVTN_EBqL9hn",
    "outputId": "d267c65f-ba90-4043-cedb-f468ab1bcc5d"
   },
   "outputs": [
    {
     "name": "stdout",
     "output_type": "stream",
     "text": [
      "[0. 0. 0. 0. 0. 0. 0. 0. 0. 0.]\n"
     ]
    }
   ],
   "source": [
    "y = np.zeros(10)  # Create vector of all zeros\n",
    "print(y)"
   ]
  },
  {
   "cell_type": "code",
   "execution_count": 50,
   "metadata": {
    "colab": {
     "base_uri": "https://localhost:8080/",
     "height": 34
    },
    "colab_type": "code",
    "id": "skiKlNmlL9h5",
    "outputId": "7d1ec1b5-a1fe-4f44-cbe3-cdeacad425f1"
   },
   "outputs": [
    {
     "name": "stdout",
     "output_type": "stream",
     "text": [
      "[[1. 1. 1.]\n",
      " [1. 1. 1.]]\n"
     ]
    }
   ],
   "source": [
    "A = np.ones((2,3))  # Create 2x3 matrix of all ones\n",
    "print(A)"
   ]
  },
  {
   "cell_type": "code",
   "execution_count": 51,
   "metadata": {
    "colab": {
     "base_uri": "https://localhost:8080/",
     "height": 52
    },
    "colab_type": "code",
    "id": "-QcALHvkL9h9",
    "outputId": "5035d6fe-cb7e-4222-c972-55fe23c9d4c0"
   },
   "outputs": [
    {
     "name": "stdout",
     "output_type": "stream",
     "text": [
      "[[1. 0.]\n",
      " [0. 1.]]\n"
     ]
    }
   ],
   "source": [
    "B = np.eye(2)  # Create a 2x2 identity matrix\n",
    "print(B)"
   ]
  },
  {
   "cell_type": "code",
   "execution_count": 52,
   "metadata": {
    "colab": {
     "base_uri": "https://localhost:8080/",
     "height": 52
    },
    "colab_type": "code",
    "id": "RCpaYg9qL9iA",
    "outputId": "25f0b387-39cf-42f3-8701-de860cc75e2e"
   },
   "outputs": [
    {
     "name": "stdout",
     "output_type": "stream",
     "text": [
      "[[0.16372177 0.31780312 0.70240536]\n",
      " [0.76649484 0.20106863 0.56984516]\n",
      " [0.13023209 0.754834   0.77712585]]\n"
     ]
    }
   ],
   "source": [
    "C = np.random.random((3,3))  # Create a matrix filled with random values between 0 and 1\n",
    "print(C)"
   ]
  },
  {
   "cell_type": "markdown",
   "metadata": {
    "colab_type": "text",
    "id": "jTctwqdQL9ih"
   },
   "source": [
    "#### Data types"
   ]
  },
  {
   "cell_type": "markdown",
   "metadata": {
    "colab_type": "text",
    "id": "kSZQ1WkIL9ih"
   },
   "source": [
    "Numpy provides several data types. Numpy tries to guess a data type when you create an array. You can also explicitly specify the data type. To find out which data type the array consists of, use `dtype`, with which you can also define the data type. Here is an example:"
   ]
  },
  {
   "cell_type": "code",
   "execution_count": 53,
   "metadata": {
    "colab": {
     "base_uri": "https://localhost:8080/",
     "height": 34
    },
    "colab_type": "code",
    "id": "4za4O0m5L9ih",
    "outputId": "2ea4fb80-a4df-43f9-c162-5665895c13ae"
   },
   "outputs": [
    {
     "name": "stdout",
     "output_type": "stream",
     "text": [
      "int32 float64 int64\n"
     ]
    }
   ],
   "source": [
    "x = np.array([1, 2])  # Let numpy choose the datatype\n",
    "y = np.array([1.0, 2.0])  # Let numpy choose the datatype\n",
    "z = np.array([1, 2], dtype=np.int64)  # Force a particular datatype\n",
    "print(x.dtype, y.dtype, z.dtype)"
   ]
  },
  {
   "cell_type": "markdown",
   "metadata": {
    "colab_type": "text",
    "id": "jI5qcSDfL9iC"
   },
   "source": [
    "#### Copying"
   ]
  },
  {
   "cell_type": "markdown",
   "metadata": {},
   "source": [
    "> **Important**\n",
    "> \n",
    "> Given an array x, the assignment y = x does NOT make a COPY y of x. Instead it creates a so called VIEW y of x. x and y are the same objects. MODIFYING x will MODIFY y and vice versa. A VIEW in Python corresponds to a REFERENCE in Java."
   ]
  },
  {
   "cell_type": "code",
   "execution_count": 54,
   "metadata": {},
   "outputs": [
    {
     "name": "stdout",
     "output_type": "stream",
     "text": [
      "[10 20 30]\n",
      "[10 20 30]\n",
      "True\n"
     ]
    }
   ],
   "source": [
    "x = np.array([10, 20, 30])\n",
    "y = x\n",
    "print(x)\n",
    "print(y)\n",
    "print(x is y)"
   ]
  },
  {
   "cell_type": "code",
   "execution_count": 55,
   "metadata": {},
   "outputs": [
    {
     "name": "stdout",
     "output_type": "stream",
     "text": [
      "[50 20 30]\n",
      "[50 20 30]\n"
     ]
    }
   ],
   "source": [
    "x[0] += 40\n",
    "print(x)\n",
    "print(y)"
   ]
  },
  {
   "cell_type": "code",
   "execution_count": 56,
   "metadata": {},
   "outputs": [
    {
     "name": "stdout",
     "output_type": "stream",
     "text": [
      "[50 20 60]\n",
      "[50 20 60]\n"
     ]
    }
   ],
   "source": [
    "y[2] *= 2\n",
    "print(x)\n",
    "print(y)"
   ]
  },
  {
   "cell_type": "markdown",
   "metadata": {},
   "source": [
    "> **Important**\n",
    "> \n",
    "> To COPY an array us `np.copy()`."
   ]
  },
  {
   "cell_type": "code",
   "execution_count": 57,
   "metadata": {},
   "outputs": [
    {
     "name": "stdout",
     "output_type": "stream",
     "text": [
      "[[10 20]\n",
      " [30 40]]\n",
      "[[10 20]\n",
      " [30 40]]\n",
      "False\n"
     ]
    }
   ],
   "source": [
    "A = np.array([[10, 20], [30,40]])\n",
    "B = np.copy(A)\n",
    "print(A)\n",
    "print(B)\n",
    "print(A is B)"
   ]
  },
  {
   "cell_type": "code",
   "execution_count": 58,
   "metadata": {},
   "outputs": [
    {
     "name": "stdout",
     "output_type": "stream",
     "text": [
      "[[50 20]\n",
      " [30 40]]\n",
      "[[10 20]\n",
      " [30 40]]\n"
     ]
    }
   ],
   "source": [
    "A[0,0] = 50\n",
    "print(A)\n",
    "print(B)"
   ]
  },
  {
   "cell_type": "markdown",
   "metadata": {
    "colab_type": "text",
    "id": "jI5qcSDfL9iC"
   },
   "source": [
    "#### Slicing"
   ]
  },
  {
   "cell_type": "markdown",
   "metadata": {
    "colab_type": "text",
    "id": "M-E4MUeVL9iC"
   },
   "source": [
    "Array slicing is an operation that extracts a subset of elements from an array and packages them as another array, possibly in a different dimension from the original. The basic slice syntax is i : j : k where i is the starting index, j is the stopping index, and k is the step."
   ]
  },
  {
   "cell_type": "code",
   "execution_count": 59,
   "metadata": {
    "scrolled": true
   },
   "outputs": [
    {
     "name": "stdout",
     "output_type": "stream",
     "text": [
      "[10 15 20 25 30 35 40 45]\n",
      "[15 25 35]\n",
      "[20 25 30 35]\n",
      "[40 45]\n",
      "[10 15 20 25 30 35 40]\n",
      "[10 15 20 25 30 35 40 45]\n"
     ]
    }
   ],
   "source": [
    "x = np.arange(10,50,5)\n",
    "print(x)\n",
    "print(x[1:7:2]) # show elements from index 1 (inclusive) to index 7 (exclusive) in steps of 2\n",
    "print(x[2:6])   # show elements from index 2 (inclusive) to index 6 (exclusive) in steps of 1\n",
    "print(x[6:])    # show all elements from index 6 (inclusive) in steps of 1\n",
    "print(x[:-1])   # show all elements up to last index (exclusive) in steps of 1\n",
    "print(x[:])     # show all elements"
   ]
  },
  {
   "cell_type": "markdown",
   "metadata": {},
   "source": [
    "> **Important**\n",
    "> \n",
    "> Sclicing creates a VIEW of the data, NOT a COPY. For copying use `np.copy()`."
   ]
  },
  {
   "cell_type": "code",
   "execution_count": 60,
   "metadata": {},
   "outputs": [
    {
     "name": "stdout",
     "output_type": "stream",
     "text": [
      "[10 15 20 25 30 35 40 45]\n",
      "[10 15 20]\n",
      "[10 15 20]\n"
     ]
    }
   ],
   "source": [
    "x = np.arange(10,50,5)\n",
    "y = x[0:3]\n",
    "z = np.copy(x[0:3])\n",
    "print(x)\n",
    "print(y)\n",
    "print(z)\n"
   ]
  },
  {
   "cell_type": "code",
   "execution_count": 61,
   "metadata": {},
   "outputs": [
    {
     "name": "stdout",
     "output_type": "stream",
     "text": [
      "[50 15 20 25 30 35 40 45]\n",
      "[50 15 20]\n",
      "[10 15 20]\n"
     ]
    }
   ],
   "source": [
    "x[0] = 50\n",
    "print(x)\n",
    "print(y)\n",
    "print(z)"
   ]
  },
  {
   "cell_type": "markdown",
   "metadata": {
    "colab_type": "text",
    "id": "QYv4JyIEL9iD"
   },
   "source": [
    "If an array is multidimensional, you must specify a slice for each dimension of the array."
   ]
  },
  {
   "cell_type": "code",
   "execution_count": 62,
   "metadata": {
    "colab": {
     "base_uri": "https://localhost:8080/",
     "height": 52
    },
    "colab_type": "code",
    "id": "wLWA0udwL9iD",
    "outputId": "99f08618-c513-4982-8982-b146fc72dab3"
   },
   "outputs": [
    {
     "name": "stdout",
     "output_type": "stream",
     "text": [
      "[[ 1  2  3  4]\n",
      " [ 5  6  7  8]\n",
      " [ 9 10 11 12]]\n",
      "[[2 3]\n",
      " [6 7]]\n"
     ]
    }
   ],
   "source": [
    "# Create the following 3x4 matrix:\n",
    "A = np.array([[1,2,3,4], [5,6,7,8], [9,10,11,12]])\n",
    "print(A)\n",
    "\n",
    "# Use slicing to pull out the subarray consisting of the first 2 rows\n",
    "# and columns 1 and 2; B is the following 2x2 matrix:\n",
    "B = A[:2, 1:3]\n",
    "print(B)"
   ]
  },
  {
   "cell_type": "markdown",
   "metadata": {},
   "source": [
    "> **Task 11**\n",
    "> \n",
    "> Create a 3x5 matrix A filled with random elements from 0 to 1 and print A.\n",
    ">\n",
    "> Extract the first two rows of A as a view B and print B. \n",
    ">\n",
    "> Extract the last three columns of A as a copy C and print C.\n",
    ">\n",
    "> Change the upper right element of A to 0 and print A, B, C."
   ]
  },
  {
   "cell_type": "code",
   "execution_count": 103,
   "metadata": {},
   "outputs": [
    {
     "name": "stdout",
     "output_type": "stream",
     "text": [
      "[[0.94775461 0.03847215 0.89818455 0.03384832 0.91323168]\n",
      " [0.45235865 0.52975116 0.23741805 0.68629564 0.37268214]\n",
      " [0.62636411 0.40683871 0.66095827 0.06591564 0.44738743]]\n",
      "[[0.94775461 0.03847215]\n",
      " [0.45235865 0.52975116]\n",
      " [0.62636411 0.40683871]]\n",
      "[[0.91323168 0.03384832 0.89818455]\n",
      " [0.37268214 0.68629564 0.23741805]\n",
      " [0.44738743 0.06591564 0.66095827]]\n",
      "[[0.94775461 0.03847215 0.89818455 0.03384832 0.        ]\n",
      " [0.45235865 0.52975116 0.23741805 0.68629564 0.37268214]\n",
      " [0.62636411 0.40683871 0.66095827 0.06591564 0.44738743]]\n",
      "[[0.94775461 0.03847215]\n",
      " [0.45235865 0.52975116]\n",
      " [0.62636411 0.40683871]]\n",
      "[[0.91323168 0.03384832 0.89818455]\n",
      " [0.37268214 0.68629564 0.23741805]\n",
      " [0.44738743 0.06591564 0.66095827]]\n"
     ]
    }
   ],
   "source": [
    "# Your Code\n",
    "A = np.random.random((3,5))\n",
    "print(A)\n",
    "\n",
    "B = A[:, [0,1]]\n",
    "print(B)\n",
    "\n",
    "C = np.copy(A[:, [-1,-2,-3]])\n",
    "print(C)\n",
    "\n",
    "A[0,4] = 0\n",
    "\n",
    "print(A)\n",
    "print(B)\n",
    "print(C)"
   ]
  },
  {
   "cell_type": "markdown",
   "metadata": {
    "colab_type": "text",
    "id": "jI5qcSDfL9iC"
   },
   "source": [
    "#### Mix of indexing and slicing"
   ]
  },
  {
   "cell_type": "markdown",
   "metadata": {
    "colab_type": "text",
    "id": "_Zcf3zi-L9iI"
   },
   "source": [
    "You can also mix indexing and slicing. However, doing so on a 2D array, will yield a 1D array"
   ]
  },
  {
   "cell_type": "code",
   "execution_count": 104,
   "metadata": {
    "colab": {
     "base_uri": "https://localhost:8080/",
     "height": 69
    },
    "colab_type": "code",
    "id": "G6lfbPuxL9iJ",
    "outputId": "a225fe9d-2a29-4e14-a243-2b7d583bd4bc"
   },
   "outputs": [
    {
     "name": "stdout",
     "output_type": "stream",
     "text": [
      "[[10 20 30]\n",
      " [40 50 60]]\n"
     ]
    }
   ],
   "source": [
    "A = np.array([[10, 20, 30], [40, 50, 60]])\n",
    "print(A)"
   ]
  },
  {
   "cell_type": "code",
   "execution_count": 106,
   "metadata": {},
   "outputs": [
    {
     "name": "stdout",
     "output_type": "stream",
     "text": [
      "[10 20 30]\n",
      "[[10 20 30]]\n"
     ]
    }
   ],
   "source": [
    "row1d = A[0,:]   # Mix indexing and slicing -> yields 1D view of first row of A\n",
    "row2d = A[0:1,:] # Slicing only -> yields 2D view of first row of A\n",
    "print(row1d)\n",
    "print(row2d)"
   ]
  },
  {
   "cell_type": "markdown",
   "metadata": {},
   "source": [
    "> **Task 12**\n",
    "> \n",
    "> Extract the last column of A as 1D view and as 2D view."
   ]
  },
  {
   "cell_type": "code",
   "execution_count": 111,
   "metadata": {},
   "outputs": [
    {
     "name": "stdout",
     "output_type": "stream",
     "text": [
      "[30 60]\n",
      "[[30]\n",
      " [60]]\n"
     ]
    }
   ],
   "source": [
    "# Your code:\n",
    "\n",
    "column1d = A[:,-1]\n",
    "column2d = A[:,-1:]\n",
    "\n",
    "print(column1d)\n",
    "print(column2d)\n"
   ]
  },
  {
   "cell_type": "markdown",
   "metadata": {
    "colab_type": "text",
    "id": "jI5qcSDfL9iC"
   },
   "source": [
    "#### Reshaping"
   ]
  },
  {
   "cell_type": "markdown",
   "metadata": {},
   "source": [
    "You can reshape an array. Reshaping can change the dimension of an array."
   ]
  },
  {
   "cell_type": "code",
   "execution_count": 112,
   "metadata": {},
   "outputs": [
    {
     "name": "stdout",
     "output_type": "stream",
     "text": [
      "[ 0  1  2  3  4  5  6  7  8  9 10 11]\n"
     ]
    }
   ],
   "source": [
    "a = np.arange(12)\n",
    "print(a)"
   ]
  },
  {
   "cell_type": "code",
   "execution_count": 113,
   "metadata": {},
   "outputs": [
    {
     "name": "stdout",
     "output_type": "stream",
     "text": [
      "[[ 0  1  2  3  4  5]\n",
      " [ 6  7  8  9 10 11]]\n"
     ]
    }
   ],
   "source": [
    "# Reshape 1D array to 2D array\n",
    "A = a.reshape((2, 6))\n",
    "print(A)"
   ]
  },
  {
   "cell_type": "code",
   "execution_count": 114,
   "metadata": {},
   "outputs": [
    {
     "name": "stdout",
     "output_type": "stream",
     "text": [
      "[[ 0  1  2]\n",
      " [ 3  4  5]\n",
      " [ 6  7  8]\n",
      " [ 9 10 11]]\n"
     ]
    }
   ],
   "source": [
    "# Reshape 2D array to 2D array\n",
    "B = A.reshape((4,3))\n",
    "print(B)"
   ]
  },
  {
   "cell_type": "markdown",
   "metadata": {},
   "source": [
    "> **Important**\n",
    "> \n",
    "> Reshaping creates a VIEW of the data, NOT a COPY. For copying use `np.copy()`."
   ]
  },
  {
   "cell_type": "code",
   "execution_count": 115,
   "metadata": {},
   "outputs": [
    {
     "name": "stdout",
     "output_type": "stream",
     "text": [
      "[0 1 2 3 4 5]\n",
      "[[0 1 2]\n",
      " [3 4 5]]\n",
      "[[0 1]\n",
      " [2 3]\n",
      " [4 5]]\n"
     ]
    }
   ],
   "source": [
    "a = np.arange(6)\n",
    "A = a.reshape((2,3))\n",
    "B = np.copy(a.reshape((3,2)))\n",
    "print(a)\n",
    "print(A)\n",
    "print(B)"
   ]
  },
  {
   "cell_type": "code",
   "execution_count": 116,
   "metadata": {},
   "outputs": [
    {
     "name": "stdout",
     "output_type": "stream",
     "text": [
      "[ 0  1  2 30  4  5]\n",
      "[[ 0  1  2]\n",
      " [30  4  5]]\n",
      "[[0 1]\n",
      " [2 3]\n",
      " [4 5]]\n"
     ]
    }
   ],
   "source": [
    "a[3] = 30  \n",
    "print(a)\n",
    "print(A)\n",
    "print(B)"
   ]
  },
  {
   "cell_type": "markdown",
   "metadata": {
    "colab_type": "text",
    "id": "TuB-fdhIL9ik"
   },
   "source": [
    "### Array math "
   ]
  },
  {
   "cell_type": "markdown",
   "metadata": {},
   "source": [
    "#### Elementwise operations"
   ]
  },
  {
   "cell_type": "markdown",
   "metadata": {
    "colab_type": "text",
    "id": "18e8V8elL9ik"
   },
   "source": [
    "Basic mathematical functions operate elementwise on arrays:"
   ]
  },
  {
   "cell_type": "code",
   "execution_count": 117,
   "metadata": {
    "colab": {
     "base_uri": "https://localhost:8080/",
     "height": 86
    },
    "colab_type": "code",
    "id": "gHKvBrSKL9il",
    "outputId": "a8a924b1-9d60-4b68-8fd3-e4657ae3f08b"
   },
   "outputs": [
    {
     "name": "stdout",
     "output_type": "stream",
     "text": [
      "[[1. 2.]\n",
      " [3. 4.]]\n",
      "[[5. 6.]\n",
      " [7. 8.]]\n"
     ]
    }
   ],
   "source": [
    "A = np.array([[1.,2.],[3.,4.]])\n",
    "B = np.array([[5.,6.],[7.,8.]])\n",
    "print(A)\n",
    "print(B)"
   ]
  },
  {
   "cell_type": "code",
   "execution_count": 118,
   "metadata": {},
   "outputs": [
    {
     "name": "stdout",
     "output_type": "stream",
     "text": [
      "[[ 6.  8.]\n",
      " [10. 12.]]\n",
      "[[-4. -4.]\n",
      " [-4. -4.]]\n",
      "[[ 5. 12.]\n",
      " [21. 32.]]\n",
      "[[0.2        0.33333333]\n",
      " [0.42857143 0.5       ]]\n"
     ]
    }
   ],
   "source": [
    "# Elementwise sum, difference, product, quotient of A and B\n",
    "print(A + B)\n",
    "print(A - B)\n",
    "print(A*B)\n",
    "print(A/B)"
   ]
  },
  {
   "cell_type": "code",
   "execution_count": 119,
   "metadata": {
    "colab": {
     "base_uri": "https://localhost:8080/",
     "height": 52
    },
    "colab_type": "code",
    "id": "g0iZuA6bL9ir",
    "outputId": "29927dda-4167-4aa8-fbda-9008b09e4356",
    "scrolled": true
   },
   "outputs": [
    {
     "name": "stdout",
     "output_type": "stream",
     "text": [
      "[[ 1.  4.]\n",
      " [ 9. 16.]]\n",
      "[[1.         1.41421356]\n",
      " [1.73205081 2.        ]]\n"
     ]
    }
   ],
   "source": [
    "# Elementwise square and square root of A\n",
    "print(A**2)\n",
    "print(A**0.5)"
   ]
  },
  {
   "cell_type": "code",
   "execution_count": 120,
   "metadata": {},
   "outputs": [
    {
     "name": "stdout",
     "output_type": "stream",
     "text": [
      "[[3. 4.]\n",
      " [5. 6.]]\n",
      "[[-1.  0.]\n",
      " [ 1.  2.]]\n",
      "[[2. 4.]\n",
      " [6. 8.]]\n",
      "[[0.5 1. ]\n",
      " [1.5 2. ]]\n"
     ]
    }
   ],
   "source": [
    "print(A + 2) # Add 2 to every element of A\n",
    "print(A - 2) # Subtract 2 to every element of A\n",
    "print(2*A)   # Multiply every element of A by 2\n",
    "print(A/2)   # Divide every element of A by 2"
   ]
  },
  {
   "cell_type": "markdown",
   "metadata": {},
   "source": [
    "#### Vecor and matrix operations"
   ]
  },
  {
   "cell_type": "markdown",
   "metadata": {},
   "source": [
    "A vector can be implementated in three ways:\n",
    "\n",
    "* As a 1D array\n",
    "* As a 2D array with one row\n",
    "* As a 2D array with one column"
   ]
  },
  {
   "cell_type": "code",
   "execution_count": 121,
   "metadata": {},
   "outputs": [
    {
     "name": "stdout",
     "output_type": "stream",
     "text": [
      "[1 2]\n",
      "[[1 2]]\n",
      "[[1]\n",
      " [2]]\n"
     ]
    }
   ],
   "source": [
    "v1 = np.array([1,2])\n",
    "v2 = np.array([[1,2]])\n",
    "v3 = np.array([[1],[2]])\n",
    "print(v1)\n",
    "print(v2)\n",
    "print(v3)"
   ]
  },
  {
   "cell_type": "markdown",
   "metadata": {},
   "source": [
    "A matrix is implemented as a 2D array."
   ]
  },
  {
   "cell_type": "code",
   "execution_count": 157,
   "metadata": {},
   "outputs": [
    {
     "name": "stdout",
     "output_type": "stream",
     "text": [
      "[[1 2]\n",
      " [3 4]]\n",
      "[[1 2 3]\n",
      " [4 5 6]]\n"
     ]
    }
   ],
   "source": [
    "A = np.array([[1, 2], [3, 4]])\n",
    "B = np.array([[1, 2, 3], [4, 5, 6]])\n",
    "print(A)\n",
    "print(B)"
   ]
  },
  {
   "cell_type": "markdown",
   "metadata": {},
   "source": [
    "Use the `@` operator to multiply two vectors, a vector and a matrix, or two matrices according to Linear Algebra."
   ]
  },
  {
   "cell_type": "code",
   "execution_count": 156,
   "metadata": {},
   "outputs": [
    {
     "name": "stdout",
     "output_type": "stream",
     "text": [
      "[1 2]\n",
      "[3 4]\n",
      "11\n"
     ]
    }
   ],
   "source": [
    "# Product of two vectors as 1D arrays\n",
    "# yields a number corresponding to the scalar product:\n",
    "v = np.array([1,2])\n",
    "w = np.array([3,4])\n",
    "print(v)\n",
    "print(w)\n",
    "print(v @ w)"
   ]
  },
  {
   "cell_type": "code",
   "execution_count": 155,
   "metadata": {},
   "outputs": [
    {
     "name": "stdout",
     "output_type": "stream",
     "text": [
      "[[1 2]]\n",
      "[[3]\n",
      " [4]]\n",
      "[[11]]\n"
     ]
    }
   ],
   "source": [
    "# Product of two vectors as 2D arrays\n",
    "# yields a 1x1 matrix:\n",
    "v = np.array([[1,2]])\n",
    "w = np.array([[3],[4]])\n",
    "print(v)\n",
    "print(w)\n",
    "print(v @ w)"
   ]
  },
  {
   "cell_type": "code",
   "execution_count": 154,
   "metadata": {},
   "outputs": [
    {
     "name": "stdout",
     "output_type": "stream",
     "text": [
      "[[1 2]\n",
      " [3 4]]\n",
      "[1 2]\n",
      "[ 5 11]\n"
     ]
    }
   ],
   "source": [
    "# Product of matrix with vector in form of 1D array\n",
    "# vields a 1D array:\n",
    "A = np.array([[1,2],[3,4]])\n",
    "v = np.array([1,2])\n",
    "w = A @ v\n",
    "print(A)\n",
    "print(v)\n",
    "print(w)"
   ]
  },
  {
   "cell_type": "code",
   "execution_count": 153,
   "metadata": {},
   "outputs": [
    {
     "name": "stdout",
     "output_type": "stream",
     "text": [
      "[[1 2]\n",
      " [3 4]]\n",
      "[[1]\n",
      " [2]]\n",
      "[[ 5]\n",
      " [11]]\n"
     ]
    }
   ],
   "source": [
    "# Product of matrix with vector in form of 2D array with one column\n",
    "# yields a 2D array with one column\n",
    "A = np.array([[1,2],[3,4]])\n",
    "v = np.array([[1],[2]])\n",
    "w = A @ v\n",
    "print(A)\n",
    "print(v)\n",
    "print(w)"
   ]
  },
  {
   "cell_type": "code",
   "execution_count": 152,
   "metadata": {
    "colab": {
     "base_uri": "https://localhost:8080/",
     "height": 121
    },
    "colab_type": "code",
    "id": "3V_3NzNEL9iy",
    "outputId": "af2a89f9-af5d-47a6-9ad2-06a84b521b94"
   },
   "outputs": [
    {
     "name": "stdout",
     "output_type": "stream",
     "text": [
      "[[1 2]\n",
      " [3 4]]\n",
      "[[1 2 3]\n",
      " [4 5 6]]\n",
      "[[ 9 12 15]\n",
      " [19 26 33]]\n"
     ]
    }
   ],
   "source": [
    "# Product of two matrices\n",
    "A = np.array([[1, 2], [3, 4]])\n",
    "B = np.array([[1, 2, 3], [4, 5, 6]])\n",
    "print(A)\n",
    "print(B)\n",
    "print(A@B)"
   ]
  },
  {
   "cell_type": "markdown",
   "metadata": {
    "colab_type": "text",
    "id": "ahdVW4iUL9i3"
   },
   "source": [
    "If you need to transpose a matrix, use the T attribute of an array object."
   ]
  },
  {
   "cell_type": "code",
   "execution_count": 151,
   "metadata": {},
   "outputs": [
    {
     "name": "stdout",
     "output_type": "stream",
     "text": [
      "[[1 2 3]\n",
      " [4 5 6]]\n",
      "[[1 4]\n",
      " [2 5]\n",
      " [3 6]]\n"
     ]
    }
   ],
   "source": [
    "B = np.array([[1,2,3],[4,5,6]])\n",
    "print(B)\n",
    "print(B.T)"
   ]
  },
  {
   "cell_type": "markdown",
   "metadata": {
    "colab_type": "text",
    "id": "ahdVW4iUL9i3"
   },
   "source": [
    "Note: Transposing has no effect on 1D arrays."
   ]
  },
  {
   "cell_type": "code",
   "execution_count": 150,
   "metadata": {},
   "outputs": [
    {
     "name": "stdout",
     "output_type": "stream",
     "text": [
      "[1 2]\n",
      "[1 2]\n"
     ]
    }
   ],
   "source": [
    "v = np.array([1,2])\n",
    "print(v)\n",
    "print(v.T)"
   ]
  },
  {
   "cell_type": "markdown",
   "metadata": {
    "colab_type": "text",
    "id": "ahdVW4iUL9i3"
   },
   "source": [
    "If yo want to transpose a vector, you must implement it as a 2D array."
   ]
  },
  {
   "cell_type": "code",
   "execution_count": null,
   "metadata": {},
   "outputs": [],
   "source": [
    "w = np.array([[1,2]])\n",
    "print(w)\n",
    "print(w.T)"
   ]
  },
  {
   "cell_type": "markdown",
   "metadata": {},
   "source": [
    "> **Task 13**\n",
    ">\n",
    "> Given are the matrices and vectors\n",
    ">\n",
    ">$$\n",
    "A=\\left(\\begin{array}{crr}\n",
    "1 & 2 \\\\\n",
    "3 & 4 \\\\\n",
    "\\end{array}\\right),\\;B=\\left(\\begin{array}{cr}\n",
    "1 & 2\\\\\n",
    "1 & 2\\\\\n",
    "1 & 2\n",
    "\\end{array}\\right),\\;x=\\left(\\begin{array}{c}\n",
    "1\\\\\n",
    "2\n",
    "\\end{array}\\right),\\;y=\\left(\\begin{array}{r}\n",
    "1\\\\\n",
    "2\\\\\n",
    "3\n",
    "\\end{array}\\right).\n",
    "$$\n",
    ">\n",
    ">\n",
    "> Calculate, if defined, the following products:\n",
    ">\n",
    "> $$\n",
    "A\\cdot x, \\space B\\cdot y, \\space A\\cdot B, \\space B\\cdot A, \\space A\\cdot A, \\space B\\cdot B, \\space A^{T}\\cdot A, \\space B\\cdot B^{T}, \\space x^{T}\\cdot y, \\space x\\cdot y^{T}\n",
    "$$"
   ]
  },
  {
   "cell_type": "code",
   "execution_count": 149,
   "metadata": {
    "scrolled": true
   },
   "outputs": [
    {
     "name": "stdout",
     "output_type": "stream",
     "text": [
      "[[ 5]\n",
      " [11]]\n",
      "[[ 7 10]\n",
      " [ 7 10]\n",
      " [ 7 10]]\n",
      "[[ 7 10]\n",
      " [15 22]]\n",
      "[[10 14]\n",
      " [14 20]]\n",
      "[[5 5 5]\n",
      " [5 5 5]\n",
      " [5 5 5]]\n",
      "[[1 2 3]\n",
      " [2 4 6]]\n"
     ]
    }
   ],
   "source": [
    "# Your code\n",
    "\n",
    "A = np.array([[1,2], [3,4]])\n",
    "B = np.array([[1,2], [1,2], [1,2]])\n",
    "x = np.array([[1],[2]])\n",
    "y = np.array([[1],[2],[3]])\n",
    "\n",
    "print(A @ x)\n",
    "print(B @ A)\n",
    "print(A @ A)\n",
    "print(A.T @ A)\n",
    "print(B @ B.T)\n",
    "print(x @ y.T)"
   ]
  },
  {
   "cell_type": "markdown",
   "metadata": {},
   "source": [
    "#### Computations on array"
   ]
  },
  {
   "cell_type": "markdown",
   "metadata": {
    "colab_type": "text",
    "id": "FbE-1If_L9i0"
   },
   "source": [
    "Numpy provides the standard mathematical constants and functions, which perform on arrays."
   ]
  },
  {
   "cell_type": "code",
   "execution_count": 174,
   "metadata": {},
   "outputs": [
    {
     "name": "stdout",
     "output_type": "stream",
     "text": [
      "2.718281828459045\n",
      "3.141592653589793\n"
     ]
    }
   ],
   "source": [
    "print(np.e)\n",
    "print(np.pi)"
   ]
  },
  {
   "cell_type": "code",
   "execution_count": 175,
   "metadata": {},
   "outputs": [
    {
     "name": "stdout",
     "output_type": "stream",
     "text": [
      "[-1.  0.  1.]\n",
      "[0.36787944 1.         2.71828183]\n"
     ]
    }
   ],
   "source": [
    "x = np.array([-1., 0., 1.])\n",
    "y = np.exp(x)\n",
    "print(x)\n",
    "print(y)"
   ]
  },
  {
   "cell_type": "code",
   "execution_count": 176,
   "metadata": {},
   "outputs": [
    {
     "name": "stdout",
     "output_type": "stream",
     "text": [
      "[0.         1.57079633 3.14159265 4.71238898 6.28318531]\n",
      "[ 0.0000000e+00  1.0000000e+00  1.2246468e-16 -1.0000000e+00\n",
      " -2.4492936e-16]\n"
     ]
    }
   ],
   "source": [
    "x = np.arange(0, 2*np.pi + 1, np.pi/2)\n",
    "y = np.sin(x) \n",
    "print(x)\n",
    "print(y)"
   ]
  },
  {
   "cell_type": "markdown",
   "metadata": {
    "colab_type": "text",
    "id": "FbE-1If_L9i0"
   },
   "source": [
    "To sum up the elements of an array, use`sum()`."
   ]
  },
  {
   "cell_type": "code",
   "execution_count": 177,
   "metadata": {},
   "outputs": [
    {
     "name": "stdout",
     "output_type": "stream",
     "text": [
      "6\n"
     ]
    }
   ],
   "source": [
    "a = np.array([1,2,3])\n",
    "print(np.sum(a))"
   ]
  },
  {
   "cell_type": "code",
   "execution_count": 178,
   "metadata": {
    "colab": {
     "base_uri": "https://localhost:8080/",
     "height": 69
    },
    "colab_type": "code",
    "id": "DZUdZvPrL9i0",
    "outputId": "99cad470-d692-4b25-91c9-a57aa25f4c6e"
   },
   "outputs": [
    {
     "name": "stdout",
     "output_type": "stream",
     "text": [
      "10\n",
      "[4 6]\n",
      "[3 7]\n"
     ]
    }
   ],
   "source": [
    "A = np.array([[1,2],[3,4]])\n",
    "\n",
    "print(np.sum(A))          # Compute sum of all elements; prints 10\n",
    "print(np.sum(A, axis=0))  # Compute sum of each column; prints [4 6]\n",
    "print(np.sum(A, axis=1))  # Compute sum of each row; prints [3 7]"
   ]
  },
  {
   "cell_type": "markdown",
   "metadata": {
    "colab_type": "text",
    "id": "FbE-1If_L9i0"
   },
   "source": [
    "There are many more built-in computations for Numpy arrays."
   ]
  },
  {
   "cell_type": "markdown",
   "metadata": {
    "colab_type": "text",
    "id": "tEINf4bEL9jR"
   },
   "source": [
    "## Matplotlib"
   ]
  },
  {
   "cell_type": "markdown",
   "metadata": {
    "colab_type": "text",
    "id": "0hgVWLaXL9jR"
   },
   "source": [
    "Matplotlib is a plotting library. In this section give a brief introduction to the `matplotlib.pyplot` module."
   ]
  },
  {
   "cell_type": "code",
   "execution_count": 126,
   "metadata": {
    "colab": {},
    "colab_type": "code",
    "id": "cmh_7c6KL9jR"
   },
   "outputs": [],
   "source": [
    "import matplotlib.pyplot as plt"
   ]
  },
  {
   "cell_type": "markdown",
   "metadata": {
    "colab_type": "text",
    "id": "jOsaA5hGL9jS"
   },
   "source": [
    "By running this special command, we will be displaying the plots in the notebook:"
   ]
  },
  {
   "cell_type": "code",
   "execution_count": 127,
   "metadata": {
    "colab": {},
    "colab_type": "code",
    "id": "ijpsmwGnL9jT"
   },
   "outputs": [],
   "source": [
    "%matplotlib inline"
   ]
  },
  {
   "cell_type": "markdown",
   "metadata": {
    "colab_type": "text",
    "id": "U5Z_oMoLL9jV"
   },
   "source": [
    "### Plotting"
   ]
  },
  {
   "cell_type": "markdown",
   "metadata": {
    "colab_type": "text",
    "id": "6QyFJ7dhL9jV"
   },
   "source": [
    "The most important function in `matplotlib` is plot, which allows you to plot 2D data. Here is a simple example:"
   ]
  },
  {
   "cell_type": "code",
   "execution_count": 128,
   "metadata": {
    "colab": {
     "base_uri": "https://localhost:8080/",
     "height": 282
    },
    "colab_type": "code",
    "id": "pua52BGeL9jW",
    "outputId": "9ac3ee0f-7ff7-463b-b901-c33d21a2b10c"
   },
   "outputs": [
    {
     "data": {
      "text/plain": [
       "[<matplotlib.lines.Line2D at 0x2384f8613d0>]"
      ]
     },
     "execution_count": 128,
     "metadata": {},
     "output_type": "execute_result"
    },
    {
     "data": {
      "image/png": "[encoded data removed]",
      "text/plain": [
       "<Figure size 640x480 with 1 Axes>"
      ]
     },
     "metadata": {},
     "output_type": "display_data"
    }
   ],
   "source": [
    "# Compute the x and y coordinates for points on a sine curve\n",
    "x = np.arange(0, 2*np.pi, 0.1)\n",
    "y = np.sin(x)\n",
    "\n",
    "# Plot the points\n",
    "plt.plot(x, y)"
   ]
  },
  {
   "cell_type": "markdown",
   "metadata": {
    "colab_type": "text",
    "id": "9W2VAcLiL9jX"
   },
   "source": [
    "With just a little bit of extra work we can easily plot multiple lines at once, and add a grid, axis labels, and a legend:"
   ]
  },
  {
   "cell_type": "code",
   "execution_count": 129,
   "metadata": {},
   "outputs": [
    {
     "data": {
      "text/plain": [
       "<matplotlib.legend.Legend at 0x2384e8738d0>"
      ]
     },
     "execution_count": 129,
     "metadata": {},
     "output_type": "execute_result"
    },
    {
     "data": {
      "image/png": "[encoded data removed]",
      "text/plain": [
       "<Figure size 640x480 with 1 Axes>"
      ]
     },
     "metadata": {},
     "output_type": "display_data"
    }
   ],
   "source": [
    "x = np.arange(0, 2*np.pi, 0.1)\n",
    "y_sin = np.sin(x)\n",
    "y_cos = np.cos(x)\n",
    "\n",
    "plt.plot(x, y_sin)\n",
    "plt.plot(x, y_cos)\n",
    "plt.grid()\n",
    "plt.xlabel('x')\n",
    "plt.ylabel('y')\n",
    "plt.legend(['Sine', 'Cosine'])"
   ]
  },
  {
   "cell_type": "markdown",
   "metadata": {},
   "source": [
    "> **Task 14**\n",
    "> \n",
    "> Plot the following exponential functions in the same plot for $x\\in[-2,2]$. Add axis labels, a legend, and a grid: \n",
    ">\n",
    "> $$f_1(x) = e^x$$\n",
    "> $$f_2(x) = e^{-x}$$"
   ]
  },
  {
   "cell_type": "code",
   "execution_count": 180,
   "metadata": {},
   "outputs": [
    {
     "data": {
      "text/plain": [
       "<matplotlib.legend.Legend at 0x2384f9eb8d0>"
      ]
     },
     "execution_count": 180,
     "metadata": {},
     "output_type": "execute_result"
    },
    {
     "data": {
      "image/png": "[encoded data removed]",
      "text/plain": [
       "<Figure size 640x480 with 1 Axes>"
      ]
     },
     "metadata": {},
     "output_type": "display_data"
    }
   ],
   "source": [
    "# Your code\n",
    "\n",
    "x = np.arange(-2, 2)\n",
    "y1 = np.e**x\n",
    "y2 = np.e**-x\n",
    "\n",
    "plt.plot(x, y1)\n",
    "plt.plot(x, y2)\n",
    "plt.grid()\n",
    "plt.xlabel('x')\n",
    "plt.ylabel('y')\n",
    "plt.legend(['f1', 'f2'])"
   ]
  },
  {
   "cell_type": "markdown",
   "metadata": {
    "colab_type": "text",
    "id": "9W2VAcLiL9jX"
   },
   "source": [
    "And also you can plot 3D figures:"
   ]
  },
  {
   "cell_type": "code",
   "execution_count": 181,
   "metadata": {},
   "outputs": [
    {
     "data": {
      "text/plain": [
       "Text(0.5, 0, 'z')"
      ]
     },
     "execution_count": 181,
     "metadata": {},
     "output_type": "execute_result"
    },
    {
     "data": {
      "image/png": "[encoded data removed]",
      "text/plain": [
       "<Figure size 640x480 with 1 Axes>"
      ]
     },
     "metadata": {},
     "output_type": "display_data"
    }
   ],
   "source": [
    "# Importing required library\n",
    "from mpl_toolkits.mplot3d import Axes3D\n",
    "\n",
    "# Creating figure\n",
    "fig = plt.figure()\n",
    "ax = fig.add_subplot(111, projection='3d')\n",
    "\n",
    "# Creating data for plot\n",
    "X = np.arange(-5, 5, 0.1)\n",
    "Y = np.arange(-5, 5, 0.1)\n",
    "X, Y = np.meshgrid(X, Y)\n",
    "Z = X**2 + Y**2\n",
    "\n",
    "# Create plot\n",
    "ax.plot_surface(X, Y, Z)\n",
    "\n",
    "ax.set_xlabel('x')\n",
    "ax.set_ylabel('y')\n",
    "ax.set_zlabel('z')"
   ]
  }
 ],
 "metadata": {
  "colab": {
   "collapsed_sections": [],
   "name": "colab-tutorial.ipynb",
   "provenance": []
  },
  "kernelspec": {
   "display_name": "Python 3 (ipykernel)",
   "language": "python",
   "name": "python3"
  },
  "language_info": {
   "codemirror_mode": {
    "name": "ipython",
    "version": 3
   },
   "file_extension": ".py",
   "mimetype": "text/x-python",
   "name": "python",
   "nbconvert_exporter": "python",
   "pygments_lexer": "ipython3",
   "version": "3.11.4"
  },
  "toc": {
   "base_numbering": 1,
   "nav_menu": {
    "height": "185px",
    "width": "323px"
   },
   "number_sections": true,
   "sideBar": true,
   "skip_h1_title": true,
   "title_cell": "Table of Contents",
   "title_sidebar": "Contents",
   "toc_cell": false,
   "toc_position": {
    "height": "calc(100% - 180px)",
    "left": "10px",
    "top": "150px",
    "width": "331px"
   },
   "toc_section_display": true,
   "toc_window_display": true
  }
 },
 "nbformat": 4,
 "nbformat_minor": 1
}

{
 "cells": [
  {
   "cell_type": "code",
   "metadata": {
    "collapsed": false,
    "ExecuteTime": {
     "end_time": "2024-06-03T10:50:21.113822Z",
     "start_time": "2024-06-03T10:50:21.087820Z"
    }
   },
   "source": [
    "import sympy as sp\n",
    "\n",
    "from lgs_exakt_lr import lr\n",
    "\n",
    "var = sp.var('e')\n",
    "\n",
    "x = sp.symbols('x')\n",
    "\n",
    "a = sp.Matrix([\n",
    "    [1, 3, 7],\n",
    "    [15, 1, 1],\n",
    "    [0, 1, 6],\n",
    "])\n",
    "\n",
    "b = sp.Matrix([67, 21, 44])\n",
    "\n",
    "l, r, x = lr(a, b, pivoting=False, output=True)\n"
   ],
   "outputs": [
    {
     "data": {
      "text/plain": [
       "<IPython.core.display.Math object>"
      ],
      "text/latex": "$\\displaystyle A = \\left[\\begin{matrix}1 & 3 & 7\\\\15 & 1 & 1\\\\0 & 1 & 6\\end{matrix}\\right], \\quad b = \\left[\\begin{matrix}67\\\\21\\\\44\\end{matrix}\\right]$"
     },
     "metadata": {},
     "output_type": "display_data"
    },
    {
     "data": {
      "text/plain": [
       "<IPython.core.display.Markdown object>"
      ],
      "text/markdown": "## LR-Zerlegung"
     },
     "metadata": {},
     "output_type": "display_data"
    },
    {
     "data": {
      "text/plain": [
       "<IPython.core.display.Math object>"
      ],
      "text/latex": "$\\displaystyle z_{2} \\equiv z_{2} - (15) \\cdot z_{1} \\Rightarrow R_1 = \\left[\\begin{matrix}1 & 3 & 7\\\\0 & -44 & -104\\\\0 & 1 & 6\\end{matrix}\\right]$"
     },
     "metadata": {},
     "output_type": "display_data"
    },
    {
     "data": {
      "text/plain": [
       "<IPython.core.display.Math object>"
      ],
      "text/latex": "$\\displaystyle z_{3} \\equiv z_{3} - (- \\frac{1}{44}) \\cdot z_{2} \\Rightarrow R_3 = \\left[\\begin{matrix}1 & 3 & 7\\\\0 & -44 & -104\\\\0 & 0 & \\frac{40}{11}\\end{matrix}\\right]$"
     },
     "metadata": {},
     "output_type": "display_data"
    },
    {
     "data": {
      "text/plain": [
       "<IPython.core.display.Math object>"
      ],
      "text/latex": "$\\displaystyle L = \\left[\\begin{matrix}1 & 0 & 0\\\\15 & 1 & 0\\\\0 & - \\frac{1}{44} & 1\\end{matrix}\\right], \\quad R = \\left[\\begin{matrix}1 & 3 & 7\\\\0 & -44 & -104\\\\0 & 0 & \\frac{40}{11}\\end{matrix}\\right], \\quad P = \\left[\\begin{matrix}1 & 0 & 0\\\\0 & 1 & 0\\\\0 & 0 & 1\\end{matrix}\\right]$"
     },
     "metadata": {},
     "output_type": "display_data"
    },
    {
     "data": {
      "text/plain": [
       "<IPython.core.display.Markdown object>"
      ],
      "text/markdown": "## Vorwärtseinsetzen"
     },
     "metadata": {},
     "output_type": "display_data"
    },
    {
     "data": {
      "text/plain": [
       "<IPython.core.display.Math object>"
      ],
      "text/latex": "$\\displaystyle Ly = b: \\left[\\begin{matrix}1 & 0 & 0\\\\15 & 1 & 0\\\\0 & - \\frac{1}{44} & 1\\end{matrix}\\right] y = \\left[\\begin{matrix}67\\\\21\\\\44\\end{matrix}\\right]$"
     },
     "metadata": {},
     "output_type": "display_data"
    },
    {
     "data": {
      "text/plain": [
       "<IPython.core.display.Math object>"
      ],
      "text/latex": "$\\displaystyle y_{1} = \\frac{67}{1} = 67$"
     },
     "metadata": {},
     "output_type": "display_data"
    },
    {
     "data": {
      "text/plain": [
       "<IPython.core.display.Math object>"
      ],
      "text/latex": "$\\displaystyle y_{2} = \\frac{21 - (1005)}{1} = \\frac{-984}{1} = -984$"
     },
     "metadata": {},
     "output_type": "display_data"
    },
    {
     "data": {
      "text/plain": [
       "<IPython.core.display.Math object>"
      ],
      "text/latex": "$\\displaystyle y_{3} = \\frac{44 - (\\frac{246}{11})}{1} = \\frac{\\frac{238}{11}}{1} = \\frac{238}{11}$"
     },
     "metadata": {},
     "output_type": "display_data"
    },
    {
     "data": {
      "text/plain": [
       "<IPython.core.display.Math object>"
      ],
      "text/latex": "$\\displaystyle y = \\left[\\begin{matrix}67\\\\-984\\\\\\frac{238}{11}\\end{matrix}\\right]$"
     },
     "metadata": {},
     "output_type": "display_data"
    },
    {
     "data": {
      "text/plain": [
       "<IPython.core.display.Markdown object>"
      ],
      "text/markdown": "## Rückwärtseinsetzen"
     },
     "metadata": {},
     "output_type": "display_data"
    },
    {
     "data": {
      "text/plain": [
       "<IPython.core.display.Math object>"
      ],
      "text/latex": "$\\displaystyle Rx = y: \\left[\\begin{matrix}1 & 3 & 7\\\\0 & -44 & -104\\\\0 & 0 & \\frac{40}{11}\\end{matrix}\\right] x = \\left[\\begin{matrix}67\\\\-984\\\\\\frac{238}{11}\\end{matrix}\\right]$"
     },
     "metadata": {},
     "output_type": "display_data"
    },
    {
     "data": {
      "text/plain": [
       "<IPython.core.display.Math object>"
      ],
      "text/latex": "$\\displaystyle x_{3} = \\frac{\\frac{238}{11}}{\\frac{40}{11}} = \\frac{119}{20}$"
     },
     "metadata": {},
     "output_type": "display_data"
    },
    {
     "data": {
      "text/plain": [
       "<IPython.core.display.Math object>"
      ],
      "text/latex": "$\\displaystyle x_{2} = \\frac{-984 - (- \\frac{3094}{5})}{-44} = \\frac{- \\frac{1826}{5}}{-44} = \\frac{83}{10}$"
     },
     "metadata": {},
     "output_type": "display_data"
    },
    {
     "data": {
      "text/plain": [
       "<IPython.core.display.Math object>"
      ],
      "text/latex": "$\\displaystyle x_{1} = \\frac{67 - (\\frac{1331}{20})}{1} = \\frac{\\frac{9}{20}}{1} = \\frac{9}{20}$"
     },
     "metadata": {},
     "output_type": "display_data"
    },
    {
     "data": {
      "text/plain": [
       "<IPython.core.display.Math object>"
      ],
      "text/latex": "$\\displaystyle x = \\left[\\begin{matrix}\\frac{9}{20}\\\\\\frac{83}{10}\\\\\\frac{119}{20}\\end{matrix}\\right]$"
     },
     "metadata": {},
     "output_type": "display_data"
    }
   ],
   "execution_count": 2
  },
  {
   "metadata": {},
   "cell_type": "code",
   "outputs": [],
   "execution_count": null,
   "source": ""
  }
 ],
 "metadata": {
  "kernelspec": {
   "display_name": "Python 3",
   "language": "python",
   "name": "python3"
  },
  "language_info": {
   "codemirror_mode": {
    "name": "ipython",
    "version": 3
   },
   "file_extension": ".py",
   "mimetype": "text/x-python",
   "name": "python",
   "nbconvert_exporter": "python",
   "pygments_lexer": "ipython3",
   "version": "3.11.4"
  }
 },
 "nbformat": 4,
 "nbformat_minor": 0
}
